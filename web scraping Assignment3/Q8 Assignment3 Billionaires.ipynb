{
 "cells": [
  {
   "cell_type": "code",
   "execution_count": 1,
   "id": "112a1eff",
   "metadata": {},
   "outputs": [],
   "source": [
    "import selenium \n",
    "import pandas as pd\n",
    "from selenium import webdriver\n",
    "import time\n",
    "from selenium.common.exceptions import NoSuchElementException"
   ]
  },
  {
   "cell_type": "code",
   "execution_count": 2,
   "id": "6b75ce6c",
   "metadata": {},
   "outputs": [],
   "source": [
    "driver=webdriver.Chrome(\"chromedriver.exe\")"
   ]
  },
  {
   "cell_type": "code",
   "execution_count": 3,
   "id": "014d3483",
   "metadata": {},
   "outputs": [],
   "source": [
    "driver.get(\"https://www.forbes.com/\")"
   ]
  },
  {
   "cell_type": "code",
   "execution_count": 4,
   "id": "7dc728b7",
   "metadata": {},
   "outputs": [],
   "source": [
    "explore_button_element=driver.find_element_by_xpath(\"//button[@class='icon--hamburger']\")\n",
    "explore_button_element.click()"
   ]
  },
  {
   "cell_type": "code",
   "execution_count": 5,
   "id": "65eca963",
   "metadata": {},
   "outputs": [],
   "source": [
    "billionaire_button_element=driver.find_element_by_xpath(\"//a[@aria-label='Billionaires']\")\n",
    "#billionaire_button_element.click()\n",
    "from selenium.webdriver.common.action_chains import ActionChains\n",
    "a = ActionChains(driver)\n",
    "#m= driver.find_element_by_link_text(\"Enabled\")\n"
   ]
  },
  {
   "cell_type": "code",
   "execution_count": 6,
   "id": "a8203b0e",
   "metadata": {},
   "outputs": [],
   "source": [
    "a.move_to_element(billionaire_button_element).perform()\n",
    "driver.find_element_by_xpath(\"//a[contains(text(),'World')]\").click()\n",
    "time.sleep(3)"
   ]
  },
  {
   "cell_type": "code",
   "execution_count": 7,
   "id": "eaef4a19",
   "metadata": {},
   "outputs": [
    {
     "name": "stdout",
     "output_type": "stream",
     "text": [
      "['1.', '2.', '3.', '4.', '5.', '6.', '7.', '8.', '9.', '10.', '11.', '12.', '13.', '14.', '15.', '16.', '17.', '18.', '19.', '20.', '21.', '22.', '23.', '24.', '25.', '26.', '27.', '27.', '29.', '30.', '31.', '32.', '33.', '34.', '35.', '36.', '37.', '38.', '39.', '40.', '41.', '41.', '43.', '44.', '45.', '46.', '47.', '48.', '48.', '50.', '51.', '52.', '53.', '53.', '55.', '56.', '57.', '58.', '59.', '60.', '61.', '62.', '62.', '64.', '65.', '66.', '66.', '68.', '69.', '70.', '71.', '71.', '73.', '74.', '75.', '75.', '77.', '78.', '79.', '80.', '81.', '82.', '83.', '84.', '85.', '86.', '87.', '88.', '89.', '89.', '89.', '92.', '93.', '94.', '95.', '96.', '96.', '98.', '99.', '100.', '100.', '102.', '103.', '104.', '105.', '105.', '107.', '107.', '109.', '110.', '111.', '112.', '113.', '114.', '115.', '116.', '117.', '118.', '119.', '119.', '121.', '121.', '121.', '124.', '124.', '126.', '127.', '128.', '128.', '128.', '131.', '132.', '133.', '133.', '133.', '133.', '137.', '138.', '138.', '140.', '140.', '142.', '142.', '144.', '145.', '145.', '145.', '148.', '148.', '150.', '151.', '151.', '151.', '154.', '155.', '156.', '156.', '158.', '158.', '158.', '161.', '161.', '163.', '164.', '164.', '166.', '166.', '168.', '169.', '169.', '171.', '171.', '173.', '173.', '173.', '173.', '177.', '177.', '177.', '177.', '181.', '182.', '182.', '184.', '185.', '186.', '186.', '186.', '189.', '189.', '191.', '191.', '193.', '194.', '195.', '195.', '197.', '197.', '197.', '200.']\n"
     ]
    }
   ],
   "source": [
    "rank_list=[]\n",
    "rank_elements=driver.find_elements_by_xpath(\"//div[@class='rank']\")\n",
    "for elem in rank_elements:\n",
    "    rank=elem.text\n",
    "    rank_list.append(rank)\n",
    "print(rank_list)\n"
   ]
  },
  {
   "cell_type": "code",
   "execution_count": 8,
   "id": "745e47d6",
   "metadata": {},
   "outputs": [
    {
     "name": "stdout",
     "output_type": "stream",
     "text": [
      "['Jeff Bezos', 'Elon Musk', 'Bernard Arnault & family', 'Bill Gates', 'Mark Zuckerberg', 'Warren Buffett', 'Larry Ellison', 'Larry Page', 'Sergey Brin', 'Mukesh Ambani', 'Amancio Ortega', 'Francoise Bettencourt Meyers & family', 'Zhong Shanshan', 'Steve Ballmer', 'Ma Huateng', 'Carlos Slim Helu & family', 'Alice Walton', 'Jim Walton', 'Rob Walton', 'Michael Bloomberg', 'Colin Zheng Huang', 'MacKenzie Scott', 'Daniel Gilbert', 'Gautam Adani & family', 'Phil Knight & family', 'Jack Ma', 'Charles Koch', 'Julia Koch & family', 'Masayoshi Son', 'Michael Dell', 'Tadashi Yanai & family', 'François Pinault & family', 'David Thomson & family', 'Beate Heister & Karl Albrecht Jr.', 'Wang Wei', 'Miriam Adelson', 'He Xiangjian', 'Dieter Schwarz', 'Zhang Yiming', 'Giovanni Ferrero', 'Alain Wertheimer', 'Gerard Wertheimer', 'Li Ka-shing', 'Qin Yinglin & family', 'William Lei Ding', 'Len Blavatnik', 'Lee Shau Kee', 'Jacqueline Mars', 'John Mars', 'Yang Huiyan & family', 'Alexey Mordashov & family', 'Robin Zeng', 'Hui Ka Yan', 'Susanne Klatten', 'Vladimir Potanin', 'Dietrich Mateschitz', 'Pang Kang', 'Klaus-Michael Kuehne', 'Vladimir Lisin', 'Wang Xing', 'German Larrea Mota Velasco & family', 'Leonardo Del Vecchio & family', 'Takemitsu Takizaki', 'Leonard Lauder', 'Thomas Peterffy', 'Vagit Alekperov', 'Leonid Mikhelson', 'Jim Simons', 'Jiang Rensheng & family', 'Gina Rinehart', 'Rupert Murdoch & family', 'Shiv Nadar', 'Zhang Zhidong', 'Iris Fontbona & family', 'Lei Jun', 'Zhang Yong', 'Richard Qiangdong Liu', 'Gennady Timchenko', 'Stephen Schwarzman', 'Goh Cheng Liang', 'Stefan Quandt', 'Li Xiting', 'Pierre Omidyar', 'Stefan Persson', 'Abigail Johnson', 'R. Budi Hartono', 'Andrew Forrest', 'Ray Dalio', 'Michael Hartono', 'Li Shufu', 'Zhong Huijuan', 'Xu Hang', 'Lui Che Woo & family', 'Emmanuel Besnier', 'Laurene Powell Jobs & family', 'Eric Schmidt', 'Sun Piaoyang', 'Theo Albrecht, Jr. & family', 'Alisher Usmanov', 'Robert Pera', 'Wu Yajun', 'Fan Hongwei & family', 'Dhanin Chearavanont', 'Peter Woo', 'Chen Bang', 'Andrey Melnichenko', 'Dustin Moskovitz', 'Su Hua', 'Donald Newhouse', 'Petr Kellner', 'Lee Man Tat', 'Pavel Durov', 'James Ratcliffe', 'Jorge Paulo Lemann & family', 'Reinhold Wuerth & family', 'Charlene de Carvalho-Heineken & family', 'Radhakishan Damani', 'Wang Chuanfu', 'Steve Cohen', 'Ken Griffin', 'Chen Zhiping', 'Ernest Garcia, II.', 'Uday Kotak', 'Carl Icahn', 'Suleiman Kerimov & family', 'Thomas Frist, Jr. & family', 'Lukas Walton', 'Mikhail Fridman', 'Wei Jianjun & family', 'Zuo Hui', 'Zhou Qunfei & family', 'Donald Bren', 'Hinduja brothers', 'Lakshmi Mittal', 'Georg Schaeffler', 'Eric Yuan & family', 'Wang Jianlin', 'Kwong Siu-hing', 'Robin Li', 'Pallonji Mistry', 'Eduardo Saverin', 'Roman Abramovich', 'David Tepper', 'Gong Hongjia & family', 'Mike Cannon-Brookes', 'John Menard, Jr.', 'Seo Jung-jin', 'Cheng Yixiao', 'Liang Wengen', 'Scott Farquhar', 'Finn Rausing', 'Jorn Rausing', 'Kirsten Rausing', 'Brian Chesky', 'Joseph Lau', 'David Duffield', 'Charoen Sirivadhanabhakdi', 'Kim Jung-ju', 'Robert & Philip Ng', 'Zhang Bangxin', 'Anders Holch Povlsen', 'Wang Wenyin', 'Wang Liping & family', 'Tatyana Bakalchuk', 'Michael Platt', 'Huang Shilin', 'Ricardo Salinas Pliego & family', 'Kumar Birla', 'Dang Yanbao', 'Cyrus Poonawalla', 'Robert Kuok', 'Hank & Doug Meijer', 'Jack Dorsey', 'Lu Zhongfang', 'Ma Jianrong & family', 'Zhang Tao', 'Nathan Blecharczyk', 'John Doerr', 'Joe Gebbia', 'Forrest Li', 'Yu Renrong', 'Liu Yonghao & family', 'Gordon Moore', 'Jeff Yass', 'Bobby Murphy', 'Patrick Drahi', 'Jensen Huang', 'Alexander Otto', 'Cen Junda', 'Joseph Tsai', 'Aliko Dangote', 'Marcel Herrmann Telles', 'Mikhail Prokhorov', 'Jorge Moll Filho & family', 'Viktor Rashnikov', 'Harry Triguboff', 'Leonid Fedun & family', 'Eyal Ofer', 'Evan Spiegel', 'Luis Carlos Sarmiento']\n"
     ]
    }
   ],
   "source": [
    "personName_list=[]\n",
    "personName_elements=driver.find_elements_by_xpath(\"//div[@class='personName']\")\n",
    "for elem in personName_elements:\n",
    "    personName=elem.text\n",
    "    personName_list.append(personName)\n",
    "print(personName_list)"
   ]
  },
  {
   "cell_type": "code",
   "execution_count": 9,
   "id": "4271f029",
   "metadata": {},
   "outputs": [
    {
     "name": "stdout",
     "output_type": "stream",
     "text": [
      "['$177 B', '$151 B', '$150 B', '$124 B', '$97 B', '$96 B', '$93 B', '$91.5 B', '$89 B', '$84.5 B', '$77 B', '$73.6 B', '$68.9 B', '$68.7 B', '$65.8 B', '$62.8 B', '$61.8 B', '$60.2 B', '$59.5 B', '$59 B', '$55.3 B', '$53 B', '$51.9 B', '$50.5 B', '$49.9 B', '$48.4 B', '$46.4 B', '$46.4 B', '$45.4 B', '$45.1 B', '$44.1 B', '$42.3 B', '$41.8 B', '$39.2 B', '$39 B', '$38.2 B', '$37.7 B', '$36.9 B', '$35.6 B', '$35.1 B', '$34.5 B', '$34.5 B', '$33.7 B', '$33.5 B', '$33 B', '$32 B', '$31.7 B', '$31.3 B', '$31.3 B', '$29.6 B', '$29.1 B', '$28.4 B', '$27.7 B', '$27.7 B', '$27 B', '$26.9 B', '$26.4 B', '$26.3 B', '$26.2 B', '$26.1 B', '$25.9 B', '$25.8 B', '$25.8 B', '$25.5 B', '$25 B', '$24.9 B', '$24.9 B', '$24.6 B', '$24.4 B', '$23.6 B', '$23.5 B', '$23.5 B', '$23.4 B', '$23.3 B', '$23 B', '$23 B', '$22.4 B', '$22 B', '$21.9 B', '$21.7 B', '$21.6 B', '$21.5 B', '$21.4 B', '$21.3 B', '$20.9 B', '$20.5 B', '$20.4 B', '$20.3 B', '$19.7 B', '$19.7 B', '$19.7 B', '$19.5 B', '$19.4 B', '$19.1 B', '$19 B', '$18.9 B', '$18.9 B', '$18.8 B', '$18.4 B', '$18.3 B', '$18.3 B', '$18.2 B', '$18.1 B', '$18 B', '$17.9 B', '$17.9 B', '$17.8 B', '$17.8 B', '$17.6 B', '$17.5 B', '$17.4 B', '$17.2 B', '$17 B', '$16.9 B', '$16.8 B', '$16.7 B', '$16.5 B', '$16.3 B', '$16 B', '$16 B', '$15.9 B', '$15.9 B', '$15.9 B', '$15.8 B', '$15.8 B', '$15.7 B', '$15.6 B', '$15.5 B', '$15.5 B', '$15.5 B', '$15.4 B', '$15.3 B', '$14.9 B', '$14.9 B', '$14.9 B', '$14.9 B', '$14.8 B', '$14.7 B', '$14.7 B', '$14.6 B', '$14.6 B', '$14.5 B', '$14.5 B', '$14.4 B', '$14.2 B', '$14.2 B', '$14.2 B', '$14.1 B', '$14.1 B', '$14 B', '$13.9 B', '$13.9 B', '$13.9 B', '$13.7 B', '$13.6 B', '$13.5 B', '$13.5 B', '$13.3 B', '$13.3 B', '$13.3 B', '$13.2 B', '$13.2 B', '$13.1 B', '$13 B', '$13 B', '$12.9 B', '$12.9 B', '$12.8 B', '$12.7 B', '$12.7 B', '$12.6 B', '$12.6 B', '$12.5 B', '$12.5 B', '$12.5 B', '$12.5 B', '$12.4 B', '$12.4 B', '$12.4 B', '$12.4 B', '$12.3 B', '$12.1 B', '$12.1 B', '$12 B', '$11.9 B', '$11.8 B', '$11.8 B', '$11.8 B', '$11.6 B', '$11.6 B', '$11.5 B', '$11.5 B', '$11.4 B', '$11.3 B', '$11.2 B', '$11.2 B', '$11.1 B', '$11.1 B', '$11.1 B', '$11 B']\n"
     ]
    }
   ],
   "source": [
    "netWorth_list=[]\n",
    "netWorth_elements=driver.find_elements_by_xpath(\"//div[@class='netWorth']\")\n",
    "for elem in netWorth_elements:\n",
    "    netWorth=elem.text\n",
    "    netWorth_list.append(netWorth)\n",
    "print(netWorth_list)"
   ]
  },
  {
   "cell_type": "code",
   "execution_count": 10,
   "id": "917393b0",
   "metadata": {},
   "outputs": [
    {
     "name": "stdout",
     "output_type": "stream",
     "text": [
      "['57', '49', '72', '65', '36', '90', '76', '48', '47', '63', '85', '67', '66', '65', '49', '81', '71', '72', '76', '79', '41', '50', '59', '58', '83', '56', '85', '58', '63', '56', '72', '84', '63', 'N/A', '50', '75', '78', '81', '37', '56', '72', '70', '92', '55', '49', '63', '93', '81', '85', '39', '55', '52', '62', '58', '60', '76', '65', '83', '64', '42', '67', '85', '75', '88', '76', '70', '65', '82', '67', '67', '90', '75', '49', '78', '51', '50', '47', '68', '74', '93', '54', '70', '53', '73', '59', '80', '59', '71', '81', '57', '60', '54', '92', '50', '57', '65', '62', '70', '67', '43', '57', '54', '81', '74', '55', '49', '36', '39', '91', '56', '91', '36', '68', '81', '85', '66', '66', '55', '64', '52', '45', '63', '62', '85', '55', '82', '34', '56', '57', '50', '51', '88', 'N/A', '70', '56', '51', '66', '91', '52', '91', '39', '54', '63', '56', '41', '81', '63', '37', '64', '41', '66', '61', '68', '39', '69', '80', '76', '53', 'N/A', '41', '48', '53', '55', '45', '53', '54', '65', '53', '48', '79', '97', 'N/A', '44', '78', '57', '48', '37', '69', '39', '43', '55', '69', '92', '62', '32', '57', '58', '53', '56', '57', '63', '71', '55', '76', '72', '88', '65', '70', '30', '88']\n"
     ]
    }
   ],
   "source": [
    "age_list=[]\n",
    "age_elements=driver.find_elements_by_xpath(\"//div[@class='age']\")\n",
    "for elem in age_elements:\n",
    "    age=elem.text\n",
    "    age_list.append(age)\n",
    "print(age_list)"
   ]
  },
  {
   "cell_type": "code",
   "execution_count": 11,
   "id": "3c2cf59f",
   "metadata": {},
   "outputs": [
    {
     "name": "stdout",
     "output_type": "stream",
     "text": [
      "['United States', 'United States', 'France', 'United States', 'United States', 'United States', 'United States', 'United States', 'United States', 'India', 'Spain', 'France', 'China', 'United States', 'China', 'Mexico', 'United States', 'United States', 'United States', 'United States', 'China', 'United States', 'United States', 'India', 'United States', 'China', 'United States', 'United States', 'Japan', 'United States', 'Japan', 'France', 'Canada', 'Germany', 'China', 'United States', 'China', 'Germany', 'China', 'Italy', 'France', 'France', 'Hong Kong', 'China', 'China', 'United States', 'Hong Kong', 'United States', 'United States', 'China', 'Russia', 'Hong Kong', 'China', 'Germany', 'Russia', 'Austria', 'China', 'Germany', 'Russia', 'China', 'Mexico', 'Italy', 'Japan', 'United States', 'United States', 'Russia', 'Russia', 'United States', 'China', 'Australia', 'United States', 'India', 'China', 'Chile', 'China', 'Singapore', 'China', 'Russia', 'United States', 'Singapore', 'Germany', 'Singapore', 'United States', 'Sweden', 'United States', 'Indonesia', 'Australia', 'United States', 'Indonesia', 'China', 'China', 'Hong Kong', 'Hong Kong', 'France', 'United States', 'United States', 'China', 'Germany', 'Russia', 'United States', 'China', 'China', 'Thailand', 'Hong Kong', 'China', 'Russia', 'United States', 'China', 'United States', 'Czechia', 'Hong Kong', 'Russia', 'United Kingdom', 'Brazil', 'Germany', 'Netherlands', 'India', 'China', 'United States', 'United States', 'China', 'United States', 'India', 'United States', 'Russia', 'United States', 'United States', 'Russia', 'China', 'China', 'Hong Kong', 'United States', 'United Kingdom', 'India', 'Germany', 'United States', 'China', 'Hong Kong', 'China', 'Ireland', 'Brazil', 'Russia', 'United States', 'Hong Kong', 'Australia', 'United States', 'South Korea', 'China', 'China', 'Australia', 'Sweden', 'Sweden', 'Sweden', 'United States', 'Hong Kong', 'United States', 'Thailand', 'South Korea', 'Singapore', 'China', 'Denmark', 'China', 'China', 'Russia', 'United Kingdom', 'China', 'Mexico', 'India', 'China', 'India', 'Malaysia', 'United States', 'United States', 'China', 'China', 'China', 'United States', 'United States', 'United States', 'Singapore', 'China', 'China', 'United States', 'United States', 'United States', 'France', 'United States', 'Germany', 'China', 'Canada', 'Nigeria', 'Brazil', 'Russia', 'Brazil', 'Russia', 'Australia', 'Russia', 'Israel', 'United States', 'Colombia']\n"
     ]
    }
   ],
   "source": [
    "citizenship_list=[]\n",
    "citizenship_elements=driver.find_elements_by_xpath(\"//div[@class='countryOfCitizenship']\")\n",
    "for elem in citizenship_elements:\n",
    "    citizenship=elem.text\n",
    "    citizenship_list.append(citizenship)\n",
    "print(citizenship_list)"
   ]
  },
  {
   "cell_type": "code",
   "execution_count": 12,
   "id": "9989e71b",
   "metadata": {},
   "outputs": [
    {
     "name": "stdout",
     "output_type": "stream",
     "text": [
      "['Amazon', 'Tesla, SpaceX', 'LVMH', 'Microsoft', 'Facebook', 'Berkshire Hathaway', 'software', 'Google', 'Google', 'diversified', 'Zara', \"L'Oréal\", 'beverages, pharmaceuticals', 'Microsoft', 'internet media', 'telecom', 'Walmart', 'Walmart', 'Walmart', 'Bloomberg LP', 'e-commerce', 'Amazon', 'Quicken Loans', 'infrastructure, commodities', 'Nike', 'e-commerce', 'Koch Industries', 'Koch Industries', 'internet, telecom', 'Dell computers', 'fashion retail', 'luxury goods', 'media', 'supermarkets', 'package delivery', 'casinos', 'home appliances', 'retail', 'TikTok', 'Nutella, chocolates', 'Chanel', 'Chanel', 'diversified', 'pig breeding', 'online games', 'music, chemicals', 'real estate', 'candy, pet food', 'candy, pet food', 'real estate', 'steel, investments', 'batteries', 'real estate', 'BMW, pharmaceuticals', 'metals', 'Red Bull', 'soy sauce', 'shipping', 'steel, transport', 'e-commerce', 'mining', 'eyeglasses', 'sensors', 'Estee Lauder', 'discount brokerage', 'oil', 'gas, chemicals', 'hedge funds', 'vaccines', 'mining', 'newspapers, TV network', 'software services', 'internet media', 'mining', 'smartphones', 'restaurants', 'e-commerce', 'oil, gas', 'investments', 'paints', 'BMW', 'medical devices', 'eBay, PayPal', 'H&M', 'money management', 'banking, tobacco', 'mining', 'hedge funds', 'banking, tobacco', 'automobiles', 'pharmaceuticals', 'medical devices', 'casinos/hotels', 'cheese', 'Apple, Disney', 'Google', 'pharmaceuticals', \"Aldi, Trader Joe's\", 'steel, telecom, investments', 'wireless networking gear', 'real estate', 'petrochemicals', 'diversified', 'real estate', 'hospitals', 'coal, fertilizers', 'Facebook', 'video streaming', 'media', 'finance, telecommunications', 'food', 'messaging app', 'chemicals', 'beer', 'fasteners', 'Heineken', 'retail, investments', 'batteries, automobiles', 'hedge funds', 'hedge funds', 'e-cigarettes', 'used cars', 'banking', 'investments', 'investments', 'hospitals', 'Walmart', 'oil, banking, telecom', 'automobiles', 'real estate services', 'smartphone screens', 'real estate', 'diversified', 'steel', 'auto parts', 'video conferencing', 'real estate', 'real estate', 'internet search', 'construction', 'Facebook', 'steel, investments', 'hedge funds', 'video surveillance', 'software', 'home improvement stores', 'biotech', 'video streaming app', 'construction equipment', 'software', 'packaging', 'packaging', 'packaging', 'Airbnb', 'real estate', 'business software', 'alcohol, real estate', 'online games', 'real estate', 'education', 'fashion retail', 'mining, copper products', 'hydraulic machinery', 'ecommerce', 'hedge funds', 'batteries', 'retail, media', 'commodities', 'coal', 'vaccines', 'palm oil, shipping, property', 'supermarkets', 'Twitter, Square', 'education', 'textiles, apparel', 'e-commerce', 'Airbnb', 'venture capital', 'Airbnb', 'gaming', 'semiconductors', 'agribusiness', 'Intel', 'trading, investments', 'Snapchat', 'telecom', 'semiconductors', 'real estate', 'pharmaceuticals', 'e-commerce', 'cement, sugar', 'beer', 'investments', 'hospitals', 'steel', 'real estate', 'oil', 'real estate, shipping', 'Snapchat', 'banking']\n"
     ]
    }
   ],
   "source": [
    "source_list=[]\n",
    "source_elements=driver.find_elements_by_xpath(\"//div[@class='source']\")\n",
    "for elem in source_elements:\n",
    "    source=elem.text\n",
    "    source_list.append(source)\n",
    "print(source_list)"
   ]
  },
  {
   "cell_type": "code",
   "execution_count": 13,
   "id": "6f3155b6",
   "metadata": {},
   "outputs": [
    {
     "name": "stdout",
     "output_type": "stream",
     "text": [
      "['Technology', 'Automotive', 'Fashion & Retail', 'Technology', 'Technology', 'Finance & Investments', 'Technology', 'Technology', 'Technology', 'Diversified', 'Fashion & Retail', 'Fashion & Retail', 'Food & Beverage', 'Technology', 'Technology', 'Telecom', 'Fashion & Retail', 'Fashion & Retail', 'Fashion & Retail', 'Media & Entertainment', 'Technology', 'Technology', 'Finance & Investments', 'Diversified', 'Fashion & Retail', 'Technology', 'Diversified', 'Diversified', 'Telecom', 'Technology', 'Fashion & Retail', 'Fashion & Retail', 'Media & Entertainment', 'Fashion & Retail', 'Service', 'Gambling & Casinos', 'Manufacturing', 'Fashion & Retail', 'Technology', 'Food & Beverage', 'Fashion & Retail', 'Fashion & Retail', 'Diversified', 'Food & Beverage', 'Technology', 'Diversified', 'Real Estate', 'Food & Beverage', 'Food & Beverage', 'Real Estate', 'Metals & Mining', 'Automotive', 'Real Estate', 'Automotive', 'Metals & Mining', 'Food & Beverage', 'Food & Beverage', 'Logistics', 'Metals & Mining', 'Technology', 'Metals & Mining', 'Fashion & Retail', 'Manufacturing', 'Fashion & Retail', 'Finance & Investments', 'Energy', 'Energy', 'Finance & Investments', 'Healthcare', 'Metals & Mining', 'Media & Entertainment', 'Technology', 'Technology', 'Metals & Mining', 'Technology', 'Food & Beverage', 'Technology', 'Energy', 'Finance & Investments', 'Manufacturing', 'Automotive', 'Healthcare', 'Technology', 'Fashion & Retail', 'Finance & Investments', 'Finance & Investments', 'Metals & Mining', 'Finance & Investments', 'Manufacturing', 'Automotive', 'Healthcare', 'Healthcare', 'Gambling & Casinos', 'Food & Beverage', 'Technology', 'Technology', 'Healthcare', 'Fashion & Retail', 'Metals & Mining', 'Technology', 'Real Estate', 'Energy', 'Diversified', 'Real Estate', 'Healthcare', 'Energy', 'Technology', 'Media & Entertainment', 'Media & Entertainment', 'Finance & Investments', 'Food & Beverage', 'Technology', 'Manufacturing', 'Food & Beverage', 'Manufacturing', 'Food & Beverage', 'Fashion & Retail', 'Automotive', 'Finance & Investments', 'Finance & Investments', 'Manufacturing', 'Automotive', 'Finance & Investments', 'Finance & Investments', 'Finance & Investments', 'Healthcare', 'Fashion & Retail', 'Energy', 'Automotive', 'Real Estate', 'Technology', 'Real Estate', 'Diversified', 'Metals & Mining', 'Automotive', 'Technology', 'Real Estate', 'Real Estate', 'Technology', 'Construction & Engineering', 'Technology', 'Diversified', 'Finance & Investments', 'Finance & Investments', 'Technology', 'Fashion & Retail', 'Healthcare', 'Media & Entertainment', 'Manufacturing', 'Technology', 'Food & Beverage', 'Food & Beverage', 'Food & Beverage', 'Technology', 'Real Estate', 'Technology', 'Food & Beverage', 'Technology', 'Real Estate', 'Service', 'Fashion & Retail', 'Metals & Mining', 'Manufacturing', 'Fashion & Retail', 'Finance & Investments', 'Energy', 'Fashion & Retail', 'Diversified', 'Metals & Mining', 'Healthcare', 'Diversified', 'Fashion & Retail', 'Technology', 'Automotive', 'Fashion & Retail', 'Fashion & Retail', 'Technology', 'Technology', 'Technology', 'Media & Entertainment', 'Manufacturing', 'Service', 'Technology', 'Finance & Investments', 'Technology', 'Telecom', 'Technology', 'Real Estate', 'Healthcare', 'Technology', 'Manufacturing', 'Food & Beverage', 'Finance & Investments', 'Healthcare', 'Manufacturing', 'Real Estate', 'Energy', 'Diversified', 'Technology', 'Finance & Investments']\n"
     ]
    }
   ],
   "source": [
    "industry_list=[]\n",
    "industry_elements=driver.find_elements_by_xpath(\"//div[@class='category']\")\n",
    "for elem in industry_elements:\n",
    "    industry=elem.text\n",
    "    industry_list.append(industry)\n",
    "print(industry_list)"
   ]
  },
  {
   "cell_type": "code",
   "execution_count": 14,
   "id": "bc907c77",
   "metadata": {},
   "outputs": [
    {
     "data": {
      "text/html": [
       "<div>\n",
       "<style scoped>\n",
       "    .dataframe tbody tr th:only-of-type {\n",
       "        vertical-align: middle;\n",
       "    }\n",
       "\n",
       "    .dataframe tbody tr th {\n",
       "        vertical-align: top;\n",
       "    }\n",
       "\n",
       "    .dataframe thead th {\n",
       "        text-align: right;\n",
       "    }\n",
       "</style>\n",
       "<table border=\"1\" class=\"dataframe\">\n",
       "  <thead>\n",
       "    <tr style=\"text-align: right;\">\n",
       "      <th></th>\n",
       "      <th>Rank</th>\n",
       "      <th>Name</th>\n",
       "      <th>Net worth</th>\n",
       "      <th>Age</th>\n",
       "      <th>Citizenship</th>\n",
       "      <th>Source</th>\n",
       "      <th>Industry</th>\n",
       "    </tr>\n",
       "  </thead>\n",
       "  <tbody>\n",
       "    <tr>\n",
       "      <th>0</th>\n",
       "      <td>1.</td>\n",
       "      <td>Jeff Bezos</td>\n",
       "      <td>$177 B</td>\n",
       "      <td>57</td>\n",
       "      <td>United States</td>\n",
       "      <td>Amazon</td>\n",
       "      <td>Technology</td>\n",
       "    </tr>\n",
       "    <tr>\n",
       "      <th>1</th>\n",
       "      <td>2.</td>\n",
       "      <td>Elon Musk</td>\n",
       "      <td>$151 B</td>\n",
       "      <td>49</td>\n",
       "      <td>United States</td>\n",
       "      <td>Tesla, SpaceX</td>\n",
       "      <td>Automotive</td>\n",
       "    </tr>\n",
       "    <tr>\n",
       "      <th>2</th>\n",
       "      <td>3.</td>\n",
       "      <td>Bernard Arnault &amp; family</td>\n",
       "      <td>$150 B</td>\n",
       "      <td>72</td>\n",
       "      <td>France</td>\n",
       "      <td>LVMH</td>\n",
       "      <td>Fashion &amp; Retail</td>\n",
       "    </tr>\n",
       "    <tr>\n",
       "      <th>3</th>\n",
       "      <td>4.</td>\n",
       "      <td>Bill Gates</td>\n",
       "      <td>$124 B</td>\n",
       "      <td>65</td>\n",
       "      <td>United States</td>\n",
       "      <td>Microsoft</td>\n",
       "      <td>Technology</td>\n",
       "    </tr>\n",
       "    <tr>\n",
       "      <th>4</th>\n",
       "      <td>5.</td>\n",
       "      <td>Mark Zuckerberg</td>\n",
       "      <td>$97 B</td>\n",
       "      <td>36</td>\n",
       "      <td>United States</td>\n",
       "      <td>Facebook</td>\n",
       "      <td>Technology</td>\n",
       "    </tr>\n",
       "    <tr>\n",
       "      <th>...</th>\n",
       "      <td>...</td>\n",
       "      <td>...</td>\n",
       "      <td>...</td>\n",
       "      <td>...</td>\n",
       "      <td>...</td>\n",
       "      <td>...</td>\n",
       "      <td>...</td>\n",
       "    </tr>\n",
       "    <tr>\n",
       "      <th>195</th>\n",
       "      <td>195.</td>\n",
       "      <td>Harry Triguboff</td>\n",
       "      <td>$11.2 B</td>\n",
       "      <td>88</td>\n",
       "      <td>Australia</td>\n",
       "      <td>real estate</td>\n",
       "      <td>Real Estate</td>\n",
       "    </tr>\n",
       "    <tr>\n",
       "      <th>196</th>\n",
       "      <td>197.</td>\n",
       "      <td>Leonid Fedun &amp; family</td>\n",
       "      <td>$11.1 B</td>\n",
       "      <td>65</td>\n",
       "      <td>Russia</td>\n",
       "      <td>oil</td>\n",
       "      <td>Energy</td>\n",
       "    </tr>\n",
       "    <tr>\n",
       "      <th>197</th>\n",
       "      <td>197.</td>\n",
       "      <td>Eyal Ofer</td>\n",
       "      <td>$11.1 B</td>\n",
       "      <td>70</td>\n",
       "      <td>Israel</td>\n",
       "      <td>real estate, shipping</td>\n",
       "      <td>Diversified</td>\n",
       "    </tr>\n",
       "    <tr>\n",
       "      <th>198</th>\n",
       "      <td>197.</td>\n",
       "      <td>Evan Spiegel</td>\n",
       "      <td>$11.1 B</td>\n",
       "      <td>30</td>\n",
       "      <td>United States</td>\n",
       "      <td>Snapchat</td>\n",
       "      <td>Technology</td>\n",
       "    </tr>\n",
       "    <tr>\n",
       "      <th>199</th>\n",
       "      <td>200.</td>\n",
       "      <td>Luis Carlos Sarmiento</td>\n",
       "      <td>$11 B</td>\n",
       "      <td>88</td>\n",
       "      <td>Colombia</td>\n",
       "      <td>banking</td>\n",
       "      <td>Finance &amp; Investments</td>\n",
       "    </tr>\n",
       "  </tbody>\n",
       "</table>\n",
       "<p>200 rows × 7 columns</p>\n",
       "</div>"
      ],
      "text/plain": [
       "     Rank                      Name Net worth Age    Citizenship  \\\n",
       "0      1.                Jeff Bezos    $177 B  57  United States   \n",
       "1      2.                 Elon Musk    $151 B  49  United States   \n",
       "2      3.  Bernard Arnault & family    $150 B  72         France   \n",
       "3      4.                Bill Gates    $124 B  65  United States   \n",
       "4      5.           Mark Zuckerberg     $97 B  36  United States   \n",
       "..    ...                       ...       ...  ..            ...   \n",
       "195  195.           Harry Triguboff   $11.2 B  88      Australia   \n",
       "196  197.     Leonid Fedun & family   $11.1 B  65         Russia   \n",
       "197  197.                 Eyal Ofer   $11.1 B  70         Israel   \n",
       "198  197.              Evan Spiegel   $11.1 B  30  United States   \n",
       "199  200.     Luis Carlos Sarmiento     $11 B  88       Colombia   \n",
       "\n",
       "                    Source               Industry  \n",
       "0                   Amazon             Technology  \n",
       "1            Tesla, SpaceX             Automotive  \n",
       "2                     LVMH       Fashion & Retail  \n",
       "3                Microsoft             Technology  \n",
       "4                 Facebook             Technology  \n",
       "..                     ...                    ...  \n",
       "195            real estate            Real Estate  \n",
       "196                    oil                 Energy  \n",
       "197  real estate, shipping            Diversified  \n",
       "198               Snapchat             Technology  \n",
       "199                banking  Finance & Investments  \n",
       "\n",
       "[200 rows x 7 columns]"
      ]
     },
     "execution_count": 14,
     "metadata": {},
     "output_type": "execute_result"
    }
   ],
   "source": [
    "import pandas as pd\n",
    "billionaires_df=pd.DataFrame({})\n",
    "billionaires_df[\"Rank\"]=rank_list\n",
    "billionaires_df[\"Name\"]=personName_list\n",
    "billionaires_df[\"Net worth\"]=netWorth_list\n",
    "billionaires_df[\"Age\"]=age_list\n",
    "billionaires_df[\"Citizenship\"]=citizenship_list\n",
    "billionaires_df[\"Source\"]=source_list\n",
    "billionaires_df[\"Industry\"]=industry_list\n",
    "billionaires_df"
   ]
  },
  {
   "cell_type": "code",
   "execution_count": null,
   "id": "6942a8a0",
   "metadata": {},
   "outputs": [],
   "source": []
  }
 ],
 "metadata": {
  "kernelspec": {
   "display_name": "Python 3",
   "language": "python",
   "name": "python3"
  },
  "language_info": {
   "codemirror_mode": {
    "name": "ipython",
    "version": 3
   },
   "file_extension": ".py",
   "mimetype": "text/x-python",
   "name": "python",
   "nbconvert_exporter": "python",
   "pygments_lexer": "ipython3",
   "version": "3.8.8"
  }
 },
 "nbformat": 4,
 "nbformat_minor": 5
}

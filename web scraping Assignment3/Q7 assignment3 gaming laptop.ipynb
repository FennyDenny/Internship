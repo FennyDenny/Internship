{
 "cells": [
  {
   "cell_type": "code",
   "execution_count": 1,
   "id": "f09c5e86",
   "metadata": {},
   "outputs": [],
   "source": [
    "import selenium \n",
    "import pandas as pd\n",
    "from selenium import webdriver\n",
    "import time\n",
    "from selenium.common.exceptions import NoSuchElementException"
   ]
  },
  {
   "cell_type": "code",
   "execution_count": 2,
   "id": "675fe022",
   "metadata": {},
   "outputs": [],
   "source": [
    "driver=webdriver.Chrome(\"chromedriver.exe\")"
   ]
  },
  {
   "cell_type": "code",
   "execution_count": 3,
   "id": "b76abb66",
   "metadata": {},
   "outputs": [],
   "source": [
    "driver.get(\"https://www.digit.in/\")"
   ]
  },
  {
   "cell_type": "code",
   "execution_count": 4,
   "id": "e2e89e0d",
   "metadata": {},
   "outputs": [],
   "source": [
    "search_element=driver.find_element_by_xpath(\"//div[@class='search']\")\n",
    "search_element.click()\n",
    "time.sleep(3)"
   ]
  },
  {
   "cell_type": "code",
   "execution_count": 5,
   "id": "b5fea107",
   "metadata": {},
   "outputs": [],
   "source": [
    "from selenium.webdriver.common.keys import Keys\n",
    "gaming_laptops=driver.find_element_by_id(\"globalPageSearchText\")\n",
    "gaming_laptops.send_keys(\"gaming laptop\")\n",
    "gaming_laptops.send_keys(Keys.ENTER)\n",
    "time.sleep(3)"
   ]
  },
  {
   "cell_type": "code",
   "execution_count": 6,
   "id": "334dd645",
   "metadata": {},
   "outputs": [
    {
     "data": {
      "text/plain": [
       "['Acer Predator Triton 700',\n",
       " 'Asus G750JX-CV069P',\n",
       " 'ASUS GX501 Zephyrus Gaming Laptop',\n",
       " 'Alienware M14x',\n",
       " 'Asus TUF Gaming A17',\n",
       " 'ASUS TUF Gaming A15 Ryzen 9 4900H',\n",
       " 'HP Pavilion Gaming 15 Core i5',\n",
       " 'Asus TUF Gaming A15',\n",
       " 'HP Envy 15-k006tx',\n",
       " 'Asus TUF Gaming FX705DT']"
      ]
     },
     "execution_count": 6,
     "metadata": {},
     "output_type": "execute_result"
    }
   ],
   "source": [
    "brand_name_list=[]\n",
    "brand_element=driver.find_elements_by_xpath(\"//div[@class='searchProduct-desc']\")\n",
    "for i in brand_element:\n",
    "    brand_name_list.append(i.text)\n",
    "brand_name_list\n",
    "   \n"
   ]
  },
  {
   "cell_type": "code",
   "execution_count": 7,
   "id": "6170c0fb",
   "metadata": {},
   "outputs": [],
   "source": [
    "urls=[]\n",
    "for i in driver.find_elements_by_xpath(\"//div[@class='searchPage']/a\"):\n",
    "    urls.append(i.get_attribute('href'))\n",
    "   \n",
    "    "
   ]
  },
  {
   "cell_type": "code",
   "execution_count": 8,
   "id": "982e6ad6",
   "metadata": {},
   "outputs": [
    {
     "data": {
      "text/plain": [
       "['https://www.digit.in/laptops/acer-predator-triton-700-price-69350.html',\n",
       " 'https://www.digit.in/laptops/asus-g750jx-cv069p-price-4426.html',\n",
       " 'https://www.digit.in/laptops/asus-gx501-zephyrus-gaming-laptop-price-125253.html',\n",
       " 'https://www.digit.in/laptops/alienware-m14x-price-3532.html',\n",
       " 'https://www.digit.in/laptops/asus-tus-gaming-a17-price-201683.html',\n",
       " 'https://www.digit.in/laptops/asus-tuf-gaming-a15-ryzen-9-4900h-price-216641.html',\n",
       " 'https://www.digit.in/laptops/hp-pavilion-gaming-15-core-i5-price-210842.html',\n",
       " 'https://www.digit.in/laptops/asus-tuf-gaming-a15-price-201669.html',\n",
       " 'https://www.digit.in/laptops/hp-envy-15-k006tx-price-4429.html',\n",
       " 'https://www.digit.in/laptops/asus-tuf-gaming-fx705dt-price-182645.html']"
      ]
     },
     "execution_count": 8,
     "metadata": {},
     "output_type": "execute_result"
    }
   ],
   "source": [
    "urls"
   ]
  },
  {
   "cell_type": "code",
   "execution_count": 9,
   "id": "b30f4d99",
   "metadata": {},
   "outputs": [],
   "source": [
    "Market_Status_list=[]\n",
    "Release_Date_list=[]\n",
    "Official_Website_list=[]\n",
    "Os_list=[]\n",
    "Display_list=[]\n",
    "Processor_list=[]\n",
    "Price_list=[]\n",
    "\n",
    "for i in urls:\n",
    "    driver.get(i)\n",
    "    time.sleep(3)\n",
    "    #fetching market status\n",
    "    try:\n",
    "        market_status_element=driver.find_element_by_xpath(\"//div[contains(text(),'Market Status')]/strong\")\n",
    "        market=market_status_element.text\n",
    "        Market_Status_list.append(market)\n",
    "    except:\n",
    "        Market_Status_list.append('-')\n",
    "    #fetching release date\n",
    "    try:\n",
    "        release_date_element=driver.find_element_by_xpath(\"//div[contains(text(),'Release Date')]/strong\")\n",
    "        release_date=release_date_element.text\n",
    "        Release_Date_list.append(release_date)\n",
    "    except:\n",
    "        Release_Date_list.append('-')\n",
    "    #fetching official website\n",
    "    try:\n",
    "        official_website_element=driver.find_element_by_xpath(\"//div[contains(text(),'Official Website')]/strong\")\n",
    "        official_website=official_website_element.text\n",
    "        Official_Website_list.append(official_website)\n",
    "    except:\n",
    "        Official_Website_list.append('-')\n",
    "    #fetching OS\n",
    "    try:\n",
    "        os_element=driver.find_element_by_xpath(\"//p[text()='OS']/../p/strong\")\n",
    "        os=os_element.text\n",
    "        Os_list.append(os)\n",
    "    except:\n",
    "        Os_list.append('-')\n",
    "    #fetching Display\n",
    "    try:\n",
    "        display_element=driver.find_element_by_xpath(\"//p[text()='Display']/../p/strong\")\n",
    "        display=display_element.text\n",
    "        Display_list.append(display)\n",
    "    except:\n",
    "        Display_list.append('-')\n",
    "    #fetching Processor\n",
    "    try:\n",
    "        processor_element=driver.find_element_by_xpath(\"//p[text()='Processor']/../p/strong\")\n",
    "        processor=processor_element.text\n",
    "        Processor_list.append(processor)\n",
    "    except:\n",
    "        Processor_list.append('-')\n",
    "    #fetching price\n",
    "    try:\n",
    "        price_element=driver.find_element_by_xpath(\"//div[@class='price']/strong\")\n",
    "        price=price_element.text\n",
    "        Price_list.append(price)\n",
    "    except:\n",
    "        Price_list.append('-')"
   ]
  },
  {
   "cell_type": "code",
   "execution_count": 10,
   "id": "a7e26607",
   "metadata": {},
   "outputs": [
    {
     "name": "stdout",
     "output_type": "stream",
     "text": [
      "['LAUNCHED', 'LAUNCHED', 'LAUNCHED', 'LAUNCHED', 'LAUNCHED', 'LAUNCHED', 'LAUNCHED', 'LAUNCHED', 'LAUNCHED', 'LAUNCHED']\n"
     ]
    }
   ],
   "source": [
    "print(Market_Status_list)"
   ]
  },
  {
   "cell_type": "code",
   "execution_count": 11,
   "id": "d7632bad",
   "metadata": {},
   "outputs": [
    {
     "name": "stdout",
     "output_type": "stream",
     "text": [
      "['24 Oct, 2017', '14 Oct, 2014', '15 Jan, 2018', '08 Nov, 2011', '02 Jun, 2020', '14 Dec, 2020', '31 Aug, 2020', '02 Jun, 2020', '14 Oct, 2014', '20 May, 2019']\n"
     ]
    }
   ],
   "source": [
    "print(Release_Date_list)"
   ]
  },
  {
   "cell_type": "code",
   "execution_count": 12,
   "id": "a10d7f2e",
   "metadata": {},
   "outputs": [
    {
     "name": "stdout",
     "output_type": "stream",
     "text": [
      "['Acer', 'Asus', 'Asus', 'Dell', 'Asus', 'Asus', 'HP', 'Asus', 'HP', 'Asus']\n"
     ]
    }
   ],
   "source": [
    "print(Official_Website_list)"
   ]
  },
  {
   "cell_type": "code",
   "execution_count": 13,
   "id": "98bc906e",
   "metadata": {},
   "outputs": [
    {
     "name": "stdout",
     "output_type": "stream",
     "text": [
      "['Windows 10 Home', 'NA', 'Windows 10 Pro', 'NA', 'Windows 10 Pro', 'Pre-Loaded Windows 10 Home', 'Windows 10 Home', 'Windows 10 Pro', 'NA', 'Windows 10 Home']\n"
     ]
    }
   ],
   "source": [
    "print(Os_list)"
   ]
  },
  {
   "cell_type": "code",
   "execution_count": 14,
   "id": "ce3cce1c",
   "metadata": {},
   "outputs": [
    {
     "name": "stdout",
     "output_type": "stream",
     "text": [
      "['15.6\" (1920 X 1080)', 'NA', '15.6\" (1920 X 1080)', 'NA', '17.3 MP | NA', '15.6 Inch\" (1920 X 1080)', '15.6\" (1920 X 1080)', '15.6\" (2160 X 1080)', 'NA', '17.3\" (1920 X 1080)']\n"
     ]
    }
   ],
   "source": [
    "print(Display_list)"
   ]
  },
  {
   "cell_type": "code",
   "execution_count": 15,
   "id": "6c9c9cca",
   "metadata": {},
   "outputs": [
    {
     "name": "stdout",
     "output_type": "stream",
     "text": [
      "['Intel Core I7-7700HQ | NA', 'NA', 'Intel® Core™ I7 7700HQ | NA', 'NA', 'NA', 'AMD Ryzen 9 4900H | 3.3 GHz', '9th Gen Intel Core I5 | NA', 'AMD Ryzen 5 4600H Processor | 3.0 GHz', 'NA', 'AMD Ryzen 7 | NA']\n"
     ]
    }
   ],
   "source": [
    "print(Processor_list)"
   ]
  },
  {
   "cell_type": "code",
   "execution_count": 16,
   "id": "93a0ccae",
   "metadata": {},
   "outputs": [
    {
     "name": "stdout",
     "output_type": "stream",
     "text": [
      "['₹ 299,999', '₹ 149,999', '₹ 409,999', '₹ 86,200', '₹ 84,552', '₹ 96,990', '₹ 64,990', '₹ 79,990', '₹ 80,510', '₹ 66,666']\n"
     ]
    }
   ],
   "source": [
    "print(Price_list)"
   ]
  },
  {
   "cell_type": "code",
   "execution_count": 18,
   "id": "a7deb1db",
   "metadata": {},
   "outputs": [
    {
     "data": {
      "text/html": [
       "<div>\n",
       "<style scoped>\n",
       "    .dataframe tbody tr th:only-of-type {\n",
       "        vertical-align: middle;\n",
       "    }\n",
       "\n",
       "    .dataframe tbody tr th {\n",
       "        vertical-align: top;\n",
       "    }\n",
       "\n",
       "    .dataframe thead th {\n",
       "        text-align: right;\n",
       "    }\n",
       "</style>\n",
       "<table border=\"1\" class=\"dataframe\">\n",
       "  <thead>\n",
       "    <tr style=\"text-align: right;\">\n",
       "      <th></th>\n",
       "      <th>Brand</th>\n",
       "      <th>Market Status</th>\n",
       "      <th>Release Date</th>\n",
       "      <th>Official_Website</th>\n",
       "      <th>Os</th>\n",
       "      <th>Display</th>\n",
       "      <th>Processor</th>\n",
       "      <th>Price</th>\n",
       "    </tr>\n",
       "  </thead>\n",
       "  <tbody>\n",
       "    <tr>\n",
       "      <th>0</th>\n",
       "      <td>Acer Predator Triton 700</td>\n",
       "      <td>LAUNCHED</td>\n",
       "      <td>24 Oct, 2017</td>\n",
       "      <td>Acer</td>\n",
       "      <td>Windows 10 Home</td>\n",
       "      <td>15.6\" (1920 X 1080)</td>\n",
       "      <td>Intel Core I7-7700HQ | NA</td>\n",
       "      <td>₹ 299,999</td>\n",
       "    </tr>\n",
       "    <tr>\n",
       "      <th>1</th>\n",
       "      <td>Asus G750JX-CV069P</td>\n",
       "      <td>LAUNCHED</td>\n",
       "      <td>14 Oct, 2014</td>\n",
       "      <td>Asus</td>\n",
       "      <td>NA</td>\n",
       "      <td>NA</td>\n",
       "      <td>NA</td>\n",
       "      <td>₹ 149,999</td>\n",
       "    </tr>\n",
       "    <tr>\n",
       "      <th>2</th>\n",
       "      <td>ASUS GX501 Zephyrus Gaming Laptop</td>\n",
       "      <td>LAUNCHED</td>\n",
       "      <td>15 Jan, 2018</td>\n",
       "      <td>Asus</td>\n",
       "      <td>Windows 10 Pro</td>\n",
       "      <td>15.6\" (1920 X 1080)</td>\n",
       "      <td>Intel® Core™ I7 7700HQ | NA</td>\n",
       "      <td>₹ 409,999</td>\n",
       "    </tr>\n",
       "    <tr>\n",
       "      <th>3</th>\n",
       "      <td>Alienware M14x</td>\n",
       "      <td>LAUNCHED</td>\n",
       "      <td>08 Nov, 2011</td>\n",
       "      <td>Dell</td>\n",
       "      <td>NA</td>\n",
       "      <td>NA</td>\n",
       "      <td>NA</td>\n",
       "      <td>₹ 86,200</td>\n",
       "    </tr>\n",
       "    <tr>\n",
       "      <th>4</th>\n",
       "      <td>Asus TUF Gaming A17</td>\n",
       "      <td>LAUNCHED</td>\n",
       "      <td>02 Jun, 2020</td>\n",
       "      <td>Asus</td>\n",
       "      <td>Windows 10 Pro</td>\n",
       "      <td>17.3 MP | NA</td>\n",
       "      <td>NA</td>\n",
       "      <td>₹ 84,552</td>\n",
       "    </tr>\n",
       "    <tr>\n",
       "      <th>5</th>\n",
       "      <td>ASUS TUF Gaming A15 Ryzen 9 4900H</td>\n",
       "      <td>LAUNCHED</td>\n",
       "      <td>14 Dec, 2020</td>\n",
       "      <td>Asus</td>\n",
       "      <td>Pre-Loaded Windows 10 Home</td>\n",
       "      <td>15.6 Inch\" (1920 X 1080)</td>\n",
       "      <td>AMD Ryzen 9 4900H | 3.3 GHz</td>\n",
       "      <td>₹ 96,990</td>\n",
       "    </tr>\n",
       "    <tr>\n",
       "      <th>6</th>\n",
       "      <td>HP Pavilion Gaming 15 Core i5</td>\n",
       "      <td>LAUNCHED</td>\n",
       "      <td>31 Aug, 2020</td>\n",
       "      <td>HP</td>\n",
       "      <td>Windows 10 Home</td>\n",
       "      <td>15.6\" (1920 X 1080)</td>\n",
       "      <td>9th Gen Intel Core I5 | NA</td>\n",
       "      <td>₹ 64,990</td>\n",
       "    </tr>\n",
       "    <tr>\n",
       "      <th>7</th>\n",
       "      <td>Asus TUF Gaming A15</td>\n",
       "      <td>LAUNCHED</td>\n",
       "      <td>02 Jun, 2020</td>\n",
       "      <td>Asus</td>\n",
       "      <td>Windows 10 Pro</td>\n",
       "      <td>15.6\" (2160 X 1080)</td>\n",
       "      <td>AMD Ryzen 5 4600H Processor | 3.0 GHz</td>\n",
       "      <td>₹ 79,990</td>\n",
       "    </tr>\n",
       "    <tr>\n",
       "      <th>8</th>\n",
       "      <td>HP Envy 15-k006tx</td>\n",
       "      <td>LAUNCHED</td>\n",
       "      <td>14 Oct, 2014</td>\n",
       "      <td>HP</td>\n",
       "      <td>NA</td>\n",
       "      <td>NA</td>\n",
       "      <td>NA</td>\n",
       "      <td>₹ 80,510</td>\n",
       "    </tr>\n",
       "    <tr>\n",
       "      <th>9</th>\n",
       "      <td>Asus TUF Gaming FX705DT</td>\n",
       "      <td>LAUNCHED</td>\n",
       "      <td>20 May, 2019</td>\n",
       "      <td>Asus</td>\n",
       "      <td>Windows 10 Home</td>\n",
       "      <td>17.3\" (1920 X 1080)</td>\n",
       "      <td>AMD Ryzen 7 | NA</td>\n",
       "      <td>₹ 66,666</td>\n",
       "    </tr>\n",
       "  </tbody>\n",
       "</table>\n",
       "</div>"
      ],
      "text/plain": [
       "                               Brand Market Status  Release Date  \\\n",
       "0           Acer Predator Triton 700      LAUNCHED  24 Oct, 2017   \n",
       "1                 Asus G750JX-CV069P      LAUNCHED  14 Oct, 2014   \n",
       "2  ASUS GX501 Zephyrus Gaming Laptop      LAUNCHED  15 Jan, 2018   \n",
       "3                     Alienware M14x      LAUNCHED  08 Nov, 2011   \n",
       "4                Asus TUF Gaming A17      LAUNCHED  02 Jun, 2020   \n",
       "5  ASUS TUF Gaming A15 Ryzen 9 4900H      LAUNCHED  14 Dec, 2020   \n",
       "6      HP Pavilion Gaming 15 Core i5      LAUNCHED  31 Aug, 2020   \n",
       "7                Asus TUF Gaming A15      LAUNCHED  02 Jun, 2020   \n",
       "8                  HP Envy 15-k006tx      LAUNCHED  14 Oct, 2014   \n",
       "9            Asus TUF Gaming FX705DT      LAUNCHED  20 May, 2019   \n",
       "\n",
       "  Official_Website                          Os                   Display  \\\n",
       "0             Acer             Windows 10 Home       15.6\" (1920 X 1080)   \n",
       "1             Asus                          NA                        NA   \n",
       "2             Asus              Windows 10 Pro       15.6\" (1920 X 1080)   \n",
       "3             Dell                          NA                        NA   \n",
       "4             Asus              Windows 10 Pro              17.3 MP | NA   \n",
       "5             Asus  Pre-Loaded Windows 10 Home  15.6 Inch\" (1920 X 1080)   \n",
       "6               HP             Windows 10 Home       15.6\" (1920 X 1080)   \n",
       "7             Asus              Windows 10 Pro       15.6\" (2160 X 1080)   \n",
       "8               HP                          NA                        NA   \n",
       "9             Asus             Windows 10 Home       17.3\" (1920 X 1080)   \n",
       "\n",
       "                               Processor      Price  \n",
       "0              Intel Core I7-7700HQ | NA  ₹ 299,999  \n",
       "1                                     NA  ₹ 149,999  \n",
       "2            Intel® Core™ I7 7700HQ | NA  ₹ 409,999  \n",
       "3                                     NA   ₹ 86,200  \n",
       "4                                     NA   ₹ 84,552  \n",
       "5            AMD Ryzen 9 4900H | 3.3 GHz   ₹ 96,990  \n",
       "6             9th Gen Intel Core I5 | NA   ₹ 64,990  \n",
       "7  AMD Ryzen 5 4600H Processor | 3.0 GHz   ₹ 79,990  \n",
       "8                                     NA   ₹ 80,510  \n",
       "9                       AMD Ryzen 7 | NA   ₹ 66,666  "
      ]
     },
     "execution_count": 18,
     "metadata": {},
     "output_type": "execute_result"
    }
   ],
   "source": [
    "import pandas as pd\n",
    "gaminglaptop=pd.DataFrame({})\n",
    "gaminglaptop[\"Brand\"]=brand_name_list\n",
    "gaminglaptop[\"Market Status\"]=Market_Status_list\n",
    "gaminglaptop[\"Release Date\"]=Release_Date_list\n",
    "gaminglaptop[\"Official_Website\"]=Official_Website_list\n",
    "gaminglaptop[\"Os\"]=Os_list\n",
    "gaminglaptop[\"Display\"]=Display_list\n",
    "gaminglaptop[\"Processor\"]=Processor_list\n",
    "gaminglaptop[\"Price\"]=Price_list\n",
    "gaminglaptop"
   ]
  },
  {
   "cell_type": "code",
   "execution_count": null,
   "id": "b81c3c07",
   "metadata": {},
   "outputs": [],
   "source": []
  }
 ],
 "metadata": {
  "kernelspec": {
   "display_name": "Python 3",
   "language": "python",
   "name": "python3"
  },
  "language_info": {
   "codemirror_mode": {
    "name": "ipython",
    "version": 3
   },
   "file_extension": ".py",
   "mimetype": "text/x-python",
   "name": "python",
   "nbconvert_exporter": "python",
   "pygments_lexer": "ipython3",
   "version": "3.8.8"
  }
 },
 "nbformat": 4,
 "nbformat_minor": 5
}

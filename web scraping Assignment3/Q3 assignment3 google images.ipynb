{
 "cells": [
  {
   "cell_type": "code",
   "execution_count": 1,
   "id": "47288f9b",
   "metadata": {},
   "outputs": [],
   "source": [
    "import selenium \n",
    "import pandas as pd\n",
    "from selenium import webdriver\n",
    "import time\n",
    "from selenium.common.exceptions import NoSuchElementException"
   ]
  },
  {
   "cell_type": "code",
   "execution_count": 2,
   "id": "a70833ff",
   "metadata": {},
   "outputs": [],
   "source": [
    "driver=webdriver.Chrome(\"chromedriver.exe\")\n",
    "driver.maximize_window()"
   ]
  },
  {
   "cell_type": "code",
   "execution_count": 3,
   "id": "5ed0fa87",
   "metadata": {},
   "outputs": [],
   "source": [
    "driver.get(\"https://images.google.com/\")"
   ]
  },
  {
   "cell_type": "code",
   "execution_count": 4,
   "id": "e3b11d8d",
   "metadata": {},
   "outputs": [],
   "source": [
    "search_fruits_elements=driver.find_element_by_xpath(\"//input[@class='gLFyf gsfi']\")\n",
    "search_fruits_elements.send_keys(\"fruits\")\n",
    "search_button_element=driver.find_element_by_xpath(\"//button[@class='Tg7LZd']\")\n",
    "search_button_element.click()\n",
    "time.sleep(3)\n"
   ]
  },
  {
   "cell_type": "code",
   "execution_count": 5,
   "id": "d849300c",
   "metadata": {},
   "outputs": [],
   "source": [
    "driver.execute_script(\"window.scrollTo(0, document.body.scrollHeight);\")\n",
    "time.sleep(3)"
   ]
  },
  {
   "cell_type": "code",
   "execution_count": 6,
   "id": "32e7c7b0",
   "metadata": {},
   "outputs": [],
   "source": [
    "fruits_src=[]\n",
    "for i in driver.find_elements_by_xpath(\"//div[@class='bRMDJf islir']/img\"):\n",
    "    fruits_src.append(i.get_attribute('src'))"
   ]
  },
  {
   "cell_type": "code",
   "execution_count": 7,
   "id": "feeead2d",
   "metadata": {},
   "outputs": [
    {
     "data": {
      "text/plain": [
       "100"
      ]
     },
     "execution_count": 7,
     "metadata": {},
     "output_type": "execute_result"
    }
   ],
   "source": [
    "len(fruits_src)"
   ]
  },
  {
   "cell_type": "code",
   "execution_count": 8,
   "id": "bcc8e018",
   "metadata": {},
   "outputs": [],
   "source": [
    "fruits_href=[]\n",
    "for i in driver.find_elements_by_xpath(\"//a[contains(@class,'VFACy')]\"):\n",
    "    fruits_href.append(i.get_attribute('href'))"
   ]
  },
  {
   "cell_type": "code",
   "execution_count": 9,
   "id": "5a8f0a1d",
   "metadata": {},
   "outputs": [
    {
     "data": {
      "text/plain": [
       "100"
      ]
     },
     "execution_count": 9,
     "metadata": {},
     "output_type": "execute_result"
    }
   ],
   "source": [
    "len(fruits_href)"
   ]
  },
  {
   "cell_type": "code",
   "execution_count": 10,
   "id": "64fe8f6b",
   "metadata": {},
   "outputs": [],
   "source": [
    "search_element=driver.find_element_by_id(\"REsRA\")\n",
    "search_element.clear()"
   ]
  },
  {
   "cell_type": "code",
   "execution_count": 11,
   "id": "9b3fd22d",
   "metadata": {},
   "outputs": [],
   "source": [
    "search_element.send_keys(\"car\")"
   ]
  },
  {
   "cell_type": "code",
   "execution_count": 12,
   "id": "224f8b23",
   "metadata": {},
   "outputs": [],
   "source": [
    "search_button=driver.find_element_by_id(\"BIqFsb\")\n",
    "search_button.click()\n",
    "time.sleep(3)"
   ]
  },
  {
   "cell_type": "code",
   "execution_count": 13,
   "id": "15d43de7",
   "metadata": {},
   "outputs": [],
   "source": [
    "driver.execute_script(\"window.scrollTo(0, document.body.scrollHeight);\")\n",
    "time.sleep(3)"
   ]
  },
  {
   "cell_type": "code",
   "execution_count": 14,
   "id": "1010d0e0",
   "metadata": {},
   "outputs": [],
   "source": [
    "car_src=[]"
   ]
  },
  {
   "cell_type": "code",
   "execution_count": 15,
   "id": "34977adc",
   "metadata": {},
   "outputs": [],
   "source": [
    "for i in driver.find_elements_by_xpath(\"//div[@class='bRMDJf islir']/img\"):\n",
    "    car_src.append(i.get_attribute('src'))"
   ]
  },
  {
   "cell_type": "code",
   "execution_count": 16,
   "id": "f3bf8fa3",
   "metadata": {},
   "outputs": [
    {
     "data": {
      "text/plain": [
       "100"
      ]
     },
     "execution_count": 16,
     "metadata": {},
     "output_type": "execute_result"
    }
   ],
   "source": [
    "len(car_src)"
   ]
  },
  {
   "cell_type": "code",
   "execution_count": 17,
   "id": "d3711e5f",
   "metadata": {},
   "outputs": [],
   "source": [
    "car_href=[]\n",
    "for i in driver.find_elements_by_xpath(\"//a[contains(@class,'VFACy')]\"):\n",
    "    car_href.append(i.get_attribute('href'))    "
   ]
  },
  {
   "cell_type": "code",
   "execution_count": 18,
   "id": "09008ccd",
   "metadata": {},
   "outputs": [
    {
     "data": {
      "text/plain": [
       "100"
      ]
     },
     "execution_count": 18,
     "metadata": {},
     "output_type": "execute_result"
    }
   ],
   "source": [
    "len(car_href)"
   ]
  },
  {
   "cell_type": "code",
   "execution_count": 19,
   "id": "29ffdedd",
   "metadata": {},
   "outputs": [],
   "source": [
    "search_element=driver.find_element_by_id(\"REsRA\")\n",
    "search_element.clear()"
   ]
  },
  {
   "cell_type": "code",
   "execution_count": 20,
   "id": "045113cc",
   "metadata": {},
   "outputs": [],
   "source": [
    "search_element.send_keys(\"machine learning\")"
   ]
  },
  {
   "cell_type": "code",
   "execution_count": 21,
   "id": "0afd0563",
   "metadata": {},
   "outputs": [],
   "source": [
    "search_button=driver.find_element_by_id(\"BIqFsb\")\n",
    "search_button.click()\n",
    "time.sleep(3)"
   ]
  },
  {
   "cell_type": "code",
   "execution_count": 22,
   "id": "2b1579bb",
   "metadata": {},
   "outputs": [],
   "source": [
    "driver.execute_script(\"window.scrollTo(0, document.body.scrollHeight);\")\n",
    "time.sleep(3)"
   ]
  },
  {
   "cell_type": "code",
   "execution_count": 23,
   "id": "21065b41",
   "metadata": {},
   "outputs": [],
   "source": [
    "ml_src=[]"
   ]
  },
  {
   "cell_type": "code",
   "execution_count": 24,
   "id": "7f718b82",
   "metadata": {},
   "outputs": [],
   "source": [
    "for i in driver.find_elements_by_xpath(\"//div[@class='bRMDJf islir']/img\"):\n",
    "    ml_src.append(i.get_attribute(\"src\"))"
   ]
  },
  {
   "cell_type": "code",
   "execution_count": 25,
   "id": "2274ac40",
   "metadata": {},
   "outputs": [
    {
     "data": {
      "text/plain": [
       "100"
      ]
     },
     "execution_count": 25,
     "metadata": {},
     "output_type": "execute_result"
    }
   ],
   "source": [
    "len(ml_src)"
   ]
  },
  {
   "cell_type": "code",
   "execution_count": 26,
   "id": "f995cedf",
   "metadata": {},
   "outputs": [],
   "source": [
    "ml_href=[]"
   ]
  },
  {
   "cell_type": "code",
   "execution_count": 27,
   "id": "7c211d36",
   "metadata": {},
   "outputs": [],
   "source": [
    "for i in driver.find_elements_by_xpath(\"//a[contains(@class,'VFACy')]\"):\n",
    "    ml_href.append(i.get_attribute(\"href\"))\n",
    "    "
   ]
  },
  {
   "cell_type": "code",
   "execution_count": 28,
   "id": "3558dee0",
   "metadata": {},
   "outputs": [
    {
     "data": {
      "text/plain": [
       "100"
      ]
     },
     "execution_count": 28,
     "metadata": {},
     "output_type": "execute_result"
    }
   ],
   "source": [
    "len(ml_href)"
   ]
  },
  {
   "cell_type": "code",
   "execution_count": 29,
   "id": "fd4445d1",
   "metadata": {},
   "outputs": [
    {
     "data": {
      "text/html": [
       "<div>\n",
       "<style scoped>\n",
       "    .dataframe tbody tr th:only-of-type {\n",
       "        vertical-align: middle;\n",
       "    }\n",
       "\n",
       "    .dataframe tbody tr th {\n",
       "        vertical-align: top;\n",
       "    }\n",
       "\n",
       "    .dataframe thead th {\n",
       "        text-align: right;\n",
       "    }\n",
       "</style>\n",
       "<table border=\"1\" class=\"dataframe\">\n",
       "  <thead>\n",
       "    <tr style=\"text-align: right;\">\n",
       "      <th></th>\n",
       "      <th>Fruits src</th>\n",
       "      <th>Fruits href</th>\n",
       "      <th>Car src</th>\n",
       "      <th>Car href</th>\n",
       "      <th>Machine learning src</th>\n",
       "      <th>Machine learning href</th>\n",
       "    </tr>\n",
       "  </thead>\n",
       "  <tbody>\n",
       "    <tr>\n",
       "      <th>0</th>\n",
       "      <td>data:image/jpeg;base64,/9j/4AAQSkZJRgABAQAAAQA...</td>\n",
       "      <td>https://www.amazon.in/Fruits-All-One-Dreamland...</td>\n",
       "      <td>data:image/jpeg;base64,/9j/4AAQSkZJRgABAQAAAQA...</td>\n",
       "      <td>https://www.forbes.com/sites/jimgorzelany/2019...</td>\n",
       "      <td>data:image/jpeg;base64,/9j/4AAQSkZJRgABAQAAAQA...</td>\n",
       "      <td>https://data-flair.training/blogs/machine-lear...</td>\n",
       "    </tr>\n",
       "    <tr>\n",
       "      <th>1</th>\n",
       "      <td>data:image/jpeg;base64,/9j/4AAQSkZJRgABAQAAAQA...</td>\n",
       "      <td>https://www.amazon.in/Learning-Educational-Hom...</td>\n",
       "      <td>data:image/jpeg;base64,/9j/4AAQSkZJRgABAQAAAQA...</td>\n",
       "      <td>https://www.carwale.com/mg-cars/hector/</td>\n",
       "      <td>data:image/jpeg;base64,/9j/4AAQSkZJRgABAQAAAQA...</td>\n",
       "      <td>https://www.forbes.com/sites/kalevleetaru/2019...</td>\n",
       "    </tr>\n",
       "    <tr>\n",
       "      <th>2</th>\n",
       "      <td>data:image/jpeg;base64,/9j/4AAQSkZJRgABAQAAAQA...</td>\n",
       "      <td>https://www.healthyeating.org/nutrition-topics...</td>\n",
       "      <td>data:image/jpeg;base64,/9j/4AAQSkZJRgABAQAAAQA...</td>\n",
       "      <td>https://www.popularmechanics.com/cars/a3482425...</td>\n",
       "      <td>data:image/jpeg;base64,/9j/4AAQSkZJRgABAQAAAQA...</td>\n",
       "      <td>https://www.thermofisher.com/blog/connectedlab...</td>\n",
       "    </tr>\n",
       "    <tr>\n",
       "      <th>3</th>\n",
       "      <td>data:image/jpeg;base64,/9j/4AAQSkZJRgABAQAAAQA...</td>\n",
       "      <td>https://www.youtube.com/watch?v=PY2OxP_jMZ0</td>\n",
       "      <td>data:image/jpeg;base64,/9j/4AAQSkZJRgABAQAAAQA...</td>\n",
       "      <td>https://www.cardekho.com/newcars</td>\n",
       "      <td>data:image/jpeg;base64,/9j/4AAQSkZJRgABAQAAAQA...</td>\n",
       "      <td>https://www.analyticsinsight.net/top-10-machin...</td>\n",
       "    </tr>\n",
       "    <tr>\n",
       "      <th>4</th>\n",
       "      <td>data:image/jpeg;base64,/9j/4AAQSkZJRgABAQAAAQA...</td>\n",
       "      <td>https://www.goodhousekeeping.com/health/diet-n...</td>\n",
       "      <td>data:image/jpeg;base64,/9j/4AAQSkZJRgABAQAAAQA...</td>\n",
       "      <td>https://www.wired.com/story/jd-power-korean-ca...</td>\n",
       "      <td>data:image/jpeg;base64,/9j/4AAQSkZJRgABAQAAAQA...</td>\n",
       "      <td>https://becominghuman.ai/an-introduction-to-ma...</td>\n",
       "    </tr>\n",
       "    <tr>\n",
       "      <th>...</th>\n",
       "      <td>...</td>\n",
       "      <td>...</td>\n",
       "      <td>...</td>\n",
       "      <td>...</td>\n",
       "      <td>...</td>\n",
       "      <td>...</td>\n",
       "    </tr>\n",
       "    <tr>\n",
       "      <th>95</th>\n",
       "      <td>None</td>\n",
       "      <td>https://www.amazon.in/100yellow-Fruits-Poster-...</td>\n",
       "      <td>None</td>\n",
       "      <td>https://9to5mac.com/2021/02/05/apple-car-produ...</td>\n",
       "      <td>None</td>\n",
       "      <td>https://www.amazon.in/Machine-Learning-Enginee...</td>\n",
       "    </tr>\n",
       "    <tr>\n",
       "      <th>96</th>\n",
       "      <td>None</td>\n",
       "      <td>https://www.nrtcfresh.com/</td>\n",
       "      <td>None</td>\n",
       "      <td>https://www.drivespark.com/photos/mg-motor/</td>\n",
       "      <td>None</td>\n",
       "      <td>https://spectrum.ieee.org/master-machine-learn...</td>\n",
       "    </tr>\n",
       "    <tr>\n",
       "      <th>97</th>\n",
       "      <td>None</td>\n",
       "      <td>https://www.eatthis.com/best-fruits-for-fat-loss/</td>\n",
       "      <td>None</td>\n",
       "      <td>https://gomechanic.in/blog/choosing-between-pe...</td>\n",
       "      <td>None</td>\n",
       "      <td>https://www.facebook.com/machinelearningandAI/</td>\n",
       "    </tr>\n",
       "    <tr>\n",
       "      <th>98</th>\n",
       "      <td>None</td>\n",
       "      <td>https://www.gas-x.com/amp/summer-fruits-cause-...</td>\n",
       "      <td>None</td>\n",
       "      <td>https://www.volvocars.com/in</td>\n",
       "      <td>None</td>\n",
       "      <td>https://marutitech.com/artificial-intelligence...</td>\n",
       "    </tr>\n",
       "    <tr>\n",
       "      <th>99</th>\n",
       "      <td>None</td>\n",
       "      <td>https://pixabay.com/illustrations/fruits-icons...</td>\n",
       "      <td>None</td>\n",
       "      <td>https://www.popularmechanics.com/cars/g93/the-...</td>\n",
       "      <td>None</td>\n",
       "      <td>https://machinelearning.wisc.edu/</td>\n",
       "    </tr>\n",
       "  </tbody>\n",
       "</table>\n",
       "<p>100 rows × 6 columns</p>\n",
       "</div>"
      ],
      "text/plain": [
       "                                           Fruits src  \\\n",
       "0   data:image/jpeg;base64,/9j/4AAQSkZJRgABAQAAAQA...   \n",
       "1   data:image/jpeg;base64,/9j/4AAQSkZJRgABAQAAAQA...   \n",
       "2   data:image/jpeg;base64,/9j/4AAQSkZJRgABAQAAAQA...   \n",
       "3   data:image/jpeg;base64,/9j/4AAQSkZJRgABAQAAAQA...   \n",
       "4   data:image/jpeg;base64,/9j/4AAQSkZJRgABAQAAAQA...   \n",
       "..                                                ...   \n",
       "95                                               None   \n",
       "96                                               None   \n",
       "97                                               None   \n",
       "98                                               None   \n",
       "99                                               None   \n",
       "\n",
       "                                          Fruits href  \\\n",
       "0   https://www.amazon.in/Fruits-All-One-Dreamland...   \n",
       "1   https://www.amazon.in/Learning-Educational-Hom...   \n",
       "2   https://www.healthyeating.org/nutrition-topics...   \n",
       "3         https://www.youtube.com/watch?v=PY2OxP_jMZ0   \n",
       "4   https://www.goodhousekeeping.com/health/diet-n...   \n",
       "..                                                ...   \n",
       "95  https://www.amazon.in/100yellow-Fruits-Poster-...   \n",
       "96                         https://www.nrtcfresh.com/   \n",
       "97  https://www.eatthis.com/best-fruits-for-fat-loss/   \n",
       "98  https://www.gas-x.com/amp/summer-fruits-cause-...   \n",
       "99  https://pixabay.com/illustrations/fruits-icons...   \n",
       "\n",
       "                                              Car src  \\\n",
       "0   data:image/jpeg;base64,/9j/4AAQSkZJRgABAQAAAQA...   \n",
       "1   data:image/jpeg;base64,/9j/4AAQSkZJRgABAQAAAQA...   \n",
       "2   data:image/jpeg;base64,/9j/4AAQSkZJRgABAQAAAQA...   \n",
       "3   data:image/jpeg;base64,/9j/4AAQSkZJRgABAQAAAQA...   \n",
       "4   data:image/jpeg;base64,/9j/4AAQSkZJRgABAQAAAQA...   \n",
       "..                                                ...   \n",
       "95                                               None   \n",
       "96                                               None   \n",
       "97                                               None   \n",
       "98                                               None   \n",
       "99                                               None   \n",
       "\n",
       "                                             Car href  \\\n",
       "0   https://www.forbes.com/sites/jimgorzelany/2019...   \n",
       "1             https://www.carwale.com/mg-cars/hector/   \n",
       "2   https://www.popularmechanics.com/cars/a3482425...   \n",
       "3                    https://www.cardekho.com/newcars   \n",
       "4   https://www.wired.com/story/jd-power-korean-ca...   \n",
       "..                                                ...   \n",
       "95  https://9to5mac.com/2021/02/05/apple-car-produ...   \n",
       "96        https://www.drivespark.com/photos/mg-motor/   \n",
       "97  https://gomechanic.in/blog/choosing-between-pe...   \n",
       "98                       https://www.volvocars.com/in   \n",
       "99  https://www.popularmechanics.com/cars/g93/the-...   \n",
       "\n",
       "                                 Machine learning src  \\\n",
       "0   data:image/jpeg;base64,/9j/4AAQSkZJRgABAQAAAQA...   \n",
       "1   data:image/jpeg;base64,/9j/4AAQSkZJRgABAQAAAQA...   \n",
       "2   data:image/jpeg;base64,/9j/4AAQSkZJRgABAQAAAQA...   \n",
       "3   data:image/jpeg;base64,/9j/4AAQSkZJRgABAQAAAQA...   \n",
       "4   data:image/jpeg;base64,/9j/4AAQSkZJRgABAQAAAQA...   \n",
       "..                                                ...   \n",
       "95                                               None   \n",
       "96                                               None   \n",
       "97                                               None   \n",
       "98                                               None   \n",
       "99                                               None   \n",
       "\n",
       "                                Machine learning href  \n",
       "0   https://data-flair.training/blogs/machine-lear...  \n",
       "1   https://www.forbes.com/sites/kalevleetaru/2019...  \n",
       "2   https://www.thermofisher.com/blog/connectedlab...  \n",
       "3   https://www.analyticsinsight.net/top-10-machin...  \n",
       "4   https://becominghuman.ai/an-introduction-to-ma...  \n",
       "..                                                ...  \n",
       "95  https://www.amazon.in/Machine-Learning-Enginee...  \n",
       "96  https://spectrum.ieee.org/master-machine-learn...  \n",
       "97     https://www.facebook.com/machinelearningandAI/  \n",
       "98  https://marutitech.com/artificial-intelligence...  \n",
       "99                  https://machinelearning.wisc.edu/  \n",
       "\n",
       "[100 rows x 6 columns]"
      ]
     },
     "execution_count": 29,
     "metadata": {},
     "output_type": "execute_result"
    }
   ],
   "source": [
    "import pandas as pd\n",
    "google=pd.DataFrame({})\n",
    "google[\"Fruits src\"]=fruits_src\n",
    "google[\"Fruits href\"]=fruits_href\n",
    "google[\"Car src\"]=car_src\n",
    "google[\"Car href\"]=car_href\n",
    "google[\"Machine learning src\"]=ml_src\n",
    "google[\"Machine learning href\"]=ml_href\n",
    "google\n",
    "\n"
   ]
  },
  {
   "cell_type": "code",
   "execution_count": 30,
   "id": "7f6687f8",
   "metadata": {},
   "outputs": [
    {
     "data": {
      "text/plain": [
       "0     data:image/jpeg;base64,/9j/4AAQSkZJRgABAQAAAQA...\n",
       "1     data:image/jpeg;base64,/9j/4AAQSkZJRgABAQAAAQA...\n",
       "2     data:image/jpeg;base64,/9j/4AAQSkZJRgABAQAAAQA...\n",
       "3     data:image/jpeg;base64,/9j/4AAQSkZJRgABAQAAAQA...\n",
       "4     data:image/jpeg;base64,/9j/4AAQSkZJRgABAQAAAQA...\n",
       "                            ...                        \n",
       "95                                                 None\n",
       "96                                                 None\n",
       "97                                                 None\n",
       "98                                                 None\n",
       "99                                                 None\n",
       "Name: Machine learning src, Length: 100, dtype: object"
      ]
     },
     "execution_count": 30,
     "metadata": {},
     "output_type": "execute_result"
    }
   ],
   "source": [
    "google[\"Machine learning src\"]"
   ]
  },
  {
   "cell_type": "code",
   "execution_count": null,
   "id": "ef48fdb3",
   "metadata": {},
   "outputs": [],
   "source": []
  }
 ],
 "metadata": {
  "kernelspec": {
   "display_name": "Python 3",
   "language": "python",
   "name": "python3"
  },
  "language_info": {
   "codemirror_mode": {
    "name": "ipython",
    "version": 3
   },
   "file_extension": ".py",
   "mimetype": "text/x-python",
   "name": "python",
   "nbconvert_exporter": "python",
   "pygments_lexer": "ipython3",
   "version": "3.8.8"
  }
 },
 "nbformat": 4,
 "nbformat_minor": 5
}

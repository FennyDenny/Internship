{
 "cells": [
  {
   "cell_type": "code",
   "execution_count": 13,
   "id": "0401addc",
   "metadata": {},
   "outputs": [],
   "source": [
    "import selenium \n",
    "import pandas as pd\n",
    "from selenium import webdriver\n",
    "import time\n",
    "from selenium.common.exceptions import NoSuchElementException"
   ]
  },
  {
   "cell_type": "code",
   "execution_count": 14,
   "id": "d25dcddd",
   "metadata": {},
   "outputs": [],
   "source": [
    "driver=webdriver.Chrome(\"chromedriver.exe\")\n",
    "driver.maximize_window()"
   ]
  },
  {
   "cell_type": "code",
   "execution_count": 15,
   "id": "691dfde7",
   "metadata": {},
   "outputs": [],
   "source": [
    "driver.get(\"https://www.google.co.in/maps/@13.0679217,77.5734042,15z\")"
   ]
  },
  {
   "cell_type": "code",
   "execution_count": 16,
   "id": "e4124ec8",
   "metadata": {},
   "outputs": [],
   "source": [
    "search_city_element=driver.find_element_by_name(\"q\")\n",
    "search_city_element.send_keys(\"Bangalore\")"
   ]
  },
  {
   "cell_type": "code",
   "execution_count": 17,
   "id": "c6568307",
   "metadata": {},
   "outputs": [],
   "source": [
    "search_button_element=driver.find_element_by_xpath(\"//div[@class='xoLGzf-BIqFsb-haAclf']\")\n",
    "search_button_element.click()\n",
    "time.sleep(3)"
   ]
  },
  {
   "cell_type": "code",
   "execution_count": 30,
   "id": "1247aaed",
   "metadata": {},
   "outputs": [
    {
     "name": "stdout",
     "output_type": "stream",
     "text": [
      "URL Extracted:  https://www.google.co.in/maps/place/Bengaluru,+Karnataka/@13.0679217,77.5734042,15z/data=!4m5!3m4!1s0x3bae1670c9b44e6d:0xf8dfc3e8517e4fe0!8m2!3d12.9715987!4d77.5945627\n"
     ]
    }
   ],
   "source": [
    "import re\n",
    "try:\n",
    "    latitude_longitude_url= driver.current_url\n",
    "    print(\"URL Extracted: \", latitude_longitude_url)\n",
    "    lat_lng = re.search(r'@(.*)data',latitude_longitude_url).group(1)\n",
    "except:\n",
    "    print(\"url not found\")\n",
    " "
   ]
  },
  {
   "cell_type": "code",
   "execution_count": 32,
   "id": "9220abbb",
   "metadata": {},
   "outputs": [
    {
     "name": "stdout",
     "output_type": "stream",
     "text": [
      "13.0679217,77.5734042,15z/\n"
     ]
    }
   ],
   "source": [
    "print(lat_lng)"
   ]
  },
  {
   "cell_type": "code",
   "execution_count": 40,
   "id": "d40ffd9e",
   "metadata": {},
   "outputs": [
    {
     "name": "stdout",
     "output_type": "stream",
     "text": [
      "['13.0679217', '77.5734042', '15z/']\n"
     ]
    }
   ],
   "source": [
    "lat_lng_list=lat_lng.split(',')\n",
    "print(lat_lng_list)"
   ]
  },
  {
   "cell_type": "code",
   "execution_count": 39,
   "id": "8ab0d9f1",
   "metadata": {},
   "outputs": [
    {
     "name": "stdout",
     "output_type": "stream",
     "text": [
      "Latitute for given searh is  13.0679217\n",
      "Longitude for given searh is  77.5734042\n"
     ]
    }
   ],
   "source": [
    "lattitude=lat_lng_list[0]\n",
    "longitude=lat_lng_list[1]\n",
    "print('Latitute for given searh is ', lattitude)\n",
    "print('Longitude for given searh is ', longitude)"
   ]
  },
  {
   "cell_type": "code",
   "execution_count": null,
   "id": "67aed6c3",
   "metadata": {},
   "outputs": [],
   "source": []
  }
 ],
 "metadata": {
  "kernelspec": {
   "display_name": "Python 3",
   "language": "python",
   "name": "python3"
  },
  "language_info": {
   "codemirror_mode": {
    "name": "ipython",
    "version": 3
   },
   "file_extension": ".py",
   "mimetype": "text/x-python",
   "name": "python",
   "nbconvert_exporter": "python",
   "pygments_lexer": "ipython3",
   "version": "3.8.8"
  }
 },
 "nbformat": 4,
 "nbformat_minor": 5
}

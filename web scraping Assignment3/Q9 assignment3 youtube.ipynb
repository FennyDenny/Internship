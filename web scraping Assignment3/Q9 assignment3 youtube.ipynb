{
 "cells": [
  {
   "cell_type": "code",
   "execution_count": 1,
   "id": "3569ce31",
   "metadata": {},
   "outputs": [],
   "source": [
    "import selenium \n",
    "import pandas as pd\n",
    "from selenium import webdriver\n",
    "import time\n",
    "from selenium.common.exceptions import NoSuchElementException\n",
    "from selenium.webdriver.common.keys import Keys"
   ]
  },
  {
   "cell_type": "code",
   "execution_count": 2,
   "id": "5363c8b9",
   "metadata": {},
   "outputs": [],
   "source": [
    "driver=webdriver.Chrome(\"chromedriver.exe\")\n",
    "driver.maximize_window()"
   ]
  },
  {
   "cell_type": "code",
   "execution_count": 3,
   "id": "2c96f12e",
   "metadata": {},
   "outputs": [],
   "source": [
    "driver.get(\"https://www.youtube.com/\")"
   ]
  },
  {
   "cell_type": "code",
   "execution_count": 4,
   "id": "ab613c8b",
   "metadata": {},
   "outputs": [],
   "source": [
    "search_element=driver.find_element_by_xpath(\"//input[@id='search']\")\n",
    "search_element.send_keys(\"mrbeast\")\n",
    "time.sleep(3)"
   ]
  },
  {
   "cell_type": "code",
   "execution_count": 5,
   "id": "9ac4b51a",
   "metadata": {},
   "outputs": [],
   "source": [
    "search_button_element=driver.find_element_by_xpath(\"//button[@id='search-icon-legacy']\")\n",
    "search_button_element.click()\n",
    "time.sleep(3)"
   ]
  },
  {
   "cell_type": "code",
   "execution_count": 6,
   "id": "5202b46d",
   "metadata": {},
   "outputs": [],
   "source": [
    "video_elements= driver.find_element_by_xpath(\"//div[@id='title-wrapper'][1]\")\n",
    "video_elements.click()\n",
    "time.sleep(5)"
   ]
  },
  {
   "cell_type": "code",
   "execution_count": 7,
   "id": "02a7b387",
   "metadata": {},
   "outputs": [],
   "source": [
    "html = driver.find_element_by_tag_name('html')\n",
    "html.send_keys(Keys.PAGE_DOWN)   \n",
    "time.sleep(3)\n",
    "html.send_keys(Keys.PAGE_UP)   \n",
    "time.sleep(3)"
   ]
  },
  {
   "cell_type": "code",
   "execution_count": 8,
   "id": "9ddfb7a7",
   "metadata": {},
   "outputs": [],
   "source": [
    "for i in range(0,25):\n",
    "    html.send_keys(Keys.END)\n",
    "    time.sleep(3)"
   ]
  },
  {
   "cell_type": "code",
   "execution_count": 9,
   "id": "f7fec277",
   "metadata": {},
   "outputs": [
    {
     "data": {
      "text/plain": [
       "500"
      ]
     },
     "execution_count": 9,
     "metadata": {},
     "output_type": "execute_result"
    }
   ],
   "source": [
    "comment_list=[]\n",
    "comment_elements=driver.find_elements_by_xpath(\"//*[@id='content-text']\")\n",
    "for elem in comment_elements:\n",
    "    comment=elem.text\n",
    "    comment_list.append(comment)    \n",
    "len(comment_list)"
   ]
  },
  {
   "cell_type": "code",
   "execution_count": 10,
   "id": "2308a593",
   "metadata": {},
   "outputs": [
    {
     "data": {
      "text/plain": [
       "500"
      ]
     },
     "execution_count": 10,
     "metadata": {},
     "output_type": "execute_result"
    }
   ],
   "source": [
    "date_posted_list=[]\n",
    "date_posted_elements=driver.find_elements_by_xpath(\"//div[@id='header-author']//a[@class='yt-simple-endpoint style-scope yt-formatted-string']\")\n",
    "for elem in date_posted_elements:\n",
    "    date_posted=elem.text\n",
    "    date_posted_list.append(date_posted)    \n",
    "len(date_posted_list)"
   ]
  },
  {
   "cell_type": "code",
   "execution_count": 11,
   "id": "7a53fbe4",
   "metadata": {},
   "outputs": [
    {
     "data": {
      "text/plain": [
       "500"
      ]
     },
     "execution_count": 11,
     "metadata": {},
     "output_type": "execute_result"
    }
   ],
   "source": [
    "comment_upvote_list=[]\n",
    "comment_upvote_elements=driver.find_elements_by_xpath(\"//span[@id='vote-count-middle']\")\n",
    "for elem in comment_upvote_elements:\n",
    "    comment_upvote=elem.text\n",
    "    comment_upvote_list.append(comment_upvote)    \n",
    "len(comment_upvote_list)"
   ]
  },
  {
   "cell_type": "code",
   "execution_count": 12,
   "id": "e8b3eb8d",
   "metadata": {},
   "outputs": [
    {
     "data": {
      "text/html": [
       "<div>\n",
       "<style scoped>\n",
       "    .dataframe tbody tr th:only-of-type {\n",
       "        vertical-align: middle;\n",
       "    }\n",
       "\n",
       "    .dataframe tbody tr th {\n",
       "        vertical-align: top;\n",
       "    }\n",
       "\n",
       "    .dataframe thead th {\n",
       "        text-align: right;\n",
       "    }\n",
       "</style>\n",
       "<table border=\"1\" class=\"dataframe\">\n",
       "  <thead>\n",
       "    <tr style=\"text-align: right;\">\n",
       "      <th></th>\n",
       "      <th>comments</th>\n",
       "      <th>date posted</th>\n",
       "      <th>comment upvote</th>\n",
       "    </tr>\n",
       "  </thead>\n",
       "  <tbody>\n",
       "    <tr>\n",
       "      <th>0</th>\n",
       "      <td>I can feel Chandler’s ankle pain through the s...</td>\n",
       "      <td>3 weeks ago</td>\n",
       "      <td>90K</td>\n",
       "    </tr>\n",
       "    <tr>\n",
       "      <th>1</th>\n",
       "      <td>The line “I’m so proud of you Nolan, you’re th...</td>\n",
       "      <td>1 day ago</td>\n",
       "      <td>174</td>\n",
       "    </tr>\n",
       "    <tr>\n",
       "      <th>2</th>\n",
       "      <td>\"If you don't win the next challenge, you're k...</td>\n",
       "      <td>19 hours ago</td>\n",
       "      <td>34</td>\n",
       "    </tr>\n",
       "    <tr>\n",
       "      <th>3</th>\n",
       "      <td>Mr. Beast in the year 6,000: Today we will be ...</td>\n",
       "      <td>10 hours ago</td>\n",
       "      <td>291</td>\n",
       "    </tr>\n",
       "    <tr>\n",
       "      <th>4</th>\n",
       "      <td>So when am I getting invited to the Squid Game?</td>\n",
       "      <td>36 minutes ago</td>\n",
       "      <td>7</td>\n",
       "    </tr>\n",
       "    <tr>\n",
       "      <th>...</th>\n",
       "      <td>...</td>\n",
       "      <td>...</td>\n",
       "      <td>...</td>\n",
       "    </tr>\n",
       "    <tr>\n",
       "      <th>495</th>\n",
       "      <td>I love how Nolan was so focused on the money w...</td>\n",
       "      <td>3 weeks ago</td>\n",
       "      <td>124</td>\n",
       "    </tr>\n",
       "    <tr>\n",
       "      <th>496</th>\n",
       "      <td>Beast only help his friends and cannot believe...</td>\n",
       "      <td>1 day ago</td>\n",
       "      <td></td>\n",
       "    </tr>\n",
       "    <tr>\n",
       "      <th>497</th>\n",
       "      <td>I dare you to spent 24 hours in the quiest roo...</td>\n",
       "      <td>20 hours ago</td>\n",
       "      <td></td>\n",
       "    </tr>\n",
       "    <tr>\n",
       "      <th>498</th>\n",
       "      <td>Send some of us poor people that support you s...</td>\n",
       "      <td>12 hours ago</td>\n",
       "      <td></td>\n",
       "    </tr>\n",
       "    <tr>\n",
       "      <th>499</th>\n",
       "      <td>I’m in such a rut</td>\n",
       "      <td>1 day ago</td>\n",
       "      <td></td>\n",
       "    </tr>\n",
       "  </tbody>\n",
       "</table>\n",
       "<p>500 rows × 3 columns</p>\n",
       "</div>"
      ],
      "text/plain": [
       "                                              comments     date posted  \\\n",
       "0    I can feel Chandler’s ankle pain through the s...     3 weeks ago   \n",
       "1    The line “I’m so proud of you Nolan, you’re th...       1 day ago   \n",
       "2    \"If you don't win the next challenge, you're k...    19 hours ago   \n",
       "3    Mr. Beast in the year 6,000: Today we will be ...    10 hours ago   \n",
       "4     So when am I getting invited to the Squid Game?   36 minutes ago   \n",
       "..                                                 ...             ...   \n",
       "495  I love how Nolan was so focused on the money w...     3 weeks ago   \n",
       "496  Beast only help his friends and cannot believe...       1 day ago   \n",
       "497  I dare you to spent 24 hours in the quiest roo...    20 hours ago   \n",
       "498  Send some of us poor people that support you s...    12 hours ago   \n",
       "499                                  I’m in such a rut       1 day ago   \n",
       "\n",
       "    comment upvote  \n",
       "0              90K  \n",
       "1              174  \n",
       "2               34  \n",
       "3              291  \n",
       "4                7  \n",
       "..             ...  \n",
       "495            124  \n",
       "496                 \n",
       "497                 \n",
       "498                 \n",
       "499                 \n",
       "\n",
       "[500 rows x 3 columns]"
      ]
     },
     "execution_count": 12,
     "metadata": {},
     "output_type": "execute_result"
    }
   ],
   "source": [
    "import pandas as pd\n",
    "youtube_df=pd.DataFrame({})\n",
    "youtube_df[\"comments\"]=comment_list[0:500]\n",
    "youtube_df[\"date posted\"]=date_posted_list[0:500]\n",
    "youtube_df[\"comment upvote\"]=comment_upvote_list[0:500]\n",
    "youtube_df"
   ]
  }
 ],
 "metadata": {
  "kernelspec": {
   "display_name": "Python 3",
   "language": "python",
   "name": "python3"
  },
  "language_info": {
   "codemirror_mode": {
    "name": "ipython",
    "version": 3
   },
   "file_extension": ".py",
   "mimetype": "text/x-python",
   "name": "python",
   "nbconvert_exporter": "python",
   "pygments_lexer": "ipython3",
   "version": "3.8.8"
  }
 },
 "nbformat": 4,
 "nbformat_minor": 5
}

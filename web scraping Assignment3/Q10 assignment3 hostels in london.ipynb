{
 "cells": [
  {
   "cell_type": "code",
   "execution_count": 1,
   "id": "251fa23b",
   "metadata": {},
   "outputs": [],
   "source": [
    "import selenium \n",
    "import pandas as pd\n",
    "from selenium import webdriver\n",
    "import time\n",
    "from selenium.common.exceptions import NoSuchElementException"
   ]
  },
  {
   "cell_type": "code",
   "execution_count": 2,
   "id": "62d5d84a",
   "metadata": {},
   "outputs": [],
   "source": [
    "driver=webdriver.Chrome(\"chromedriver.exe\")"
   ]
  },
  {
   "cell_type": "code",
   "execution_count": 3,
   "id": "6307effe",
   "metadata": {},
   "outputs": [],
   "source": [
    "driver.get(\"https://www.hostelworld.com/\")"
   ]
  },
  {
   "cell_type": "code",
   "execution_count": 5,
   "id": "b942fbd1",
   "metadata": {},
   "outputs": [],
   "source": [
    "explore_button_element=driver.find_element_by_xpath(\"//button[@title='Menu']\")\n",
    "explore_button_element.click()"
   ]
  },
  {
   "cell_type": "code",
   "execution_count": 6,
   "id": "f3d9be97",
   "metadata": {},
   "outputs": [],
   "source": [
    "hostel_button_element=driver.find_element_by_xpath(\"//a[text()='Hostels']\")\n",
    "hostel_button_element.click()"
   ]
  },
  {
   "cell_type": "code",
   "execution_count": 8,
   "id": "d6b69088",
   "metadata": {},
   "outputs": [],
   "source": [
    "location_element=driver.find_element_by_xpath(\"//input[@name='search_keywords']\")\n",
    "location_element.send_keys(\"London\")"
   ]
  },
  {
   "cell_type": "code",
   "execution_count": 9,
   "id": "1ad3e518",
   "metadata": {},
   "outputs": [],
   "source": [
    "search_button_element=driver.find_element_by_xpath(\"//button[@type='submit']\")\n",
    "search_button_element.click()\n",
    "time.sleep(3)"
   ]
  },
  {
   "cell_type": "code",
   "execution_count": 15,
   "id": "316cd38d",
   "metadata": {},
   "outputs": [
    {
     "data": {
      "text/plain": [
       "[<selenium.webdriver.remote.webelement.WebElement (session=\"f33308bacf97128b64a8119c630a867c\", element=\"23306c47-b46c-4695-97cf-d88af64221a3\")>,\n",
       " <selenium.webdriver.remote.webelement.WebElement (session=\"f33308bacf97128b64a8119c630a867c\", element=\"0347e37a-449b-4b05-86fe-de2b6c2b5bfb\")>,\n",
       " <selenium.webdriver.remote.webelement.WebElement (session=\"f33308bacf97128b64a8119c630a867c\", element=\"fb08438a-57e1-4ea1-b094-db05954552af\")>,\n",
       " <selenium.webdriver.remote.webelement.WebElement (session=\"f33308bacf97128b64a8119c630a867c\", element=\"4276f439-d162-49bc-87d3-01b0db604efb\")>,\n",
       " <selenium.webdriver.remote.webelement.WebElement (session=\"f33308bacf97128b64a8119c630a867c\", element=\"c0eacc43-84d0-4a0f-b421-8f7daf85ea5e\")>,\n",
       " <selenium.webdriver.remote.webelement.WebElement (session=\"f33308bacf97128b64a8119c630a867c\", element=\"5f362544-b149-46a9-b2b4-381e4500268d\")>,\n",
       " <selenium.webdriver.remote.webelement.WebElement (session=\"f33308bacf97128b64a8119c630a867c\", element=\"2aa436b0-14fb-4def-98df-30a410f0b26f\")>,\n",
       " <selenium.webdriver.remote.webelement.WebElement (session=\"f33308bacf97128b64a8119c630a867c\", element=\"212c173c-638e-4409-b7dc-709dc795a8f7\")>,\n",
       " <selenium.webdriver.remote.webelement.WebElement (session=\"f33308bacf97128b64a8119c630a867c\", element=\"112d07c4-dafd-48fe-9c3a-aa9ed9fad4bf\")>,\n",
       " <selenium.webdriver.remote.webelement.WebElement (session=\"f33308bacf97128b64a8119c630a867c\", element=\"a848f9e0-aa5b-4a98-bee9-6d71bff16be5\")>,\n",
       " <selenium.webdriver.remote.webelement.WebElement (session=\"f33308bacf97128b64a8119c630a867c\", element=\"df60f17e-8d8d-4603-a139-afe099b49779\")>,\n",
       " <selenium.webdriver.remote.webelement.WebElement (session=\"f33308bacf97128b64a8119c630a867c\", element=\"53880b7d-e5dd-42f5-8424-4c9dcb415484\")>,\n",
       " <selenium.webdriver.remote.webelement.WebElement (session=\"f33308bacf97128b64a8119c630a867c\", element=\"d696835d-6e61-4fdd-8b19-e4fd25880cd4\")>,\n",
       " <selenium.webdriver.remote.webelement.WebElement (session=\"f33308bacf97128b64a8119c630a867c\", element=\"97893d8f-3653-4677-9480-f1f3f6c41051\")>,\n",
       " <selenium.webdriver.remote.webelement.WebElement (session=\"f33308bacf97128b64a8119c630a867c\", element=\"9c8066e0-4751-4372-9973-a2e9a7cd7e16\")>,\n",
       " <selenium.webdriver.remote.webelement.WebElement (session=\"f33308bacf97128b64a8119c630a867c\", element=\"7410e428-c910-419e-8d6b-9def4c2065ce\")>,\n",
       " <selenium.webdriver.remote.webelement.WebElement (session=\"f33308bacf97128b64a8119c630a867c\", element=\"440a2b51-2d93-4471-8aa3-0c2758ab7641\")>,\n",
       " <selenium.webdriver.remote.webelement.WebElement (session=\"f33308bacf97128b64a8119c630a867c\", element=\"c3532c6d-1904-455e-a4a2-d7b8b85aaa3a\")>,\n",
       " <selenium.webdriver.remote.webelement.WebElement (session=\"f33308bacf97128b64a8119c630a867c\", element=\"1de3eb32-5e0d-4768-b1e8-d520f710aef4\")>,\n",
       " <selenium.webdriver.remote.webelement.WebElement (session=\"f33308bacf97128b64a8119c630a867c\", element=\"5d99050e-4e30-40b9-b3da-6d5db03c9e2a\")>,\n",
       " <selenium.webdriver.remote.webelement.WebElement (session=\"f33308bacf97128b64a8119c630a867c\", element=\"1e038b88-eb02-4b1b-9187-b79548dfeb1b\")>,\n",
       " <selenium.webdriver.remote.webelement.WebElement (session=\"f33308bacf97128b64a8119c630a867c\", element=\"d5667173-f80d-4e66-b83a-2bc7d0cdb54f\")>,\n",
       " <selenium.webdriver.remote.webelement.WebElement (session=\"f33308bacf97128b64a8119c630a867c\", element=\"8003c711-0a41-47a8-8896-d32f44c9a4ec\")>,\n",
       " <selenium.webdriver.remote.webelement.WebElement (session=\"f33308bacf97128b64a8119c630a867c\", element=\"40859b92-ebda-4563-b184-8aaa3b8f8775\")>,\n",
       " <selenium.webdriver.remote.webelement.WebElement (session=\"f33308bacf97128b64a8119c630a867c\", element=\"2b18ff1c-4ef3-4e3c-b57f-a2b70ad2fb39\")>,\n",
       " <selenium.webdriver.remote.webelement.WebElement (session=\"f33308bacf97128b64a8119c630a867c\", element=\"e7fddabe-55ee-4ace-8cf0-b0b5fa78ae0f\")>,\n",
       " <selenium.webdriver.remote.webelement.WebElement (session=\"f33308bacf97128b64a8119c630a867c\", element=\"bda88393-1bd3-457a-a022-0827de94fb20\")>,\n",
       " <selenium.webdriver.remote.webelement.WebElement (session=\"f33308bacf97128b64a8119c630a867c\", element=\"27e24387-6021-41d3-a645-95cca01db55e\")>,\n",
       " <selenium.webdriver.remote.webelement.WebElement (session=\"f33308bacf97128b64a8119c630a867c\", element=\"0961ab75-f26a-4b8c-8bd8-c01e9f946da3\")>,\n",
       " <selenium.webdriver.remote.webelement.WebElement (session=\"f33308bacf97128b64a8119c630a867c\", element=\"634d1390-5ea9-4b33-b720-be7bb1387826\")>]"
      ]
     },
     "execution_count": 15,
     "metadata": {},
     "output_type": "execute_result"
    }
   ],
   "source": [
    "hostel_name_elements=driver.find_elements_by_xpath(\"//h2[@class='title title-6']/a\")\n",
    "hostel_name_elements"
   ]
  },
  {
   "cell_type": "code",
   "execution_count": 24,
   "id": "6bae6724",
   "metadata": {},
   "outputs": [
    {
     "data": {
      "text/plain": [
       "[\"St Christopher's Shepherds Bush\",\n",
       " 'Venture Hostel',\n",
       " \"Wombat's The City Hostel London\",\n",
       " 'Burlington Residence',\n",
       " 'Abercorn House',\n",
       " 'New Cross Inn Hostel',\n",
       " 'London Backpackers',\n",
       " 'Selina Camden',\n",
       " \"St Christopher's Village\",\n",
       " \"St Christopher's Camden\",\n",
       " 'Phoenix Hostel',\n",
       " 'London Waterloo Hostel',\n",
       " 'Generator London',\n",
       " 'Safestay London Kensington Holland Park',\n",
       " 'Safestay London Elephant & Castle',\n",
       " 'Smart Russell Square Hostel',\n",
       " 'PubLove @ The Crown, Battersea',\n",
       " 'Clink261',\n",
       " 'Barmy Badger Backpackers',\n",
       " 'Saint James Backpackers',\n",
       " 'The London Home Hostel',\n",
       " 'The Finnish Church in London',\n",
       " 'No.8 Seven Sisters',\n",
       " 'The Dictionary Hostel',\n",
       " 'Prime Backpackers Angel',\n",
       " 'Urbany Hostel London',\n",
       " 'Kensal Green Backpackers',\n",
       " 'Queen Elizabeth Chelsea',\n",
       " 'PubLove @ The Steam Engine, Waterloo',\n",
       " 'Le Junction Hostel - Pub & Garden']"
      ]
     },
     "execution_count": 24,
     "metadata": {},
     "output_type": "execute_result"
    }
   ],
   "source": [
    "hostel_name_list=[]\n",
    "hostel_name_elements=driver.find_elements_by_xpath(\"//h2[@class='title title-6']/a\")\n",
    "for elem in hostel_name_elements:\n",
    "    hostel=elem.text\n",
    "    hostel_name_list.append(hostel)\n",
    "hostel_name_list"
   ]
  },
  {
   "cell_type": "code",
   "execution_count": 25,
   "id": "3d6c4593",
   "metadata": {},
   "outputs": [
    {
     "data": {
      "text/plain": [
       "[<selenium.webdriver.remote.webelement.WebElement (session=\"f33308bacf97128b64a8119c630a867c\", element=\"ea7c6624-5d0c-45ac-a071-8b43538a3eef\")>,\n",
       " <selenium.webdriver.remote.webelement.WebElement (session=\"f33308bacf97128b64a8119c630a867c\", element=\"ce216185-986b-479b-8617-3e3d439e2c7f\")>,\n",
       " <selenium.webdriver.remote.webelement.WebElement (session=\"f33308bacf97128b64a8119c630a867c\", element=\"ceb0ed9f-fbc2-44ea-a7ed-b7bd81795af1\")>,\n",
       " <selenium.webdriver.remote.webelement.WebElement (session=\"f33308bacf97128b64a8119c630a867c\", element=\"d8110c7c-32b9-4a3d-bbb0-2cbc0e039e5a\")>,\n",
       " <selenium.webdriver.remote.webelement.WebElement (session=\"f33308bacf97128b64a8119c630a867c\", element=\"f3674570-9647-4825-af54-fd1da5a8a481\")>,\n",
       " <selenium.webdriver.remote.webelement.WebElement (session=\"f33308bacf97128b64a8119c630a867c\", element=\"5bae39c4-b2c5-4837-b457-344b81c47744\")>,\n",
       " <selenium.webdriver.remote.webelement.WebElement (session=\"f33308bacf97128b64a8119c630a867c\", element=\"954c28c0-3425-4779-bba9-902c1acede9e\")>,\n",
       " <selenium.webdriver.remote.webelement.WebElement (session=\"f33308bacf97128b64a8119c630a867c\", element=\"0b11866e-e448-4406-97a7-87dd9be69bcc\")>,\n",
       " <selenium.webdriver.remote.webelement.WebElement (session=\"f33308bacf97128b64a8119c630a867c\", element=\"a852a845-017b-45b9-a57b-1f85fa9b3834\")>,\n",
       " <selenium.webdriver.remote.webelement.WebElement (session=\"f33308bacf97128b64a8119c630a867c\", element=\"e4c042e1-14b4-4e4c-8484-9e47345e9452\")>,\n",
       " <selenium.webdriver.remote.webelement.WebElement (session=\"f33308bacf97128b64a8119c630a867c\", element=\"e6d7459b-2020-4772-bd52-13f3fab340eb\")>,\n",
       " <selenium.webdriver.remote.webelement.WebElement (session=\"f33308bacf97128b64a8119c630a867c\", element=\"81e21875-fcd6-49eb-93ba-fcf326934edf\")>,\n",
       " <selenium.webdriver.remote.webelement.WebElement (session=\"f33308bacf97128b64a8119c630a867c\", element=\"e54c48cd-29d1-4e3a-80b5-bb3d99b9f7bd\")>,\n",
       " <selenium.webdriver.remote.webelement.WebElement (session=\"f33308bacf97128b64a8119c630a867c\", element=\"94eaf392-b7c0-44dd-89f3-162906f30547\")>,\n",
       " <selenium.webdriver.remote.webelement.WebElement (session=\"f33308bacf97128b64a8119c630a867c\", element=\"a6997d4d-8f3a-44b6-9118-4cde7b32ad4f\")>,\n",
       " <selenium.webdriver.remote.webelement.WebElement (session=\"f33308bacf97128b64a8119c630a867c\", element=\"98570d84-3f77-4124-b5be-0de8f07f2b5e\")>,\n",
       " <selenium.webdriver.remote.webelement.WebElement (session=\"f33308bacf97128b64a8119c630a867c\", element=\"60f6d0a5-dc48-461a-aeee-9b7888eca36f\")>,\n",
       " <selenium.webdriver.remote.webelement.WebElement (session=\"f33308bacf97128b64a8119c630a867c\", element=\"389e933b-ab0c-4b12-b9db-c27cf92a1e4d\")>,\n",
       " <selenium.webdriver.remote.webelement.WebElement (session=\"f33308bacf97128b64a8119c630a867c\", element=\"ea71b3ae-b0f4-4992-8109-6c2e43c786e3\")>,\n",
       " <selenium.webdriver.remote.webelement.WebElement (session=\"f33308bacf97128b64a8119c630a867c\", element=\"ebfa4ff1-b519-4d0e-aa92-1c42ffce7727\")>,\n",
       " <selenium.webdriver.remote.webelement.WebElement (session=\"f33308bacf97128b64a8119c630a867c\", element=\"eda7573b-7946-49ba-9f62-0b7504f79172\")>,\n",
       " <selenium.webdriver.remote.webelement.WebElement (session=\"f33308bacf97128b64a8119c630a867c\", element=\"20a1baa0-9112-4dd5-98cc-893d4408a92d\")>,\n",
       " <selenium.webdriver.remote.webelement.WebElement (session=\"f33308bacf97128b64a8119c630a867c\", element=\"3b81770b-91f7-4f89-8f6b-2815fb69edde\")>,\n",
       " <selenium.webdriver.remote.webelement.WebElement (session=\"f33308bacf97128b64a8119c630a867c\", element=\"21b975fa-bc70-42e4-b5ba-7eb00f2a0dcc\")>,\n",
       " <selenium.webdriver.remote.webelement.WebElement (session=\"f33308bacf97128b64a8119c630a867c\", element=\"707b18cd-4a14-45b1-839e-08a80183bf64\")>,\n",
       " <selenium.webdriver.remote.webelement.WebElement (session=\"f33308bacf97128b64a8119c630a867c\", element=\"23d69cb6-c68e-44ce-8192-fe8431805ef0\")>,\n",
       " <selenium.webdriver.remote.webelement.WebElement (session=\"f33308bacf97128b64a8119c630a867c\", element=\"89154414-4f82-4290-82be-cda7aac07951\")>,\n",
       " <selenium.webdriver.remote.webelement.WebElement (session=\"f33308bacf97128b64a8119c630a867c\", element=\"949e32cb-9822-4b9a-bcc0-87863825d0b8\")>,\n",
       " <selenium.webdriver.remote.webelement.WebElement (session=\"f33308bacf97128b64a8119c630a867c\", element=\"a91c1439-7d3d-4589-8f6d-ad1e43a6002a\")>,\n",
       " <selenium.webdriver.remote.webelement.WebElement (session=\"f33308bacf97128b64a8119c630a867c\", element=\"4c595211-85e5-4e6b-a176-587ceeedc9ac\")>]"
      ]
     },
     "execution_count": 25,
     "metadata": {},
     "output_type": "execute_result"
    }
   ],
   "source": [
    "distance_elements=driver.find_elements_by_xpath(\"//span[@class='description']\")\n",
    "distance_elements"
   ]
  },
  {
   "cell_type": "code",
   "execution_count": 26,
   "id": "f9979344",
   "metadata": {},
   "outputs": [
    {
     "data": {
      "text/plain": [
       "['Hostel - 7km from city centre',\n",
       " 'Hostel - 6.9km from city centre',\n",
       " 'Hostel - 3.6km from city centre',\n",
       " 'Hostel - 7.1km from city centre',\n",
       " 'Hostel - 7.3km from city centre',\n",
       " 'Hostel - 6.1km from city centre',\n",
       " 'Hostel - 11.9km from city centre',\n",
       " 'Hostel - 5.5km from city centre',\n",
       " 'Hostel - 1.8km from city centre',\n",
       " 'Hostel - 4.3km from city centre',\n",
       " 'Hostel - 4.2km from city centre',\n",
       " 'Hostel - 0.7km from city centre',\n",
       " 'Hostel - 3km from city centre',\n",
       " 'Hostel - 5.9km from city centre',\n",
       " 'Hostel - 1.7km from city centre',\n",
       " 'Hostel - 2.6km from city centre',\n",
       " 'Hostel - 4.7km from city centre',\n",
       " 'Hostel - 3.2km from city centre',\n",
       " 'Hostel - 5.5km from city centre',\n",
       " 'Hostel - 5.5km from city centre',\n",
       " 'Hostel - 8.2km from city centre',\n",
       " 'Hostel - 4.5km from city centre',\n",
       " 'Hostel - 9km from city centre',\n",
       " 'Hostel - 4.1km from city centre',\n",
       " 'Hostel - 3.6km from city centre',\n",
       " 'Hostel - 5.4km from city centre',\n",
       " 'Hostel - 8.2km from city centre',\n",
       " 'Hostel - 5.7km from city centre',\n",
       " 'Hostel - 0.5km from city centre',\n",
       " 'Hostel - 9.8km from city centre']"
      ]
     },
     "execution_count": 26,
     "metadata": {},
     "output_type": "execute_result"
    }
   ],
   "source": [
    "distance_list=[]\n",
    "for elem in distance_elements:\n",
    "    distance=elem.text\n",
    "    distance_list.append(distance)\n",
    "distance_list"
   ]
  },
  {
   "cell_type": "code",
   "execution_count": 27,
   "id": "a02fa239",
   "metadata": {},
   "outputs": [
    {
     "data": {
      "text/plain": [
       "[<selenium.webdriver.remote.webelement.WebElement (session=\"f33308bacf97128b64a8119c630a867c\", element=\"78c81b4a-cd9d-4957-9206-fac2289a6c68\")>,\n",
       " <selenium.webdriver.remote.webelement.WebElement (session=\"f33308bacf97128b64a8119c630a867c\", element=\"aeb0aecb-4ecc-48dc-9dd0-1bd05a4867b9\")>,\n",
       " <selenium.webdriver.remote.webelement.WebElement (session=\"f33308bacf97128b64a8119c630a867c\", element=\"c3c19b9d-0e01-4685-9df3-257247b2c433\")>,\n",
       " <selenium.webdriver.remote.webelement.WebElement (session=\"f33308bacf97128b64a8119c630a867c\", element=\"70be4fe5-c0bd-483d-a281-7af85802bf68\")>,\n",
       " <selenium.webdriver.remote.webelement.WebElement (session=\"f33308bacf97128b64a8119c630a867c\", element=\"7d384467-3e9d-4766-8af2-522718ce409b\")>,\n",
       " <selenium.webdriver.remote.webelement.WebElement (session=\"f33308bacf97128b64a8119c630a867c\", element=\"53c2619d-9718-4b55-ad2b-82d316004fba\")>,\n",
       " <selenium.webdriver.remote.webelement.WebElement (session=\"f33308bacf97128b64a8119c630a867c\", element=\"45c3b418-b488-45a7-9ded-7d97c2a76e24\")>,\n",
       " <selenium.webdriver.remote.webelement.WebElement (session=\"f33308bacf97128b64a8119c630a867c\", element=\"1396be67-a645-4dee-acfd-a9d643c7a33c\")>,\n",
       " <selenium.webdriver.remote.webelement.WebElement (session=\"f33308bacf97128b64a8119c630a867c\", element=\"c59479af-20be-48b0-ae7b-5dcee4b48032\")>,\n",
       " <selenium.webdriver.remote.webelement.WebElement (session=\"f33308bacf97128b64a8119c630a867c\", element=\"ac951f69-81f4-468f-8cdd-f8fbeac90d35\")>,\n",
       " <selenium.webdriver.remote.webelement.WebElement (session=\"f33308bacf97128b64a8119c630a867c\", element=\"f0d0037e-f5fb-4a68-9c2d-c9245f14dcf6\")>,\n",
       " <selenium.webdriver.remote.webelement.WebElement (session=\"f33308bacf97128b64a8119c630a867c\", element=\"a73cc81c-34d7-4a15-a226-5ee50aa7f0dc\")>,\n",
       " <selenium.webdriver.remote.webelement.WebElement (session=\"f33308bacf97128b64a8119c630a867c\", element=\"a0f1995e-a20b-4951-bfd3-f75691550238\")>,\n",
       " <selenium.webdriver.remote.webelement.WebElement (session=\"f33308bacf97128b64a8119c630a867c\", element=\"d1d08681-9d29-4d14-985f-41242a8ac76d\")>,\n",
       " <selenium.webdriver.remote.webelement.WebElement (session=\"f33308bacf97128b64a8119c630a867c\", element=\"da82093e-f9e3-4e87-94e2-15f88336bc95\")>,\n",
       " <selenium.webdriver.remote.webelement.WebElement (session=\"f33308bacf97128b64a8119c630a867c\", element=\"fbd6aef9-59f3-4bc0-ac04-42f3131a6b7d\")>,\n",
       " <selenium.webdriver.remote.webelement.WebElement (session=\"f33308bacf97128b64a8119c630a867c\", element=\"8b6a50cd-9a96-409a-9030-fb8496933ba3\")>,\n",
       " <selenium.webdriver.remote.webelement.WebElement (session=\"f33308bacf97128b64a8119c630a867c\", element=\"aba13be0-b87e-4e75-aba8-037207443790\")>,\n",
       " <selenium.webdriver.remote.webelement.WebElement (session=\"f33308bacf97128b64a8119c630a867c\", element=\"5c27f899-0130-4615-947e-35fd3053cf5a\")>,\n",
       " <selenium.webdriver.remote.webelement.WebElement (session=\"f33308bacf97128b64a8119c630a867c\", element=\"b4e9d4f6-ab96-42e5-8ccd-205a557900a1\")>,\n",
       " <selenium.webdriver.remote.webelement.WebElement (session=\"f33308bacf97128b64a8119c630a867c\", element=\"c5d3f592-dbce-43b0-b497-2ae8194c8151\")>,\n",
       " <selenium.webdriver.remote.webelement.WebElement (session=\"f33308bacf97128b64a8119c630a867c\", element=\"6a191527-3a07-4562-a156-f36a4c4bd40e\")>,\n",
       " <selenium.webdriver.remote.webelement.WebElement (session=\"f33308bacf97128b64a8119c630a867c\", element=\"e6aedf02-4067-451a-9265-a092a3b2156f\")>,\n",
       " <selenium.webdriver.remote.webelement.WebElement (session=\"f33308bacf97128b64a8119c630a867c\", element=\"ef39f341-50d7-400d-b774-783bf073cb2c\")>,\n",
       " <selenium.webdriver.remote.webelement.WebElement (session=\"f33308bacf97128b64a8119c630a867c\", element=\"1e37bf9a-b29e-416b-89f0-806a56014caf\")>,\n",
       " <selenium.webdriver.remote.webelement.WebElement (session=\"f33308bacf97128b64a8119c630a867c\", element=\"7cf13940-3204-4601-8773-f9a802e0ec84\")>,\n",
       " <selenium.webdriver.remote.webelement.WebElement (session=\"f33308bacf97128b64a8119c630a867c\", element=\"bc3c8ebb-9315-49da-9604-348699ee6d50\")>,\n",
       " <selenium.webdriver.remote.webelement.WebElement (session=\"f33308bacf97128b64a8119c630a867c\", element=\"389d5797-e9a1-49e3-b611-10732c66bdbf\")>]"
      ]
     },
     "execution_count": 27,
     "metadata": {},
     "output_type": "execute_result"
    }
   ],
   "source": [
    "ratings_elements=driver.find_elements_by_xpath(\"//div[@class='score orange big']\")\n",
    "ratings_elements"
   ]
  },
  {
   "cell_type": "code",
   "execution_count": 28,
   "id": "b14d81b4",
   "metadata": {},
   "outputs": [
    {
     "data": {
      "text/plain": [
       "['8.3',\n",
       " '8.7',\n",
       " '9.3',\n",
       " '7.4',\n",
       " '6.8',\n",
       " '8.5',\n",
       " '9.0',\n",
       " '8.3',\n",
       " '7.3',\n",
       " '7.9',\n",
       " '6.8',\n",
       " '7.6',\n",
       " '8.4',\n",
       " '8.1',\n",
       " '6.7',\n",
       " '7.5',\n",
       " '7.1',\n",
       " '9.7',\n",
       " '7.4',\n",
       " '9.5',\n",
       " '6.7',\n",
       " '7.9',\n",
       " '9.0',\n",
       " '9.7',\n",
       " '6.3',\n",
       " '8.2',\n",
       " '8.3',\n",
       " '6.7']"
      ]
     },
     "execution_count": 28,
     "metadata": {},
     "output_type": "execute_result"
    }
   ],
   "source": [
    "rating_list=[]\n",
    "for elem in ratings_elements:\n",
    "    rate=elem.text\n",
    "    rating_list.append(rate)\n",
    "rating_list    "
   ]
  },
  {
   "cell_type": "code",
   "execution_count": 29,
   "id": "22a17289",
   "metadata": {},
   "outputs": [
    {
     "data": {
      "text/plain": [
       "[<selenium.webdriver.remote.webelement.WebElement (session=\"f33308bacf97128b64a8119c630a867c\", element=\"5dd7f0d5-c7af-40ae-bbdc-b3c1ffad185f\")>,\n",
       " <selenium.webdriver.remote.webelement.WebElement (session=\"f33308bacf97128b64a8119c630a867c\", element=\"67cf766a-72eb-46e8-9d73-3dc328d9c90c\")>,\n",
       " <selenium.webdriver.remote.webelement.WebElement (session=\"f33308bacf97128b64a8119c630a867c\", element=\"2b1b0030-7790-4f67-84e6-4d7f990a3f1d\")>,\n",
       " <selenium.webdriver.remote.webelement.WebElement (session=\"f33308bacf97128b64a8119c630a867c\", element=\"54c401dc-2199-44e4-872e-33ac314697a5\")>,\n",
       " <selenium.webdriver.remote.webelement.WebElement (session=\"f33308bacf97128b64a8119c630a867c\", element=\"9b08ff4e-f43f-409a-8bbf-c82043120609\")>,\n",
       " <selenium.webdriver.remote.webelement.WebElement (session=\"f33308bacf97128b64a8119c630a867c\", element=\"e6c040fe-c188-4b74-89ed-e49286855628\")>,\n",
       " <selenium.webdriver.remote.webelement.WebElement (session=\"f33308bacf97128b64a8119c630a867c\", element=\"ff069c0e-8e78-4efe-afec-5d9e55d80ef7\")>,\n",
       " <selenium.webdriver.remote.webelement.WebElement (session=\"f33308bacf97128b64a8119c630a867c\", element=\"8c187ec2-55aa-46ea-9592-06b36f886b99\")>,\n",
       " <selenium.webdriver.remote.webelement.WebElement (session=\"f33308bacf97128b64a8119c630a867c\", element=\"f95836a5-24ce-4808-a488-305a30b95d5f\")>,\n",
       " <selenium.webdriver.remote.webelement.WebElement (session=\"f33308bacf97128b64a8119c630a867c\", element=\"750e5564-79be-4929-8757-07e20a748a09\")>,\n",
       " <selenium.webdriver.remote.webelement.WebElement (session=\"f33308bacf97128b64a8119c630a867c\", element=\"cfbe4761-f27c-44e3-a674-dd858f5d08e9\")>,\n",
       " <selenium.webdriver.remote.webelement.WebElement (session=\"f33308bacf97128b64a8119c630a867c\", element=\"581942f6-2875-435e-8996-89cc8b754852\")>,\n",
       " <selenium.webdriver.remote.webelement.WebElement (session=\"f33308bacf97128b64a8119c630a867c\", element=\"21d2362c-d849-4ddc-b26b-04202807cf53\")>,\n",
       " <selenium.webdriver.remote.webelement.WebElement (session=\"f33308bacf97128b64a8119c630a867c\", element=\"3e1b0f7d-b015-4e20-9333-28786b3ddc52\")>,\n",
       " <selenium.webdriver.remote.webelement.WebElement (session=\"f33308bacf97128b64a8119c630a867c\", element=\"03c458da-127f-4007-ab9d-851ae4bfa752\")>,\n",
       " <selenium.webdriver.remote.webelement.WebElement (session=\"f33308bacf97128b64a8119c630a867c\", element=\"51b0f807-2913-4386-96cf-7a01b34cda22\")>,\n",
       " <selenium.webdriver.remote.webelement.WebElement (session=\"f33308bacf97128b64a8119c630a867c\", element=\"5b40bd2d-e8ef-4d4b-bc07-20d2d5ad6e19\")>,\n",
       " <selenium.webdriver.remote.webelement.WebElement (session=\"f33308bacf97128b64a8119c630a867c\", element=\"befcc132-e6b8-4e1f-8ab2-06452fbee1a2\")>,\n",
       " <selenium.webdriver.remote.webelement.WebElement (session=\"f33308bacf97128b64a8119c630a867c\", element=\"3b3394bf-5acc-41f1-8beb-fc087700a47b\")>,\n",
       " <selenium.webdriver.remote.webelement.WebElement (session=\"f33308bacf97128b64a8119c630a867c\", element=\"c7c54a3c-9062-4c97-8a2e-68b8effc509f\")>,\n",
       " <selenium.webdriver.remote.webelement.WebElement (session=\"f33308bacf97128b64a8119c630a867c\", element=\"ec043715-56b6-4588-947a-44456436072c\")>,\n",
       " <selenium.webdriver.remote.webelement.WebElement (session=\"f33308bacf97128b64a8119c630a867c\", element=\"d563d019-ea72-4f5f-874d-39acbd751470\")>,\n",
       " <selenium.webdriver.remote.webelement.WebElement (session=\"f33308bacf97128b64a8119c630a867c\", element=\"52165535-d26b-4202-9e46-11056b5ff658\")>,\n",
       " <selenium.webdriver.remote.webelement.WebElement (session=\"f33308bacf97128b64a8119c630a867c\", element=\"0a8502e0-1885-4360-8180-b847d74b07bb\")>,\n",
       " <selenium.webdriver.remote.webelement.WebElement (session=\"f33308bacf97128b64a8119c630a867c\", element=\"2623d256-f9c8-4d1b-9e8c-ffe8c814082b\")>,\n",
       " <selenium.webdriver.remote.webelement.WebElement (session=\"f33308bacf97128b64a8119c630a867c\", element=\"b17600ae-a555-4f80-8bd5-57d85dc4e895\")>,\n",
       " <selenium.webdriver.remote.webelement.WebElement (session=\"f33308bacf97128b64a8119c630a867c\", element=\"83511c8b-bcc9-49e6-bd67-8d3f8a4b9ece\")>,\n",
       " <selenium.webdriver.remote.webelement.WebElement (session=\"f33308bacf97128b64a8119c630a867c\", element=\"98fa8805-896d-4f64-9d11-d4a434ffc4e4\")>,\n",
       " <selenium.webdriver.remote.webelement.WebElement (session=\"f33308bacf97128b64a8119c630a867c\", element=\"3db31d9b-cd8d-4acb-b2bd-6cc9d416b30c\")>,\n",
       " <selenium.webdriver.remote.webelement.WebElement (session=\"f33308bacf97128b64a8119c630a867c\", element=\"677e3d1c-f304-47ce-8b70-2742c431fdff\")>]"
      ]
     },
     "execution_count": 29,
     "metadata": {},
     "output_type": "execute_result"
    }
   ],
   "source": [
    "total_reviews_elements=driver.find_elements_by_xpath(\"//div[@class='reviews']\")\n",
    "total_reviews_elements"
   ]
  },
  {
   "cell_type": "code",
   "execution_count": 32,
   "id": "6e17b4be",
   "metadata": {},
   "outputs": [
    {
     "data": {
      "text/plain": [
       "['632 Total Reviews',\n",
       " '1171 Total Reviews',\n",
       " '13243 Total Reviews',\n",
       " '32 Total Reviews',\n",
       " '3667 Total Reviews',\n",
       " '1025 Total Reviews',\n",
       " '4133 Total Reviews',\n",
       " '10 Total Reviews',\n",
       " '10884 Total Reviews',\n",
       " '3714 Total Reviews',\n",
       " '3443 Total Reviews',\n",
       " '2425 Total Reviews',\n",
       " '6756 Total Reviews',\n",
       " '1092 Total Reviews',\n",
       " '3967 Total Reviews',\n",
       " '9525 Total Reviews',\n",
       " '217 Total Reviews',\n",
       " '3185 Total Reviews',\n",
       " '1663 Total Reviews',\n",
       " '1766 Total Reviews',\n",
       " '250 Total Reviews',\n",
       " '194 Total Reviews',\n",
       " '3641 Total Reviews',\n",
       " '15 Total Reviews',\n",
       " '517 Total Reviews',\n",
       " '142 Total Reviews',\n",
       " '3603 Total Reviews',\n",
       " '3172 Total Reviews',\n",
       " '202 Total Reviews',\n",
       " '385 Total Reviews']"
      ]
     },
     "execution_count": 32,
     "metadata": {},
     "output_type": "execute_result"
    }
   ],
   "source": [
    "total_review_list=[]\n",
    "for elem in total_reviews_elements:\n",
    "    total_review=elem.text\n",
    "    total_review_list.append(total_review)\n",
    "total_review_list"
   ]
  },
  {
   "cell_type": "code",
   "execution_count": 33,
   "id": "19234d80",
   "metadata": {},
   "outputs": [
    {
     "data": {
      "text/plain": [
       "30"
      ]
     },
     "execution_count": 33,
     "metadata": {},
     "output_type": "execute_result"
    }
   ],
   "source": [
    "len(hostel_name_list)"
   ]
  },
  {
   "cell_type": "code",
   "execution_count": 34,
   "id": "e91c92d9",
   "metadata": {},
   "outputs": [
    {
     "data": {
      "text/plain": [
       "30"
      ]
     },
     "execution_count": 34,
     "metadata": {},
     "output_type": "execute_result"
    }
   ],
   "source": [
    "len(distance_elements)"
   ]
  },
  {
   "cell_type": "code",
   "execution_count": 35,
   "id": "5cb06506",
   "metadata": {},
   "outputs": [
    {
     "data": {
      "text/plain": [
       "28"
      ]
     },
     "execution_count": 35,
     "metadata": {},
     "output_type": "execute_result"
    }
   ],
   "source": [
    "len(rating_list)"
   ]
  },
  {
   "cell_type": "code",
   "execution_count": 36,
   "id": "6f1ad563",
   "metadata": {},
   "outputs": [
    {
     "data": {
      "text/plain": [
       "30"
      ]
     },
     "execution_count": 36,
     "metadata": {},
     "output_type": "execute_result"
    }
   ],
   "source": [
    "len(total_review_list)"
   ]
  },
  {
   "cell_type": "code",
   "execution_count": null,
   "id": "f7641672",
   "metadata": {},
   "outputs": [],
   "source": []
  }
 ],
 "metadata": {
  "kernelspec": {
   "display_name": "Python 3",
   "language": "python",
   "name": "python3"
  },
  "language_info": {
   "codemirror_mode": {
    "name": "ipython",
    "version": 3
   },
   "file_extension": ".py",
   "mimetype": "text/x-python",
   "name": "python",
   "nbconvert_exporter": "python",
   "pygments_lexer": "ipython3",
   "version": "3.8.8"
  }
 },
 "nbformat": 4,
 "nbformat_minor": 5
}

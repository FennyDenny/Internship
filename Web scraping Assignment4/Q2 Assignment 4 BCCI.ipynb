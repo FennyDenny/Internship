{
 "cells": [
  {
   "cell_type": "code",
   "execution_count": 1,
   "id": "f2c2e72d",
   "metadata": {},
   "outputs": [],
   "source": [
    "import selenium \n",
    "import pandas as pd\n",
    "from selenium import webdriver\n",
    "import time\n",
    "from selenium.common.exceptions import NoSuchElementException"
   ]
  },
  {
   "cell_type": "code",
   "execution_count": 2,
   "id": "dc17718a",
   "metadata": {},
   "outputs": [],
   "source": [
    "driver=webdriver.Chrome(\"chromedriver.exe\")\n",
    "driver.maximize_window()"
   ]
  },
  {
   "cell_type": "code",
   "execution_count": 3,
   "id": "0c7369b4",
   "metadata": {},
   "outputs": [],
   "source": [
    "driver.get(\"https://www.bcci.tv/.\")"
   ]
  },
  {
   "cell_type": "code",
   "execution_count": 4,
   "id": "3e19afb7",
   "metadata": {},
   "outputs": [],
   "source": [
    "search_fixtures_element=driver.find_element_by_xpath(\"//div[@class='navigation__drop-down drop-down drop-down--reveal-on-hover']\")\n",
    "search_fixtures_element.click()\n",
    "time.sleep(5)"
   ]
  },
  {
   "cell_type": "code",
   "execution_count": 5,
   "id": "9d5b44bb",
   "metadata": {},
   "outputs": [],
   "source": [
    "fixtures_element=driver.find_element_by_xpath(\"//div[contains(text(),'International')]/following-sibling::div//a[contains(text(),'Fixtures')]\")\n",
    "fixtures_element.click()\n",
    "time.sleep(3)"
   ]
  },
  {
   "cell_type": "code",
   "execution_count": 6,
   "id": "874b35f2",
   "metadata": {},
   "outputs": [],
   "source": [
    "search_more_element=driver.find_element_by_xpath(\"//button[@class='load-more-button u-center js-show-more-button js-loader']\")\n",
    "search_more_element.click()\n",
    "time.sleep(3)"
   ]
  },
  {
   "cell_type": "code",
   "execution_count": 7,
   "id": "ace115ad",
   "metadata": {},
   "outputs": [
    {
     "data": {
      "text/plain": [
       "[<selenium.webdriver.remote.webelement.WebElement (session=\"2748a31e6398345a8bac7b54aad6c366\", element=\"e2fe4f88-6636-4094-a86e-d7f536ab08c3\")>,\n",
       " <selenium.webdriver.remote.webelement.WebElement (session=\"2748a31e6398345a8bac7b54aad6c366\", element=\"62e3f93f-3be1-43d8-9c20-fe8481b5e855\")>,\n",
       " <selenium.webdriver.remote.webelement.WebElement (session=\"2748a31e6398345a8bac7b54aad6c366\", element=\"a04158fb-6c6c-4339-b467-ac665aa249a4\")>,\n",
       " <selenium.webdriver.remote.webelement.WebElement (session=\"2748a31e6398345a8bac7b54aad6c366\", element=\"57bd408f-6fed-4abc-95ea-4df69f1ffbcf\")>,\n",
       " <selenium.webdriver.remote.webelement.WebElement (session=\"2748a31e6398345a8bac7b54aad6c366\", element=\"f2964974-4bbd-48bd-85c0-5216564e0a5c\")>,\n",
       " <selenium.webdriver.remote.webelement.WebElement (session=\"2748a31e6398345a8bac7b54aad6c366\", element=\"ee0f84fb-9ec6-497f-93f3-89b2c6e8eee3\")>,\n",
       " <selenium.webdriver.remote.webelement.WebElement (session=\"2748a31e6398345a8bac7b54aad6c366\", element=\"3fc0ae4f-1145-48b4-b9e4-46546230b87a\")>,\n",
       " <selenium.webdriver.remote.webelement.WebElement (session=\"2748a31e6398345a8bac7b54aad6c366\", element=\"824fdef6-d39a-4c03-ab89-5da9b32ded32\")>,\n",
       " <selenium.webdriver.remote.webelement.WebElement (session=\"2748a31e6398345a8bac7b54aad6c366\", element=\"6c69ca25-17a4-46ae-a211-bd4c0a4ad4e7\")>,\n",
       " <selenium.webdriver.remote.webelement.WebElement (session=\"2748a31e6398345a8bac7b54aad6c366\", element=\"5c398c81-c6bd-4c83-abce-bd837c200c87\")>,\n",
       " <selenium.webdriver.remote.webelement.WebElement (session=\"2748a31e6398345a8bac7b54aad6c366\", element=\"93052fa0-9d61-4d82-b551-bb0c4fee9b21\")>,\n",
       " <selenium.webdriver.remote.webelement.WebElement (session=\"2748a31e6398345a8bac7b54aad6c366\", element=\"3663858e-d0e7-43ee-a970-06f0f070069e\")>,\n",
       " <selenium.webdriver.remote.webelement.WebElement (session=\"2748a31e6398345a8bac7b54aad6c366\", element=\"d45b13db-a0f5-45b3-b6c0-ddb24ebd1ff0\")>,\n",
       " <selenium.webdriver.remote.webelement.WebElement (session=\"2748a31e6398345a8bac7b54aad6c366\", element=\"cfe07ce1-0cb0-4042-aec5-923e3a819846\")>,\n",
       " <selenium.webdriver.remote.webelement.WebElement (session=\"2748a31e6398345a8bac7b54aad6c366\", element=\"6bdfeab8-29e7-4387-8f9a-e2a718df9e62\")>,\n",
       " <selenium.webdriver.remote.webelement.WebElement (session=\"2748a31e6398345a8bac7b54aad6c366\", element=\"6528d208-a60a-4d35-b19d-c68150d37e7b\")>,\n",
       " <selenium.webdriver.remote.webelement.WebElement (session=\"2748a31e6398345a8bac7b54aad6c366\", element=\"21d09940-a4a8-4604-883f-1aa66c93b466\")>,\n",
       " <selenium.webdriver.remote.webelement.WebElement (session=\"2748a31e6398345a8bac7b54aad6c366\", element=\"a813cba3-c428-489a-9d57-16f4748b5a4c\")>,\n",
       " <selenium.webdriver.remote.webelement.WebElement (session=\"2748a31e6398345a8bac7b54aad6c366\", element=\"5de3956f-2e31-44cc-b475-4ccbd803b2da\")>,\n",
       " <selenium.webdriver.remote.webelement.WebElement (session=\"2748a31e6398345a8bac7b54aad6c366\", element=\"b9d573d7-1b75-4eba-9975-a57231d61fdd\")>,\n",
       " <selenium.webdriver.remote.webelement.WebElement (session=\"2748a31e6398345a8bac7b54aad6c366\", element=\"000314bb-4ead-4be9-b7c7-a35b34f8684e\")>,\n",
       " <selenium.webdriver.remote.webelement.WebElement (session=\"2748a31e6398345a8bac7b54aad6c366\", element=\"00f84726-8f7b-4e6b-a5f0-347729d25c89\")>,\n",
       " <selenium.webdriver.remote.webelement.WebElement (session=\"2748a31e6398345a8bac7b54aad6c366\", element=\"18d3c4ff-6b3e-4475-9dab-4358e5f631c0\")>]"
      ]
     },
     "execution_count": 7,
     "metadata": {},
     "output_type": "execute_result"
    }
   ],
   "source": [
    "match_title_list=[]\n",
    "match_title_element=driver.find_elements_by_xpath(\"//span[@class='u-unskewed-text fixture__tournament-label u-truncated']\")\n",
    "match_title_element"
   ]
  },
  {
   "cell_type": "code",
   "execution_count": 8,
   "id": "242ecb94",
   "metadata": {},
   "outputs": [
    {
     "data": {
      "text/plain": [
       "[\"2021 ICC MEN'S T20 WORLD CUP\",\n",
       " 'INDIA V NEW ZEALAND 2021',\n",
       " 'INDIA V NEW ZEALAND 2021',\n",
       " 'INDIA V NEW ZEALAND 2021',\n",
       " 'INDIA V NEW ZEALAND 2021',\n",
       " 'INDIA V NEW ZEALAND 2021',\n",
       " 'INDIA V WEST INDIES 2022',\n",
       " 'INDIA V WEST INDIES 2022',\n",
       " 'INDIA V WEST INDIES 2022',\n",
       " 'INDIA V WEST INDIES 2022',\n",
       " 'INDIA V WEST INDIES 2022',\n",
       " 'INDIA V WEST INDIES 2022',\n",
       " 'INDIA V SRI LANKA 2022',\n",
       " 'INDIA V SRI LANKA 2022',\n",
       " 'INDIA V SRI LANKA 2022',\n",
       " 'INDIA V SRI LANKA 2022',\n",
       " 'INDIA V SRI LANKA 2022',\n",
       " 'INDIA V SOUTH AFRICA 2022',\n",
       " 'INDIA V SOUTH AFRICA 2022',\n",
       " 'INDIA V SOUTH AFRICA 2022',\n",
       " 'INDIA V SOUTH AFRICA 2022',\n",
       " 'INDIA V SOUTH AFRICA 2022',\n",
       " 'ENGLAND V INDIA 2021/2022']"
      ]
     },
     "execution_count": 8,
     "metadata": {},
     "output_type": "execute_result"
    }
   ],
   "source": [
    "match_title_list=[]\n",
    "\n",
    "for elem in match_title_element:\n",
    "    match_title=elem.text\n",
    "    match_title_list.append(match_title)\n",
    "match_title_list"
   ]
  },
  {
   "cell_type": "code",
   "execution_count": 9,
   "id": "e5104572",
   "metadata": {},
   "outputs": [
    {
     "data": {
      "text/plain": [
       "23"
      ]
     },
     "execution_count": 9,
     "metadata": {},
     "output_type": "execute_result"
    }
   ],
   "source": [
    "len(match_title_list)"
   ]
  },
  {
   "cell_type": "code",
   "execution_count": 10,
   "id": "5aced876",
   "metadata": {},
   "outputs": [
    {
     "data": {
      "text/plain": [
       "[<selenium.webdriver.remote.webelement.WebElement (session=\"2748a31e6398345a8bac7b54aad6c366\", element=\"4c299249-ad57-4d80-9b5b-fc186f435cde\")>,\n",
       " <selenium.webdriver.remote.webelement.WebElement (session=\"2748a31e6398345a8bac7b54aad6c366\", element=\"84189089-8ab3-4fca-b48d-b274a42ffced\")>,\n",
       " <selenium.webdriver.remote.webelement.WebElement (session=\"2748a31e6398345a8bac7b54aad6c366\", element=\"9c437c9a-6b46-48d6-b98d-279193f3d11a\")>,\n",
       " <selenium.webdriver.remote.webelement.WebElement (session=\"2748a31e6398345a8bac7b54aad6c366\", element=\"8d9c5fed-cd15-44b6-a3b3-7eda354bf97c\")>,\n",
       " <selenium.webdriver.remote.webelement.WebElement (session=\"2748a31e6398345a8bac7b54aad6c366\", element=\"b58b2ac1-5743-4d33-a9ab-d3c52cc92c90\")>,\n",
       " <selenium.webdriver.remote.webelement.WebElement (session=\"2748a31e6398345a8bac7b54aad6c366\", element=\"e5bb6528-e32b-464c-bb58-af425a06f832\")>,\n",
       " <selenium.webdriver.remote.webelement.WebElement (session=\"2748a31e6398345a8bac7b54aad6c366\", element=\"27ae7416-768d-4020-8e0b-2c46cc7aac71\")>,\n",
       " <selenium.webdriver.remote.webelement.WebElement (session=\"2748a31e6398345a8bac7b54aad6c366\", element=\"e813011e-2b7c-4a8f-8f1d-99b1f42b15b7\")>,\n",
       " <selenium.webdriver.remote.webelement.WebElement (session=\"2748a31e6398345a8bac7b54aad6c366\", element=\"bd407039-9b82-4723-bd07-3bb9e8a3c722\")>,\n",
       " <selenium.webdriver.remote.webelement.WebElement (session=\"2748a31e6398345a8bac7b54aad6c366\", element=\"f6b6299c-11bc-4ff9-877c-ee2339deb2a0\")>,\n",
       " <selenium.webdriver.remote.webelement.WebElement (session=\"2748a31e6398345a8bac7b54aad6c366\", element=\"73b2a3af-2410-4341-9f36-6075662e6dd5\")>,\n",
       " <selenium.webdriver.remote.webelement.WebElement (session=\"2748a31e6398345a8bac7b54aad6c366\", element=\"f58bacc7-e353-41f0-b484-63aa9e3ce5f8\")>,\n",
       " <selenium.webdriver.remote.webelement.WebElement (session=\"2748a31e6398345a8bac7b54aad6c366\", element=\"5bbccb29-9641-46a5-acbb-80625aeef73e\")>,\n",
       " <selenium.webdriver.remote.webelement.WebElement (session=\"2748a31e6398345a8bac7b54aad6c366\", element=\"3cedbe27-5d59-4f21-8274-565fd5ca43e4\")>,\n",
       " <selenium.webdriver.remote.webelement.WebElement (session=\"2748a31e6398345a8bac7b54aad6c366\", element=\"ba835b07-e88e-4ef6-961c-d6aaa4bd26b2\")>,\n",
       " <selenium.webdriver.remote.webelement.WebElement (session=\"2748a31e6398345a8bac7b54aad6c366\", element=\"211b39a2-56ab-4f16-bd9d-83a3fd2b7393\")>,\n",
       " <selenium.webdriver.remote.webelement.WebElement (session=\"2748a31e6398345a8bac7b54aad6c366\", element=\"fd5dbe1b-3e65-42e4-ac4c-0b43dde61d00\")>,\n",
       " <selenium.webdriver.remote.webelement.WebElement (session=\"2748a31e6398345a8bac7b54aad6c366\", element=\"e9e77401-9a0c-4036-bb75-f0fe4dfc7638\")>,\n",
       " <selenium.webdriver.remote.webelement.WebElement (session=\"2748a31e6398345a8bac7b54aad6c366\", element=\"8df60bbb-e54c-46ff-a81c-2fc03c61e294\")>,\n",
       " <selenium.webdriver.remote.webelement.WebElement (session=\"2748a31e6398345a8bac7b54aad6c366\", element=\"42758b16-133e-4ada-9870-4605e12150c8\")>,\n",
       " <selenium.webdriver.remote.webelement.WebElement (session=\"2748a31e6398345a8bac7b54aad6c366\", element=\"5cab79b8-f30b-4567-9d16-fb8084f6a677\")>,\n",
       " <selenium.webdriver.remote.webelement.WebElement (session=\"2748a31e6398345a8bac7b54aad6c366\", element=\"79323643-a0ce-4edb-9a47-c7fe8c748525\")>,\n",
       " <selenium.webdriver.remote.webelement.WebElement (session=\"2748a31e6398345a8bac7b54aad6c366\", element=\"334802ed-b935-4a05-a012-212a1c29b283\")>]"
      ]
     },
     "execution_count": 10,
     "metadata": {},
     "output_type": "execute_result"
    }
   ],
   "source": [
    "series_elements=driver.find_elements_by_xpath(\"//span[@class='u-unskewed-text fixture__format']\")\n",
    "series_elements"
   ]
  },
  {
   "cell_type": "code",
   "execution_count": 11,
   "id": "84acfe13",
   "metadata": {},
   "outputs": [
    {
     "data": {
      "text/plain": [
       "[<selenium.webdriver.remote.webelement.WebElement (session=\"2748a31e6398345a8bac7b54aad6c366\", element=\"4c299249-ad57-4d80-9b5b-fc186f435cde\")>,\n",
       " <selenium.webdriver.remote.webelement.WebElement (session=\"2748a31e6398345a8bac7b54aad6c366\", element=\"84189089-8ab3-4fca-b48d-b274a42ffced\")>,\n",
       " <selenium.webdriver.remote.webelement.WebElement (session=\"2748a31e6398345a8bac7b54aad6c366\", element=\"9c437c9a-6b46-48d6-b98d-279193f3d11a\")>,\n",
       " <selenium.webdriver.remote.webelement.WebElement (session=\"2748a31e6398345a8bac7b54aad6c366\", element=\"8d9c5fed-cd15-44b6-a3b3-7eda354bf97c\")>,\n",
       " <selenium.webdriver.remote.webelement.WebElement (session=\"2748a31e6398345a8bac7b54aad6c366\", element=\"b58b2ac1-5743-4d33-a9ab-d3c52cc92c90\")>,\n",
       " <selenium.webdriver.remote.webelement.WebElement (session=\"2748a31e6398345a8bac7b54aad6c366\", element=\"e5bb6528-e32b-464c-bb58-af425a06f832\")>,\n",
       " <selenium.webdriver.remote.webelement.WebElement (session=\"2748a31e6398345a8bac7b54aad6c366\", element=\"27ae7416-768d-4020-8e0b-2c46cc7aac71\")>,\n",
       " <selenium.webdriver.remote.webelement.WebElement (session=\"2748a31e6398345a8bac7b54aad6c366\", element=\"e813011e-2b7c-4a8f-8f1d-99b1f42b15b7\")>,\n",
       " <selenium.webdriver.remote.webelement.WebElement (session=\"2748a31e6398345a8bac7b54aad6c366\", element=\"bd407039-9b82-4723-bd07-3bb9e8a3c722\")>,\n",
       " <selenium.webdriver.remote.webelement.WebElement (session=\"2748a31e6398345a8bac7b54aad6c366\", element=\"f6b6299c-11bc-4ff9-877c-ee2339deb2a0\")>,\n",
       " <selenium.webdriver.remote.webelement.WebElement (session=\"2748a31e6398345a8bac7b54aad6c366\", element=\"73b2a3af-2410-4341-9f36-6075662e6dd5\")>,\n",
       " <selenium.webdriver.remote.webelement.WebElement (session=\"2748a31e6398345a8bac7b54aad6c366\", element=\"f58bacc7-e353-41f0-b484-63aa9e3ce5f8\")>,\n",
       " <selenium.webdriver.remote.webelement.WebElement (session=\"2748a31e6398345a8bac7b54aad6c366\", element=\"5bbccb29-9641-46a5-acbb-80625aeef73e\")>,\n",
       " <selenium.webdriver.remote.webelement.WebElement (session=\"2748a31e6398345a8bac7b54aad6c366\", element=\"3cedbe27-5d59-4f21-8274-565fd5ca43e4\")>,\n",
       " <selenium.webdriver.remote.webelement.WebElement (session=\"2748a31e6398345a8bac7b54aad6c366\", element=\"ba835b07-e88e-4ef6-961c-d6aaa4bd26b2\")>,\n",
       " <selenium.webdriver.remote.webelement.WebElement (session=\"2748a31e6398345a8bac7b54aad6c366\", element=\"211b39a2-56ab-4f16-bd9d-83a3fd2b7393\")>,\n",
       " <selenium.webdriver.remote.webelement.WebElement (session=\"2748a31e6398345a8bac7b54aad6c366\", element=\"fd5dbe1b-3e65-42e4-ac4c-0b43dde61d00\")>,\n",
       " <selenium.webdriver.remote.webelement.WebElement (session=\"2748a31e6398345a8bac7b54aad6c366\", element=\"e9e77401-9a0c-4036-bb75-f0fe4dfc7638\")>,\n",
       " <selenium.webdriver.remote.webelement.WebElement (session=\"2748a31e6398345a8bac7b54aad6c366\", element=\"8df60bbb-e54c-46ff-a81c-2fc03c61e294\")>,\n",
       " <selenium.webdriver.remote.webelement.WebElement (session=\"2748a31e6398345a8bac7b54aad6c366\", element=\"42758b16-133e-4ada-9870-4605e12150c8\")>,\n",
       " <selenium.webdriver.remote.webelement.WebElement (session=\"2748a31e6398345a8bac7b54aad6c366\", element=\"5cab79b8-f30b-4567-9d16-fb8084f6a677\")>,\n",
       " <selenium.webdriver.remote.webelement.WebElement (session=\"2748a31e6398345a8bac7b54aad6c366\", element=\"79323643-a0ce-4edb-9a47-c7fe8c748525\")>,\n",
       " <selenium.webdriver.remote.webelement.WebElement (session=\"2748a31e6398345a8bac7b54aad6c366\", element=\"334802ed-b935-4a05-a012-212a1c29b283\")>]"
      ]
     },
     "execution_count": 11,
     "metadata": {},
     "output_type": "execute_result"
    }
   ],
   "source": [
    "series_elements=driver.find_elements_by_xpath(\"//div[@class='fixture__format-strip']//span[@class='u-unskewed-text fixture__format']\")\n",
    "series_elements"
   ]
  },
  {
   "cell_type": "code",
   "execution_count": 12,
   "id": "77f2f759",
   "metadata": {},
   "outputs": [
    {
     "data": {
      "text/plain": [
       "['T20I',\n",
       " 'T20I',\n",
       " 'T20I',\n",
       " 'T20I',\n",
       " 'TEST',\n",
       " 'TEST',\n",
       " 'ODI',\n",
       " 'ODI',\n",
       " 'ODI',\n",
       " 'T20I',\n",
       " 'T20I',\n",
       " 'T20I',\n",
       " 'TEST',\n",
       " 'TEST',\n",
       " 'T20I',\n",
       " 'T20I',\n",
       " 'T20I',\n",
       " 'T20I',\n",
       " 'T20I',\n",
       " 'T20I',\n",
       " 'T20I',\n",
       " 'T20I',\n",
       " 'TEST']"
      ]
     },
     "execution_count": 12,
     "metadata": {},
     "output_type": "execute_result"
    }
   ],
   "source": [
    "series_list=[]\n",
    "for elem in series_elements:\n",
    "    series=elem.text\n",
    "    series_list.append(series)\n",
    "series_list"
   ]
  },
  {
   "cell_type": "code",
   "execution_count": 13,
   "id": "977d956d",
   "metadata": {},
   "outputs": [
    {
     "data": {
      "text/plain": [
       "23"
      ]
     },
     "execution_count": 13,
     "metadata": {},
     "output_type": "execute_result"
    }
   ],
   "source": [
    "len(series_list)"
   ]
  },
  {
   "cell_type": "code",
   "execution_count": 14,
   "id": "d88f1c32",
   "metadata": {},
   "outputs": [
    {
     "data": {
      "text/plain": [
       "[<selenium.webdriver.remote.webelement.WebElement (session=\"2748a31e6398345a8bac7b54aad6c366\", element=\"68eac851-d5b8-48e7-9759-6f3c7e26e88d\")>,\n",
       " <selenium.webdriver.remote.webelement.WebElement (session=\"2748a31e6398345a8bac7b54aad6c366\", element=\"5ab291a6-76ea-4b9f-9162-8d47b4757fa3\")>,\n",
       " <selenium.webdriver.remote.webelement.WebElement (session=\"2748a31e6398345a8bac7b54aad6c366\", element=\"2d54e3c5-1fa3-4d9a-b0a9-50ac58853a14\")>,\n",
       " <selenium.webdriver.remote.webelement.WebElement (session=\"2748a31e6398345a8bac7b54aad6c366\", element=\"d36f2e1d-2980-46c7-bb94-5887605dad62\")>,\n",
       " <selenium.webdriver.remote.webelement.WebElement (session=\"2748a31e6398345a8bac7b54aad6c366\", element=\"8c5407d2-550f-4569-90e0-546158699370\")>,\n",
       " <selenium.webdriver.remote.webelement.WebElement (session=\"2748a31e6398345a8bac7b54aad6c366\", element=\"305ec2d4-b975-42a5-b15c-3103fa7c5eab\")>,\n",
       " <selenium.webdriver.remote.webelement.WebElement (session=\"2748a31e6398345a8bac7b54aad6c366\", element=\"3bf44e4b-fb21-4c62-a02d-54aa60a6fcb4\")>,\n",
       " <selenium.webdriver.remote.webelement.WebElement (session=\"2748a31e6398345a8bac7b54aad6c366\", element=\"fa1a6960-6c8b-4de8-b493-6a69eb61956b\")>,\n",
       " <selenium.webdriver.remote.webelement.WebElement (session=\"2748a31e6398345a8bac7b54aad6c366\", element=\"8adedef4-2849-4392-aab5-33359b23952d\")>,\n",
       " <selenium.webdriver.remote.webelement.WebElement (session=\"2748a31e6398345a8bac7b54aad6c366\", element=\"0a2690e9-dc1e-4e36-ab53-f1b584fa8cf6\")>,\n",
       " <selenium.webdriver.remote.webelement.WebElement (session=\"2748a31e6398345a8bac7b54aad6c366\", element=\"50536fc2-c9b6-45ba-b3d6-223342004a7e\")>,\n",
       " <selenium.webdriver.remote.webelement.WebElement (session=\"2748a31e6398345a8bac7b54aad6c366\", element=\"eaef7d7f-7356-4cdc-9317-9be9cc5dfd70\")>,\n",
       " <selenium.webdriver.remote.webelement.WebElement (session=\"2748a31e6398345a8bac7b54aad6c366\", element=\"25d2b0a2-a918-4555-9142-f12675d718d8\")>,\n",
       " <selenium.webdriver.remote.webelement.WebElement (session=\"2748a31e6398345a8bac7b54aad6c366\", element=\"fbd2a385-f21d-4e88-8b8f-a9a4bf4f5ca9\")>,\n",
       " <selenium.webdriver.remote.webelement.WebElement (session=\"2748a31e6398345a8bac7b54aad6c366\", element=\"9fbc77a1-8a2b-4308-93d7-80d9027f77db\")>,\n",
       " <selenium.webdriver.remote.webelement.WebElement (session=\"2748a31e6398345a8bac7b54aad6c366\", element=\"8099c1af-84b4-4292-920e-43acd7f4e01c\")>,\n",
       " <selenium.webdriver.remote.webelement.WebElement (session=\"2748a31e6398345a8bac7b54aad6c366\", element=\"d5e4bd70-4c2f-4393-a739-8eb671f6025d\")>,\n",
       " <selenium.webdriver.remote.webelement.WebElement (session=\"2748a31e6398345a8bac7b54aad6c366\", element=\"8a309777-fbb1-4776-aed3-94942f5fb62b\")>,\n",
       " <selenium.webdriver.remote.webelement.WebElement (session=\"2748a31e6398345a8bac7b54aad6c366\", element=\"0fa7c7e0-0650-4d69-89fe-f2611c5e35b5\")>,\n",
       " <selenium.webdriver.remote.webelement.WebElement (session=\"2748a31e6398345a8bac7b54aad6c366\", element=\"a618b356-2441-4d01-9a93-18c036139475\")>,\n",
       " <selenium.webdriver.remote.webelement.WebElement (session=\"2748a31e6398345a8bac7b54aad6c366\", element=\"6d2cff42-12cc-4e40-87f6-19b8dee3c5ff\")>,\n",
       " <selenium.webdriver.remote.webelement.WebElement (session=\"2748a31e6398345a8bac7b54aad6c366\", element=\"0612d482-7a96-4f22-8f16-f7be29505b9c\")>,\n",
       " <selenium.webdriver.remote.webelement.WebElement (session=\"2748a31e6398345a8bac7b54aad6c366\", element=\"e288fccf-18a5-455b-9415-0dd54bc504ae\")>]"
      ]
     },
     "execution_count": 14,
     "metadata": {},
     "output_type": "execute_result"
    }
   ],
   "source": [
    "place_list=[]\n",
    "place_elements=driver.find_elements_by_xpath(\"//p[@class='fixture__additional-info']/span\")\n",
    "place_elements"
   ]
  },
  {
   "cell_type": "code",
   "execution_count": 15,
   "id": "aaed7e6a",
   "metadata": {},
   "outputs": [
    {
     "data": {
      "text/plain": [
       "['Dubai International Stadium, Dubai',\n",
       " 'Sawai Mansingh Stadium, Jaipur',\n",
       " 'JSCA International Stadium Complex, Ranchi',\n",
       " 'Eden Gardens, Kolkata',\n",
       " 'Green Park, Kanpur',\n",
       " 'Wankhede Stadium, Mumbai',\n",
       " 'Narendra Modi Stadium, Ahmedabad',\n",
       " 'Sawai Mansingh Stadium, Jaipur',\n",
       " 'Eden Gardens, Kolkata',\n",
       " 'Barabati Stadium, Cuttack',\n",
       " 'ACA-VDCA Stadium, Visakhapatnam',\n",
       " 'Greenfield Stadium, Thiruvananthapuram',\n",
       " 'M.Chinnaswamy Stadium, Bangalore',\n",
       " 'Punjab Cricket Association Stadium, Mohali, Chandigarh',\n",
       " 'Punjab Cricket Association Stadium, Mohali, Chandigarh',\n",
       " 'Himachal Pradesh Cricket Association Stadium, Dharamsala',\n",
       " 'Bharat Ratna Shri Atal Bihari Vajpai Ekana Cricket Stadium, Lucknow',\n",
       " 'M. A. Chidambaram Stadium, Chennai',\n",
       " 'M.Chinnaswamy Stadium, Bangalore',\n",
       " 'Vidarbha Cricket Association Stadium, Nagpur',\n",
       " 'Saurashtra Cricket Association Stadium, Rajkot',\n",
       " 'Arun Jaitley Stadium, Delhi',\n",
       " 'Edgbaston, Birmingham']"
      ]
     },
     "execution_count": 15,
     "metadata": {},
     "output_type": "execute_result"
    }
   ],
   "source": [
    "for elem in place_elements:\n",
    "    place=elem.text\n",
    "    place_list.append(place)\n",
    "place_list"
   ]
  },
  {
   "cell_type": "code",
   "execution_count": 16,
   "id": "45ac7522",
   "metadata": {},
   "outputs": [
    {
     "data": {
      "text/plain": [
       "23"
      ]
     },
     "execution_count": 16,
     "metadata": {},
     "output_type": "execute_result"
    }
   ],
   "source": [
    "len(place_list)"
   ]
  },
  {
   "cell_type": "code",
   "execution_count": 17,
   "id": "c007faa5",
   "metadata": {},
   "outputs": [
    {
     "data": {
      "text/plain": [
       "[<selenium.webdriver.remote.webelement.WebElement (session=\"2748a31e6398345a8bac7b54aad6c366\", element=\"14011488-96cf-4720-9185-52fc2f38b40e\")>,\n",
       " <selenium.webdriver.remote.webelement.WebElement (session=\"2748a31e6398345a8bac7b54aad6c366\", element=\"9f1ee530-931f-49ea-b398-ad0ec5a3107b\")>,\n",
       " <selenium.webdriver.remote.webelement.WebElement (session=\"2748a31e6398345a8bac7b54aad6c366\", element=\"83e68c68-d54e-4829-9c5d-eceb1c89fcf7\")>,\n",
       " <selenium.webdriver.remote.webelement.WebElement (session=\"2748a31e6398345a8bac7b54aad6c366\", element=\"3ff57497-b510-436d-b3eb-58b2a755b4f0\")>,\n",
       " <selenium.webdriver.remote.webelement.WebElement (session=\"2748a31e6398345a8bac7b54aad6c366\", element=\"e5527746-fd93-4fac-b5d5-81ac61efcf9a\")>,\n",
       " <selenium.webdriver.remote.webelement.WebElement (session=\"2748a31e6398345a8bac7b54aad6c366\", element=\"8127bd95-bc5f-4363-acae-57c901bed90d\")>,\n",
       " <selenium.webdriver.remote.webelement.WebElement (session=\"2748a31e6398345a8bac7b54aad6c366\", element=\"9ede0ac5-2421-48dc-87da-9b3d60d7497a\")>,\n",
       " <selenium.webdriver.remote.webelement.WebElement (session=\"2748a31e6398345a8bac7b54aad6c366\", element=\"dfdc50e7-71cf-4636-a13e-b96c2304fb06\")>,\n",
       " <selenium.webdriver.remote.webelement.WebElement (session=\"2748a31e6398345a8bac7b54aad6c366\", element=\"032d4551-6202-4e52-a193-b0cb4f490f9e\")>,\n",
       " <selenium.webdriver.remote.webelement.WebElement (session=\"2748a31e6398345a8bac7b54aad6c366\", element=\"f17b901f-b255-4934-a04a-2689913e7f0a\")>,\n",
       " <selenium.webdriver.remote.webelement.WebElement (session=\"2748a31e6398345a8bac7b54aad6c366\", element=\"738ff3c3-6526-472c-a833-0412ebe033c3\")>,\n",
       " <selenium.webdriver.remote.webelement.WebElement (session=\"2748a31e6398345a8bac7b54aad6c366\", element=\"34284a42-5a6d-478d-9498-e28fac389e37\")>,\n",
       " <selenium.webdriver.remote.webelement.WebElement (session=\"2748a31e6398345a8bac7b54aad6c366\", element=\"505d24f6-cf04-48a1-a779-4720cbd80216\")>,\n",
       " <selenium.webdriver.remote.webelement.WebElement (session=\"2748a31e6398345a8bac7b54aad6c366\", element=\"b3fc5fcb-51c8-4282-b12e-38803a480bec\")>,\n",
       " <selenium.webdriver.remote.webelement.WebElement (session=\"2748a31e6398345a8bac7b54aad6c366\", element=\"0e1cb6d7-bc64-4ae8-8a86-c5a51e1d2ab9\")>,\n",
       " <selenium.webdriver.remote.webelement.WebElement (session=\"2748a31e6398345a8bac7b54aad6c366\", element=\"b785264b-cf1a-4fa7-a4e6-0007335c9c28\")>,\n",
       " <selenium.webdriver.remote.webelement.WebElement (session=\"2748a31e6398345a8bac7b54aad6c366\", element=\"3a85ecb6-ef62-41e6-afc3-c45da9eedd46\")>,\n",
       " <selenium.webdriver.remote.webelement.WebElement (session=\"2748a31e6398345a8bac7b54aad6c366\", element=\"2c2ed656-6deb-44ed-9d7c-f29bb12b9115\")>,\n",
       " <selenium.webdriver.remote.webelement.WebElement (session=\"2748a31e6398345a8bac7b54aad6c366\", element=\"019c6d83-49d3-421a-87ba-55b2c04ed382\")>,\n",
       " <selenium.webdriver.remote.webelement.WebElement (session=\"2748a31e6398345a8bac7b54aad6c366\", element=\"fb25fd9d-3722-4e97-b5bf-782ccb330fa3\")>,\n",
       " <selenium.webdriver.remote.webelement.WebElement (session=\"2748a31e6398345a8bac7b54aad6c366\", element=\"b29e8484-e77d-4c71-9c00-c41a13d9c0fa\")>,\n",
       " <selenium.webdriver.remote.webelement.WebElement (session=\"2748a31e6398345a8bac7b54aad6c366\", element=\"3644d92f-d2f2-449e-bba6-5e916577b079\")>,\n",
       " <selenium.webdriver.remote.webelement.WebElement (session=\"2748a31e6398345a8bac7b54aad6c366\", element=\"a124e749-d5bc-4931-bb37-ebc62b97973c\")>]"
      ]
     },
     "execution_count": 17,
     "metadata": {},
     "output_type": "execute_result"
    }
   ],
   "source": [
    "date_elements=driver.find_elements_by_xpath(\"//div[@class='fixture__full-date']\")\n",
    "date_elements"
   ]
  },
  {
   "cell_type": "code",
   "execution_count": 18,
   "id": "c7da3101",
   "metadata": {},
   "outputs": [
    {
     "data": {
      "text/plain": [
       "['08 NOVEMBER',\n",
       " '17 NOVEMBER',\n",
       " '19 NOVEMBER',\n",
       " '21 NOVEMBER',\n",
       " '25 NOVEMBER',\n",
       " '03 DECEMBER',\n",
       " '06 FEBRUARY',\n",
       " '09 FEBRUARY',\n",
       " '12 FEBRUARY',\n",
       " '15 FEBRUARY',\n",
       " '18 FEBRUARY',\n",
       " '20 FEBRUARY',\n",
       " '25 FEBRUARY',\n",
       " '05 MARCH',\n",
       " '13 MARCH',\n",
       " '15 MARCH',\n",
       " '18 MARCH',\n",
       " '09 JUNE',\n",
       " '12 JUNE',\n",
       " '14 JUNE',\n",
       " '17 JUNE',\n",
       " '19 JUNE',\n",
       " '01 JULY']"
      ]
     },
     "execution_count": 18,
     "metadata": {},
     "output_type": "execute_result"
    }
   ],
   "source": [
    "date_list=[]\n",
    "for elem in date_elements:\n",
    "    datetime=elem.text.replace(\"\\n\",\" \")\n",
    "    datetimesplit=datetime.split()\n",
    "    date=datetimesplit[0] + ' ' + datetimesplit[1]\n",
    "    date_list.append(date)\n",
    "date_list"
   ]
  },
  {
   "cell_type": "code",
   "execution_count": 19,
   "id": "ed52ba50",
   "metadata": {},
   "outputs": [
    {
     "data": {
      "text/plain": [
       "23"
      ]
     },
     "execution_count": 19,
     "metadata": {},
     "output_type": "execute_result"
    }
   ],
   "source": [
    "len(date_list)"
   ]
  },
  {
   "cell_type": "code",
   "execution_count": 20,
   "id": "53cdb864",
   "metadata": {},
   "outputs": [
    {
     "data": {
      "text/plain": [
       "[<selenium.webdriver.remote.webelement.WebElement (session=\"2748a31e6398345a8bac7b54aad6c366\", element=\"14011488-96cf-4720-9185-52fc2f38b40e\")>,\n",
       " <selenium.webdriver.remote.webelement.WebElement (session=\"2748a31e6398345a8bac7b54aad6c366\", element=\"9f1ee530-931f-49ea-b398-ad0ec5a3107b\")>,\n",
       " <selenium.webdriver.remote.webelement.WebElement (session=\"2748a31e6398345a8bac7b54aad6c366\", element=\"83e68c68-d54e-4829-9c5d-eceb1c89fcf7\")>,\n",
       " <selenium.webdriver.remote.webelement.WebElement (session=\"2748a31e6398345a8bac7b54aad6c366\", element=\"3ff57497-b510-436d-b3eb-58b2a755b4f0\")>,\n",
       " <selenium.webdriver.remote.webelement.WebElement (session=\"2748a31e6398345a8bac7b54aad6c366\", element=\"e5527746-fd93-4fac-b5d5-81ac61efcf9a\")>,\n",
       " <selenium.webdriver.remote.webelement.WebElement (session=\"2748a31e6398345a8bac7b54aad6c366\", element=\"8127bd95-bc5f-4363-acae-57c901bed90d\")>,\n",
       " <selenium.webdriver.remote.webelement.WebElement (session=\"2748a31e6398345a8bac7b54aad6c366\", element=\"9ede0ac5-2421-48dc-87da-9b3d60d7497a\")>,\n",
       " <selenium.webdriver.remote.webelement.WebElement (session=\"2748a31e6398345a8bac7b54aad6c366\", element=\"dfdc50e7-71cf-4636-a13e-b96c2304fb06\")>,\n",
       " <selenium.webdriver.remote.webelement.WebElement (session=\"2748a31e6398345a8bac7b54aad6c366\", element=\"032d4551-6202-4e52-a193-b0cb4f490f9e\")>,\n",
       " <selenium.webdriver.remote.webelement.WebElement (session=\"2748a31e6398345a8bac7b54aad6c366\", element=\"f17b901f-b255-4934-a04a-2689913e7f0a\")>,\n",
       " <selenium.webdriver.remote.webelement.WebElement (session=\"2748a31e6398345a8bac7b54aad6c366\", element=\"738ff3c3-6526-472c-a833-0412ebe033c3\")>,\n",
       " <selenium.webdriver.remote.webelement.WebElement (session=\"2748a31e6398345a8bac7b54aad6c366\", element=\"34284a42-5a6d-478d-9498-e28fac389e37\")>,\n",
       " <selenium.webdriver.remote.webelement.WebElement (session=\"2748a31e6398345a8bac7b54aad6c366\", element=\"505d24f6-cf04-48a1-a779-4720cbd80216\")>,\n",
       " <selenium.webdriver.remote.webelement.WebElement (session=\"2748a31e6398345a8bac7b54aad6c366\", element=\"b3fc5fcb-51c8-4282-b12e-38803a480bec\")>,\n",
       " <selenium.webdriver.remote.webelement.WebElement (session=\"2748a31e6398345a8bac7b54aad6c366\", element=\"0e1cb6d7-bc64-4ae8-8a86-c5a51e1d2ab9\")>,\n",
       " <selenium.webdriver.remote.webelement.WebElement (session=\"2748a31e6398345a8bac7b54aad6c366\", element=\"b785264b-cf1a-4fa7-a4e6-0007335c9c28\")>,\n",
       " <selenium.webdriver.remote.webelement.WebElement (session=\"2748a31e6398345a8bac7b54aad6c366\", element=\"3a85ecb6-ef62-41e6-afc3-c45da9eedd46\")>,\n",
       " <selenium.webdriver.remote.webelement.WebElement (session=\"2748a31e6398345a8bac7b54aad6c366\", element=\"2c2ed656-6deb-44ed-9d7c-f29bb12b9115\")>,\n",
       " <selenium.webdriver.remote.webelement.WebElement (session=\"2748a31e6398345a8bac7b54aad6c366\", element=\"019c6d83-49d3-421a-87ba-55b2c04ed382\")>,\n",
       " <selenium.webdriver.remote.webelement.WebElement (session=\"2748a31e6398345a8bac7b54aad6c366\", element=\"fb25fd9d-3722-4e97-b5bf-782ccb330fa3\")>,\n",
       " <selenium.webdriver.remote.webelement.WebElement (session=\"2748a31e6398345a8bac7b54aad6c366\", element=\"b29e8484-e77d-4c71-9c00-c41a13d9c0fa\")>,\n",
       " <selenium.webdriver.remote.webelement.WebElement (session=\"2748a31e6398345a8bac7b54aad6c366\", element=\"3644d92f-d2f2-449e-bba6-5e916577b079\")>,\n",
       " <selenium.webdriver.remote.webelement.WebElement (session=\"2748a31e6398345a8bac7b54aad6c366\", element=\"a124e749-d5bc-4931-bb37-ebc62b97973c\")>]"
      ]
     },
     "execution_count": 20,
     "metadata": {},
     "output_type": "execute_result"
    }
   ],
   "source": [
    "time_elements=driver.find_elements_by_xpath(\"//div[@class='fixture__full-date']\")\n",
    "time_elements"
   ]
  },
  {
   "cell_type": "code",
   "execution_count": 21,
   "id": "ba543df2",
   "metadata": {},
   "outputs": [
    {
     "data": {
      "text/plain": [
       "['19:30 IST',\n",
       " '-',\n",
       " '-',\n",
       " '-',\n",
       " '-',\n",
       " '-',\n",
       " '-',\n",
       " '-',\n",
       " '-',\n",
       " '-',\n",
       " '-',\n",
       " '-',\n",
       " '-',\n",
       " '-',\n",
       " '-',\n",
       " '-',\n",
       " '-',\n",
       " '-',\n",
       " '-',\n",
       " '-',\n",
       " '-',\n",
       " '-',\n",
       " '15:30 IST']"
      ]
     },
     "execution_count": 21,
     "metadata": {},
     "output_type": "execute_result"
    }
   ],
   "source": [
    "time_list=[]\n",
    "for elem in time_elements:\n",
    "    datetime=elem.text.replace(\"\\n\",\" \")\n",
    "    datetimesplit=datetime.split()\n",
    "    try:\n",
    "        time=datetimesplit[2] + ' ' + datetimesplit[3]\n",
    "    except:\n",
    "        time=\"-\"\n",
    "    time_list.append(time)\n",
    "time_list"
   ]
  },
  {
   "cell_type": "code",
   "execution_count": 22,
   "id": "a74684f3",
   "metadata": {},
   "outputs": [
    {
     "data": {
      "text/html": [
       "<div>\n",
       "<style scoped>\n",
       "    .dataframe tbody tr th:only-of-type {\n",
       "        vertical-align: middle;\n",
       "    }\n",
       "\n",
       "    .dataframe tbody tr th {\n",
       "        vertical-align: top;\n",
       "    }\n",
       "\n",
       "    .dataframe thead th {\n",
       "        text-align: right;\n",
       "    }\n",
       "</style>\n",
       "<table border=\"1\" class=\"dataframe\">\n",
       "  <thead>\n",
       "    <tr style=\"text-align: right;\">\n",
       "      <th></th>\n",
       "      <th>Match title</th>\n",
       "      <th>Series</th>\n",
       "      <th>Place</th>\n",
       "      <th>Date</th>\n",
       "      <th>Time</th>\n",
       "    </tr>\n",
       "  </thead>\n",
       "  <tbody>\n",
       "    <tr>\n",
       "      <th>0</th>\n",
       "      <td>2021 ICC MEN'S T20 WORLD CUP</td>\n",
       "      <td>T20I</td>\n",
       "      <td>Dubai International Stadium, Dubai</td>\n",
       "      <td>08 NOVEMBER</td>\n",
       "      <td>19:30 IST</td>\n",
       "    </tr>\n",
       "    <tr>\n",
       "      <th>1</th>\n",
       "      <td>INDIA V NEW ZEALAND 2021</td>\n",
       "      <td>T20I</td>\n",
       "      <td>Sawai Mansingh Stadium, Jaipur</td>\n",
       "      <td>17 NOVEMBER</td>\n",
       "      <td>-</td>\n",
       "    </tr>\n",
       "    <tr>\n",
       "      <th>2</th>\n",
       "      <td>INDIA V NEW ZEALAND 2021</td>\n",
       "      <td>T20I</td>\n",
       "      <td>JSCA International Stadium Complex, Ranchi</td>\n",
       "      <td>19 NOVEMBER</td>\n",
       "      <td>-</td>\n",
       "    </tr>\n",
       "    <tr>\n",
       "      <th>3</th>\n",
       "      <td>INDIA V NEW ZEALAND 2021</td>\n",
       "      <td>T20I</td>\n",
       "      <td>Eden Gardens, Kolkata</td>\n",
       "      <td>21 NOVEMBER</td>\n",
       "      <td>-</td>\n",
       "    </tr>\n",
       "    <tr>\n",
       "      <th>4</th>\n",
       "      <td>INDIA V NEW ZEALAND 2021</td>\n",
       "      <td>TEST</td>\n",
       "      <td>Green Park, Kanpur</td>\n",
       "      <td>25 NOVEMBER</td>\n",
       "      <td>-</td>\n",
       "    </tr>\n",
       "    <tr>\n",
       "      <th>5</th>\n",
       "      <td>INDIA V NEW ZEALAND 2021</td>\n",
       "      <td>TEST</td>\n",
       "      <td>Wankhede Stadium, Mumbai</td>\n",
       "      <td>03 DECEMBER</td>\n",
       "      <td>-</td>\n",
       "    </tr>\n",
       "    <tr>\n",
       "      <th>6</th>\n",
       "      <td>INDIA V WEST INDIES 2022</td>\n",
       "      <td>ODI</td>\n",
       "      <td>Narendra Modi Stadium, Ahmedabad</td>\n",
       "      <td>06 FEBRUARY</td>\n",
       "      <td>-</td>\n",
       "    </tr>\n",
       "    <tr>\n",
       "      <th>7</th>\n",
       "      <td>INDIA V WEST INDIES 2022</td>\n",
       "      <td>ODI</td>\n",
       "      <td>Sawai Mansingh Stadium, Jaipur</td>\n",
       "      <td>09 FEBRUARY</td>\n",
       "      <td>-</td>\n",
       "    </tr>\n",
       "    <tr>\n",
       "      <th>8</th>\n",
       "      <td>INDIA V WEST INDIES 2022</td>\n",
       "      <td>ODI</td>\n",
       "      <td>Eden Gardens, Kolkata</td>\n",
       "      <td>12 FEBRUARY</td>\n",
       "      <td>-</td>\n",
       "    </tr>\n",
       "    <tr>\n",
       "      <th>9</th>\n",
       "      <td>INDIA V WEST INDIES 2022</td>\n",
       "      <td>T20I</td>\n",
       "      <td>Barabati Stadium, Cuttack</td>\n",
       "      <td>15 FEBRUARY</td>\n",
       "      <td>-</td>\n",
       "    </tr>\n",
       "    <tr>\n",
       "      <th>10</th>\n",
       "      <td>INDIA V WEST INDIES 2022</td>\n",
       "      <td>T20I</td>\n",
       "      <td>ACA-VDCA Stadium, Visakhapatnam</td>\n",
       "      <td>18 FEBRUARY</td>\n",
       "      <td>-</td>\n",
       "    </tr>\n",
       "    <tr>\n",
       "      <th>11</th>\n",
       "      <td>INDIA V WEST INDIES 2022</td>\n",
       "      <td>T20I</td>\n",
       "      <td>Greenfield Stadium, Thiruvananthapuram</td>\n",
       "      <td>20 FEBRUARY</td>\n",
       "      <td>-</td>\n",
       "    </tr>\n",
       "    <tr>\n",
       "      <th>12</th>\n",
       "      <td>INDIA V SRI LANKA 2022</td>\n",
       "      <td>TEST</td>\n",
       "      <td>M.Chinnaswamy Stadium, Bangalore</td>\n",
       "      <td>25 FEBRUARY</td>\n",
       "      <td>-</td>\n",
       "    </tr>\n",
       "    <tr>\n",
       "      <th>13</th>\n",
       "      <td>INDIA V SRI LANKA 2022</td>\n",
       "      <td>TEST</td>\n",
       "      <td>Punjab Cricket Association Stadium, Mohali, Ch...</td>\n",
       "      <td>05 MARCH</td>\n",
       "      <td>-</td>\n",
       "    </tr>\n",
       "    <tr>\n",
       "      <th>14</th>\n",
       "      <td>INDIA V SRI LANKA 2022</td>\n",
       "      <td>T20I</td>\n",
       "      <td>Punjab Cricket Association Stadium, Mohali, Ch...</td>\n",
       "      <td>13 MARCH</td>\n",
       "      <td>-</td>\n",
       "    </tr>\n",
       "    <tr>\n",
       "      <th>15</th>\n",
       "      <td>INDIA V SRI LANKA 2022</td>\n",
       "      <td>T20I</td>\n",
       "      <td>Himachal Pradesh Cricket Association Stadium, ...</td>\n",
       "      <td>15 MARCH</td>\n",
       "      <td>-</td>\n",
       "    </tr>\n",
       "    <tr>\n",
       "      <th>16</th>\n",
       "      <td>INDIA V SRI LANKA 2022</td>\n",
       "      <td>T20I</td>\n",
       "      <td>Bharat Ratna Shri Atal Bihari Vajpai Ekana Cri...</td>\n",
       "      <td>18 MARCH</td>\n",
       "      <td>-</td>\n",
       "    </tr>\n",
       "    <tr>\n",
       "      <th>17</th>\n",
       "      <td>INDIA V SOUTH AFRICA 2022</td>\n",
       "      <td>T20I</td>\n",
       "      <td>M. A. Chidambaram Stadium, Chennai</td>\n",
       "      <td>09 JUNE</td>\n",
       "      <td>-</td>\n",
       "    </tr>\n",
       "    <tr>\n",
       "      <th>18</th>\n",
       "      <td>INDIA V SOUTH AFRICA 2022</td>\n",
       "      <td>T20I</td>\n",
       "      <td>M.Chinnaswamy Stadium, Bangalore</td>\n",
       "      <td>12 JUNE</td>\n",
       "      <td>-</td>\n",
       "    </tr>\n",
       "    <tr>\n",
       "      <th>19</th>\n",
       "      <td>INDIA V SOUTH AFRICA 2022</td>\n",
       "      <td>T20I</td>\n",
       "      <td>Vidarbha Cricket Association Stadium, Nagpur</td>\n",
       "      <td>14 JUNE</td>\n",
       "      <td>-</td>\n",
       "    </tr>\n",
       "    <tr>\n",
       "      <th>20</th>\n",
       "      <td>INDIA V SOUTH AFRICA 2022</td>\n",
       "      <td>T20I</td>\n",
       "      <td>Saurashtra Cricket Association Stadium, Rajkot</td>\n",
       "      <td>17 JUNE</td>\n",
       "      <td>-</td>\n",
       "    </tr>\n",
       "    <tr>\n",
       "      <th>21</th>\n",
       "      <td>INDIA V SOUTH AFRICA 2022</td>\n",
       "      <td>T20I</td>\n",
       "      <td>Arun Jaitley Stadium, Delhi</td>\n",
       "      <td>19 JUNE</td>\n",
       "      <td>-</td>\n",
       "    </tr>\n",
       "    <tr>\n",
       "      <th>22</th>\n",
       "      <td>ENGLAND V INDIA 2021/2022</td>\n",
       "      <td>TEST</td>\n",
       "      <td>Edgbaston, Birmingham</td>\n",
       "      <td>01 JULY</td>\n",
       "      <td>15:30 IST</td>\n",
       "    </tr>\n",
       "  </tbody>\n",
       "</table>\n",
       "</div>"
      ],
      "text/plain": [
       "                     Match title Series  \\\n",
       "0   2021 ICC MEN'S T20 WORLD CUP   T20I   \n",
       "1       INDIA V NEW ZEALAND 2021   T20I   \n",
       "2       INDIA V NEW ZEALAND 2021   T20I   \n",
       "3       INDIA V NEW ZEALAND 2021   T20I   \n",
       "4       INDIA V NEW ZEALAND 2021   TEST   \n",
       "5       INDIA V NEW ZEALAND 2021   TEST   \n",
       "6       INDIA V WEST INDIES 2022    ODI   \n",
       "7       INDIA V WEST INDIES 2022    ODI   \n",
       "8       INDIA V WEST INDIES 2022    ODI   \n",
       "9       INDIA V WEST INDIES 2022   T20I   \n",
       "10      INDIA V WEST INDIES 2022   T20I   \n",
       "11      INDIA V WEST INDIES 2022   T20I   \n",
       "12        INDIA V SRI LANKA 2022   TEST   \n",
       "13        INDIA V SRI LANKA 2022   TEST   \n",
       "14        INDIA V SRI LANKA 2022   T20I   \n",
       "15        INDIA V SRI LANKA 2022   T20I   \n",
       "16        INDIA V SRI LANKA 2022   T20I   \n",
       "17     INDIA V SOUTH AFRICA 2022   T20I   \n",
       "18     INDIA V SOUTH AFRICA 2022   T20I   \n",
       "19     INDIA V SOUTH AFRICA 2022   T20I   \n",
       "20     INDIA V SOUTH AFRICA 2022   T20I   \n",
       "21     INDIA V SOUTH AFRICA 2022   T20I   \n",
       "22     ENGLAND V INDIA 2021/2022   TEST   \n",
       "\n",
       "                                                Place         Date       Time  \n",
       "0                  Dubai International Stadium, Dubai  08 NOVEMBER  19:30 IST  \n",
       "1                      Sawai Mansingh Stadium, Jaipur  17 NOVEMBER          -  \n",
       "2          JSCA International Stadium Complex, Ranchi  19 NOVEMBER          -  \n",
       "3                               Eden Gardens, Kolkata  21 NOVEMBER          -  \n",
       "4                                  Green Park, Kanpur  25 NOVEMBER          -  \n",
       "5                            Wankhede Stadium, Mumbai  03 DECEMBER          -  \n",
       "6                    Narendra Modi Stadium, Ahmedabad  06 FEBRUARY          -  \n",
       "7                      Sawai Mansingh Stadium, Jaipur  09 FEBRUARY          -  \n",
       "8                               Eden Gardens, Kolkata  12 FEBRUARY          -  \n",
       "9                           Barabati Stadium, Cuttack  15 FEBRUARY          -  \n",
       "10                    ACA-VDCA Stadium, Visakhapatnam  18 FEBRUARY          -  \n",
       "11             Greenfield Stadium, Thiruvananthapuram  20 FEBRUARY          -  \n",
       "12                   M.Chinnaswamy Stadium, Bangalore  25 FEBRUARY          -  \n",
       "13  Punjab Cricket Association Stadium, Mohali, Ch...     05 MARCH          -  \n",
       "14  Punjab Cricket Association Stadium, Mohali, Ch...     13 MARCH          -  \n",
       "15  Himachal Pradesh Cricket Association Stadium, ...     15 MARCH          -  \n",
       "16  Bharat Ratna Shri Atal Bihari Vajpai Ekana Cri...     18 MARCH          -  \n",
       "17                 M. A. Chidambaram Stadium, Chennai      09 JUNE          -  \n",
       "18                   M.Chinnaswamy Stadium, Bangalore      12 JUNE          -  \n",
       "19       Vidarbha Cricket Association Stadium, Nagpur      14 JUNE          -  \n",
       "20     Saurashtra Cricket Association Stadium, Rajkot      17 JUNE          -  \n",
       "21                        Arun Jaitley Stadium, Delhi      19 JUNE          -  \n",
       "22                              Edgbaston, Birmingham      01 JULY  15:30 IST  "
      ]
     },
     "execution_count": 22,
     "metadata": {},
     "output_type": "execute_result"
    }
   ],
   "source": [
    "import pandas as pd\n",
    "\n",
    "BCCI_df=pd.DataFrame({})\n",
    "BCCI_df[\"Match title\"]=match_title_list\n",
    "BCCI_df[\"Series\"]=series_list\n",
    "BCCI_df[\"Place\"]=place_list\n",
    "BCCI_df[\"Date\"]=date_list\n",
    "BCCI_df[\"Time\"]=time_list\n",
    "\n",
    "BCCI_df\n"
   ]
  },
  {
   "cell_type": "code",
   "execution_count": null,
   "id": "c8951da8",
   "metadata": {},
   "outputs": [],
   "source": []
  }
 ],
 "metadata": {
  "kernelspec": {
   "display_name": "Python 3",
   "language": "python",
   "name": "python3"
  },
  "language_info": {
   "codemirror_mode": {
    "name": "ipython",
    "version": 3
   },
   "file_extension": ".py",
   "mimetype": "text/x-python",
   "name": "python",
   "nbconvert_exporter": "python",
   "pygments_lexer": "ipython3",
   "version": "3.8.8"
  }
 },
 "nbformat": 4,
 "nbformat_minor": 5
}

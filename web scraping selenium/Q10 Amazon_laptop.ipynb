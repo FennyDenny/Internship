{
 "cells": [
  {
   "cell_type": "code",
   "execution_count": 1,
   "id": "3259a06d",
   "metadata": {},
   "outputs": [],
   "source": [
    "import selenium \n",
    "import pandas as pd\n",
    "from selenium import webdriver\n",
    "import time\n",
    "from selenium.common.exceptions import NoSuchElementException"
   ]
  },
  {
   "cell_type": "code",
   "execution_count": 2,
   "id": "0f8f4738",
   "metadata": {},
   "outputs": [],
   "source": [
    "driver=webdriver.Chrome(\"chromedriver.exe\")"
   ]
  },
  {
   "cell_type": "code",
   "execution_count": 3,
   "id": "aaeabfc2",
   "metadata": {},
   "outputs": [],
   "source": [
    "driver.get(\"https://www.amazon.in/\")"
   ]
  },
  {
   "cell_type": "code",
   "execution_count": 4,
   "id": "83bc4c26",
   "metadata": {},
   "outputs": [],
   "source": [
    "search_item=driver.find_element_by_id(\"twotabsearchtextbox\")\n",
    "search_item.send_keys(\"Laptop\")\n",
    "search_btn=driver.find_element_by_xpath(\"//span[@id='nav-search-submit-text']\")\n",
    "search_btn.click()"
   ]
  },
  {
   "cell_type": "code",
   "execution_count": 5,
   "id": "df7e4621",
   "metadata": {},
   "outputs": [],
   "source": [
    "filter_elements=driver.find_elements_by_xpath(\"//a[@class='a-link-normal s-navigation-item']/span\")\n",
    "for elem in filter_elements:\n",
    "    if elem.text==\"Intel Core i7\":\n",
    "        elem.click()\n",
    "        break\n",
    "time.sleep(3)\n"
   ]
  },
  {
   "cell_type": "code",
   "execution_count": 6,
   "id": "dd728bf1",
   "metadata": {},
   "outputs": [],
   "source": [
    "filter_elements=driver.find_elements_by_xpath(\"//a[@class='a-link-normal s-navigation-item']/span\")\n",
    "for elem in filter_elements:\n",
    "    if elem.text==\"Intel Core i9\":\n",
    "        elem.click()\n",
    "        break\n",
    "time.sleep(3)"
   ]
  },
  {
   "cell_type": "code",
   "execution_count": 7,
   "id": "19f3d517",
   "metadata": {},
   "outputs": [
    {
     "data": {
      "text/plain": [
       "[<selenium.webdriver.remote.webelement.WebElement (session=\"3d73ec0404336f967ecd007942694242\", element=\"a46a2bcf-8367-4c5a-8f1e-1fb330ad856c\")>,\n",
       " <selenium.webdriver.remote.webelement.WebElement (session=\"3d73ec0404336f967ecd007942694242\", element=\"70706966-4d0d-436f-8abd-861f85aa6ab7\")>,\n",
       " <selenium.webdriver.remote.webelement.WebElement (session=\"3d73ec0404336f967ecd007942694242\", element=\"78e2f60c-21b4-442e-887b-21d7d653ad89\")>,\n",
       " <selenium.webdriver.remote.webelement.WebElement (session=\"3d73ec0404336f967ecd007942694242\", element=\"e0c53868-ab99-47fb-80d2-1695c81abc9c\")>,\n",
       " <selenium.webdriver.remote.webelement.WebElement (session=\"3d73ec0404336f967ecd007942694242\", element=\"b21189eb-a939-4389-b038-8a4666a49791\")>,\n",
       " <selenium.webdriver.remote.webelement.WebElement (session=\"3d73ec0404336f967ecd007942694242\", element=\"ad0c3b7c-e06f-40c0-a600-eb193f64e9a0\")>,\n",
       " <selenium.webdriver.remote.webelement.WebElement (session=\"3d73ec0404336f967ecd007942694242\", element=\"d6648d99-c0b9-4240-9429-c24650aabbfd\")>,\n",
       " <selenium.webdriver.remote.webelement.WebElement (session=\"3d73ec0404336f967ecd007942694242\", element=\"cd1bb1b3-1feb-4de7-b58d-28fe7ebda066\")>,\n",
       " <selenium.webdriver.remote.webelement.WebElement (session=\"3d73ec0404336f967ecd007942694242\", element=\"8c22450a-42ed-4869-ae0f-eaa3f831984b\")>,\n",
       " <selenium.webdriver.remote.webelement.WebElement (session=\"3d73ec0404336f967ecd007942694242\", element=\"7d659b9f-e398-40c7-9f28-016632a33654\")>]"
      ]
     },
     "execution_count": 7,
     "metadata": {},
     "output_type": "execute_result"
    }
   ],
   "source": [
    "laptop_titles=[]\n",
    "titles_tags=driver.find_elements_by_xpath(\"//h2[@class='a-size-mini a-spacing-none a-color-base s-line-clamp-2']\")\n",
    "titles_tags[0:10]"
   ]
  },
  {
   "cell_type": "code",
   "execution_count": 8,
   "id": "c89af6bf",
   "metadata": {},
   "outputs": [
    {
     "data": {
      "text/plain": [
       "['Fujitsu UH-X 11th Gen Intel i7 Core 13.3” (33.78cm) FHD IPS 400Nits Thin and Light Laptop (16GB/512GB SSD/Win10/Office/Iris Xe Graphics/Backlit Kb/ Fingerprint Reader/Black/878gms), 4ZR1D67596',\n",
       " 'Lenovo ThinkBook 15 Intel 11th Gen Core i7 15.6\" (39.62 cm) FHD IPS 300 nits Antiglare 100% sRGB Thin and Light Laptop (16GB/512GB SSD/Windows 10/MS Office/3 Yr Onsite Warranty/1.7 Kg), 20VEA0HHIH',\n",
       " 'Acer Nitro 5 11th Gen Intel Core i7-11800H 15.6\" (39.62cms) Full HD Gaming Laptop (16 GB/256GB SSD/1 TB HDD/Win 10/RTX 3050 Ti 4GB Graphics/144 Hz, Black, 2.4 kg/RGB Backlit Keyboard) AN515-57',\n",
       " 'Mi Notebook Horizon Edition 14 Intel Core i7-10510U 10th Gen Thin and Light Laptop(8GB/512GB SSD/Windows 10/Nvidia MX350 2GB Graphics/Grey/1.35Kg)(Without Webcam) XMA1904-AF',\n",
       " 'Life Digital Laptop 15.6-inch (39.62 cms) (Intel Core i7, 4GB RAM, 256GB SSD, Windows 10), ZED AIR CX7',\n",
       " 'HP Pavilion (2021) Intel 11th Gen Core i7 14 inches FHD Screen Thin & Light Laptop, 16 GB RAM, 1TB SSD, Iris Xe Graphics, Windows 10, MS Office, Backlit Keyboard, 1.41kg (14-dv0058TU), Silver',\n",
       " 'Dell 14 (2021) i7-1195G7 2in1 Touch Screen Laptop, 16GB, 512GB SSD, Win 10 + MS Office, 14.0\" (35.56 cms) FHD Display, Backlit KB, FPR + Active Pen, Platinum Silver (Inspiron 5410, D560596WIN9S)',\n",
       " 'Lenovo ThinkBook 15 Intel 11th Gen Core i7 15.6\" (39.62 cm) FHD IPS 300 nits Antiglare 100% sRGB Thin and Light Laptop (16GB/512GB SSD/Windows 10/MS Office/3 Yr Onsite Warranty/1.7 Kg), 20VEA0HHIH',\n",
       " 'ASUS TUF Gaming F15 (2021) 15.6-inch (39.62 cms) FHD 144Hz, Intel Core i7-11800H 11th Gen, RTX 3050 4GB Graphics, Gaming Laptop (8GB/1TB SSD/Windows 10/Gray/2.3 Kg), FX566HC-HN050T',\n",
       " 'HP Pavilion 13(2021) 11th Gen Intel Core i7 Laptop, 16GB RAM, 1TB SSD, 13.3-inch(33.8 cm) FHD Screen, Win 10, MS Office, Ceramic White, 1.24 Kg (13-bb0078TU)',\n",
       " 'Lenovo Legion 5 10th Gen Intel Core i7-10750H 15.6\" (39.63cm) FHD IPS Gaming Laptop (16GB/512GB SSD/Windows 10/NVIDIA GTX 1650 4GB/120Hz Refresh Display/Phantom Black/2.3Kg), 82AU00PNIN',\n",
       " 'Fujitsu UH-X 11th Gen Intel i7 Core 13.3” (33.78cm) FHD IPS 400Nits Thin and Light Laptop (16GB/512GB SSD/Win10/Office/Iris Xe Graphics/Backlit Kb/ Fingerprint Reader/Black/878gms), 4ZR1D67596',\n",
       " 'ASUS TUF Dash F15 (2021) 15.6\" (39.62 cm) FHD 240Hz/3ms, Intel Core i7-11370H, GeForce RTX 3060 6GB Graphics, Gaming Laptop (16GB RAM/1TB SSD/Office 2019/Windows 10 Home/Gray/2 Kg) FX516PM-AZ153TS',\n",
       " 'HP Pavilion Gaming 11th Gen Intel Core i7 15.6-inch(39.6 cm) FHD Gaming Laptop (16GB RAM/512GB SSD/144Hz/GTX 1650 4GB Graphics/Win 10/MS Office/Shadow Black/2.28 Kg), 15-dk2075tx',\n",
       " 'LG Gram Ultra-Light 11th Gen Core i7,16 GB RAM, 512 GB SSD, Win-10, Iris Xe Graphics, 16-inches (40.64 cms), Thunderbolt 4, USC -C x 2 (with Power), 1.19 kg, 3 Yr Warranty (16Z90P-G.AH75A2, Black)',\n",
       " 'LG Gram Ultra-Light 11th Gen Core i7,16 GB RAM, 512 GB SSD, Win-10, Iris Xe Graphics, 17-inches (43.18 cms), Thunderbolt 4, USC -C x 2 (with Power), 1.35 kg, 3 Yr Warranty (17Z90P-G.AH75A2, Black)',\n",
       " 'Fujitsu UH-X 11th Gen Intel Core i7 13.3 inches Full HD IPS 400Nits 2-in1 Touch Convertible Business Laptop (16GB/1TB SSD/Windows 10/Office/Iris Xe Graphics/Backlit Kb/Black/0.997 kg, 4ZR1D71993)',\n",
       " 'Lenovo Legion 5 11th Gen Intel Core i7 15.6\"(39.62cm) FHD IPS Gaming Laptop (16GB/512GB SSD/NVIDIA RTX 3050 4GB/120Hz Refresh Rate/Windows 10/MS Office/Backlit Keyboard/Phantom Blue/2.4Kg), 82JK007WIN',\n",
       " 'ASUS ZenBook 13 OLED 2021 Intel Core i7-1165G7 11th Gen 14 inches FHD Thin and Light Business Laptop (16GB/1TB SSD/Windows 10/Office 2019/Iris X Graphics/Lilac Mist/1.14 kg) - UX325EA-KG701TS',\n",
       " 'Dell 15 (2021) i7-10870H Gaming Laptop, 16GB DDR4, 512GB SSD, Win 10 + MS Office, NVIDIA RTX 3050 Ti 4GB, 15.6\" (39.61 cms) FHD AG 250 nits 120Hz, Backlit KB Orange (G15 5510, D560534WIN9B)',\n",
       " 'Lenovo ThinkBook 15 Intel 11th Gen Core i7 15.6\"(39.62 cm) FHD IPS 300 nits Antiglare 100% RGB Thin and Light Laptop (16GB/1TB HDD+128GB SSD/Windows 10/MS Office/3Yr Onsite Warranty/1.7 Kg),20VEA0HBIH',\n",
       " 'Lenovo IdeaPad Gaming 3 11th Gen Intel Core i7-11370H 15.6\" (39.63cm) FHD IPS Gaming Laptop (8GB/512GB SSD/Windows 10/NVIDIA RTX 3050 4GB/120Hz Refresh Display/Shadow Black/2.25Kg), 82K1004EIN',\n",
       " 'Dell 15 (2021) i7-11800H Gaming Laptop, 16GB, 512GB SSD, Win 10 + MS Office, NVIDIA RTX 3050 Ti 4GB, 15.6\" (39.61 cms) FHD, Backlit KB Orange, Dark Shadow Grey (G15 5511, D560546WIN9B)',\n",
       " 'Lenovo Yoga Slim 7 11th gen Intel Core i7 14\" FHD IPS Touchscreen Fabric Surface Thin & Light Laptop (16GB/1TB SSD/Win10/Office/Intel Iris Graphics/Fingerprint Reader/Slate Grey/1.33Kg), 82A300BEIN',\n",
       " 'ASUS TUF Dash F15 (2021), 15.6-inch (39.62 cms) FHD 144Hz, Intel Core i7-11370H 11th Gen, RTX 3050 4GB Graphics Gaming Laptop (16GB RAM/512GB SSD/Windows 10/White/2 kg), FX516PC-HN062T',\n",
       " '(Renewed) Dell Intel Core i7 4th Gen 14 Inch(35.56 cms) 1366x768 HD Laptop (8GB RAM/500GB HDD/Windows 10 Pro/MS Office 2019/Intel Integrated HD Graphics 4600/2.1Kg,Silver) Latitude E6440',\n",
       " 'Dell 14 (2021) Inspiron 5410 Intel i7-1165G7 14 inches 16Gb RAM, 512Gb SSD, FHD Display, Windows 10 + MSO, Backlit KB + FPR + Active Pen, 2in1 Touch Screen Laptop - Silver Metal, 1.5 kg, D560469WIN9S',\n",
       " 'ASUS ZenBook 14 (2020) Intel Core i7-1165G7 11th Gen 14-inch (35.56 cms) FHD Thin & Light Laptop (16GB/512GB SSD/Office 2019/Windows 10/Intel Iris Xᵉ Graphics/Pine Grey/1.17 kg), UX425EA-KI701TS',\n",
       " 'HP Envy Intel 11th Gen Core i7 Processor 13.3 inches FHD Touchscreen Gaming Laptop (16GB/1TB SSD/Windows 10/NVIDIA MX450 2GB/Natural Silver/1.3 kg), 13-ba1018TX',\n",
       " 'Lenovo Legion 7 10th Gen Intel Core i7 15.6 inch Full HD Gaming Laptop (16GB/1TB SSD/Windows 10/MS Office 2019/144 Hz/NVIDIA RTX 2070 8GB GDDR6 Graphics/Slate Grey/2.25Kg), 81YU0029IN']"
      ]
     },
     "execution_count": 8,
     "metadata": {},
     "output_type": "execute_result"
    }
   ],
   "source": [
    "laptop_titles=[]\n",
    "for elem in titles_tags:\n",
    "    title=elem.text\n",
    "    laptop_titles.append(title)\n",
    "laptop_titles"
   ]
  },
  {
   "cell_type": "code",
   "execution_count": 9,
   "id": "daac7d25",
   "metadata": {},
   "outputs": [
    {
     "data": {
      "text/plain": [
       "[<selenium.webdriver.remote.webelement.WebElement (session=\"3d73ec0404336f967ecd007942694242\", element=\"dc32817a-2f64-452b-992d-01356262f088\")>,\n",
       " <selenium.webdriver.remote.webelement.WebElement (session=\"3d73ec0404336f967ecd007942694242\", element=\"f0d42fc7-91ed-4875-bb29-7f544070dfd5\")>,\n",
       " <selenium.webdriver.remote.webelement.WebElement (session=\"3d73ec0404336f967ecd007942694242\", element=\"65e8e8b9-6c1f-41b9-94e1-19f52f2711cb\")>,\n",
       " <selenium.webdriver.remote.webelement.WebElement (session=\"3d73ec0404336f967ecd007942694242\", element=\"037a9741-4d55-4963-9def-92dc1a8fa8e0\")>,\n",
       " <selenium.webdriver.remote.webelement.WebElement (session=\"3d73ec0404336f967ecd007942694242\", element=\"aae5f93e-7f92-4866-91af-ec5cc0710cfa\")>,\n",
       " <selenium.webdriver.remote.webelement.WebElement (session=\"3d73ec0404336f967ecd007942694242\", element=\"8ccaf567-1323-45ce-a452-874769866866\")>,\n",
       " <selenium.webdriver.remote.webelement.WebElement (session=\"3d73ec0404336f967ecd007942694242\", element=\"e21d2ff8-0d2f-46a0-88d6-a731e8faf9f5\")>,\n",
       " <selenium.webdriver.remote.webelement.WebElement (session=\"3d73ec0404336f967ecd007942694242\", element=\"4b0bc083-a025-436e-9c22-e31152dbc476\")>,\n",
       " <selenium.webdriver.remote.webelement.WebElement (session=\"3d73ec0404336f967ecd007942694242\", element=\"c11a80d0-5264-4c96-9a74-62df1c52a266\")>,\n",
       " <selenium.webdriver.remote.webelement.WebElement (session=\"3d73ec0404336f967ecd007942694242\", element=\"a8c66e10-25ff-4325-a444-df5de3250d2d\")>,\n",
       " <selenium.webdriver.remote.webelement.WebElement (session=\"3d73ec0404336f967ecd007942694242\", element=\"4a586b0f-2efb-4a19-824d-0fa20b968958\")>,\n",
       " <selenium.webdriver.remote.webelement.WebElement (session=\"3d73ec0404336f967ecd007942694242\", element=\"14ee0e23-8ef3-4ee7-9797-fa3451edf220\")>,\n",
       " <selenium.webdriver.remote.webelement.WebElement (session=\"3d73ec0404336f967ecd007942694242\", element=\"a53e7c98-310b-4551-a54e-92e92a814d96\")>,\n",
       " <selenium.webdriver.remote.webelement.WebElement (session=\"3d73ec0404336f967ecd007942694242\", element=\"09454a9b-50e3-493e-9c18-9874d52d0a93\")>,\n",
       " <selenium.webdriver.remote.webelement.WebElement (session=\"3d73ec0404336f967ecd007942694242\", element=\"fb063ee7-fbd5-4058-9a1e-6f4dbb3db95d\")>,\n",
       " <selenium.webdriver.remote.webelement.WebElement (session=\"3d73ec0404336f967ecd007942694242\", element=\"9ad690ed-68b8-4eeb-9d34-29f54a1e41d4\")>,\n",
       " <selenium.webdriver.remote.webelement.WebElement (session=\"3d73ec0404336f967ecd007942694242\", element=\"755ebe52-e243-4085-a875-5b67df8dae87\")>,\n",
       " <selenium.webdriver.remote.webelement.WebElement (session=\"3d73ec0404336f967ecd007942694242\", element=\"383e6316-91b5-4a76-98cb-32537c71cbb7\")>,\n",
       " <selenium.webdriver.remote.webelement.WebElement (session=\"3d73ec0404336f967ecd007942694242\", element=\"b3a159c4-d21f-4a51-be9f-f49335bd36d8\")>,\n",
       " <selenium.webdriver.remote.webelement.WebElement (session=\"3d73ec0404336f967ecd007942694242\", element=\"bd0ff57f-8f55-4119-bdb7-a240699623c2\")>,\n",
       " <selenium.webdriver.remote.webelement.WebElement (session=\"3d73ec0404336f967ecd007942694242\", element=\"1309f38c-944e-4c04-8ae5-8da58fea82f7\")>,\n",
       " <selenium.webdriver.remote.webelement.WebElement (session=\"3d73ec0404336f967ecd007942694242\", element=\"bef6a52b-d029-42e6-ad90-14713e6eed13\")>,\n",
       " <selenium.webdriver.remote.webelement.WebElement (session=\"3d73ec0404336f967ecd007942694242\", element=\"59e44ef5-e40f-45d7-928a-283a0acf85f2\")>,\n",
       " <selenium.webdriver.remote.webelement.WebElement (session=\"3d73ec0404336f967ecd007942694242\", element=\"dae96095-bc21-4f28-b4de-d574c546ffd2\")>,\n",
       " <selenium.webdriver.remote.webelement.WebElement (session=\"3d73ec0404336f967ecd007942694242\", element=\"9258de00-44ef-4637-852d-3cc0500d3ced\")>,\n",
       " <selenium.webdriver.remote.webelement.WebElement (session=\"3d73ec0404336f967ecd007942694242\", element=\"5fdc83de-1e37-4e23-a3a2-1a0f2685ec91\")>,\n",
       " <selenium.webdriver.remote.webelement.WebElement (session=\"3d73ec0404336f967ecd007942694242\", element=\"64202238-a556-4451-ba0d-363a5c4e6336\")>,\n",
       " <selenium.webdriver.remote.webelement.WebElement (session=\"3d73ec0404336f967ecd007942694242\", element=\"947eef09-55f3-49d9-b8c1-67e2865c08cf\")>,\n",
       " <selenium.webdriver.remote.webelement.WebElement (session=\"3d73ec0404336f967ecd007942694242\", element=\"682a11ee-650b-43e2-a55a-b289b4098494\")>]"
      ]
     },
     "execution_count": 9,
     "metadata": {},
     "output_type": "execute_result"
    }
   ],
   "source": [
    "price_list=[]\n",
    "price_tags=driver.find_elements_by_xpath(\"//span[@class='a-price-whole']\")\n",
    "price_tags"
   ]
  },
  {
   "cell_type": "code",
   "execution_count": 10,
   "id": "2443dad8",
   "metadata": {},
   "outputs": [
    {
     "data": {
      "text/plain": [
       "['89,990',\n",
       " '84,990',\n",
       " '85,990',\n",
       " '53,990',\n",
       " '24,990',\n",
       " '84,990',\n",
       " '89,990',\n",
       " '84,990',\n",
       " '84,990',\n",
       " '91,990',\n",
       " '83,490',\n",
       " '89,990',\n",
       " '1,19,990',\n",
       " '89,990',\n",
       " '92,290',\n",
       " '95,490',\n",
       " '1,02,990',\n",
       " '1,04,990',\n",
       " '1,02,900',\n",
       " '1,01,490',\n",
       " '85,990',\n",
       " '88,990',\n",
       " '1,08,999',\n",
       " '99,274',\n",
       " '94,990',\n",
       " '34,899',\n",
       " '96,990',\n",
       " '1,28,800',\n",
       " '1,67,000']"
      ]
     },
     "execution_count": 10,
     "metadata": {},
     "output_type": "execute_result"
    }
   ],
   "source": [
    "price_list=[]\n",
    "for i in price_tags:\n",
    "    price=i.text\n",
    "    price_list.append(price)\n",
    "price_list"
   ]
  },
  {
   "cell_type": "code",
   "execution_count": 11,
   "id": "8fd806a2",
   "metadata": {},
   "outputs": [],
   "source": [
    "urls=[]"
   ]
  },
  {
   "cell_type": "code",
   "execution_count": 12,
   "id": "b58d827d",
   "metadata": {},
   "outputs": [
    {
     "data": {
      "text/plain": [
       "0"
      ]
     },
     "execution_count": 12,
     "metadata": {},
     "output_type": "execute_result"
    }
   ],
   "source": [
    "len(urls)"
   ]
  },
  {
   "cell_type": "code",
   "execution_count": 13,
   "id": "86b7a285",
   "metadata": {},
   "outputs": [],
   "source": [
    "for i in driver.find_elements_by_xpath(\"//a[@class='a-link-normal a-text-normal']\"):\n",
    "    urls.append(i.get_attribute('href'))"
   ]
  },
  {
   "cell_type": "code",
   "execution_count": 14,
   "id": "495033f2",
   "metadata": {},
   "outputs": [
    {
     "data": {
      "text/plain": [
       "['https://www.amazon.in/gp/slredirect/picassoRedirect.html/ref=pa_sp_atf_computers_sr_pg1_1?ie=UTF8&adId=A097852726KR7DAH06NN1&url=%2FFujitsu-33-78cm-Graphics-Fingerprint-4ZR1D67596%2Fdp%2FB098P34QRL%2Fref%3Dsr_1_1_sspa%3Fdchild%3D1%26keywords%3DLaptop%26qid%3D1634386011%26refinements%3Dp_n_feature_thirteen_browse-bin%253A12598163031%257C16757432031%26rnid%3D12598141031%26s%3Dcomputers%26sr%3D1-1-spons%26psc%3D1&qualifier=1634386011&id=6284034193437106&widgetName=sp_atf',\n",
       " 'https://www.amazon.in/gp/slredirect/picassoRedirect.html/ref=pa_sp_atf_computers_sr_pg1_1?ie=UTF8&adId=A07831422XG3LWS75TAAF&url=%2FLenovo-ThinkBook-Antiglare-Warranty-20VEA0HHIH%2Fdp%2FB09GW2F4XV%2Fref%3Dsr_1_2_sspa%3Fdchild%3D1%26keywords%3DLaptop%26qid%3D1634386011%26refinements%3Dp_n_feature_thirteen_browse-bin%253A12598163031%257C16757432031%26rnid%3D12598141031%26s%3Dcomputers%26sr%3D1-2-spons%26psc%3D1&qualifier=1634386011&id=6284034193437106&widgetName=sp_atf',\n",
       " 'https://www.amazon.in/Acer-i7-11800H-39-62cms-Graphics-AN515-57/dp/B09C8HZMW2/ref=sr_1_3?dchild=1&keywords=Laptop&qid=1634386011&refinements=p_n_feature_thirteen_browse-bin%3A12598163031%7C16757432031&rnid=12598141031&s=computers&sr=1-3',\n",
       " 'https://www.amazon.in/Notebook-Horizon-i7-10510U-Graphics-XMA1904-AF/dp/B089DFJHZ8/ref=sr_1_4?dchild=1&keywords=Laptop&qid=1634386011&refinements=p_n_feature_thirteen_browse-bin%3A12598163031%7C16757432031&rnid=12598141031&s=computers&sr=1-4',\n",
       " 'https://www.amazon.in/LifeDigital-Laptop-Intel%C2%AE-Storage-Windows/dp/B08HRMHZ8J/ref=sr_1_5?dchild=1&keywords=Laptop&qid=1634386011&refinements=p_n_feature_thirteen_browse-bin%3A12598163031%7C16757432031&rnid=12598141031&s=computers&sr=1-5',\n",
       " 'https://www.amazon.in/HP-Pavilion-Graphics-35-56cms-14-dv0058TU/dp/B08WB857GB/ref=sr_1_6?dchild=1&keywords=Laptop&qid=1634386011&refinements=p_n_feature_thirteen_browse-bin%3A12598163031%7C16757432031&rnid=12598141031&s=computers&sr=1-6',\n",
       " 'https://www.amazon.in/Dell-i7-1195G7-Platinum-5410-D560596WIN9S/dp/B09F3QKQH6/ref=sr_1_7?dchild=1&keywords=Laptop&qid=1634386011&refinements=p_n_feature_thirteen_browse-bin%3A12598163031%7C16757432031&rnid=12598141031&s=computers&sr=1-7',\n",
       " 'https://www.amazon.in/Lenovo-ThinkBook-Antiglare-Warranty-20VEA0HHIH/dp/B09GW2F4XV/ref=sr_1_8?dchild=1&keywords=Laptop&qid=1634386011&refinements=p_n_feature_thirteen_browse-bin%3A12598163031%7C16757432031&rnid=12598141031&s=computers&sr=1-8',\n",
       " 'https://www.amazon.in/ASUS-15-6-inch-i7-11800H-RTX-3050-FX566HC-HN050T/dp/B09CCL46PH/ref=sr_1_9?dchild=1&keywords=Laptop&qid=1634386011&refinements=p_n_feature_thirteen_browse-bin%3A12598163031%7C16757432031&rnid=12598141031&s=computers&sr=1-9',\n",
       " 'https://www.amazon.in/HP-Pavilion-13-3-inch-Ceramic-13-bb0078TU/dp/B09839P9XB/ref=sr_1_10?dchild=1&keywords=Laptop&qid=1634386011&refinements=p_n_feature_thirteen_browse-bin%3A12598163031%7C16757432031&rnid=12598141031&s=computers&sr=1-10']"
      ]
     },
     "execution_count": 14,
     "metadata": {},
     "output_type": "execute_result"
    }
   ],
   "source": [
    "urls[0:10]\n"
   ]
  },
  {
   "cell_type": "code",
   "execution_count": 15,
   "id": "a08904f5",
   "metadata": {},
   "outputs": [],
   "source": [
    "rating=[]\n",
    "for i in urls[0:10]:\n",
    "    driver.get(i)\n",
    "    time.sleep(3)\n",
    "    #Fetching the rating\n",
    "    try:\n",
    "        rating_element_link =driver.find_element_by_xpath(\"//a[@id='acrCustomerReviewLink'][1]\")\n",
    "        rating_element_link.click()\n",
    "        time.sleep(3)\n",
    "        \n",
    "        rate_element=driver.find_element_by_xpath(\"//span[@data-hook='rating-out-of-text']\")\n",
    "        rate=rate_element.text\n",
    "        rating.append(rate)\n",
    "    except:\n",
    "        rating.append('-')"
   ]
  },
  {
   "cell_type": "code",
   "execution_count": 16,
   "id": "4ece72cb",
   "metadata": {},
   "outputs": [
    {
     "data": {
      "text/plain": [
       "['4.4 out of 5',\n",
       " '4.4 out of 5',\n",
       " '3.9 out of 5',\n",
       " '4.2 out of 5',\n",
       " '3.3 out of 5',\n",
       " '4.3 out of 5',\n",
       " '-',\n",
       " '4.4 out of 5',\n",
       " '4.4 out of 5',\n",
       " '4.5 out of 5']"
      ]
     },
     "execution_count": 16,
     "metadata": {},
     "output_type": "execute_result"
    }
   ],
   "source": [
    "\n",
    "rating"
   ]
  },
  {
   "cell_type": "code",
   "execution_count": 17,
   "id": "a2878327",
   "metadata": {},
   "outputs": [
    {
     "data": {
      "text/html": [
       "<div>\n",
       "<style scoped>\n",
       "    .dataframe tbody tr th:only-of-type {\n",
       "        vertical-align: middle;\n",
       "    }\n",
       "\n",
       "    .dataframe tbody tr th {\n",
       "        vertical-align: top;\n",
       "    }\n",
       "\n",
       "    .dataframe thead th {\n",
       "        text-align: right;\n",
       "    }\n",
       "</style>\n",
       "<table border=\"1\" class=\"dataframe\">\n",
       "  <thead>\n",
       "    <tr style=\"text-align: right;\">\n",
       "      <th></th>\n",
       "      <th>Title</th>\n",
       "      <th>Price in Rupees</th>\n",
       "      <th>Rating</th>\n",
       "    </tr>\n",
       "  </thead>\n",
       "  <tbody>\n",
       "    <tr>\n",
       "      <th>0</th>\n",
       "      <td>Fujitsu UH-X 11th Gen Intel i7 Core 13.3” (33....</td>\n",
       "      <td>89,990</td>\n",
       "      <td>4.4 out of 5</td>\n",
       "    </tr>\n",
       "    <tr>\n",
       "      <th>1</th>\n",
       "      <td>Lenovo ThinkBook 15 Intel 11th Gen Core i7 15....</td>\n",
       "      <td>84,990</td>\n",
       "      <td>4.4 out of 5</td>\n",
       "    </tr>\n",
       "    <tr>\n",
       "      <th>2</th>\n",
       "      <td>Acer Nitro 5 11th Gen Intel Core i7-11800H 15....</td>\n",
       "      <td>85,990</td>\n",
       "      <td>3.9 out of 5</td>\n",
       "    </tr>\n",
       "    <tr>\n",
       "      <th>3</th>\n",
       "      <td>Mi Notebook Horizon Edition 14 Intel Core i7-1...</td>\n",
       "      <td>53,990</td>\n",
       "      <td>4.2 out of 5</td>\n",
       "    </tr>\n",
       "    <tr>\n",
       "      <th>4</th>\n",
       "      <td>Life Digital Laptop 15.6-inch (39.62 cms) (Int...</td>\n",
       "      <td>24,990</td>\n",
       "      <td>3.3 out of 5</td>\n",
       "    </tr>\n",
       "    <tr>\n",
       "      <th>5</th>\n",
       "      <td>HP Pavilion (2021) Intel 11th Gen Core i7 14 i...</td>\n",
       "      <td>84,990</td>\n",
       "      <td>4.3 out of 5</td>\n",
       "    </tr>\n",
       "    <tr>\n",
       "      <th>6</th>\n",
       "      <td>Dell 14 (2021) i7-1195G7 2in1 Touch Screen Lap...</td>\n",
       "      <td>89,990</td>\n",
       "      <td>-</td>\n",
       "    </tr>\n",
       "    <tr>\n",
       "      <th>7</th>\n",
       "      <td>Lenovo ThinkBook 15 Intel 11th Gen Core i7 15....</td>\n",
       "      <td>84,990</td>\n",
       "      <td>4.4 out of 5</td>\n",
       "    </tr>\n",
       "    <tr>\n",
       "      <th>8</th>\n",
       "      <td>ASUS TUF Gaming F15 (2021) 15.6-inch (39.62 cm...</td>\n",
       "      <td>84,990</td>\n",
       "      <td>4.4 out of 5</td>\n",
       "    </tr>\n",
       "    <tr>\n",
       "      <th>9</th>\n",
       "      <td>HP Pavilion 13(2021) 11th Gen Intel Core i7 La...</td>\n",
       "      <td>91,990</td>\n",
       "      <td>4.5 out of 5</td>\n",
       "    </tr>\n",
       "  </tbody>\n",
       "</table>\n",
       "</div>"
      ],
      "text/plain": [
       "                                               Title Price in Rupees  \\\n",
       "0  Fujitsu UH-X 11th Gen Intel i7 Core 13.3” (33....          89,990   \n",
       "1  Lenovo ThinkBook 15 Intel 11th Gen Core i7 15....          84,990   \n",
       "2  Acer Nitro 5 11th Gen Intel Core i7-11800H 15....          85,990   \n",
       "3  Mi Notebook Horizon Edition 14 Intel Core i7-1...          53,990   \n",
       "4  Life Digital Laptop 15.6-inch (39.62 cms) (Int...          24,990   \n",
       "5  HP Pavilion (2021) Intel 11th Gen Core i7 14 i...          84,990   \n",
       "6  Dell 14 (2021) i7-1195G7 2in1 Touch Screen Lap...          89,990   \n",
       "7  Lenovo ThinkBook 15 Intel 11th Gen Core i7 15....          84,990   \n",
       "8  ASUS TUF Gaming F15 (2021) 15.6-inch (39.62 cm...          84,990   \n",
       "9  HP Pavilion 13(2021) 11th Gen Intel Core i7 La...          91,990   \n",
       "\n",
       "         Rating  \n",
       "0  4.4 out of 5  \n",
       "1  4.4 out of 5  \n",
       "2  3.9 out of 5  \n",
       "3  4.2 out of 5  \n",
       "4  3.3 out of 5  \n",
       "5  4.3 out of 5  \n",
       "6             -  \n",
       "7  4.4 out of 5  \n",
       "8  4.4 out of 5  \n",
       "9  4.5 out of 5  "
      ]
     },
     "execution_count": 17,
     "metadata": {},
     "output_type": "execute_result"
    }
   ],
   "source": [
    "import pandas as pd\n",
    "laptop=pd.DataFrame({})\n",
    "laptop[\"Title\"]=laptop_titles[0:10]\n",
    "laptop[\"Price in Rupees\"]=price_list[0:10]\n",
    "laptop[\"Rating\"]=rating[0:10]\n",
    "laptop"
   ]
  },
  {
   "cell_type": "code",
   "execution_count": null,
   "id": "a9437ea1",
   "metadata": {},
   "outputs": [],
   "source": []
  }
 ],
 "metadata": {
  "kernelspec": {
   "display_name": "Python 3",
   "language": "python",
   "name": "python3"
  },
  "language_info": {
   "codemirror_mode": {
    "name": "ipython",
    "version": 3
   },
   "file_extension": ".py",
   "mimetype": "text/x-python",
   "name": "python",
   "nbconvert_exporter": "python",
   "pygments_lexer": "ipython3",
   "version": "3.8.8"
  }
 },
 "nbformat": 4,
 "nbformat_minor": 5
}

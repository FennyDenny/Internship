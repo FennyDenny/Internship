{
 "cells": [
  {
   "cell_type": "code",
   "execution_count": 1,
   "id": "90a82642",
   "metadata": {},
   "outputs": [],
   "source": [
    "import selenium \n",
    "import pandas as pd\n",
    "from selenium import webdriver\n",
    "import time\n",
    "from selenium.common.exceptions import NoSuchElementException"
   ]
  },
  {
   "cell_type": "code",
   "execution_count": 2,
   "id": "935d7d97",
   "metadata": {},
   "outputs": [],
   "source": [
    "driver=webdriver.Chrome(\"chromedriver.exe\")"
   ]
  },
  {
   "cell_type": "code",
   "execution_count": 3,
   "id": "1ed2a462",
   "metadata": {},
   "outputs": [],
   "source": [
    "driver.get(\"https://www.naukri.com/\")"
   ]
  },
  {
   "cell_type": "code",
   "execution_count": 4,
   "id": "fdbf159b",
   "metadata": {},
   "outputs": [],
   "source": [
    "search_job=driver.find_element_by_id(\"qsb-keyword-sugg\")\n",
    "search_job.send_keys(\"Data Scientist\")"
   ]
  },
  {
   "cell_type": "code",
   "execution_count": 5,
   "id": "1c7845d6",
   "metadata": {},
   "outputs": [],
   "source": [
    "search_btn=driver.find_element_by_xpath(\"//div[@class='search-btn']/button\")\n",
    "search_btn.click()"
   ]
  },
  {
   "cell_type": "code",
   "execution_count": 6,
   "id": "4b21e20b",
   "metadata": {},
   "outputs": [],
   "source": [
    "filter_location=driver.find_element_by_xpath(\"//span[@title='Delhi / NCR']\")\n",
    "filter_location.click()"
   ]
  },
  {
   "cell_type": "code",
   "execution_count": 7,
   "id": "51627c9d",
   "metadata": {},
   "outputs": [],
   "source": [
    "filter_salary=driver.find_element_by_xpath(\"//span[@title='3-6 Lakhs']\")\n",
    "filter_salary.click()                                                  "
   ]
  },
  {
   "cell_type": "code",
   "execution_count": 8,
   "id": "c96c4f99",
   "metadata": {},
   "outputs": [],
   "source": [
    "job_titles=[]\n",
    "company_names=[]\n",
    "locations_list=[]\n",
    "experience_list=[]"
   ]
  },
  {
   "cell_type": "code",
   "execution_count": 9,
   "id": "d0d465aa",
   "metadata": {},
   "outputs": [
    {
     "data": {
      "text/plain": [
       "[<selenium.webdriver.remote.webelement.WebElement (session=\"3f59c5e5973ee93aabd6f37cc1b25240\", element=\"c578e75e-e531-4556-b260-576d7503c86f\")>,\n",
       " <selenium.webdriver.remote.webelement.WebElement (session=\"3f59c5e5973ee93aabd6f37cc1b25240\", element=\"0c61af3d-d6ce-4ed1-a1dd-07e7e0581568\")>,\n",
       " <selenium.webdriver.remote.webelement.WebElement (session=\"3f59c5e5973ee93aabd6f37cc1b25240\", element=\"37e18284-f727-4ee7-9a23-f550f6e0e984\")>,\n",
       " <selenium.webdriver.remote.webelement.WebElement (session=\"3f59c5e5973ee93aabd6f37cc1b25240\", element=\"0095324e-4b10-4206-8c80-c495b82b9077\")>,\n",
       " <selenium.webdriver.remote.webelement.WebElement (session=\"3f59c5e5973ee93aabd6f37cc1b25240\", element=\"e565b62e-9b6b-4229-bdda-75a8472d7674\")>,\n",
       " <selenium.webdriver.remote.webelement.WebElement (session=\"3f59c5e5973ee93aabd6f37cc1b25240\", element=\"9d8ae818-1974-4d89-a93d-46dc98f4d623\")>,\n",
       " <selenium.webdriver.remote.webelement.WebElement (session=\"3f59c5e5973ee93aabd6f37cc1b25240\", element=\"3b1c4955-6943-415f-8217-7886da07c7d0\")>,\n",
       " <selenium.webdriver.remote.webelement.WebElement (session=\"3f59c5e5973ee93aabd6f37cc1b25240\", element=\"f2824564-2978-4b88-9a02-b6fc6c81e613\")>,\n",
       " <selenium.webdriver.remote.webelement.WebElement (session=\"3f59c5e5973ee93aabd6f37cc1b25240\", element=\"7a6acff0-1b4f-4f3d-93f3-f460514d32a1\")>,\n",
       " <selenium.webdriver.remote.webelement.WebElement (session=\"3f59c5e5973ee93aabd6f37cc1b25240\", element=\"2410e8bb-1840-4dde-a3a2-1e46f39c1164\")>]"
      ]
     },
     "execution_count": 9,
     "metadata": {},
     "output_type": "execute_result"
    }
   ],
   "source": [
    "titles_tags=driver.find_elements_by_xpath(\"//a[@class='title fw500 ellipsis']\")\n",
    "titles_tags[0:10]"
   ]
  },
  {
   "cell_type": "code",
   "execution_count": 10,
   "id": "13d44c65",
   "metadata": {},
   "outputs": [
    {
     "data": {
      "text/plain": [
       "['Data Scientist',\n",
       " 'Job Opportunity || Data Scientist || HCL Technologies',\n",
       " 'Data Scientist',\n",
       " 'Academic Counsellor - Data Scientist',\n",
       " 'Associate Data Scientist',\n",
       " 'Data Scientist I/II/III',\n",
       " 'Data Scientist',\n",
       " 'Data Scientist',\n",
       " 'Data Scientist',\n",
       " 'Data Scientist']"
      ]
     },
     "execution_count": 10,
     "metadata": {},
     "output_type": "execute_result"
    }
   ],
   "source": [
    "for i in titles_tags:\n",
    "    title=i.text\n",
    "    job_titles.append(title)\n",
    "job_titles[0:10]"
   ]
  },
  {
   "cell_type": "code",
   "execution_count": 11,
   "id": "15f4e23e",
   "metadata": {},
   "outputs": [
    {
     "data": {
      "text/plain": [
       "[<selenium.webdriver.remote.webelement.WebElement (session=\"3f59c5e5973ee93aabd6f37cc1b25240\", element=\"a62a7769-979d-4a8d-8979-9f2368285e58\")>,\n",
       " <selenium.webdriver.remote.webelement.WebElement (session=\"3f59c5e5973ee93aabd6f37cc1b25240\", element=\"53bbfb25-3b12-4100-8171-d928cdc9f1dd\")>,\n",
       " <selenium.webdriver.remote.webelement.WebElement (session=\"3f59c5e5973ee93aabd6f37cc1b25240\", element=\"dc1c39fe-6dcb-422a-b21e-77fae80012fb\")>,\n",
       " <selenium.webdriver.remote.webelement.WebElement (session=\"3f59c5e5973ee93aabd6f37cc1b25240\", element=\"eb40d56e-7930-42b1-a2f9-50ad87d63e5a\")>,\n",
       " <selenium.webdriver.remote.webelement.WebElement (session=\"3f59c5e5973ee93aabd6f37cc1b25240\", element=\"82b748a7-f183-4b92-b71c-1b15216331cc\")>,\n",
       " <selenium.webdriver.remote.webelement.WebElement (session=\"3f59c5e5973ee93aabd6f37cc1b25240\", element=\"60a1e83e-9983-42a5-b077-ffacc7a66dd1\")>,\n",
       " <selenium.webdriver.remote.webelement.WebElement (session=\"3f59c5e5973ee93aabd6f37cc1b25240\", element=\"c6001df9-c8be-44d8-8a89-06a47920bf49\")>,\n",
       " <selenium.webdriver.remote.webelement.WebElement (session=\"3f59c5e5973ee93aabd6f37cc1b25240\", element=\"f264c4c9-3052-4c46-a594-f51bffe718be\")>,\n",
       " <selenium.webdriver.remote.webelement.WebElement (session=\"3f59c5e5973ee93aabd6f37cc1b25240\", element=\"0b1fa48f-8cd7-4ca0-b4bc-695a299a0b9c\")>,\n",
       " <selenium.webdriver.remote.webelement.WebElement (session=\"3f59c5e5973ee93aabd6f37cc1b25240\", element=\"b9f9633c-5973-4149-996b-2c69895e115e\")>]"
      ]
     },
     "execution_count": 11,
     "metadata": {},
     "output_type": "execute_result"
    }
   ],
   "source": [
    "company_tags=driver.find_elements_by_xpath(\"//a[@class='subTitle ellipsis fleft']\")\n",
    "company_tags[0:10]"
   ]
  },
  {
   "cell_type": "code",
   "execution_count": 12,
   "id": "5247cafe",
   "metadata": {},
   "outputs": [
    {
     "data": {
      "text/plain": [
       "['EXL Services.com ( I ) Pvt. Ltd.',\n",
       " 'HCL Technologies',\n",
       " 'Hexagon Geosystems Services India P.Ltd.',\n",
       " 'GreatLearning',\n",
       " 'Optum Global Solutions (India) Private Limited',\n",
       " 'OLX India Pvt Ltd',\n",
       " 'Fractal Analytics',\n",
       " 'Optum Global Solutions (India) Private Limited',\n",
       " 'Milliman India Pvt Ltd',\n",
       " 'lericon infomatics pvt.ltd']"
      ]
     },
     "execution_count": 12,
     "metadata": {},
     "output_type": "execute_result"
    }
   ],
   "source": [
    "for i in company_tags:\n",
    "    names=i.text\n",
    "    company_names.append(names)\n",
    "company_names[0:10]"
   ]
  },
  {
   "cell_type": "code",
   "execution_count": 13,
   "id": "01b40cc9",
   "metadata": {},
   "outputs": [
    {
     "data": {
      "text/plain": [
       "[<selenium.webdriver.remote.webelement.WebElement (session=\"3f59c5e5973ee93aabd6f37cc1b25240\", element=\"1f48f9b6-a238-4130-b702-d681464f1de5\")>,\n",
       " <selenium.webdriver.remote.webelement.WebElement (session=\"3f59c5e5973ee93aabd6f37cc1b25240\", element=\"3b251269-c2f8-46f3-9a04-a81131c4124e\")>,\n",
       " <selenium.webdriver.remote.webelement.WebElement (session=\"3f59c5e5973ee93aabd6f37cc1b25240\", element=\"d0f759b3-9bdb-4310-b543-c310b6addc8b\")>,\n",
       " <selenium.webdriver.remote.webelement.WebElement (session=\"3f59c5e5973ee93aabd6f37cc1b25240\", element=\"f7cc13d1-1da5-4e92-84d9-3056640ba204\")>,\n",
       " <selenium.webdriver.remote.webelement.WebElement (session=\"3f59c5e5973ee93aabd6f37cc1b25240\", element=\"3da0b1b7-8a8a-4d4b-8849-f4a159f3cf1f\")>,\n",
       " <selenium.webdriver.remote.webelement.WebElement (session=\"3f59c5e5973ee93aabd6f37cc1b25240\", element=\"51da6b3a-285f-4767-9447-410960fc0032\")>,\n",
       " <selenium.webdriver.remote.webelement.WebElement (session=\"3f59c5e5973ee93aabd6f37cc1b25240\", element=\"fd4a064f-a092-4794-9162-88b24b28152e\")>,\n",
       " <selenium.webdriver.remote.webelement.WebElement (session=\"3f59c5e5973ee93aabd6f37cc1b25240\", element=\"b426bbbb-bb68-471b-97fd-474d8de09430\")>,\n",
       " <selenium.webdriver.remote.webelement.WebElement (session=\"3f59c5e5973ee93aabd6f37cc1b25240\", element=\"ecb459b1-7fda-4adb-9e6f-9174566c7783\")>,\n",
       " <selenium.webdriver.remote.webelement.WebElement (session=\"3f59c5e5973ee93aabd6f37cc1b25240\", element=\"235ebfd9-bb2f-4a3a-a8eb-eec36245c310\")>]"
      ]
     },
     "execution_count": 13,
     "metadata": {},
     "output_type": "execute_result"
    }
   ],
   "source": [
    "location_tags=driver.find_elements_by_xpath(\"//li[@class='fleft grey-text br2 placeHolderLi location']\")\n",
    "location_tags[0:10]"
   ]
  },
  {
   "cell_type": "code",
   "execution_count": 14,
   "id": "0c63246b",
   "metadata": {},
   "outputs": [
    {
     "data": {
      "text/plain": [
       "['Gurgaon/Gurugram, Bangalore/Bengaluru',\n",
       " 'Delhi / NCR',\n",
       " 'Gurgaon/Gurugram, Bangalore/Bengaluru',\n",
       " 'Gurgaon/Gurugram, Bangalore/Bengaluru',\n",
       " 'Noida',\n",
       " 'Gurgaon/Gurugram',\n",
       " 'Mumbai, Gurgaon/Gurugram, Bangalore/Bengaluru',\n",
       " 'Noida, Gurgaon/Gurugram',\n",
       " 'Gurgaon/Gurugram',\n",
       " 'Mumbai, Delhi / NCR']"
      ]
     },
     "execution_count": 14,
     "metadata": {},
     "output_type": "execute_result"
    }
   ],
   "source": [
    "for i in location_tags:\n",
    "    location=i.text\n",
    "    locations_list.append(location)\n",
    "locations_list[0:10]"
   ]
  },
  {
   "cell_type": "code",
   "execution_count": 18,
   "id": "771a6595",
   "metadata": {},
   "outputs": [
    {
     "data": {
      "text/plain": [
       "[<selenium.webdriver.remote.webelement.WebElement (session=\"3f59c5e5973ee93aabd6f37cc1b25240\", element=\"a95ae10c-ed05-4116-a820-7394dcff8f62\")>,\n",
       " <selenium.webdriver.remote.webelement.WebElement (session=\"3f59c5e5973ee93aabd6f37cc1b25240\", element=\"14adabd8-c232-4ee7-8fbb-9df3ecbc9d3e\")>,\n",
       " <selenium.webdriver.remote.webelement.WebElement (session=\"3f59c5e5973ee93aabd6f37cc1b25240\", element=\"1817e64b-47fa-426d-9b57-5cf36508148e\")>,\n",
       " <selenium.webdriver.remote.webelement.WebElement (session=\"3f59c5e5973ee93aabd6f37cc1b25240\", element=\"761cb9ed-bf0d-47db-8716-f7a1ddcf9f29\")>,\n",
       " <selenium.webdriver.remote.webelement.WebElement (session=\"3f59c5e5973ee93aabd6f37cc1b25240\", element=\"294eb66c-2241-42f4-b0b7-1d7b69793521\")>,\n",
       " <selenium.webdriver.remote.webelement.WebElement (session=\"3f59c5e5973ee93aabd6f37cc1b25240\", element=\"322e9789-40e4-4ad8-b619-82c353ae061b\")>,\n",
       " <selenium.webdriver.remote.webelement.WebElement (session=\"3f59c5e5973ee93aabd6f37cc1b25240\", element=\"45218083-528a-4fc3-a643-9ce90dd8e471\")>,\n",
       " <selenium.webdriver.remote.webelement.WebElement (session=\"3f59c5e5973ee93aabd6f37cc1b25240\", element=\"b2c3d4ed-6538-40f3-8b1e-3eeb79544837\")>,\n",
       " <selenium.webdriver.remote.webelement.WebElement (session=\"3f59c5e5973ee93aabd6f37cc1b25240\", element=\"6a1a1f8e-8a54-4244-a48b-bfaf7a99bbb5\")>,\n",
       " <selenium.webdriver.remote.webelement.WebElement (session=\"3f59c5e5973ee93aabd6f37cc1b25240\", element=\"56115b3e-9187-4101-9733-ada385891ee6\")>]"
      ]
     },
     "execution_count": 18,
     "metadata": {},
     "output_type": "execute_result"
    }
   ],
   "source": [
    "experience_list=[]\n",
    "experience_tags=driver.find_elements_by_xpath(\"//li[@class='fleft grey-text br2 placeHolderLi experience']/span\")\n",
    "experience_tags[0:10]"
   ]
  },
  {
   "cell_type": "code",
   "execution_count": 19,
   "id": "434445f4",
   "metadata": {},
   "outputs": [
    {
     "data": {
      "text/plain": [
       "['3-5 Yrs',\n",
       " '4-7 Yrs',\n",
       " '6-11 Yrs',\n",
       " '1-4 Yrs',\n",
       " '2-7 Yrs',\n",
       " '3-6 Yrs',\n",
       " '3-7 Yrs',\n",
       " '2-6 Yrs',\n",
       " '2-5 Yrs',\n",
       " '3-5 Yrs']"
      ]
     },
     "execution_count": 19,
     "metadata": {},
     "output_type": "execute_result"
    }
   ],
   "source": [
    "for i in experience_tags:\n",
    "    experience=i.text\n",
    "    experience_list.append(experience)\n",
    "experience_list[0:10]"
   ]
  },
  {
   "cell_type": "code",
   "execution_count": 21,
   "id": "91e10853",
   "metadata": {},
   "outputs": [
    {
     "name": "stdout",
     "output_type": "stream",
     "text": [
      "20 20 20 20\n"
     ]
    }
   ],
   "source": [
    "print(len(job_titles),len(locations_list),len(company_names),len(experience_list))"
   ]
  },
  {
   "cell_type": "code",
   "execution_count": 22,
   "id": "e41bd7f6",
   "metadata": {},
   "outputs": [
    {
     "data": {
      "text/html": [
       "<div>\n",
       "<style scoped>\n",
       "    .dataframe tbody tr th:only-of-type {\n",
       "        vertical-align: middle;\n",
       "    }\n",
       "\n",
       "    .dataframe tbody tr th {\n",
       "        vertical-align: top;\n",
       "    }\n",
       "\n",
       "    .dataframe thead th {\n",
       "        text-align: right;\n",
       "    }\n",
       "</style>\n",
       "<table border=\"1\" class=\"dataframe\">\n",
       "  <thead>\n",
       "    <tr style=\"text-align: right;\">\n",
       "      <th></th>\n",
       "      <th>Title</th>\n",
       "      <th>Location</th>\n",
       "      <th>Company Name</th>\n",
       "      <th>Experience</th>\n",
       "    </tr>\n",
       "  </thead>\n",
       "  <tbody>\n",
       "    <tr>\n",
       "      <th>0</th>\n",
       "      <td>Data Scientist</td>\n",
       "      <td>Gurgaon/Gurugram, Bangalore/Bengaluru</td>\n",
       "      <td>EXL Services.com ( I ) Pvt. Ltd.</td>\n",
       "      <td>3-5 Yrs</td>\n",
       "    </tr>\n",
       "    <tr>\n",
       "      <th>1</th>\n",
       "      <td>Job Opportunity || Data Scientist || HCL Techn...</td>\n",
       "      <td>Delhi / NCR</td>\n",
       "      <td>HCL Technologies</td>\n",
       "      <td>4-7 Yrs</td>\n",
       "    </tr>\n",
       "    <tr>\n",
       "      <th>2</th>\n",
       "      <td>Data Scientist</td>\n",
       "      <td>Gurgaon/Gurugram, Bangalore/Bengaluru</td>\n",
       "      <td>Hexagon Geosystems Services India P.Ltd.</td>\n",
       "      <td>6-11 Yrs</td>\n",
       "    </tr>\n",
       "    <tr>\n",
       "      <th>3</th>\n",
       "      <td>Academic Counsellor - Data Scientist</td>\n",
       "      <td>Gurgaon/Gurugram, Bangalore/Bengaluru</td>\n",
       "      <td>GreatLearning</td>\n",
       "      <td>1-4 Yrs</td>\n",
       "    </tr>\n",
       "    <tr>\n",
       "      <th>4</th>\n",
       "      <td>Associate Data Scientist</td>\n",
       "      <td>Noida</td>\n",
       "      <td>Optum Global Solutions (India) Private Limited</td>\n",
       "      <td>2-7 Yrs</td>\n",
       "    </tr>\n",
       "    <tr>\n",
       "      <th>5</th>\n",
       "      <td>Data Scientist I/II/III</td>\n",
       "      <td>Gurgaon/Gurugram</td>\n",
       "      <td>OLX India Pvt Ltd</td>\n",
       "      <td>3-6 Yrs</td>\n",
       "    </tr>\n",
       "    <tr>\n",
       "      <th>6</th>\n",
       "      <td>Data Scientist</td>\n",
       "      <td>Mumbai, Gurgaon/Gurugram, Bangalore/Bengaluru</td>\n",
       "      <td>Fractal Analytics</td>\n",
       "      <td>3-7 Yrs</td>\n",
       "    </tr>\n",
       "    <tr>\n",
       "      <th>7</th>\n",
       "      <td>Data Scientist</td>\n",
       "      <td>Noida, Gurgaon/Gurugram</td>\n",
       "      <td>Optum Global Solutions (India) Private Limited</td>\n",
       "      <td>2-6 Yrs</td>\n",
       "    </tr>\n",
       "    <tr>\n",
       "      <th>8</th>\n",
       "      <td>Data Scientist</td>\n",
       "      <td>Gurgaon/Gurugram</td>\n",
       "      <td>Milliman India Pvt Ltd</td>\n",
       "      <td>2-5 Yrs</td>\n",
       "    </tr>\n",
       "    <tr>\n",
       "      <th>9</th>\n",
       "      <td>Data Scientist</td>\n",
       "      <td>Mumbai, Delhi / NCR</td>\n",
       "      <td>lericon infomatics pvt.ltd</td>\n",
       "      <td>3-5 Yrs</td>\n",
       "    </tr>\n",
       "  </tbody>\n",
       "</table>\n",
       "</div>"
      ],
      "text/plain": [
       "                                               Title  \\\n",
       "0                                     Data Scientist   \n",
       "1  Job Opportunity || Data Scientist || HCL Techn...   \n",
       "2                                     Data Scientist   \n",
       "3               Academic Counsellor - Data Scientist   \n",
       "4                           Associate Data Scientist   \n",
       "5                            Data Scientist I/II/III   \n",
       "6                                     Data Scientist   \n",
       "7                                     Data Scientist   \n",
       "8                                     Data Scientist   \n",
       "9                                     Data Scientist   \n",
       "\n",
       "                                        Location  \\\n",
       "0          Gurgaon/Gurugram, Bangalore/Bengaluru   \n",
       "1                                    Delhi / NCR   \n",
       "2          Gurgaon/Gurugram, Bangalore/Bengaluru   \n",
       "3          Gurgaon/Gurugram, Bangalore/Bengaluru   \n",
       "4                                          Noida   \n",
       "5                               Gurgaon/Gurugram   \n",
       "6  Mumbai, Gurgaon/Gurugram, Bangalore/Bengaluru   \n",
       "7                        Noida, Gurgaon/Gurugram   \n",
       "8                               Gurgaon/Gurugram   \n",
       "9                            Mumbai, Delhi / NCR   \n",
       "\n",
       "                                     Company Name Experience  \n",
       "0                EXL Services.com ( I ) Pvt. Ltd.    3-5 Yrs  \n",
       "1                                HCL Technologies    4-7 Yrs  \n",
       "2        Hexagon Geosystems Services India P.Ltd.   6-11 Yrs  \n",
       "3                                   GreatLearning    1-4 Yrs  \n",
       "4  Optum Global Solutions (India) Private Limited    2-7 Yrs  \n",
       "5                               OLX India Pvt Ltd    3-6 Yrs  \n",
       "6                               Fractal Analytics    3-7 Yrs  \n",
       "7  Optum Global Solutions (India) Private Limited    2-6 Yrs  \n",
       "8                          Milliman India Pvt Ltd    2-5 Yrs  \n",
       "9                      lericon infomatics pvt.ltd    3-5 Yrs  "
      ]
     },
     "execution_count": 22,
     "metadata": {},
     "output_type": "execute_result"
    }
   ],
   "source": [
    "import pandas as pd\n",
    "jobs=pd.DataFrame({})\n",
    "jobs[\"Title\"]=job_titles[0:10]\n",
    "jobs[\"Location\"]=locations_list[0:10]\n",
    "jobs[\"Company Name\"]=company_names[0:10]\n",
    "jobs[\"Experience\"]=experience_list[0:10]\n",
    "jobs"
   ]
  },
  {
   "cell_type": "code",
   "execution_count": null,
   "id": "7a33ae11",
   "metadata": {},
   "outputs": [],
   "source": []
  }
 ],
 "metadata": {
  "kernelspec": {
   "display_name": "Python 3",
   "language": "python",
   "name": "python3"
  },
  "language_info": {
   "codemirror_mode": {
    "name": "ipython",
    "version": 3
   },
   "file_extension": ".py",
   "mimetype": "text/x-python",
   "name": "python",
   "nbconvert_exporter": "python",
   "pygments_lexer": "ipython3",
   "version": "3.8.8"
  }
 },
 "nbformat": 4,
 "nbformat_minor": 5
}

{
 "cells": [
  {
   "cell_type": "code",
   "execution_count": 1,
   "id": "771f3eb1",
   "metadata": {},
   "outputs": [],
   "source": [
    "import selenium \n",
    "import pandas as pd\n",
    "from selenium import webdriver"
   ]
  },
  {
   "cell_type": "code",
   "execution_count": 19,
   "id": "b0749f75",
   "metadata": {},
   "outputs": [],
   "source": [
    "driver=webdriver.Chrome(\"chromedriver.exe\")"
   ]
  },
  {
   "cell_type": "code",
   "execution_count": 20,
   "id": "e38778fc",
   "metadata": {},
   "outputs": [],
   "source": [
    "driver.get(\"https://www.glassdoor.com/Job/index.htm\")"
   ]
  },
  {
   "cell_type": "code",
   "execution_count": 21,
   "id": "4611cc78",
   "metadata": {},
   "outputs": [],
   "source": [
    "search_job=driver.find_element_by_id('KeywordSearch')\n",
    "search_job.send_keys(\"Data Scientist\")\n",
    "search_loc=driver.find_element_by_id('LocationSearch')\n",
    "search_loc.clear()\n",
    "search_loc.send_keys(\"Noida\")"
   ]
  },
  {
   "cell_type": "code",
   "execution_count": 22,
   "id": "c6fe7994",
   "metadata": {},
   "outputs": [],
   "source": [
    "search_btn=driver.find_element_by_id(\"HeroSearchButton\")\n",
    "search_btn.click()"
   ]
  },
  {
   "cell_type": "code",
   "execution_count": 15,
   "id": "271650f2",
   "metadata": {},
   "outputs": [],
   "source": [
    "#company_name, No. of days \n",
    "#ago when job was posted, Rating of the company"
   ]
  },
  {
   "cell_type": "code",
   "execution_count": 31,
   "id": "adbdbc40",
   "metadata": {},
   "outputs": [],
   "source": [
    "company_tags=driver.find_elements_by_xpath(\"//div[@class='d-flex justify-content-between align-items-start']/a/span\")\n",
    "no_of_days_ago_posted=driver.find_elements_by_xpath(\"//div[@class='d-flex align-items-end pl-std css-17n8uzw']\")\n",
    "job_ratings=driver.find_elements_by_xpath(\"//div[@class='d-flex flex-column job-search-key-1pzmdmc e1rrn5ka1']\")"
   ]
  },
  {
   "cell_type": "code",
   "execution_count": 33,
   "id": "8fa15fe7",
   "metadata": {},
   "outputs": [
    {
     "data": {
      "text/plain": [
       "['Instrovate Technologies',\n",
       " 'Pixel Vision',\n",
       " 'Innovacer',\n",
       " 'Crowe',\n",
       " 'UnitedHealth Group',\n",
       " 'HDFC Bank',\n",
       " 'AlgoScale Technologies Private Limited',\n",
       " 'Salasar New Age Technologies',\n",
       " 'Optum - India',\n",
       " 'Techlive']"
      ]
     },
     "execution_count": 33,
     "metadata": {},
     "output_type": "execute_result"
    }
   ],
   "source": [
    "company_names=[]\n",
    "for i in company_tags:\n",
    "    names=i.text\n",
    "    company_names.append(names)\n",
    "company_names[0:10]"
   ]
  },
  {
   "cell_type": "code",
   "execution_count": 34,
   "id": "711f9430",
   "metadata": {},
   "outputs": [
    {
     "data": {
      "text/plain": [
       "['30d+', '3d', '3d', '13d', '7d', '4d', '30d+', '30d+', '22d', '30d+']"
      ]
     },
     "execution_count": 34,
     "metadata": {},
     "output_type": "execute_result"
    }
   ],
   "source": [
    "no_of_days=[]\n",
    "for i in no_of_days_ago_posted:\n",
    "    days=i.text\n",
    "    no_of_days.append(days)\n",
    "no_of_days[0:10]"
   ]
  },
  {
   "cell_type": "code",
   "execution_count": 35,
   "id": "048f57a5",
   "metadata": {},
   "outputs": [
    {
     "data": {
      "text/plain": [
       "['', '', '', '3.8', '3.7', '3.7', '4.0', '', '', '5.0']"
      ]
     },
     "execution_count": 35,
     "metadata": {},
     "output_type": "execute_result"
    }
   ],
   "source": [
    "job_rate=[]\n",
    "for i in job_ratings:\n",
    "    rating=i.text\n",
    "    job_rate.append(rating)\n",
    "job_rate[0:10]"
   ]
  },
  {
   "cell_type": "code",
   "execution_count": 41,
   "id": "7a6aef6c",
   "metadata": {},
   "outputs": [],
   "source": [
    "import pandas as pd\n",
    "jobs_df=pd.DataFrame({})\n",
    "jobs_df[\"company name\"]=company_names[0:10]\n",
    "jobs_df[\"job posted\"]=no_of_days[0:10]\n",
    "jobs_df[\"rating\"]=job_rate[0:10]"
   ]
  },
  {
   "cell_type": "code",
   "execution_count": 42,
   "id": "e32da1e8",
   "metadata": {},
   "outputs": [
    {
     "data": {
      "text/html": [
       "<div>\n",
       "<style scoped>\n",
       "    .dataframe tbody tr th:only-of-type {\n",
       "        vertical-align: middle;\n",
       "    }\n",
       "\n",
       "    .dataframe tbody tr th {\n",
       "        vertical-align: top;\n",
       "    }\n",
       "\n",
       "    .dataframe thead th {\n",
       "        text-align: right;\n",
       "    }\n",
       "</style>\n",
       "<table border=\"1\" class=\"dataframe\">\n",
       "  <thead>\n",
       "    <tr style=\"text-align: right;\">\n",
       "      <th></th>\n",
       "      <th>company name</th>\n",
       "      <th>job posted</th>\n",
       "      <th>rating</th>\n",
       "    </tr>\n",
       "  </thead>\n",
       "  <tbody>\n",
       "    <tr>\n",
       "      <th>0</th>\n",
       "      <td>Instrovate Technologies</td>\n",
       "      <td>30d+</td>\n",
       "      <td></td>\n",
       "    </tr>\n",
       "    <tr>\n",
       "      <th>1</th>\n",
       "      <td>Pixel Vision</td>\n",
       "      <td>3d</td>\n",
       "      <td></td>\n",
       "    </tr>\n",
       "    <tr>\n",
       "      <th>2</th>\n",
       "      <td>Innovacer</td>\n",
       "      <td>3d</td>\n",
       "      <td></td>\n",
       "    </tr>\n",
       "    <tr>\n",
       "      <th>3</th>\n",
       "      <td>Crowe</td>\n",
       "      <td>13d</td>\n",
       "      <td>3.8</td>\n",
       "    </tr>\n",
       "    <tr>\n",
       "      <th>4</th>\n",
       "      <td>UnitedHealth Group</td>\n",
       "      <td>7d</td>\n",
       "      <td>3.7</td>\n",
       "    </tr>\n",
       "    <tr>\n",
       "      <th>5</th>\n",
       "      <td>HDFC Bank</td>\n",
       "      <td>4d</td>\n",
       "      <td>3.7</td>\n",
       "    </tr>\n",
       "    <tr>\n",
       "      <th>6</th>\n",
       "      <td>AlgoScale Technologies Private Limited</td>\n",
       "      <td>30d+</td>\n",
       "      <td>4.0</td>\n",
       "    </tr>\n",
       "    <tr>\n",
       "      <th>7</th>\n",
       "      <td>Salasar New Age Technologies</td>\n",
       "      <td>30d+</td>\n",
       "      <td></td>\n",
       "    </tr>\n",
       "    <tr>\n",
       "      <th>8</th>\n",
       "      <td>Optum - India</td>\n",
       "      <td>22d</td>\n",
       "      <td></td>\n",
       "    </tr>\n",
       "    <tr>\n",
       "      <th>9</th>\n",
       "      <td>Techlive</td>\n",
       "      <td>30d+</td>\n",
       "      <td>5.0</td>\n",
       "    </tr>\n",
       "  </tbody>\n",
       "</table>\n",
       "</div>"
      ],
      "text/plain": [
       "                             company name job posted rating\n",
       "0                 Instrovate Technologies       30d+       \n",
       "1                            Pixel Vision         3d       \n",
       "2                               Innovacer         3d       \n",
       "3                                   Crowe        13d    3.8\n",
       "4                      UnitedHealth Group         7d    3.7\n",
       "5                               HDFC Bank         4d    3.7\n",
       "6  AlgoScale Technologies Private Limited       30d+    4.0\n",
       "7            Salasar New Age Technologies       30d+       \n",
       "8                           Optum - India        22d       \n",
       "9                                Techlive       30d+    5.0"
      ]
     },
     "execution_count": 42,
     "metadata": {},
     "output_type": "execute_result"
    }
   ],
   "source": [
    "jobs_df"
   ]
  },
  {
   "cell_type": "code",
   "execution_count": null,
   "id": "1e14c763",
   "metadata": {},
   "outputs": [],
   "source": []
  }
 ],
 "metadata": {
  "kernelspec": {
   "display_name": "Python 3",
   "language": "python",
   "name": "python3"
  },
  "language_info": {
   "codemirror_mode": {
    "name": "ipython",
    "version": 3
   },
   "file_extension": ".py",
   "mimetype": "text/x-python",
   "name": "python",
   "nbconvert_exporter": "python",
   "pygments_lexer": "ipython3",
   "version": "3.8.8"
  }
 },
 "nbformat": 4,
 "nbformat_minor": 5
}

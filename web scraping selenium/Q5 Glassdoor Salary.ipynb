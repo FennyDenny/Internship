{
 "cells": [
  {
   "cell_type": "code",
   "execution_count": 1,
   "id": "771f3eb1",
   "metadata": {},
   "outputs": [],
   "source": [
    "import selenium \n",
    "import pandas as pd\n",
    "from selenium import webdriver"
   ]
  },
  {
   "cell_type": "code",
   "execution_count": 31,
   "id": "b0749f75",
   "metadata": {},
   "outputs": [],
   "source": [
    "driver=webdriver.Chrome(\"chromedriver.exe\")"
   ]
  },
  {
   "cell_type": "code",
   "execution_count": 32,
   "id": "e38778fc",
   "metadata": {},
   "outputs": [],
   "source": [
    "driver.get(\"https://www.glassdoor.co.in/Salaries/index.htm\")"
   ]
  },
  {
   "cell_type": "code",
   "execution_count": 33,
   "id": "4611cc78",
   "metadata": {},
   "outputs": [],
   "source": [
    "search_job=driver.find_element_by_id('KeywordSearch')\n",
    "search_job.send_keys(\"Data Scientist\")\n",
    "search_loc=driver.find_element_by_id('LocationSearch')\n",
    "search_loc.clear()\n",
    "search_loc.send_keys(\"Noida\")"
   ]
  },
  {
   "cell_type": "code",
   "execution_count": 34,
   "id": "c6fe7994",
   "metadata": {},
   "outputs": [],
   "source": [
    "search_btn=driver.find_element_by_id(\"HeroSearchButton\")\n",
    "search_btn.click()"
   ]
  },
  {
   "cell_type": "code",
   "execution_count": 35,
   "id": "5fa1f2ac",
   "metadata": {},
   "outputs": [],
   "source": [
    "SignIn_link=driver.find_element_by_xpath(\"//a[@href='#signIn']\")\n",
    "SignIn_link.click()"
   ]
  },
  {
   "cell_type": "code",
   "execution_count": null,
   "id": "8f61ceb1",
   "metadata": {},
   "outputs": [],
   "source": [
    "#used my glassdoor account ID and password. hence masking it"
   ]
  },
  {
   "cell_type": "code",
   "execution_count": 39,
   "id": "3688c471",
   "metadata": {},
   "outputs": [],
   "source": [
    "userEmail_elements=driver.find_elements_by_xpath(\"//input[@id='userEmail']\")\n",
    "userEmail_elements[1].send_keys(\"*******\")"
   ]
  },
  {
   "cell_type": "code",
   "execution_count": null,
   "id": "d349a314",
   "metadata": {},
   "outputs": [],
   "source": [
    "#used my glassdoor account ID and password. hence masking it"
   ]
  },
  {
   "cell_type": "code",
   "execution_count": 40,
   "id": "7ae27de8",
   "metadata": {},
   "outputs": [],
   "source": [
    "password_elements=driver.find_elements_by_xpath(\"//input[@id='userPassword']\")\n",
    "password_elements[1].send_keys(\"******\")"
   ]
  },
  {
   "cell_type": "code",
   "execution_count": 42,
   "id": "797ac767",
   "metadata": {},
   "outputs": [],
   "source": [
    "SignIn_button_elements=driver.find_elements_by_xpath(\"//button[@name='submit']\")\n",
    "SignIn_button_elements[1].click()"
   ]
  },
  {
   "cell_type": "code",
   "execution_count": 43,
   "id": "c953efa5",
   "metadata": {},
   "outputs": [
    {
     "data": {
      "text/plain": [
       "['Tata Consultancy Services',\n",
       " 'IBM',\n",
       " 'Accenture',\n",
       " 'Ericsson-Worldwide',\n",
       " 'UnitedHealth Group',\n",
       " 'Delhivery',\n",
       " 'EXL Service',\n",
       " 'Optum',\n",
       " 'ZS Associates',\n",
       " 'Optum Global Solutions',\n",
       " 'dunnhumby',\n",
       " 'Valiance Solutions',\n",
       " 'Cognizant Technology Solutions',\n",
       " 'Amazon',\n",
       " 'Nagarro',\n",
       " 'Innovaccer',\n",
       " 'Fresher',\n",
       " 'OYO',\n",
       " 'HCL Technologies',\n",
       " 'Genpact']"
      ]
     },
     "execution_count": 43,
     "metadata": {},
     "output_type": "execute_result"
    }
   ],
   "source": [
    "company_list=[]\n",
    "company_elements=driver.find_elements_by_xpath(\"//a[@class='css-f3vw95 e1aj7ssy3']\")\n",
    "for elem in company_elements:\n",
    "    company=elem.text\n",
    "    company_list.append(company)\n",
    "company_list"
   ]
  },
  {
   "cell_type": "code",
   "execution_count": 56,
   "id": "b80bb26c",
   "metadata": {},
   "outputs": [
    {
     "data": {
      "text/plain": [
       "['3.9',\n",
       " '3.9',\n",
       " '4.1',\n",
       " '4',\n",
       " '3.7',\n",
       " '3.7',\n",
       " '3.6',\n",
       " '3.7',\n",
       " '4',\n",
       " '3.9',\n",
       " '4.1',\n",
       " '4.2',\n",
       " '3.8',\n",
       " '3.7',\n",
       " '4',\n",
       " '3.8',\n",
       " '4.2',\n",
       " '3.3',\n",
       " '3.7',\n",
       " '3.8']"
      ]
     },
     "execution_count": 56,
     "metadata": {},
     "output_type": "execute_result"
    }
   ],
   "source": [
    "rating_list=[]\n",
    "rating_elements=driver.find_elements_by_xpath(\"//span[@class='m-0 css-kyx745']\")\n",
    "for elem in rating_elements:\n",
    "    rating=elem.text\n",
    "    rating_list.append(rating)\n",
    "rating_list"
   ]
  },
  {
   "cell_type": "code",
   "execution_count": 48,
   "id": "1e03f43d",
   "metadata": {},
   "outputs": [
    {
     "data": {
      "text/plain": [
       "['₹6,36,785 /yr',\n",
       " '₹9,24,624 /yr',\n",
       " '₹12,24,104 /yr',\n",
       " '₹x,xx,xxx /yr',\n",
       " '₹xx,xx,xxx /yr',\n",
       " '₹xx,xx,xxx /yr',\n",
       " '₹xx,xx,xxx /yr',\n",
       " '₹xx,xx,xxx /yr',\n",
       " '₹xx,xx,xxx /yr',\n",
       " '₹xx,xx,xxx /yr',\n",
       " '₹xx,xx,xxx /yr',\n",
       " '₹x,xx,xxx /yr',\n",
       " '₹x,xx,xxx /yr',\n",
       " '₹xx,xx,xxx /yr',\n",
       " '₹xx,xx,xxx /yr',\n",
       " '₹xx,xx,xxx /yr',\n",
       " '₹xx,xxx /mo',\n",
       " '₹xx,xx,xxx /yr',\n",
       " '₹x,xx,xxx /yr',\n",
       " '₹x,xx,xxx /yr']"
      ]
     },
     "execution_count": 48,
     "metadata": {},
     "output_type": "execute_result"
    }
   ],
   "source": [
    "average_list=[]\n",
    "average_elements=driver.find_elements_by_xpath(\"//div[@class='col-12 col-lg-4 px-lg-0 d-flex align-items-baseline']\")\n",
    "for elem in average_elements:\n",
    "    average=elem.text.replace(\"\\n\",\"\")\n",
    "    average_list.append(average)\n",
    "average_list"
   ]
  },
  {
   "cell_type": "code",
   "execution_count": 50,
   "id": "7d441209",
   "metadata": {},
   "outputs": [
    {
     "data": {
      "text/plain": [
       "['₹4L',\n",
       " '₹6L',\n",
       " '₹6L',\n",
       " '₹xL',\n",
       " '₹xL',\n",
       " '₹xL',\n",
       " '₹xL',\n",
       " '₹xL',\n",
       " '₹xL',\n",
       " '₹xxL',\n",
       " '₹xL',\n",
       " '₹xL',\n",
       " '₹xL',\n",
       " '₹xxL',\n",
       " '₹xL',\n",
       " '₹xL',\n",
       " '₹xxT',\n",
       " '₹xxL',\n",
       " '₹xL',\n",
       " '₹xL']"
      ]
     },
     "execution_count": 50,
     "metadata": {},
     "output_type": "execute_result"
    }
   ],
   "source": [
    "min_list=[]\n",
    "min_elements=driver.find_elements_by_xpath(\"//div[@class='d-flex mt-xxsm css-79elbk epuxyqn0']/p[1]\")\n",
    "for elem in min_elements:\n",
    "    minimum=elem.text.replace(\"\\n\",\"\")\n",
    "    min_list.append(minimum)\n",
    "min_list\n"
   ]
  },
  {
   "cell_type": "code",
   "execution_count": 51,
   "id": "1a9153d5",
   "metadata": {},
   "outputs": [
    {
     "data": {
      "text/plain": [
       "['₹13L',\n",
       " '₹26L',\n",
       " '₹23L',\n",
       " '₹xxL',\n",
       " '₹xxL',\n",
       " '₹xCr',\n",
       " '₹xxL',\n",
       " '₹xxL',\n",
       " '₹xxL',\n",
       " '₹xxL',\n",
       " '₹xxL',\n",
       " '₹xxL',\n",
       " '₹xxL',\n",
       " '₹xxL',\n",
       " '₹xxL',\n",
       " '₹xxL',\n",
       " '₹xL',\n",
       " '₹xxL',\n",
       " '₹xxL',\n",
       " '₹xxL']"
      ]
     },
     "execution_count": 51,
     "metadata": {},
     "output_type": "execute_result"
    }
   ],
   "source": [
    "max_list=[]\n",
    "max_elements=driver.find_elements_by_xpath(\"//div[@class='d-flex mt-xxsm css-79elbk epuxyqn0']/p[2]\")\n",
    "for elem in max_elements:\n",
    "    maximum=elem.text.replace(\"\\n\",\"\")\n",
    "    max_list.append(maximum)\n",
    "max_list"
   ]
  },
  {
   "cell_type": "code",
   "execution_count": 57,
   "id": "91f37f15",
   "metadata": {},
   "outputs": [
    {
     "data": {
      "text/plain": [
       "(20, 20, 20, 20, 20)"
      ]
     },
     "execution_count": 57,
     "metadata": {},
     "output_type": "execute_result"
    }
   ],
   "source": [
    "len(company_list),len(rating_list),len(average_list),len(max_list),len(min_list)"
   ]
  },
  {
   "cell_type": "code",
   "execution_count": 58,
   "id": "fe5fcc8e",
   "metadata": {},
   "outputs": [
    {
     "data": {
      "text/html": [
       "<div>\n",
       "<style scoped>\n",
       "    .dataframe tbody tr th:only-of-type {\n",
       "        vertical-align: middle;\n",
       "    }\n",
       "\n",
       "    .dataframe tbody tr th {\n",
       "        vertical-align: top;\n",
       "    }\n",
       "\n",
       "    .dataframe thead th {\n",
       "        text-align: right;\n",
       "    }\n",
       "</style>\n",
       "<table border=\"1\" class=\"dataframe\">\n",
       "  <thead>\n",
       "    <tr style=\"text-align: right;\">\n",
       "      <th></th>\n",
       "      <th>Company</th>\n",
       "      <th>Rating</th>\n",
       "      <th>Average salary</th>\n",
       "      <th>Min salary</th>\n",
       "      <th>Max salary</th>\n",
       "    </tr>\n",
       "  </thead>\n",
       "  <tbody>\n",
       "    <tr>\n",
       "      <th>0</th>\n",
       "      <td>Tata Consultancy Services</td>\n",
       "      <td>3.9</td>\n",
       "      <td>₹6,36,785 /yr</td>\n",
       "      <td>₹13L</td>\n",
       "      <td>₹4L</td>\n",
       "    </tr>\n",
       "    <tr>\n",
       "      <th>1</th>\n",
       "      <td>IBM</td>\n",
       "      <td>3.9</td>\n",
       "      <td>₹9,24,624 /yr</td>\n",
       "      <td>₹26L</td>\n",
       "      <td>₹6L</td>\n",
       "    </tr>\n",
       "    <tr>\n",
       "      <th>2</th>\n",
       "      <td>Accenture</td>\n",
       "      <td>4.1</td>\n",
       "      <td>₹12,24,104 /yr</td>\n",
       "      <td>₹23L</td>\n",
       "      <td>₹6L</td>\n",
       "    </tr>\n",
       "    <tr>\n",
       "      <th>3</th>\n",
       "      <td>Ericsson-Worldwide</td>\n",
       "      <td>4</td>\n",
       "      <td>₹x,xx,xxx /yr</td>\n",
       "      <td>₹xxL</td>\n",
       "      <td>₹xL</td>\n",
       "    </tr>\n",
       "    <tr>\n",
       "      <th>4</th>\n",
       "      <td>UnitedHealth Group</td>\n",
       "      <td>3.7</td>\n",
       "      <td>₹xx,xx,xxx /yr</td>\n",
       "      <td>₹xxL</td>\n",
       "      <td>₹xL</td>\n",
       "    </tr>\n",
       "    <tr>\n",
       "      <th>5</th>\n",
       "      <td>Delhivery</td>\n",
       "      <td>3.7</td>\n",
       "      <td>₹xx,xx,xxx /yr</td>\n",
       "      <td>₹xCr</td>\n",
       "      <td>₹xL</td>\n",
       "    </tr>\n",
       "    <tr>\n",
       "      <th>6</th>\n",
       "      <td>EXL Service</td>\n",
       "      <td>3.6</td>\n",
       "      <td>₹xx,xx,xxx /yr</td>\n",
       "      <td>₹xxL</td>\n",
       "      <td>₹xL</td>\n",
       "    </tr>\n",
       "    <tr>\n",
       "      <th>7</th>\n",
       "      <td>Optum</td>\n",
       "      <td>3.7</td>\n",
       "      <td>₹xx,xx,xxx /yr</td>\n",
       "      <td>₹xxL</td>\n",
       "      <td>₹xL</td>\n",
       "    </tr>\n",
       "    <tr>\n",
       "      <th>8</th>\n",
       "      <td>ZS Associates</td>\n",
       "      <td>4</td>\n",
       "      <td>₹xx,xx,xxx /yr</td>\n",
       "      <td>₹xxL</td>\n",
       "      <td>₹xL</td>\n",
       "    </tr>\n",
       "    <tr>\n",
       "      <th>9</th>\n",
       "      <td>Optum Global Solutions</td>\n",
       "      <td>3.9</td>\n",
       "      <td>₹xx,xx,xxx /yr</td>\n",
       "      <td>₹xxL</td>\n",
       "      <td>₹xxL</td>\n",
       "    </tr>\n",
       "  </tbody>\n",
       "</table>\n",
       "</div>"
      ],
      "text/plain": [
       "                     Company Rating  Average salary Min salary Max salary\n",
       "0  Tata Consultancy Services    3.9   ₹6,36,785 /yr       ₹13L        ₹4L\n",
       "1                        IBM    3.9   ₹9,24,624 /yr       ₹26L        ₹6L\n",
       "2                  Accenture    4.1  ₹12,24,104 /yr       ₹23L        ₹6L\n",
       "3         Ericsson-Worldwide      4   ₹x,xx,xxx /yr       ₹xxL        ₹xL\n",
       "4         UnitedHealth Group    3.7  ₹xx,xx,xxx /yr       ₹xxL        ₹xL\n",
       "5                  Delhivery    3.7  ₹xx,xx,xxx /yr       ₹xCr        ₹xL\n",
       "6                EXL Service    3.6  ₹xx,xx,xxx /yr       ₹xxL        ₹xL\n",
       "7                      Optum    3.7  ₹xx,xx,xxx /yr       ₹xxL        ₹xL\n",
       "8              ZS Associates      4  ₹xx,xx,xxx /yr       ₹xxL        ₹xL\n",
       "9     Optum Global Solutions    3.9  ₹xx,xx,xxx /yr       ₹xxL       ₹xxL"
      ]
     },
     "execution_count": 58,
     "metadata": {},
     "output_type": "execute_result"
    }
   ],
   "source": [
    "import pandas as pd\n",
    "glassdoor=pd.DataFrame({})\n",
    "glassdoor[\"Company\"]=company_list[0:10]\n",
    "glassdoor[\"Rating\"]=rating_list[0:10]\n",
    "glassdoor[\"Average salary\"]=average_list[0:10]\n",
    "glassdoor[\"Min salary\"]=max_list[0:10]\n",
    "glassdoor[\"Max salary\"]=min_list[0:10]\n",
    "glassdoor"
   ]
  },
  {
   "cell_type": "code",
   "execution_count": null,
   "id": "2b6290e9",
   "metadata": {},
   "outputs": [],
   "source": []
  }
 ],
 "metadata": {
  "kernelspec": {
   "display_name": "Python 3",
   "language": "python",
   "name": "python3"
  },
  "language_info": {
   "codemirror_mode": {
    "name": "ipython",
    "version": 3
   },
   "file_extension": ".py",
   "mimetype": "text/x-python",
   "name": "python",
   "nbconvert_exporter": "python",
   "pygments_lexer": "ipython3",
   "version": "3.8.8"
  }
 },
 "nbformat": 4,
 "nbformat_minor": 5
}

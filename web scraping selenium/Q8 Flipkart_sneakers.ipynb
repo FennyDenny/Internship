{
 "cells": [
  {
   "cell_type": "code",
   "execution_count": 1,
   "id": "ba3d6c1f",
   "metadata": {},
   "outputs": [],
   "source": [
    "import selenium \n",
    "import pandas as pd\n",
    "import time\n",
    "from selenium import webdriver\n",
    "from selenium.common.exceptions import NoSuchElementException\n"
   ]
  },
  {
   "cell_type": "code",
   "execution_count": 2,
   "id": "d76052a0",
   "metadata": {},
   "outputs": [],
   "source": [
    "driver=webdriver.Chrome(\"chromedriver.exe\")"
   ]
  },
  {
   "cell_type": "code",
   "execution_count": 3,
   "id": "f7184593",
   "metadata": {},
   "outputs": [],
   "source": [
    "driver.get(\"https://www.flipkart.com/\")"
   ]
  },
  {
   "cell_type": "code",
   "execution_count": 4,
   "id": "3cf04bc1",
   "metadata": {},
   "outputs": [],
   "source": [
    "close_btn_element=driver.find_element_by_xpath(\"//div[@class='_2QfC02']/button\")\n",
    "close_btn_element.click()"
   ]
  },
  {
   "cell_type": "code",
   "execution_count": 5,
   "id": "5c516c58",
   "metadata": {},
   "outputs": [],
   "source": [
    "search_element=driver.find_element_by_name(\"q\")\n",
    "search_element.send_keys(\"sneakers\")"
   ]
  },
  {
   "cell_type": "code",
   "execution_count": 6,
   "id": "53ddaed8",
   "metadata": {},
   "outputs": [],
   "source": [
    "search_btn_element=driver.find_element_by_xpath(\"//button[@type='submit']\")\n",
    "search_btn_element.click()\n",
    "time.sleep(3)"
   ]
  },
  {
   "cell_type": "markdown",
   "id": "830d70ca",
   "metadata": {},
   "source": [
    "Fetching Brands web elements from page 1 and storing its value in brand list"
   ]
  },
  {
   "cell_type": "code",
   "execution_count": 7,
   "id": "2fc2ad94",
   "metadata": {},
   "outputs": [
    {
     "data": {
      "text/plain": [
       "['Wildcraft',\n",
       " 'Wildcraft',\n",
       " 'BRUTON',\n",
       " 'Magnolia',\n",
       " 'luxury fashion',\n",
       " 'BIRDE',\n",
       " 'BRUTON',\n",
       " 'Chevit',\n",
       " 'Numenzo',\n",
       " 'D-SNEAKERZ',\n",
       " 'India hub',\n",
       " 'BIRDE',\n",
       " 'Robbie jones',\n",
       " 'BIRDE',\n",
       " 'Numenzo',\n",
       " 'Chevit',\n",
       " 'HOTSTYLE',\n",
       " 'bluemaker',\n",
       " 'Robbie jones',\n",
       " 'Chevit',\n",
       " 'believe',\n",
       " 'Robbie jones',\n",
       " 'Edoeviv',\n",
       " 'Xtoon',\n",
       " 'Numenzo',\n",
       " 'Kraasa',\n",
       " 'Chevit',\n",
       " 'Extoes',\n",
       " 'Zsyto',\n",
       " 'ASTEROID',\n",
       " 'ESSENCE',\n",
       " 'PUMA',\n",
       " 'SPARX',\n",
       " 'BRUTON',\n",
       " 'Chevit',\n",
       " 'JOHAR KING',\n",
       " 'SCATCHITE',\n",
       " 'bluemaker',\n",
       " 'Creer',\n",
       " 'DOC Martin']"
      ]
     },
     "execution_count": 7,
     "metadata": {},
     "output_type": "execute_result"
    }
   ],
   "source": [
    "brands_elements=driver.find_elements_by_xpath(\"//div[@class='_2WkVRV']\")\n",
    "brands_list=[]\n",
    "for elem in brands_elements:\n",
    "    try:\n",
    "        brand=elem.text\n",
    "        brands_list.append(brand)\n",
    "    except:\n",
    "        brands_list.append(\"-\")\n",
    "brands_list"
   ]
  },
  {
   "cell_type": "markdown",
   "id": "30b3eab5",
   "metadata": {},
   "source": [
    "Fetching Brands Description elements from page 1 and storing its value in brands_description_list"
   ]
  },
  {
   "cell_type": "code",
   "execution_count": 8,
   "id": "f06879d4",
   "metadata": {},
   "outputs": [
    {
     "data": {
      "text/plain": [
       "40"
      ]
     },
     "execution_count": 8,
     "metadata": {},
     "output_type": "execute_result"
    }
   ],
   "source": [
    "brands_description_elements=driver.find_elements_by_xpath(\"//a[starts-with(@class,'IRpwTa')]\")\n",
    "brands_description_list=[]\n",
    "for elem in brands_description_elements:\n",
    "    try:\n",
    "        brands_description=elem.text\n",
    "        brands_description_list.append(brands_description)\n",
    "    except:\n",
    "        brands_description_list.append(\"-\")\n",
    "brands_description_list\n",
    "len(brands_description_list)"
   ]
  },
  {
   "cell_type": "markdown",
   "id": "719a6d14",
   "metadata": {},
   "source": [
    "Fetching Price web elements from page 1 and storing its value in price_list"
   ]
  },
  {
   "cell_type": "code",
   "execution_count": 9,
   "id": "3f182979",
   "metadata": {},
   "outputs": [
    {
     "data": {
      "text/plain": [
       "['₹2,599',\n",
       " '₹2,599',\n",
       " '₹399',\n",
       " '₹398',\n",
       " '₹399',\n",
       " '₹399',\n",
       " '₹472',\n",
       " '₹554',\n",
       " '₹499',\n",
       " '₹348',\n",
       " '₹499',\n",
       " '₹279',\n",
       " '₹379',\n",
       " '₹399',\n",
       " '₹449',\n",
       " '₹599',\n",
       " '₹282',\n",
       " '₹499',\n",
       " '₹474',\n",
       " '₹899',\n",
       " '₹449',\n",
       " '₹499',\n",
       " '₹499',\n",
       " '₹429',\n",
       " '₹429',\n",
       " '₹555',\n",
       " '₹599',\n",
       " '₹849',\n",
       " '₹418',\n",
       " '₹499',\n",
       " '₹499',\n",
       " '₹3,360',\n",
       " '₹828',\n",
       " '₹359',\n",
       " '₹249',\n",
       " '₹449',\n",
       " '₹398',\n",
       " '₹499',\n",
       " '₹398',\n",
       " '₹999']"
      ]
     },
     "execution_count": 9,
     "metadata": {},
     "output_type": "execute_result"
    }
   ],
   "source": [
    "price_elements=driver.find_elements_by_xpath(\"//div[@class='_30jeq3']\")\n",
    "price_list=[]\n",
    "for elem in price_elements:\n",
    "    try:\n",
    "        price=elem.text\n",
    "        price_list.append(price)\n",
    "    except:\n",
    "        price_list.append(\"-\")\n",
    "price_list"
   ]
  },
  {
   "cell_type": "markdown",
   "id": "e20639a9",
   "metadata": {},
   "source": [
    "Fetching Dicount web elements from page 1 and storing its value in discount_list.\n",
    "Since some of the brand does not have discount, fetched the discount based on the parent"
   ]
  },
  {
   "cell_type": "code",
   "execution_count": 10,
   "id": "0b15a3b9",
   "metadata": {},
   "outputs": [
    {
     "data": {
      "text/plain": [
       "['-',\n",
       " '-',\n",
       " '69% off',\n",
       " '60% off',\n",
       " '69% off',\n",
       " '20% off',\n",
       " '88% off',\n",
       " '72% off',\n",
       " '75% off',\n",
       " '47% off',\n",
       " '83% off',\n",
       " '44% off',\n",
       " '62% off',\n",
       " '20% off',\n",
       " '65% off',\n",
       " '60% off',\n",
       " '71% off',\n",
       " '50% off',\n",
       " '52% off',\n",
       " '63% off',\n",
       " '55% off',\n",
       " '50% off',\n",
       " '37% off',\n",
       " '71% off',\n",
       " '57% off',\n",
       " '44% off',\n",
       " '66% off',\n",
       " '43% off',\n",
       " '58% off',\n",
       " '75% off',\n",
       " '50% off',\n",
       " '51% off',\n",
       " '17% off',\n",
       " '72% off',\n",
       " '50% off',\n",
       " '77% off',\n",
       " '60% off',\n",
       " '50% off',\n",
       " '60% off',\n",
       " '60% off']"
      ]
     },
     "execution_count": 10,
     "metadata": {},
     "output_type": "execute_result"
    }
   ],
   "source": [
    "price_and_discount_elements=driver.find_elements_by_xpath(\"//a[@class='_3bPFwb']\")\n",
    "discount_list=[]\n",
    "for elem in price_and_discount_elements:\n",
    "    try:\n",
    "        discount=elem.find_element_by_xpath(\".//div[@class='_3Ay6Sb']\").text\n",
    "        discount_list.append(discount)\n",
    "    except NoSuchElementException:\n",
    "        discount_list.append(\"-\")\n",
    "discount_list"
   ]
  },
  {
   "cell_type": "markdown",
   "id": "209dbe82",
   "metadata": {},
   "source": [
    "Clicking next page goto next page"
   ]
  },
  {
   "cell_type": "code",
   "execution_count": 11,
   "id": "de0bb2cf",
   "metadata": {},
   "outputs": [],
   "source": [
    "next_btn_element=driver.find_element_by_xpath(\"//a[@class='_1LKTO3']\")\n",
    "next_btn_element.click()\n",
    "time.sleep(3)"
   ]
  },
  {
   "cell_type": "markdown",
   "id": "cb9da850",
   "metadata": {},
   "source": [
    "Fetching Brands web elements from page 2 and storing its value in brand list"
   ]
  },
  {
   "cell_type": "code",
   "execution_count": 12,
   "id": "923e8576",
   "metadata": {},
   "outputs": [
    {
     "data": {
      "text/plain": [
       "['BRUTON',\n",
       " 'Shoes Bank',\n",
       " 'bluemaker',\n",
       " 'JACK & JONES',\n",
       " 'BRUTON',\n",
       " 'HOTSTYLE',\n",
       " 'Robbie jones',\n",
       " 'AMICO',\n",
       " 'SPARX',\n",
       " 'bluemaker',\n",
       " 'Arohi',\n",
       " 'PUMA',\n",
       " 'luxury fashion',\n",
       " 'India hub',\n",
       " 'NAUTICA',\n",
       " 'PUMA',\n",
       " 'HOC',\n",
       " 'Nilatin',\n",
       " 'zovim',\n",
       " 'Chevit',\n",
       " 'Numenzo',\n",
       " 'BIRDE',\n",
       " 'Robbie jones',\n",
       " 'ADIDAS',\n",
       " 'RODDICK SHOES',\n",
       " 'Airland',\n",
       " 'ESSENCE',\n",
       " 'PUMA',\n",
       " 'BIRDE',\n",
       " 'Allen Solly',\n",
       " 'RODDICK SHOES',\n",
       " 'PUMA',\n",
       " 'RED TAPE',\n",
       " 'BIRDE',\n",
       " 'BIRDE',\n",
       " 'PUMA',\n",
       " 'Chevit',\n",
       " 'PUMA',\n",
       " 'kardam&sons',\n",
       " 'U.S. POLO ASSN.']"
      ]
     },
     "execution_count": 12,
     "metadata": {},
     "output_type": "execute_result"
    }
   ],
   "source": [
    "brands_page2_elements=driver.find_elements_by_xpath(\"//div[@class='_2WkVRV']\")\n",
    "brands_page2_list=[]\n",
    "for elem in brands_page2_elements:\n",
    "    try:\n",
    "        brand=elem.text\n",
    "        brands_page2_list.append(brand)\n",
    "    except:\n",
    "        brands_page2_list.append(\"-\")\n",
    "brands_page2_list"
   ]
  },
  {
   "cell_type": "markdown",
   "id": "fb1cd220",
   "metadata": {},
   "source": [
    "Fetching Brands Description web elements from page 2 \n",
    "and storing its value in brand brands_page2_description_list"
   ]
  },
  {
   "cell_type": "code",
   "execution_count": 13,
   "id": "3fab45d8",
   "metadata": {},
   "outputs": [
    {
     "data": {
      "text/plain": [
       "40"
      ]
     },
     "execution_count": 13,
     "metadata": {},
     "output_type": "execute_result"
    }
   ],
   "source": [
    "brands_page2_description_elements=driver.find_elements_by_xpath(\"//a[starts-with(@class,'IRpwTa')]\")\n",
    "brands_page2_description_list=[]\n",
    "for elem in brands_page2_description_elements:\n",
    "    try:\n",
    "        brands_description=elem.text\n",
    "        brands_page2_description_list.append(brands_description)\n",
    "    except:\n",
    "        brands_page2_description_list.append(\"-\")\n",
    "brands_page2_description_list\n",
    "len(brands_page2_description_list)"
   ]
  },
  {
   "cell_type": "markdown",
   "id": "b06766e6",
   "metadata": {},
   "source": [
    "Fetching Price web elements from page 2 \n",
    "and storing its value in brand price_page2_list"
   ]
  },
  {
   "cell_type": "code",
   "execution_count": 14,
   "id": "f598e944",
   "metadata": {},
   "outputs": [
    {
     "data": {
      "text/plain": [
       "['₹624',\n",
       " '₹348',\n",
       " '₹499',\n",
       " '₹1,874',\n",
       " '₹526',\n",
       " '₹198',\n",
       " '₹449',\n",
       " '₹464',\n",
       " '₹630',\n",
       " '₹499',\n",
       " '₹459',\n",
       " '₹3,599',\n",
       " '₹449',\n",
       " '₹445',\n",
       " '₹1,799',\n",
       " '₹2,239',\n",
       " '₹419',\n",
       " '₹439',\n",
       " '₹459',\n",
       " '₹599',\n",
       " '₹469',\n",
       " '₹525',\n",
       " '₹474',\n",
       " '₹2,399',\n",
       " '₹474',\n",
       " '₹257',\n",
       " '₹499',\n",
       " '₹2,129',\n",
       " '₹279',\n",
       " '₹2,499',\n",
       " '₹474',\n",
       " '₹3,499',\n",
       " '₹1,049',\n",
       " '₹842',\n",
       " '₹525',\n",
       " '₹3,639',\n",
       " '₹699',\n",
       " '₹3,499',\n",
       " '₹429',\n",
       " '₹2,799']"
      ]
     },
     "execution_count": 14,
     "metadata": {},
     "output_type": "execute_result"
    }
   ],
   "source": [
    "price_page2_elements=driver.find_elements_by_xpath(\"//div[@class='_30jeq3']\")\n",
    "price_page2_list=[]\n",
    "for elem in price_page2_elements:\n",
    "    try:\n",
    "        price=elem.text\n",
    "        price_page2_list.append(price)\n",
    "    except:\n",
    "        price_page2_list.append(\"-\")\n",
    "price_page2_list"
   ]
  },
  {
   "cell_type": "markdown",
   "id": "e1e9f214",
   "metadata": {},
   "source": [
    "Fetching Dicount web elements from page 2 and storing its value in discount_page2_list.\n",
    "Since some of the brand does not have discount, fetched the discount based on the parent"
   ]
  },
  {
   "cell_type": "code",
   "execution_count": 15,
   "id": "2aa3ce58",
   "metadata": {},
   "outputs": [
    {
     "data": {
      "text/plain": [
       "['75% off',\n",
       " '65% off',\n",
       " '50% off',\n",
       " '37% off',\n",
       " '78% off',\n",
       " '60% off',\n",
       " '55% off',\n",
       " '53% off',\n",
       " '22% off',\n",
       " '50% off',\n",
       " '54% off',\n",
       " '55% off',\n",
       " '65% off',\n",
       " '77% off',\n",
       " '66% off',\n",
       " '44% off',\n",
       " '79% off',\n",
       " '66% off',\n",
       " '54% off',\n",
       " '66% off',\n",
       " '63% off',\n",
       " '47% off',\n",
       " '52% off',\n",
       " '40% off',\n",
       " '52% off',\n",
       " '48% off',\n",
       " '50% off',\n",
       " '43% off',\n",
       " '44% off',\n",
       " '-',\n",
       " '52% off',\n",
       " '-',\n",
       " '77% off',\n",
       " '66% off',\n",
       " '47% off',\n",
       " '44% off',\n",
       " '56% off',\n",
       " '-',\n",
       " '78% off',\n",
       " '30% off']"
      ]
     },
     "execution_count": 15,
     "metadata": {},
     "output_type": "execute_result"
    }
   ],
   "source": [
    "price_and_discount_page2_elements=driver.find_elements_by_xpath(\"//a[@class='_3bPFwb']\")\n",
    "discount_page2_list=[]\n",
    "for elem in price_and_discount_page2_elements:\n",
    "    try:\n",
    "        discount=elem.find_element_by_xpath(\".//div[@class='_3Ay6Sb']\").text\n",
    "        discount_page2_list.append(discount)\n",
    "    except NoSuchElementException:\n",
    "        discount_page2_list.append(\"-\")\n",
    "discount_page2_list"
   ]
  },
  {
   "cell_type": "markdown",
   "id": "fa3235ce",
   "metadata": {},
   "source": [
    "Clicking next page goto next page(3)"
   ]
  },
  {
   "cell_type": "code",
   "execution_count": 16,
   "id": "c4f3e12e",
   "metadata": {},
   "outputs": [],
   "source": [
    "next_btn_element=driver.find_element_by_xpath(\"//a[@class='_1LKTO3']\")\n",
    "next_btn_element.click()\n",
    "time.sleep(3)"
   ]
  },
  {
   "cell_type": "markdown",
   "id": "701d700d",
   "metadata": {},
   "source": [
    "Fetching Brands web elements from page 3 and storing its value in brands_page3_list"
   ]
  },
  {
   "cell_type": "code",
   "execution_count": 17,
   "id": "df8431ca",
   "metadata": {},
   "outputs": [
    {
     "data": {
      "text/plain": [
       "['Wildcraft',\n",
       " 'Wildcraft',\n",
       " 'BRUTON',\n",
       " 'Magnolia',\n",
       " 'luxury fashion',\n",
       " 'BIRDE',\n",
       " 'BRUTON',\n",
       " 'Chevit',\n",
       " 'Numenzo',\n",
       " 'D-SNEAKERZ',\n",
       " 'India hub',\n",
       " 'BIRDE',\n",
       " 'Robbie jones',\n",
       " 'BIRDE',\n",
       " 'Numenzo',\n",
       " 'Chevit',\n",
       " 'HOTSTYLE',\n",
       " 'bluemaker',\n",
       " 'Robbie jones',\n",
       " 'Chevit']"
      ]
     },
     "execution_count": 17,
     "metadata": {},
     "output_type": "execute_result"
    }
   ],
   "source": [
    "brands_page3_elements=driver.find_elements_by_xpath(\"//div[@class='_2WkVRV']\")\n",
    "brands_page3_list=[]\n",
    "for elem in brands_page3_elements[0:20]:\n",
    "    try:\n",
    "        brand=elem.text\n",
    "        brands_page3_list.append(brand)\n",
    "    except:\n",
    "        brands_page3_list.append(\"-\")\n",
    "brands_page3_list"
   ]
  },
  {
   "cell_type": "markdown",
   "id": "036db41e",
   "metadata": {},
   "source": [
    "Fetching Brands Description web elements from page 3 \n",
    "and storing its value in brand brands_page3_description_list"
   ]
  },
  {
   "cell_type": "code",
   "execution_count": 18,
   "id": "e58eb477",
   "metadata": {},
   "outputs": [
    {
     "data": {
      "text/plain": [
       "20"
      ]
     },
     "execution_count": 18,
     "metadata": {},
     "output_type": "execute_result"
    }
   ],
   "source": [
    "brands_page3_description_elements=driver.find_elements_by_xpath(\"//a[starts-with(@class,'IRpwTa')]\")\n",
    "brands_page3_description_list=[]\n",
    "for elem in brands_page3_description_elements[0:20]:\n",
    "    try:\n",
    "        brands_description=elem.text\n",
    "        brands_page3_description_list.append(brands_description)\n",
    "    except:\n",
    "        brands_page3_description_list.append(\"-\")\n",
    "brands_page3_description_list\n",
    "len(brands_page3_description_list)"
   ]
  },
  {
   "cell_type": "markdown",
   "id": "a53040b4",
   "metadata": {},
   "source": [
    "Fetching Price web elements from page 3\n",
    "and storing its value in brand price_page3_list"
   ]
  },
  {
   "cell_type": "code",
   "execution_count": 19,
   "id": "2c86c82c",
   "metadata": {},
   "outputs": [
    {
     "data": {
      "text/plain": [
       "['₹2,599',\n",
       " '₹2,599',\n",
       " '₹399',\n",
       " '₹398',\n",
       " '₹399',\n",
       " '₹399',\n",
       " '₹472',\n",
       " '₹554',\n",
       " '₹499',\n",
       " '₹348',\n",
       " '₹499',\n",
       " '₹279',\n",
       " '₹379',\n",
       " '₹399',\n",
       " '₹449',\n",
       " '₹599',\n",
       " '₹282',\n",
       " '₹499',\n",
       " '₹474',\n",
       " '₹899']"
      ]
     },
     "execution_count": 19,
     "metadata": {},
     "output_type": "execute_result"
    }
   ],
   "source": [
    "price_page3_elements=driver.find_elements_by_xpath(\"//div[@class='_30jeq3']\")\n",
    "price_page3_list=[]\n",
    "for elem in price_page3_elements[0:20]:\n",
    "    try:\n",
    "        price=elem.text\n",
    "        price_page3_list.append(price)\n",
    "    except:\n",
    "        price_page3_list.append(\"-\")\n",
    "price_page3_list"
   ]
  },
  {
   "cell_type": "markdown",
   "id": "5f76fc01",
   "metadata": {},
   "source": [
    "Fetching Dicount web elements from page 2 and storing its value in discount_page3_list.\n",
    "Since some of the brand does not have discount, fetched the discount based on the parent"
   ]
  },
  {
   "cell_type": "code",
   "execution_count": 20,
   "id": "5705a5c2",
   "metadata": {},
   "outputs": [
    {
     "data": {
      "text/plain": [
       "['-',\n",
       " '-',\n",
       " '69% off',\n",
       " '60% off',\n",
       " '69% off',\n",
       " '20% off',\n",
       " '88% off',\n",
       " '72% off',\n",
       " '75% off',\n",
       " '47% off',\n",
       " '83% off',\n",
       " '44% off',\n",
       " '62% off',\n",
       " '20% off',\n",
       " '65% off',\n",
       " '60% off',\n",
       " '71% off',\n",
       " '50% off',\n",
       " '52% off',\n",
       " '63% off']"
      ]
     },
     "execution_count": 20,
     "metadata": {},
     "output_type": "execute_result"
    }
   ],
   "source": [
    "price_and_discount_page3_elements=driver.find_elements_by_xpath(\"//a[@class='_3bPFwb']\")\n",
    "discount_page3_list=[]\n",
    "for elem in price_and_discount_page3_elements[0:20]:\n",
    "    try:\n",
    "        discount=elem.find_element_by_xpath(\".//div[@class='_3Ay6Sb']\").text\n",
    "        discount_page3_list.append(discount)\n",
    "    except NoSuchElementException:\n",
    "        discount_page3_list.append(\"-\")\n",
    "discount_page3_list"
   ]
  },
  {
   "cell_type": "markdown",
   "id": "3eeb922d",
   "metadata": {},
   "source": [
    "combining Brand list from 3 pages"
   ]
  },
  {
   "cell_type": "code",
   "execution_count": 21,
   "id": "70d19f66",
   "metadata": {},
   "outputs": [
    {
     "data": {
      "text/plain": [
       "['Wildcraft',\n",
       " 'Wildcraft',\n",
       " 'BRUTON',\n",
       " 'Magnolia',\n",
       " 'luxury fashion',\n",
       " 'BIRDE',\n",
       " 'BRUTON',\n",
       " 'Chevit',\n",
       " 'Numenzo',\n",
       " 'D-SNEAKERZ',\n",
       " 'India hub',\n",
       " 'BIRDE',\n",
       " 'Robbie jones',\n",
       " 'BIRDE',\n",
       " 'Numenzo',\n",
       " 'Chevit',\n",
       " 'HOTSTYLE',\n",
       " 'bluemaker',\n",
       " 'Robbie jones',\n",
       " 'Chevit',\n",
       " 'believe',\n",
       " 'Robbie jones',\n",
       " 'Edoeviv',\n",
       " 'Xtoon',\n",
       " 'Numenzo',\n",
       " 'Kraasa',\n",
       " 'Chevit',\n",
       " 'Extoes',\n",
       " 'Zsyto',\n",
       " 'ASTEROID',\n",
       " 'ESSENCE',\n",
       " 'PUMA',\n",
       " 'SPARX',\n",
       " 'BRUTON',\n",
       " 'Chevit',\n",
       " 'JOHAR KING',\n",
       " 'SCATCHITE',\n",
       " 'bluemaker',\n",
       " 'Creer',\n",
       " 'DOC Martin',\n",
       " 'BRUTON',\n",
       " 'Shoes Bank',\n",
       " 'bluemaker',\n",
       " 'JACK & JONES',\n",
       " 'BRUTON',\n",
       " 'HOTSTYLE',\n",
       " 'Robbie jones',\n",
       " 'AMICO',\n",
       " 'SPARX',\n",
       " 'bluemaker',\n",
       " 'Arohi',\n",
       " 'PUMA',\n",
       " 'luxury fashion',\n",
       " 'India hub',\n",
       " 'NAUTICA',\n",
       " 'PUMA',\n",
       " 'HOC',\n",
       " 'Nilatin',\n",
       " 'zovim',\n",
       " 'Chevit',\n",
       " 'Numenzo',\n",
       " 'BIRDE',\n",
       " 'Robbie jones',\n",
       " 'ADIDAS',\n",
       " 'RODDICK SHOES',\n",
       " 'Airland',\n",
       " 'ESSENCE',\n",
       " 'PUMA',\n",
       " 'BIRDE',\n",
       " 'Allen Solly',\n",
       " 'RODDICK SHOES',\n",
       " 'PUMA',\n",
       " 'RED TAPE',\n",
       " 'BIRDE',\n",
       " 'BIRDE',\n",
       " 'PUMA',\n",
       " 'Chevit',\n",
       " 'PUMA',\n",
       " 'kardam&sons',\n",
       " 'U.S. POLO ASSN.',\n",
       " 'Wildcraft',\n",
       " 'Wildcraft',\n",
       " 'BRUTON',\n",
       " 'Magnolia',\n",
       " 'luxury fashion',\n",
       " 'BIRDE',\n",
       " 'BRUTON',\n",
       " 'Chevit',\n",
       " 'Numenzo',\n",
       " 'D-SNEAKERZ',\n",
       " 'India hub',\n",
       " 'BIRDE',\n",
       " 'Robbie jones',\n",
       " 'BIRDE',\n",
       " 'Numenzo',\n",
       " 'Chevit',\n",
       " 'HOTSTYLE',\n",
       " 'bluemaker',\n",
       " 'Robbie jones',\n",
       " 'Chevit']"
      ]
     },
     "execution_count": 21,
     "metadata": {},
     "output_type": "execute_result"
    }
   ],
   "source": [
    "final_brand_list=brands_list + brands_page2_list + brands_page3_list\n",
    "final_brand_list"
   ]
  },
  {
   "cell_type": "code",
   "execution_count": 22,
   "id": "28cdea2e",
   "metadata": {},
   "outputs": [
    {
     "data": {
      "text/plain": [
       "100"
      ]
     },
     "execution_count": 22,
     "metadata": {},
     "output_type": "execute_result"
    }
   ],
   "source": [
    "len(final_brand_list)"
   ]
  },
  {
   "cell_type": "code",
   "execution_count": 23,
   "id": "d86f8975",
   "metadata": {},
   "outputs": [
    {
     "data": {
      "text/plain": [
       "['True Black Shoe Sneakers For Men',\n",
       " 'True White Shoe Sneakers For Men',\n",
       " 'Modern Trendy Sneakers Shoes Sneakers For Men',\n",
       " 'Sneakers For Men',\n",
       " 'luxury fashionable casual snealer shoes Sneakers For Me...',\n",
       " 'Birde Trendy Casual Shoes Sneakers For Men',\n",
       " 'Combo Pack Of 4 Casual Shoes Loafer Shoes Sneakers For ...',\n",
       " 'Combo Pack of 4 Casual Sneakers With Sneakers For Men',\n",
       " '411 Casual Sneakers For Men',\n",
       " \"Casual , Partywear Sneakers Shoes For Men's And Boys Wh...\",\n",
       " 'Sneakers For Men',\n",
       " 'Sneakers For Men',\n",
       " 'Casual Sneakers Shoes For Men Sneakers For Men',\n",
       " \"Men's Stylish Casual Shoes Sneakers For Men\",\n",
       " 'Sneakers For Men',\n",
       " 'Unique & Perfect Collection Combo Pack of 02 Shoes for ...',\n",
       " 'Sneakers For Men',\n",
       " 'casual for men Sneakers For Men',\n",
       " 'Sneakers For Men',\n",
       " 'Speed Set of 5 Pairs Sneakers Outdoors Casuals for Men ...',\n",
       " 'Sneakers for men(black_8) Sneakers For Men',\n",
       " 'Sneakers For Men',\n",
       " \"Luxury Branded Fashionable Men's Casual Walking Partywe...\",\n",
       " \"white Casual shoes,Sneakers for men's Sneakers For Men\",\n",
       " 'Sneakers For Men',\n",
       " 'Series 7 Sneakers For Men',\n",
       " 'Perfect & Affordable Combo Pack of 02 Pairs Sneakers Ou...',\n",
       " 'Modern Trendy Shoes Combo pack of 4 Sneakers For Men',\n",
       " 'Sneakers For Men',\n",
       " \"Original Luxury Branded Fashionable Men's Casual Walkin...\",\n",
       " 'Sneakers For Men',\n",
       " 'X-Ray 2 Square Sneakers For Men',\n",
       " 'SM-322 Sneakers For Men',\n",
       " 'Lattest Sneakers Shoe Sneakers For Men',\n",
       " '168 Smart Red Lace-Ups Casuals for Men Sneakers For Men',\n",
       " 'Casual Party Wear Sneaker Shoe Sneakers For Men',\n",
       " 'Sneakers Sneakers For Men',\n",
       " 'casual for men (beige 06) Sneakers For Men',\n",
       " 'Sneakers For Men',\n",
       " 'White Ranger Sneakers For Men',\n",
       " 'Combo Pack Of 2 Latest Stylish Casual Shoes for Men Lac...',\n",
       " \"White Sneaker For Men's/Boy's Sneakers For Men\",\n",
       " 'casual for men (blue 06) Sneakers For Men',\n",
       " 'JFWBENNY KNIT SLIP ON Sneakers For Men',\n",
       " 'Modern & Trendy Collection Combo Pack of 02 Shoes for M...',\n",
       " 'Sneakers For Men',\n",
       " 'Sneakers For Men',\n",
       " 'Designer Printed Casual Sneakers Shoes Sneakers For Men',\n",
       " 'Men White Sneakers Sneakers For Men',\n",
       " 'casual for men Sneakers For Men',\n",
       " 'Sneakers For Men',\n",
       " 'Mirage Mox Sneakers For Men',\n",
       " 'Luxury Fashionable casual shoes Sneakers For Men',\n",
       " 'Fashionable sneaker casual shoes Sneakers For Men',\n",
       " 'Sneakers For Men',\n",
       " 'Vikky v2 Sneakers For Men',\n",
       " 'Luxury Fashionable Casual Sneakers shoes For Men And Bo...',\n",
       " 'White Sneaker For Men Sneakers For Men',\n",
       " 'shoe for men jeans Sneakers For Men',\n",
       " 'Perfect & Affordable Combo Pack of 02 Pairs Sneakers Ou...',\n",
       " 'Numenzo Black Sneaker For Men Sneakers For Men',\n",
       " 'Combo Pack of 2 Casual Shoes Sneakers For Men',\n",
       " 'Casual Sneakers Shoes For Men And Boys Sneakers For Men',\n",
       " 'Vs Pace Sneakers For Men',\n",
       " 'Fashion Outdoor Canvas Casual Light Weight Lace-up Even...',\n",
       " 'shoe Sneakers For Men',\n",
       " 'Sneakers For Men',\n",
       " 'Puma Smash Vulc Sneakers For Men',\n",
       " 'Sneakers For Men',\n",
       " 'Sneakers For Men',\n",
       " 'Fashion Outdoor Canvas Casual Light Weight Lace-up Even...',\n",
       " 'Dribble IDP Sneakers For Men',\n",
       " 'Sneakers For Men',\n",
       " 'Combo Pack of 5 Casual Shoes Sneakers For Men',\n",
       " 'Combo Pack of 2 Casual Shoes Sneakers For Men',\n",
       " 'Graviton Pro Sneakers For Men',\n",
       " 'Super Stylish & Trendy Combo Pack of 02 Pairs Sneakers ...',\n",
       " 'Trinity IDP Sneakers For Men',\n",
       " 'Fashionable casual sneaker shoes Sneakers For Men',\n",
       " 'Sneakers For Men',\n",
       " 'True Black Shoe Sneakers For Men',\n",
       " 'True White Shoe Sneakers For Men',\n",
       " 'Modern Trendy Sneakers Shoes Sneakers For Men',\n",
       " 'Sneakers For Men',\n",
       " 'luxury fashionable casual snealer shoes Sneakers For Me...',\n",
       " 'Birde Trendy Casual Shoes Sneakers For Men',\n",
       " 'Combo Pack Of 4 Casual Shoes Loafer Shoes Sneakers For ...',\n",
       " 'Combo Pack of 4 Casual Sneakers With Sneakers For Men',\n",
       " '411 Casual Sneakers For Men',\n",
       " \"Casual , Partywear Sneakers Shoes For Men's And Boys Wh...\",\n",
       " 'Sneakers For Men',\n",
       " 'Sneakers For Men',\n",
       " 'Casual Sneakers Shoes For Men Sneakers For Men',\n",
       " \"Men's Stylish Casual Shoes Sneakers For Men\",\n",
       " 'Sneakers For Men',\n",
       " 'Unique & Perfect Collection Combo Pack of 02 Shoes for ...',\n",
       " 'Sneakers For Men',\n",
       " 'casual for men Sneakers For Men',\n",
       " 'Sneakers For Men',\n",
       " 'Speed Set of 5 Pairs Sneakers Outdoors Casuals for Men ...']"
      ]
     },
     "execution_count": 23,
     "metadata": {},
     "output_type": "execute_result"
    }
   ],
   "source": [
    "final_brand_description_list=brands_description_list + brands_page2_description_list + brands_page3_description_list\n",
    "final_brand_description_list"
   ]
  },
  {
   "cell_type": "code",
   "execution_count": 24,
   "id": "74f9e448",
   "metadata": {},
   "outputs": [
    {
     "data": {
      "text/plain": [
       "100"
      ]
     },
     "execution_count": 24,
     "metadata": {},
     "output_type": "execute_result"
    }
   ],
   "source": [
    "len(final_brand_description_list)"
   ]
  },
  {
   "cell_type": "code",
   "execution_count": 25,
   "id": "5946ceb2",
   "metadata": {},
   "outputs": [
    {
     "data": {
      "text/plain": [
       "['₹2,599',\n",
       " '₹2,599',\n",
       " '₹399',\n",
       " '₹398',\n",
       " '₹399',\n",
       " '₹399',\n",
       " '₹472',\n",
       " '₹554',\n",
       " '₹499',\n",
       " '₹348',\n",
       " '₹499',\n",
       " '₹279',\n",
       " '₹379',\n",
       " '₹399',\n",
       " '₹449',\n",
       " '₹599',\n",
       " '₹282',\n",
       " '₹499',\n",
       " '₹474',\n",
       " '₹899',\n",
       " '₹449',\n",
       " '₹499',\n",
       " '₹499',\n",
       " '₹429',\n",
       " '₹429',\n",
       " '₹555',\n",
       " '₹599',\n",
       " '₹849',\n",
       " '₹418',\n",
       " '₹499',\n",
       " '₹499',\n",
       " '₹3,360',\n",
       " '₹828',\n",
       " '₹359',\n",
       " '₹249',\n",
       " '₹449',\n",
       " '₹398',\n",
       " '₹499',\n",
       " '₹398',\n",
       " '₹999',\n",
       " '₹624',\n",
       " '₹348',\n",
       " '₹499',\n",
       " '₹1,874',\n",
       " '₹526',\n",
       " '₹198',\n",
       " '₹449',\n",
       " '₹464',\n",
       " '₹630',\n",
       " '₹499',\n",
       " '₹459',\n",
       " '₹3,599',\n",
       " '₹449',\n",
       " '₹445',\n",
       " '₹1,799',\n",
       " '₹2,239',\n",
       " '₹419',\n",
       " '₹439',\n",
       " '₹459',\n",
       " '₹599',\n",
       " '₹469',\n",
       " '₹525',\n",
       " '₹474',\n",
       " '₹2,399',\n",
       " '₹474',\n",
       " '₹257',\n",
       " '₹499',\n",
       " '₹2,129',\n",
       " '₹279',\n",
       " '₹2,499',\n",
       " '₹474',\n",
       " '₹3,499',\n",
       " '₹1,049',\n",
       " '₹842',\n",
       " '₹525',\n",
       " '₹3,639',\n",
       " '₹699',\n",
       " '₹3,499',\n",
       " '₹429',\n",
       " '₹2,799',\n",
       " '₹2,599',\n",
       " '₹2,599',\n",
       " '₹399',\n",
       " '₹398',\n",
       " '₹399',\n",
       " '₹399',\n",
       " '₹472',\n",
       " '₹554',\n",
       " '₹499',\n",
       " '₹348',\n",
       " '₹499',\n",
       " '₹279',\n",
       " '₹379',\n",
       " '₹399',\n",
       " '₹449',\n",
       " '₹599',\n",
       " '₹282',\n",
       " '₹499',\n",
       " '₹474',\n",
       " '₹899']"
      ]
     },
     "execution_count": 25,
     "metadata": {},
     "output_type": "execute_result"
    }
   ],
   "source": [
    "final_brand_price_list=price_list + price_page2_list + price_page3_list\n",
    "final_brand_price_list"
   ]
  },
  {
   "cell_type": "code",
   "execution_count": 26,
   "id": "c92ec8c0",
   "metadata": {},
   "outputs": [
    {
     "data": {
      "text/plain": [
       "100"
      ]
     },
     "execution_count": 26,
     "metadata": {},
     "output_type": "execute_result"
    }
   ],
   "source": [
    "len(final_brand_price_list)"
   ]
  },
  {
   "cell_type": "code",
   "execution_count": 27,
   "id": "d65711da",
   "metadata": {},
   "outputs": [
    {
     "data": {
      "text/plain": [
       "['-',\n",
       " '-',\n",
       " '69% off',\n",
       " '60% off',\n",
       " '69% off',\n",
       " '20% off',\n",
       " '88% off',\n",
       " '72% off',\n",
       " '75% off',\n",
       " '47% off',\n",
       " '83% off',\n",
       " '44% off',\n",
       " '62% off',\n",
       " '20% off',\n",
       " '65% off',\n",
       " '60% off',\n",
       " '71% off',\n",
       " '50% off',\n",
       " '52% off',\n",
       " '63% off',\n",
       " '55% off',\n",
       " '50% off',\n",
       " '37% off',\n",
       " '71% off',\n",
       " '57% off',\n",
       " '44% off',\n",
       " '66% off',\n",
       " '43% off',\n",
       " '58% off',\n",
       " '75% off',\n",
       " '50% off',\n",
       " '51% off',\n",
       " '17% off',\n",
       " '72% off',\n",
       " '50% off',\n",
       " '77% off',\n",
       " '60% off',\n",
       " '50% off',\n",
       " '60% off',\n",
       " '60% off',\n",
       " '75% off',\n",
       " '65% off',\n",
       " '50% off',\n",
       " '37% off',\n",
       " '78% off',\n",
       " '60% off',\n",
       " '55% off',\n",
       " '53% off',\n",
       " '22% off',\n",
       " '50% off',\n",
       " '54% off',\n",
       " '55% off',\n",
       " '65% off',\n",
       " '77% off',\n",
       " '66% off',\n",
       " '44% off',\n",
       " '79% off',\n",
       " '66% off',\n",
       " '54% off',\n",
       " '66% off',\n",
       " '63% off',\n",
       " '47% off',\n",
       " '52% off',\n",
       " '40% off',\n",
       " '52% off',\n",
       " '48% off',\n",
       " '50% off',\n",
       " '43% off',\n",
       " '44% off',\n",
       " '-',\n",
       " '52% off',\n",
       " '-',\n",
       " '77% off',\n",
       " '66% off',\n",
       " '47% off',\n",
       " '44% off',\n",
       " '56% off',\n",
       " '-',\n",
       " '78% off',\n",
       " '30% off',\n",
       " '-',\n",
       " '-',\n",
       " '69% off',\n",
       " '60% off',\n",
       " '69% off',\n",
       " '20% off',\n",
       " '88% off',\n",
       " '72% off',\n",
       " '75% off',\n",
       " '47% off',\n",
       " '83% off',\n",
       " '44% off',\n",
       " '62% off',\n",
       " '20% off',\n",
       " '65% off',\n",
       " '60% off',\n",
       " '71% off',\n",
       " '50% off',\n",
       " '52% off',\n",
       " '63% off']"
      ]
     },
     "execution_count": 27,
     "metadata": {},
     "output_type": "execute_result"
    }
   ],
   "source": [
    "final_discount_list=discount_list + discount_page2_list + discount_page3_list\n",
    "final_discount_list"
   ]
  },
  {
   "cell_type": "code",
   "execution_count": 28,
   "id": "7f4975fc",
   "metadata": {},
   "outputs": [
    {
     "data": {
      "text/plain": [
       "100"
      ]
     },
     "execution_count": 28,
     "metadata": {},
     "output_type": "execute_result"
    }
   ],
   "source": [
    "len(final_discount_list)"
   ]
  },
  {
   "cell_type": "code",
   "execution_count": 29,
   "id": "89db6adc",
   "metadata": {},
   "outputs": [
    {
     "data": {
      "text/html": [
       "<div>\n",
       "<style scoped>\n",
       "    .dataframe tbody tr th:only-of-type {\n",
       "        vertical-align: middle;\n",
       "    }\n",
       "\n",
       "    .dataframe tbody tr th {\n",
       "        vertical-align: top;\n",
       "    }\n",
       "\n",
       "    .dataframe thead th {\n",
       "        text-align: right;\n",
       "    }\n",
       "</style>\n",
       "<table border=\"1\" class=\"dataframe\">\n",
       "  <thead>\n",
       "    <tr style=\"text-align: right;\">\n",
       "      <th></th>\n",
       "      <th>Brands</th>\n",
       "      <th>Brand description</th>\n",
       "      <th>Price</th>\n",
       "      <th>Discount</th>\n",
       "    </tr>\n",
       "  </thead>\n",
       "  <tbody>\n",
       "    <tr>\n",
       "      <th>0</th>\n",
       "      <td>Wildcraft</td>\n",
       "      <td>True Black Shoe Sneakers For Men</td>\n",
       "      <td>₹2,599</td>\n",
       "      <td>-</td>\n",
       "    </tr>\n",
       "    <tr>\n",
       "      <th>1</th>\n",
       "      <td>Wildcraft</td>\n",
       "      <td>True White Shoe Sneakers For Men</td>\n",
       "      <td>₹2,599</td>\n",
       "      <td>-</td>\n",
       "    </tr>\n",
       "    <tr>\n",
       "      <th>2</th>\n",
       "      <td>BRUTON</td>\n",
       "      <td>Modern Trendy Sneakers Shoes Sneakers For Men</td>\n",
       "      <td>₹399</td>\n",
       "      <td>69% off</td>\n",
       "    </tr>\n",
       "    <tr>\n",
       "      <th>3</th>\n",
       "      <td>Magnolia</td>\n",
       "      <td>Sneakers For Men</td>\n",
       "      <td>₹398</td>\n",
       "      <td>60% off</td>\n",
       "    </tr>\n",
       "    <tr>\n",
       "      <th>4</th>\n",
       "      <td>luxury fashion</td>\n",
       "      <td>luxury fashionable casual snealer shoes Sneake...</td>\n",
       "      <td>₹399</td>\n",
       "      <td>69% off</td>\n",
       "    </tr>\n",
       "    <tr>\n",
       "      <th>...</th>\n",
       "      <td>...</td>\n",
       "      <td>...</td>\n",
       "      <td>...</td>\n",
       "      <td>...</td>\n",
       "    </tr>\n",
       "    <tr>\n",
       "      <th>95</th>\n",
       "      <td>Chevit</td>\n",
       "      <td>Unique &amp; Perfect Collection Combo Pack of 02 S...</td>\n",
       "      <td>₹599</td>\n",
       "      <td>60% off</td>\n",
       "    </tr>\n",
       "    <tr>\n",
       "      <th>96</th>\n",
       "      <td>HOTSTYLE</td>\n",
       "      <td>Sneakers For Men</td>\n",
       "      <td>₹282</td>\n",
       "      <td>71% off</td>\n",
       "    </tr>\n",
       "    <tr>\n",
       "      <th>97</th>\n",
       "      <td>bluemaker</td>\n",
       "      <td>casual for men Sneakers For Men</td>\n",
       "      <td>₹499</td>\n",
       "      <td>50% off</td>\n",
       "    </tr>\n",
       "    <tr>\n",
       "      <th>98</th>\n",
       "      <td>Robbie jones</td>\n",
       "      <td>Sneakers For Men</td>\n",
       "      <td>₹474</td>\n",
       "      <td>52% off</td>\n",
       "    </tr>\n",
       "    <tr>\n",
       "      <th>99</th>\n",
       "      <td>Chevit</td>\n",
       "      <td>Speed Set of 5 Pairs Sneakers Outdoors Casuals...</td>\n",
       "      <td>₹899</td>\n",
       "      <td>63% off</td>\n",
       "    </tr>\n",
       "  </tbody>\n",
       "</table>\n",
       "<p>100 rows × 4 columns</p>\n",
       "</div>"
      ],
      "text/plain": [
       "            Brands                                  Brand description   Price  \\\n",
       "0        Wildcraft                   True Black Shoe Sneakers For Men  ₹2,599   \n",
       "1        Wildcraft                   True White Shoe Sneakers For Men  ₹2,599   \n",
       "2           BRUTON      Modern Trendy Sneakers Shoes Sneakers For Men    ₹399   \n",
       "3         Magnolia                                   Sneakers For Men    ₹398   \n",
       "4   luxury fashion  luxury fashionable casual snealer shoes Sneake...    ₹399   \n",
       "..             ...                                                ...     ...   \n",
       "95          Chevit  Unique & Perfect Collection Combo Pack of 02 S...    ₹599   \n",
       "96        HOTSTYLE                                   Sneakers For Men    ₹282   \n",
       "97       bluemaker                    casual for men Sneakers For Men    ₹499   \n",
       "98    Robbie jones                                   Sneakers For Men    ₹474   \n",
       "99          Chevit  Speed Set of 5 Pairs Sneakers Outdoors Casuals...    ₹899   \n",
       "\n",
       "   Discount  \n",
       "0         -  \n",
       "1         -  \n",
       "2   69% off  \n",
       "3   60% off  \n",
       "4   69% off  \n",
       "..      ...  \n",
       "95  60% off  \n",
       "96  71% off  \n",
       "97  50% off  \n",
       "98  52% off  \n",
       "99  63% off  \n",
       "\n",
       "[100 rows x 4 columns]"
      ]
     },
     "execution_count": 29,
     "metadata": {},
     "output_type": "execute_result"
    }
   ],
   "source": [
    "import pandas as pd\n",
    "sunglasses=pd.DataFrame({})\n",
    "sunglasses[\"Brands\"]=final_brand_list\n",
    "sunglasses[\"Brand description\"]=final_brand_description_list\n",
    "sunglasses[\"Price\"]=final_brand_price_list\n",
    "sunglasses[\"Discount\"]=final_discount_list\n",
    "sunglasses"
   ]
  },
  {
   "cell_type": "code",
   "execution_count": null,
   "id": "1abd2812",
   "metadata": {},
   "outputs": [],
   "source": []
  }
 ],
 "metadata": {
  "kernelspec": {
   "display_name": "Python 3",
   "language": "python",
   "name": "python3"
  },
  "language_info": {
   "codemirror_mode": {
    "name": "ipython",
    "version": 3
   },
   "file_extension": ".py",
   "mimetype": "text/x-python",
   "name": "python",
   "nbconvert_exporter": "python",
   "pygments_lexer": "ipython3",
   "version": "3.8.8"
  }
 },
 "nbformat": 4,
 "nbformat_minor": 5
}

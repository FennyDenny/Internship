{
 "cells": [
  {
   "cell_type": "code",
   "execution_count": 27,
   "id": "a317bd6f",
   "metadata": {},
   "outputs": [],
   "source": [
    "import selenium \n",
    "import pandas as pd\n",
    "from selenium import webdriver\n",
    "import time\n",
    "from selenium.common.exceptions import NoSuchElementException"
   ]
  },
  {
   "cell_type": "code",
   "execution_count": 28,
   "id": "5dd8fcba",
   "metadata": {},
   "outputs": [],
   "source": [
    "driver=webdriver.Chrome(\"chromedriver.exe\")"
   ]
  },
  {
   "cell_type": "code",
   "execution_count": null,
   "id": "f4f819c7",
   "metadata": {},
   "outputs": [],
   "source": [
    "driver.get(\"https://www.naukri.com/\")"
   ]
  },
  {
   "cell_type": "code",
   "execution_count": null,
   "id": "5f9f695b",
   "metadata": {},
   "outputs": [],
   "source": [
    "search_job=driver.find_element_by_id(\"qsb-keyword-sugg\")\n",
    "search_job.send_keys(\"Data Analyst\")\n",
    "search_loc=driver.find_element_by_xpath(\"//input[@id='qsb-location-sugg']\")\n",
    "search_loc.send_keys(\"Bangalore\")"
   ]
  },
  {
   "cell_type": "code",
   "execution_count": null,
   "id": "01dcf063",
   "metadata": {},
   "outputs": [],
   "source": [
    "search_btn=driver.find_element_by_xpath(\"//div[@class='search-btn']/button\")\n",
    "search_btn.click()"
   ]
  },
  {
   "cell_type": "code",
   "execution_count": 30,
   "id": "50c379b5",
   "metadata": {},
   "outputs": [],
   "source": [
    "urls=[]"
   ]
  },
  {
   "cell_type": "code",
   "execution_count": 31,
   "id": "53c1455d",
   "metadata": {},
   "outputs": [],
   "source": [
    "for i in driver.find_elements_by_xpath(\"//a[@class='title fw500 ellipsis']\"):\n",
    "    urls.append(i.get_attribute('href'))"
   ]
  },
  {
   "cell_type": "code",
   "execution_count": 32,
   "id": "b24091e5",
   "metadata": {},
   "outputs": [
    {
     "data": {
      "text/plain": [
       "20"
      ]
     },
     "execution_count": 32,
     "metadata": {},
     "output_type": "execute_result"
    }
   ],
   "source": [
    "len(urls)"
   ]
  },
  {
   "cell_type": "code",
   "execution_count": 33,
   "id": "33e61cd2",
   "metadata": {},
   "outputs": [
    {
     "data": {
      "text/plain": [
       "['https://www.naukri.com/job-listings-lead-data-scientist-huawei-technologies-india-pvt-ltd-bangalore-bengaluru-4-to-9-years-121021907623?src=jobsearchDesk&sid=16342133650094878&xp=1&px=1',\n",
       " 'https://www.naukri.com/job-listings-sr-data-scientist-data-scientist-for-bangalore-kolkata-locations-mpokket-kolkata-bangalore-bengaluru-3-to-8-years-141021001893?src=jobsearchDesk&sid=16342133650094878&xp=2&px=1',\n",
       " 'https://www.naukri.com/job-listings-senior-data-scientist-innovaccer-noida-bangalore-bengaluru-5-to-10-years-131021501006?src=jobsearchDesk&sid=16342133650094878&xp=3&px=1',\n",
       " 'https://www.naukri.com/job-listings-data-scientist-senior-data-scientist-it-services-firm-pylon-management-consulting-pvt-ltd-hyderabad-secunderabad-pune-gurgaon-gurugram-bangalore-bengaluru-5-to-6-years-131021906976?src=jobsearchDesk&sid=16342133650094878&xp=4&px=1',\n",
       " 'https://www.naukri.com/job-listings-data-scientist-amazon-development-centre-india-pvt-ltd-hyderabad-secunderabad-pune-bangalore-bengaluru-7-to-11-years-141021001625?src=jobsearchDesk&sid=16342133650094878&xp=5&px=1',\n",
       " 'https://www.naukri.com/job-listings-data-scientist-staffio-hr-bangalore-bengaluru-4-to-6-years-131021501523?src=jobsearchDesk&sid=16342133650094878&xp=6&px=1',\n",
       " 'https://www.naukri.com/job-listings-data-scientist-capco-technologies-pvt-ltd-bangalore-bengaluru-4-to-9-years-141021500034?src=jobsearchDesk&sid=16342133650094878&xp=7&px=1',\n",
       " 'https://www.naukri.com/job-listings-data-scientist-exl-services-com-i-pvt-ltd-gurgaon-gurugram-bangalore-bengaluru-3-to-5-years-141021005203?src=jobsearchDesk&sid=16342133650094878&xp=8&px=1',\n",
       " 'https://www.naukri.com/job-listings-data-scientist-flipkart-internet-private-limited-bangalore-bengaluru-3-to-6-years-081021906627?src=jobsearchDesk&sid=16342133650094878&xp=9&px=1',\n",
       " 'https://www.naukri.com/job-listings-data-scientist-ai-flagship-schneider-electric-india-pvt-ltd-bangalore-bengaluru-4-to-7-years-081021501357?src=jobsearchDesk&sid=16342133650094878&xp=10&px=1',\n",
       " 'https://www.naukri.com/job-listings-data-scientist-glaxosmithkline-pharmaceuticals-limited-bangalore-bengaluru-4-to-7-years-081021501507?src=jobsearchDesk&sid=16342133650094878&xp=11&px=1',\n",
       " 'https://www.naukri.com/job-listings-data-scientist-ai-ml-engineer-hitachi-ltd-bangalore-bengaluru-5-to-10-years-111021500424?src=jobsearchDesk&sid=16342133650094878&xp=12&px=1',\n",
       " 'https://www.naukri.com/job-listings-senior-lead-data-scientist-scienaptic-systems-bangalore-bengaluru-10-to-12-years-041021500239?src=jobsearchDesk&sid=16342133650094878&xp=13&px=1',\n",
       " 'https://www.naukri.com/job-listings-data-scientist-executive-selection-india-bangalore-bengaluru-5-to-10-years-141021900225?src=jobsearchDesk&sid=16342133650094878&xp=14&px=1',\n",
       " 'https://www.naukri.com/job-listings-data-scientist-successr-hr-tech-pvt-ltd-bangalore-bengaluru-4-to-8-years-131021901011?src=jobsearchDesk&sid=16342133650094878&xp=15&px=1',\n",
       " 'https://www.naukri.com/job-listings-lead-data-scientist-recruise-india-consulting-pvt-ltd-bangalore-bengaluru-7-to-10-years-131021002265?src=jobsearchDesk&sid=16342133650094878&xp=16&px=1',\n",
       " 'https://www.naukri.com/job-listings-sr-data-scientist-bizviz-technologies-private-limited-bangalore-bengaluru-4-to-7-years-081021002595?src=jobsearchDesk&sid=16342133650094878&xp=17&px=1',\n",
       " 'https://www.naukri.com/job-listings-senior-data-scientist-go-jek-india-bangalore-bengaluru-5-to-10-years-111021502002?src=jobsearchDesk&sid=16342133650094878&xp=18&px=1',\n",
       " 'https://www.naukri.com/job-listings-senior-data-scientist-convergence-infotech-ltd-bangalore-bengaluru-8-to-12-years-111021004221?src=jobsearchDesk&sid=16342133650094878&xp=19&px=1',\n",
       " 'https://www.naukri.com/job-listings-senior-data-scientist-nlp-thomson-reuters-international-services-pvt-ltd-bangalore-bengaluru-8-to-10-years-111021001745?src=jobsearchDesk&sid=16342133650094878&xp=20&px=1']"
      ]
     },
     "execution_count": 33,
     "metadata": {},
     "output_type": "execute_result"
    }
   ],
   "source": [
    "urls"
   ]
  },
  {
   "cell_type": "code",
   "execution_count": 41,
   "id": "c0a9b8cb",
   "metadata": {},
   "outputs": [],
   "source": [
    "job_title=[]\n",
    "job_description=[]\n",
    "company_names=[]\n",
    "locations_list=[]"
   ]
  },
  {
   "cell_type": "code",
   "execution_count": 43,
   "id": "520d29d6",
   "metadata": {},
   "outputs": [],
   "source": [
    "for i in urls:\n",
    "    driver.get(i)\n",
    "    time.sleep(3)\n",
    "    #Fetching the jobtitles\n",
    "    try:\n",
    "        job=driver.find_element_by_xpath(\"//h1[@class='jd-header-title']\")\n",
    "        job_title.append(job.text.replace(\"/n\",\"new line\"))\n",
    "    except:\n",
    "        job_title.append('-')\n",
    "    #Fetching the descriptions\n",
    "    try:\n",
    "        job_des=driver.find_element_by_xpath(\"//section[@class='job-desc']\")\n",
    "        job_description.append(job_des.text)\n",
    "    except:\n",
    "        job_description.append('-')\n",
    "    #Fetching the company names\n",
    "    try:\n",
    "        company=driver.find_element_by_xpath(\"//div[@class='jd-top-head']/div[@class='jd-header-comp-name']/a[@class='pad-rt-8']\")\n",
    "        company_names.append(company.text.replace(\"/n\",\"new line\"))\n",
    "    except:\n",
    "        company_names.append('-')\n",
    "    #Fetching the location\n",
    "    try:\n",
    "        location=driver.find_element_by_xpath(\"//span[@class='location ']/a\")\n",
    "        locations_list.append(location.text.replace(\"/n\",\"new line\"))\n",
    "    except:\n",
    "        locations_list.append('-')\n",
    "           \n",
    "        \n",
    "        \n",
    "\n",
    "    "
   ]
  },
  {
   "cell_type": "code",
   "execution_count": 44,
   "id": "c57b598c",
   "metadata": {},
   "outputs": [
    {
     "name": "stdout",
     "output_type": "stream",
     "text": [
      "20\n",
      "20\n",
      "20\n",
      "20\n"
     ]
    }
   ],
   "source": [
    "print(len(job_title))\n",
    "print(len(job_description))\n",
    "print(len(company_names))\n",
    "print(len(locations_list))"
   ]
  },
  {
   "cell_type": "code",
   "execution_count": 45,
   "id": "0e21276b",
   "metadata": {},
   "outputs": [
    {
     "name": "stdout",
     "output_type": "stream",
     "text": [
      "['Bangalore/Bengaluru', 'Kolkata', 'Noida', 'Hyderabad/Secunderabad', '-', 'Bangalore/Bengaluru', 'Bangalore/Bengaluru', '-', 'Bangalore/Bengaluru', 'Bangalore/Bengaluru', 'Bangalore/Bengaluru', 'Bangalore/Bengaluru', 'Bangalore/Bengaluru', 'Bangalore/Bengaluru', 'Bangalore/Bengaluru', 'Bangalore/Bengaluru', 'Bangalore/Bengaluru', 'Bangalore/Bengaluru', 'Bangalore/Bengaluru( Sadashiva Nagar )', 'Bangalore/Bengaluru']\n"
     ]
    }
   ],
   "source": [
    "print(locations_list)"
   ]
  },
  {
   "cell_type": "code",
   "execution_count": 38,
   "id": "7b5d8591",
   "metadata": {},
   "outputs": [
    {
     "data": {
      "text/plain": [
       "['Lead Data Scientist',\n",
       " 'Lead Data Scientist',\n",
       " 'Sr. Data Scientist / Data Scientist For Bangalore & Kolkata Locations',\n",
       " 'Senior Data Scientist',\n",
       " 'Data Scientist/Senior Data Scientist - IT Services Firm',\n",
       " '-',\n",
       " 'Data Scientist',\n",
       " 'Data Scientist',\n",
       " '-',\n",
       " 'Data Scientist',\n",
       " 'Data Scientist - AI Flagship',\n",
       " 'Data Scientist',\n",
       " 'Data Scientist / AI / ML Engineer',\n",
       " 'Senior/Lead Data Scientist',\n",
       " 'Data Scientist',\n",
       " 'Data Scientist',\n",
       " 'Lead Data Scientist',\n",
       " 'Sr. Data Scientist',\n",
       " 'Senior Data Scientist',\n",
       " 'Senior Data Scientist',\n",
       " 'Senior Data Scientist, NLP']"
      ]
     },
     "execution_count": 38,
     "metadata": {},
     "output_type": "execute_result"
    }
   ],
   "source": [
    "job_title"
   ]
  },
  {
   "cell_type": "code",
   "execution_count": 39,
   "id": "6125f464",
   "metadata": {},
   "outputs": [
    {
     "data": {
      "text/plain": [
       "['Job description\\nWe are looking for a Lead data scientist who will help us discover the information hidden in vast amounts of Ad Campaign data, and help us to optimize the campaign to improve the advertiser ROI and improve the overall consumer experience. Your primary focus will be in applying data mining techniques, doing statistical analysis, and building high quality prediction systems using Deep learning algorithms integrated with our products. Some the key area you will be working on spend recommendation, floor price prediction, CTR/CVR prediction, market funnel analysis and perdition of lead to conversion, etc.\\n\\nResponsibility:\\nAnalyze the data, develop insights and identify the opportunity to utilize the data to predict various Advertisement key indicators like CTR, CVR, Inventory and Develop prediction and optimization algorithms for campaign, look alike modeling, etc for Huawei Ads.\\nTakeup key challenges in AI-driven Smart Ad Serving Platform and focus on research and developing leading AI algorithms and productionize for Huawei Ads.\\nTakeup initiative in identifying the SOTA and finding key gaps in AI algorithms and develop a world leading AI algorithms for optimizing real-time Ad Serving engine. Identify and optimize the core modules such as Traffic Prediction, Optimization, Ad Targeting/Re-targeting, Ad Performance Optimization, Audience insights, Attribution, Bidding, re-ranking, and Diagnostics. Support hundreds of billions of ad requests per day, with efficiently cache technology.\\nTo build and enhance Ad platform features and Prediction capabilities in Huawei Ads Platform\\nOptimized Cost Per Mille; Optimized Cost Per Action; Optimized Cost Per Click and Cost per Click. OCPM, OCPA, OCPC.\\n\\nRequirements:\\n- Strong hands-on experience in implementing and validating big data algorithms and models including Deep Learning models like Seq2Seq/ GRU/ RNN/LSTM , Knowledge Graph, Massive Graph algorithms, etc.\\n- Programming experience with Python\\n- Able to validate existing models including Deep Learning models with large scale dataset and able to make changes to the models to achieve better performance\\n- AdServing domain Experience is an added advantage.\\nRoleData Scientist\\nIndustry TypeTelecom / ISP\\nFunctional AreaData Science & Analytics\\nEmployment TypeFull Time, Permanent\\nRole CategoryData Science & Machine Learning\\nEducation\\nUG :Any Graduate\\nPG :Any Postgraduate\\nKey Skills\\nData SciencePerformance OptimizationAlgorithmsRNNLSTMArtificial IntelligenceBig DataData MiningStatistical AnalysisDeep LearningPython',\n",
       " 'Job description\\nWe are looking for a Lead data scientist who will help us discover the information hidden in vast amounts of Ad Campaign data, and help us to optimize the campaign to improve the advertiser ROI and improve the overall consumer experience. Your primary focus will be in applying data mining techniques, doing statistical analysis, and building high quality prediction systems using Deep learning algorithms integrated with our products. Some the key area you will be working on spend recommendation, floor price prediction, CTR/CVR prediction, market funnel analysis and perdition of lead to conversion, etc.\\n\\nResponsibility:\\nAnalyze the data, develop insights and identify the opportunity to utilize the data to predict various Advertisement key indicators like CTR, CVR, Inventory and Develop prediction and optimization algorithms for campaign, look alike modeling, etc for Huawei Ads.\\nTakeup key challenges in AI-driven Smart Ad Serving Platform and focus on research and developing leading AI algorithms and productionize for Huawei Ads.\\nTakeup initiative in identifying the SOTA and finding key gaps in AI algorithms and develop a world leading AI algorithms for optimizing real-time Ad Serving engine. Identify and optimize the core modules such as Traffic Prediction, Optimization, Ad Targeting/Re-targeting, Ad Performance Optimization, Audience insights, Attribution, Bidding, re-ranking, and Diagnostics. Support hundreds of billions of ad requests per day, with efficiently cache technology.\\nTo build and enhance Ad platform features and Prediction capabilities in Huawei Ads Platform\\nOptimized Cost Per Mille; Optimized Cost Per Action; Optimized Cost Per Click and Cost per Click. OCPM, OCPA, OCPC.\\n\\nRequirements:\\n- Strong hands-on experience in implementing and validating big data algorithms and models including Deep Learning models like Seq2Seq/ GRU/ RNN/LSTM , Knowledge Graph, Massive Graph algorithms, etc.\\n- Programming experience with Python\\n- Able to validate existing models including Deep Learning models with large scale dataset and able to make changes to the models to achieve better performance\\n- AdServing domain Experience is an added advantage.\\nRoleData Scientist\\nIndustry TypeTelecom / ISP\\nFunctional AreaData Science & Analytics\\nEmployment TypeFull Time, Permanent\\nRole CategoryData Science & Machine Learning\\nEducation\\nUG :Any Graduate\\nPG :Any Postgraduate\\nKey Skills\\nData SciencePerformance OptimizationAlgorithmsRNNLSTMArtificial IntelligenceBig DataData MiningStatistical AnalysisDeep LearningPython',\n",
       " 'Job description\\nJob Description:\\n1. Must have\\na. Programming – Python (Preferred) / R\\nb. ML Models – i. Regression – Linear, Logistic, Multinomial, Mixed effect\\nii. Classification – Bagging & Boosting (Random Forest), Decision tree, SVM\\niii. Clustering – K-Means, hierarchical, DB-Scan\\niv. Time series – ARIMA, SARIMA, ARIMAX, Holt-Winters, Multi TS (VAR), UCM\\nv. Neural Networks (Deep learning), Naive Bayes\\nc. Excel and SQL\\nd. Dimensionality Reduction – PCA, SVD etc.\\ne. Optimization Techniques – Linear programming, Gradient Descent, Genetic Algorithm\\nf. Cloud – Understanding of Azure / AWS offerings, Setting up ML pipeline of cloud\\nGood to have –\\na. Visualization – Tableau / Power BI / Looker / QlikView\\nb. Data management – HDFS, Spark, Advanced Excel\\nc. Agile Tools – Azure DevOps, JIRA\\nd.Pyspark\\ne. Big Data/Hive Database\\nf: IDE: Pycharm\\n\\n\\nRoleData Scientist\\nIndustry TypeSoftware Product\\nFunctional AreaData Science & Analytics\\nEmployment TypeFull Time, Permanent\\nRole CategoryData Science & Machine Learning\\nEducation\\nUG :Any Graduate\\nKey Skills\\nData ScienceClassificationPython\\nPysparkAzureArimaNeural NetworksBig DataTableauHdfsDeep LearningRandom ForestSQLRHiveCloudTime SeriesSparkAWSPycharm\\nSkills highlighted with ‘‘ are preferred keyskills',\n",
       " 'Job description\\n  A day in the life at Innovaccer:\\nDesign and lead the development of various artificial intelligence initiatives to help improve health and wellness of patients\\nWork with the business leaders and customers to understand their pain-points and build large-scale solutions for them.\\nDefine technical architecture to productize Innovaccer s machine-learning algorithms and take them to market with partnerships with different organizations\\nWork with our data platform and applications team to help them successfully integrate the data science capability or algorithms in their product/workflows.\\nWork with customers and BI experts to build out reports and dashboards that are most useful to customers\\nWork with development teams to build tools for repeatable data tasks that will accelerate and automate development cycle.\\nDefine and execute on the roadmap\\nWhat You Need\\nMasters in Computer Science, Computer Engineering or other relevant fields (PhD Preferred)\\n5 years of experience in Data Science (healthcare experience will be a plus)\\nStrong written and spoken communication skills\\nStrong hands-on experience in Python\\nExperience in Deep Learning Frameworks like Keras, TensorFlow\\nExperience with Sequence Models\\nExperience in NLP libraries like spaCy, NLTK, StanfordNLP\\nExperience in developing and deploying production ready models\\nPossess a customer-focused attitude through conversations and documentation\\nCoordinate management activities with others on the team\\nHands-on ability to set up reporting tools and build reports and ad hoc functionality\\nRoleRegional Sales Manager (B2C)\\nIndustry TypeBPO / Call Centre\\nFunctional AreaSales & Business Development\\nEmployment TypeFull Time, Permanent\\nRole CategoryRetail & B2C Sales\\nEducation\\nUG :Any Graduate\\nPG :Any Postgraduate\\nKey Skills\\nData ScienceTeam ManagementArtificial IntelligenceData ScientistComputer ScienceFull TimeMachine LearningDeep LearningPythonPredictive Analytics',\n",
       " \"Job description\\nResponsibilities :\\n\\n- Analytics lead on client projects responsible for data science application development, Works closely with cross-functional teams.\\n\\n- Takes responsibility for requirements gathering, solution design, development, and developing a production-level data science solution\\n\\n- Develop implementation guidelines, quality control procedures, and documentation for projects. Ensures adherence to the best practices in the project\\n\\n- Guide team members on project work and take responsibility for the analytics deliverables\\n\\n- Take initiatives to drive data science initiatives like training to the team, conduct proof-of-concept work to test new data science algorithms or features with support of data science leadership\\n\\nMust have Skills and Experience: :\\n\\n- At least a year of experience of leading machine learning or forecasting projects to meet the customers- business requirement\\n\\n- 5-6 years of project experience using machine learning techniques (like Decision Trees, Gradient Boosting, Random Forest, and Neural Networks) or forecasting techniques (ESM, ARIMA, ARIMAX, UCM)\\n\\n- Advance level skills in Python and SQL to work on large scale data\\n\\n- Expertise and ability to train team members in Advanced Python for Data Science, Machine Learning / Forecasting, and SQL\\n\\nEducation:\\n\\n- Bachelor /Master's degree in technology or engineering or quantitative field (e.g. MSc in Statistics and Operations Research, M Tech in Industrial Engineering, Applied Math/Statistics, Computer Science)\\n\\n- Experience in retail, manufacturing, and consumer goods industry\\n\\n- Experience of operationalization of the machine learning or forecasting models in the cloud or on-premises platform\\nRoleData Scientist\\nIndustry TypeIT Services & Consulting\\nFunctional AreaData Science & Analytics\\nEmployment TypeFull Time, Permanent\\nRole CategoryData Science & Machine Learning\\nEducation\\nUG :B.Tech/B.E. in Any Specialization\\nPG :M.Tech in Production/Industrial, Computers, MS/M.Sc(Science) in Statistics\\nDoctorate :Doctorate Not Required\\nKey Skills\\nData ScienceNLPData ScientistData ManagementMachine LearningStatisticsAnalyticsSQL\",\n",
       " '-',\n",
       " 'Job description\\n  Prior experience of working with large-scale datasets (10s of millions of documents) is strongly preferred.\\nEnd-to-end ownership of developing the model, writing production quality code and deploying the model is an expectation of the job.\\nExperience in data cleansing and preparation concepts and tools.\\nPrior experience of working with startups is strongly preferred.\\nExpertise in probability and statistics, time-series analysis as well as experience in the use of machine learning methods, for example, linear regression, correlation, statistical significance, and so forth.\\nExperience in data visualization concepts and tools\\nExperience with Data Quality Controls.\\nTech Requirements\\nExperience in NLP is a must.\\nProgramming Languages: Hands-on with Python and Java.\\nStrong background in relational databases, data modeling and SQL.\\nExperience working with statistical libraries (e.g scikit-learn) and frameworks for predictive analytics.\\nKnowledge of Hadoop and UNIX will be a plus.\\nKnowledge of Kibana and/or other reporting tools is preferred.\\nRoleFunctional Consultant\\nIndustry TypeRecruitment / Staffing\\nFunctional AreaConsulting\\nEmployment TypeFull Time, Permanent\\nRole CategoryIT Consulting\\nEducation\\nUG :Any Graduate\\nPG :Any Postgraduate\\nKey Skills\\nJavaSoftware DevelopmentNlpData ScientistLinear RegressionHadoopData VisualizationData ModelingMachine LearningPython',\n",
       " 'Job description\\nWe are/have:\\nExperts in banking and payments, capital markets and wealth and asset management\\nDeep knowledge in financial services offering, including e.g. Finance, Risk and Compliance, Financial Crime, Core Banking etc.\\nCommitted to growing our business and hiring the best talent to help us get there Focused on maintaining our nimble, agile and entrepreneurial culture\\nCapco is looking for hardworking, innovative and creative people to join our team. Must possess strong relationship management skills and be able to manage requirements and testing across Ops and IT teams both cross-division and globally. Role is focused on projects to support the development of regulatory/industry driven changes.\\nRole Description\\nThis role provides regulatory data analytics using data from different geography. The primary responsibilities would be:\\nExperience in data science\\nExperience in marketing analytics is a plus\\nExcellent analytical skills and commercial acumen\\nGood understanding of the control requirements surrounding data handling\\nStrong self-starter with strong change delivery skills who enjoys the challenge of delivering change within tight deadlines\\nStrong verbal and written communication skills\\nAbility to manage multiple priorities\\nKnowledge of and experience using data models and data dictionaries in a Banking and Financial Markets context\\nPreferable knowledge and experience in Data Quality Governance\\nCan write SQL queries, Scala knowledge preferable and navigate data bases especially Hive, CMD, Putty, Note++\\nExperience of using and flattening XML\\nExperience of big data programmes preferable\\nEnthusiastic and energetic problem solver to join an ambitious team\\nBusiness analysis skills, defining and understanding requirements\\nAttention to detail\\nGood knowledge of SDLC and formal Agile processes, a bias towards TDD and a willingness to test products as part of the delivery cycle\\nAbility to communicate effectively in a multi-programme environment across a range of stakeholders\\nRoleClinical research Scientist\\nIndustry TypeBanking\\nFunctional AreaResearch & Development\\nEmployment TypeFull Time, Permanent\\nRole CategoryPharmaceutical & Biotechnology\\nEducation\\nUG :B.Tech/B.E. in Computers\\nPG :Any Postgraduate\\nKey Skills\\nData ScienceHiveFinancial ServicesAnalytical SkillsScalaBig DataChange DeliveryData AnalyticsSql QueriesBusiness Analysis',\n",
       " '-',\n",
       " 'Job description\\nAbout the role\\nA Data Scientist in Flipkart is required to develop and implement a mix of ML, statistical and optimization models for the various projects formulated from business and product views. The responsible person should be able to communicate and collaborate with multiple stakeholders representing various teams to better understand the problem at hand. At a fundamental level, the responsible person should be able to dive deep into a problem statement and extract interesting insights as well as solutions. In addition to being a quick learner, a DS is expected to get involved in active research projects with a view to publish them.\\nWhat you ll do\\nUnderstand Business and product needs and use ML, statistical and optimization techniques as appropriate to provide solutions to those in a time bound fashion.\\nCommunicate and collaborate with business and product teams to have a better understanding of the project so as to be able to drive it within the DS team.\\nGet involved in in-depth exploration of solutions that are to be shared with business and product teams; specifically, build models and scalable custom algorithms for problems including decision optimization and predictive modeling.\\nActive participation in working with new methods and learning new technologies, in areas including data science and data engineering.\\nWhat you ll need:\\nB.Tech, M.Tech or PhD in CS, Operations Research or related discipline with professional experience ranging from 3 to 6 years through deployed solutions/projects. Candidate should have taken academic coursework in Operations Research (specifically mathematical optimization)\\nDemonstrated experience in building discrete, linear, nonlinear or stochastic optimization models is required. Experience with optimization models for supply chain optimization is preferred but not required\\nDemonstrated experience in utilizing and tuning commercial optimization solvers (e.g. CPLEX, Gurobi) and in building custom optimization algorithms (e.g. exact algorithms, metaheuristics, large neighborhood search, decomposition algorithms, greedy/randomized search) for industry-scale problems is required.\\nGood grasp on the theory and practise of basic statistical models such as regression or clustering and general ML algorithms such as tree, Random Forests, SVM, Boosting, Neural Networks etc. It is not expected that the candidate has actually worked on all these modules.\\nStrong proficiency in Python or R is necessary.\\nRoleResearch Scientist\\nIndustry TypeInternet\\nFunctional AreaResearch & Development\\nEmployment TypeFull Time, Permanent\\nRole CategoryPharmaceutical & Biotechnology\\nEducation\\nUG :B.Tech/B.E.\\nPG :M.Tech\\nKey Skills\\nSupply chainOperations researchdata scienceNeural networksPredictive modelingPython',\n",
       " 'Job description\\nIdentify and understand business problems : partner with business stakeholders to understand and communicate on business objectives\\nDefine analytical techniques to solve business challenges\\nProvide data science contribution into the assigned projects\\nBe part of the innovation programs (eg. Semtech, chatbots)\\nMaintain high quality code and documentation\\nAssure efficiency, stability and scalability of the solution\\nCreate deliver easily-consumable presentations to large groups of stakeholders and executives that showcase actionable insights and recommendations\\nTeam Interaction\\nData Scientist interacts with all members of service line she is assigned to in order to develop provide best in class solutions for the business.\\nShe interacts as well with key stakeholders of the business domain business process owners/experts, operations etc. in order to identify business opportunities, discuss test solutions\\nShe interacts also with other service lines as well as Analytics Apps Infrastructure team in order to exchange best practices\\nShe interacts also with Analytics Apps Infrastructure team in order to industrialize data products\\nShe interacts with Global IT department (Schneider Digital) to support the work on Intel Data Store\\n\\n\\n  RoleResearch Scientist\\nIndustry TypeElectrical Equipment\\nFunctional AreaResearch & Development\\nEmployment TypeFull Time, Permanent\\nRole CategoryPharmaceutical & Biotechnology\\nEducation\\nUG :Any Graduate\\nPG :Any Postgraduate\\nKey Skills\\nData ScienceHiveData ScientistHadoopSql ServerBig DataSparkMachine LearningPython',\n",
       " 'Job description\\nWorking with multidisciplinary teams to identify, validate, and source required data and tools to develop and mature ML capabilities\\nPerforming data mining to discover nonobvious relationships, building training data, implementing and retraining ML solutions\\nConducting discovery workshops with business partners to identify business problems\\nBuilding visualization dashboards to present metrics, statistical findings, and progress tracking\\nYour Responsibilities\\nCollaborate and work across business units to identify and source the data and technology to build and mature ML capabilities\\nConduct discovery workshops with business partners to identify business problems, obtain and validate training data\\nDesign, Build, implement, and retrain ML models to solve specific business problems\\nPerform data mining and apply findings to increase modeling accuracy\\nCleary and concisely communicate business needs, computational findings and recommendations to all audiences regardless of their background or technical understanding\\nBuild, implement, and maintain visualization dashboards that clearly present both historical and real time operational metrics, research findings, and progress updates\\nBasic Qualifications\\nBachelors degree in Applied Mathematics, Mathematical Engineering, Computer Science, Information Technology, or Related Field\\n10 + years of overall technical experience\\n2+ years of Machine Learning and or Data Mining experience\\n2+ years of experience building visualization dashboards\\n2+ years working with and manipulating large data sets\\n2+ years of hands on development experience using multiple languages\\nPreferred Qualifications\\nMasters degree in Applied Mathematics, Mathematical Engineering, Computer Science, Information Technology, or Related Field\\nExperience with tools such as Tableau and Power BI\\nExperience manipulating large data sets using technologies such as Hadoop, Azure, Hive, Spark, Element, Data Bricks, Mongo, and BigQuery\\nStrong development experience using multiple languages such as Python, R Studio, SQL, C#, Java, Java Script, and Julia\\nSuccessful completion of 2 or more projects (end to end) involving the migration and merging of large data sets from multiple sources, leveraging statistical analysis to identify meaningful and significant data relationships to build, train, and retrain ML models\\nExperience and/or exposure to the cyber security industry and working with a SIEM such as Splunk or Google Chronicle\\nRoleData warehouse Developer / Engineer\\nIndustry TypePharmaceutical & Life Sciences\\nFunctional AreaEngineering - Software\\nEmployment TypeFull Time, Permanent\\nRole CategoryDBA / Data warehousing\\nEducation\\nUG :Any Graduate\\nPG :Any Postgraduate\\nKey Skills\\nProcurementComputer sciencePharmaMachine learningHealthcareData miningOperationsInformation technologySQLPython',\n",
       " 'Job description\\nDuties and Responsibilities\\nImplement the application solving customer s issue by applying AI/ML technologies\\nApply ML and DL models for various industry problems.\\nSetting-up collaboration environment and framework for AI related research and development projects.\\nDesign and develop different architectural models for scalable data storage, processing, and large-scale analytics.\\nWork with cross-functional teams to understand technical needs.\\nSet-up big data environment that helps establish rapid POCs and prototype developments on both on-premises and cloud-based platforms.\\nMonitor and optimize performance of the big data ecosystem.\\nEnsure data accessibility to researchers via different programming languages.\\nKeep up to date with state of the art in the industry.\\nQualifications\\nMinimum\\nBachelor s degree in Computer Science with substantial industry experience of 5 years or more of Data Engineering/ETL/Administration experience.\\nHands-on experience in Statistical data analysis and Machine learning\\nPossess significant knowledge of Big Data technologies and tools.\\nGood coding skills in at least one scripting language (Shell, Python, R, etc.)\\nExperience with various Hadoop distribution like Hortonworks and Cloudera.\\nKnowledge of cluster monitoring tools like Ambari, Ganglia, or Nagios.\\nDelivered Big Data solutions in the cloud with AWS or Azure or Google Cloud.\\nExperience in Java programming, Scala programming.\\nExperience with RDBMS (MySQL, PostgreSQL, etc.)\\nExperience with NoSQL database administration development like MongoDB.\\nExperience with Hadoop eco-system (MapReduce, Streaming, Pig, HIVE, Spark).\\nExperience using DevOps toolbox such as Jenkins, Chef, Puppet.\\nProven ability to create and manage big data pipeline using Kafka, Flume Spark\\nKnowledge of BI tools such as Tableau, Pentaho, etc.\\nExperience building large-scale distributed applications and services.\\nExperience with agile development methodologies. -\\nKnowledge of industry standards and trends.\\nGood communication, logical thinking, and presentation skills.\\nAdditional qualifications (preferred but not mandatory)\\nMaster s degree in Computer Science or equivalent with at least 5 years industry experience of data engineering/ETL/Administration.\\nExperience applying Deep learning.\\nSubstantial industry experience developing prototypes and demonstrating PoCs\\nRoleFull Stack Developer\\nIndustry TypeConsumer Electronics & Appliances\\nFunctional AreaEngineering - Software\\nEmployment TypeFull Time, Permanent\\nRole CategorySoftware Development\\nEducation\\nUG :Any Graduate\\nPG :Any Postgraduate\\nKey Skills\\nHiveScalaHadoopBig DataSparkAwsMachine LearningPython',\n",
       " 'Job description\\nWe are looking for an energetic and experienced person as Sr/Lead Data Scientist. The chosen candidate will be responsible for interacting with clients and developing all aspects of data mining, predictive analytic, solution development to name a few.\\nRequirements\\nLead and take part in end-to-end ML (Machine Learning) projects deployments that require feasibility analysis, design, development, validation, and application of state-of-the art data science solutions.\\nNeed to deliver solutions to production through the software development lifecycle.\\nYou will have to push the state of the art application in terms of data mining, visualization, predictive modelling, statistics, trend analysis, and other data analysis techniques to solve complex business problems including recommender systems, Customer sentiment modelling, customer life-cycle modelling, Spare parts inventory optimization, spare parts pricing, warranty, After market channel effectiveness.\\nWrite production ready code and deploy real time ML models; expose ML outputs through APIs.\\nHypothesis Testing and Design of experiments to analyze and monitor results\\nPartner with Data/ML engineers and vendor partners for input data pipes development and ML models automation.\\nSkills\\n5 10 years of Applied Machine learning experience in the fields of Machine Learning, Recommender Systems, Statistical Modelling, Predictive Modelling.\\nNote: We are looking for candidates who are presently serving their notice or who can join us within 15-20 days.\\nRoleTechnical Consultant\\nIndustry TypeIT Services & Consulting\\nFunctional AreaConsulting\\nEmployment TypeFull Time, Permanent\\nRole CategoryIT Consulting\\nEducation\\nUG :Any Graduate\\nPG :Any Postgraduate\\nKey Skills\\nAutomationData analysisStatistical modelingSpare partsMachine learningTrend analysisCredit underwritingSoftware development life cyclePredictive modelingData mining',\n",
       " 'Job description\\n1. Minimum 4 years of Data Scientist experience.\\n2. Working with large datasets (several Gigs), using Azure ML Studio and proprietary data science modeling platform\\n3. Designing and building scalable data analytics solutions at an enterprise level and high-performance analytical models using Python, ML libraries, Jupyter notebooks\\n4. Building algorithms, statistical models and analytical solutions creatively and efficiently\\n5. Design & architect powerful visualizations of data model performance and results.\\n6. Responsible for setting up the data analytics model design & scripting the algorithm using python\\n7. Solving data-intensive problems using industry standard data analytics frameworks and tools.\\n8. Use multivariate techniques & predictive modeling – cluster analysis, discriminant analysis, CHAID, logistic & multiple regression analysis\\n9. Large scale data extraction/mining, data cleansing, diagnostics, preparation for Modeling\\n10. Intensive use of significance testing, sampling, descriptive statistics & multivariate statistics\\nRoleData Scientist\\nIndustry TypeIT Services & Consulting\\nFunctional AreaData Science & Analytics\\nEmployment TypeFull Time, Permanent\\nRole CategoryData Science & Machine Learning\\nEducation\\nUG :Any Graduate\\nPG :Any Postgraduate\\nDoctorate :Doctorate Not Required\\nKey Skills\\nPredictive ModelingData ScienceRegression AnalysisChaidJupyterData AnalyticsClusteringStatisticsPythonCluster Analysis',\n",
       " 'Job description\\nDescription:\\nWe are looking for a data scientist that will help us discover the information hidden in vast amounts of data, and help us make smarter decisions to deliver even better products. Your primary focus will be in applying data mining techniques, doing statistical analysis, and building high quality prediction systems integrated with our products. {{Depending on your needs, you can write very specific requirements here, like: “automate scoring using machine learning techniques”, “build recommendation systems”, “improve and extend the features used by our existing classifier”, “develop internal A/B testing procedures”, “build system for automated fraud detection”, etc.}}\\nResponsibilities:\\n-Selecting featJob ures, building and optimizing classifiers using machine learning techniques\\n-Data mining using state-of-the-art methods.\\n-Extending company’s data with third party sources of information when needed.\\n-Enhancing data collection procedures to include information that is relevant for building analytic systems.\\n-Processing, cleansing, and verifying the integrity of data used for analysis.\\n-Doing ad-hoc analysis and presenting results in a clear manner.\\n-Creating automated anomaly detection systems and constant tracking of its performance\\n{{Select from the above and add other responsibilities that are relevant}}.\\nSkills and Qualifications:\\n-Excellent understanding of machine learning techniques and algorithms, such as k-NN, Naive Bayes, SVM, Decision Forests, etc.\\n-Experience with common data science toolkits, such as R, Weka, NumPy, MatLab, etc {{depending on specific project requirements}}. Excellence in at least one of these is highly desirable.\\n-Great communication skills.\\n-Experience with data visualisation tools, such as D3.js, GGplot, etc.\\n-Proficiency in using query languages such as SQL, Hive, Pig {{actual list depends on what you are currently using in your company}}\\n-Experience with NoSQL databases, such as MongoDB, Cassandra, HBase {{depending on project needs}}\\n-Good applied statistics skills, such as distributions, statistical testing, regression, etc.\\n-Good scripting and programming skills {{if you expect that the person in this role will integrate the solution within the base application, list any programming languages and core frameworks currently being used}}\\n-Data-oriented personality\\n{{Mention any other technology that such person is going to commonly work with within the organization}}\\n{{List education level or certification you require}}\\nRoleData Scientist\\nIndustry TypeIT Services & Consulting\\nFunctional AreaData Science & Analytics\\nEmployment TypeFull Time, Permanent\\nRole CategoryData Science & Machine Learning\\nEducation\\nUG :B.Tech/B.E. in Any Specialization\\nPG :Any Postgraduate\\nDoctorate :Doctorate Not Required\\nKey Skills\\nData analysisQuery languages such as SQLData miningData science toolkitsProcessingpigScriptingAd-hoc analysisNo SQL DBMachine learning techniquesHiveData integrityVerifying dataData visualizationData collectionCleansing',\n",
       " 'Job description\\nRoles and Responsibilities\\nYour responsibilities\\nLead and participate in end-to-end ML projects deployments that require feasibility analysis, design, development, validation, and application of state-of-the art data science solutions.\\nNeed to deliver solutions to production through the software development lifecycle\\nYou will have to push the state of the art in terms of the application of NLP and Voice AI solution on call center verbatim, chat bot/robo calling data, social media posts, marketing collaterals/assets to solve complex business problems including but NOT limited to understating consumer behaviour, marketing asset performance, lead classification, retail channel effectiveness and recommender systems.\\nLeverage and enhance applications utilizing Natural Language Processing and Deep Learning Neural networks for use cases including text mining, speech, voice to text AI.\\nProvide leadership to establish world-class ML lifecycle management processes.\\nWrite production ready code and deploy real time ML models; expose ML outputs through APIs\\nPartner with data/ML engineers and vendor partners for input data pipes development and ML models automation Your qualifications\\n\\nYour qualifications\\nFor Lead Data Scientist: Over 6 years of Applied Machine learning experience in the fields of machine learning such as Text Mining, Natural Language Processing (NLP), Deep learning and Optimization\\nHands-on experience with open source tools such as Kaldi, Pytorch-Kaldi.\\nExperience in using any of the existing platforms such as LUIS, DialogFlow, Rasa etc\\nSolid understanding of current deep learning (DL) techniques like convolutional neural networks (CNNs), recurrent neural networks (RNNs), long-term short-term memory (LSTM), connectionist temporal classification (CTC), etc used for speech processing is essential.\\nShould be well versed in classical speech processing methodologies like hidden Markov models (HMMs), Gaussian mixture models (GMMs), Artificial neural networks (ANNs), Language modelling, etc.\\nPost grad/ graduate in Math, Computer Science, Statistics or related field with a minimum of 4 years of relevant experience or Masters in Math, Computer Science, Statistics or related field\\nHands on experience in model building, validation, and productionizing.\\nExpert Python Programmer, strong hold on SQL, extremely proficient with the SciPy stack (e.g. numpy, pandas, sci-kit learn, matplotlib);\\nA demonstrated ability to mentor junior data scientists and proven experience in collaborative work environments with external customers\\nProficient in communicating technical findings to non-technical stakeholders\\nExperienced in ML lifecycle mgmt. and ML Ops tools & frameworks\\n\\n\\n\\nRoleComputer Vision\\nIndustry TypeElectronics Manufacturing\\nFunctional AreaData Science & Analytics\\nEmployment TypeFull Time, Permanent\\nRole CategoryData Science & Machine Learning\\nEducation\\nUG :Any Graduate\\nKey Skills\\nNLP',\n",
       " 'Job description\\nAs a data scientist, you need to be exceptionally driven, curious and creative. You will work with data scientists, engineers and product managers to create new ideas, formulate mathematical algorithms, design new machine learning models and develop prototype solutions to enhance capabilities of our products and satisfaction from our customers. You need to be an exceptional problem solver and have great communication skill.\\n\\nResponsibilities:\\n\\nWork on complex and extremely varied data sets\\nBuild algorithms based on telematics data and geographical information\\nBuild products\\nWork with the Data Engineering team to productionise and optimise the models\\nDesign, build, and deploy internal tools and processes to operationalise ML best practices within our productata tasks\\nSharpen our data science capacity by mentoring team members on building predictive models, experimental methodologies, and causal inference approaches\\nDevelop and foster collaborative relationships with product, business and engineering teams to effectively serve our customers needs.\\n\\nSpecifications:\\n\\nDegree or demonstrable experience in a quantitative field like statistics, physics, applied mathematics, operations research or engineering. Advanced degrees are preferred.\\nIndustry experience in data science, with statistics and machine learning responsibilities\\nExperience with a range of techniques from statistical modelling to deep learning, from linear models to neural networks\\nProficiency in Python and SQL\\nExperience developing and productionising models\\nExperience with ML frameworks such as TensorFlow, Keras, Spark, Theano etc\\nStrong background in Linear Algebra, Statistics and Mathematics\\nExperience working with public cloud, preferably AWS or Azure\\nExperience handling large datasets (>billions of rows)\\nExceptional communication skills and the ability to simplify complex engineering notions to non-technical audience\\nNatural problem solver with curiosity as a feature, not a bug\\nAbility to set expectations and confidently talk to AI hype versus reality\\nExperience working cross functionally with engineering and product teams in a collaborative environment\\n\\nBonus points:\\nExperience working with telematics data\\nExperience working on automotive use cases\\nKnowledge and understanding of geographical information systems and related data ecosystem\\nStream processing and real-time analytics\\n\\nRoleData Engineer\\nIndustry TypeSoftware Product\\nFunctional AreaEngineering - Software\\nEmployment TypeFull Time, Permanent\\nRole CategorySoftware Development\\nEducation\\nUG :B.Tech/B.E. in Any Specialization\\nKey Skills\\nData EngineeringMachine Learning\\nProblem SolvingCommunicationPython\\nSkills highlighted with ‘‘ are preferred keyskills',\n",
       " 'Job description\\nWhat You Will Do\\nWork with Data Scientists, Machine Learning Engineers, and Business Users to build, deploy, and scale Data Science solutions on match-making, supply, pricing problems in Gojek that touch the company s baseline\\nUse your experience in Data Science, Machine Learning, Software Engineering, distributed systems to develop these systems, and work with the platform team to take the systems to production\\nWork with Business teams to continuously refine and improve the systems to cater to ever-changing Gojek needs\\nDesign and develop world class Data Science solutions to enhance the current stack of Marketplace algorithms for supply, demand, pricing\\nWhat You Will Need\\nAt least 6 years of experience as a Data Scientist or Machine Learning Engineer, with experience in Python, Golang/Java, and Unix\\nA Bachelors Degree in Computer Science, Statistics, Operations Research, or a relevant quantitative field\\nSolid knowledge of Data Science and Machine Learning fundamentals, with proven experience formulating Data Science solutions to business problems\\nProven ability to recognize business needs and to communicate with multiple stakeholders within the Product Management, Business and Operations teams\\nExperience in taking Data Science models to production\\nPrior academic or industry work experience with forecasting methods like auto-regressive models, Markov models, and Kernel-based methods\\nPrior experience with simulations for modeling the stochastic nature of marketplace supply and demand, and knowledge of the transportation and mobility space\\nRoleTechnical Lead\\nIndustry TypeIT Services & Consulting\\nFunctional AreaEngineering - Software\\nEmployment TypeFull Time, Permanent\\nRole CategorySoftware Development\\nEducation\\nUG :Any Graduate\\nPG :Any Postgraduate\\nKey Skills\\nData ScienceJavaProduct ManagementAlgorithmsCustomer ExperienceSoftware EngineeringData ScientistComputer ScienceMachine LearningPython',\n",
       " 'Job description\\nRoles and Responsibilities\\nPhD in Statistics, Math or Computer Science is preferred. Must have at least a Master degree with 10+ years of experience.\\nExcellent statistical analysis skills to identify patterns in data. This includes having a keen sense of pattern detection and anomaly detection.\\nExcellent understanding of machine learning techniques and algorithms, such as k-NN, Naive Bayes, SVM, Decision Forests, etc.\\nMust be able to implement algorithms and statistical concepts to build predictive models.\\nIn-depth experience with common data science tools such as TensorFlow, PyTorch or equivalent.\\nProficient in programming with python, SQL and No-SQL databases; and data science libraries such as nltk, numpy, scipy and many others\\nGreat communication skills both written and verbal. Must be able to effectively communicate with global English speaking teams.\\nExpertise in collaborating with multi-disciplinary teams of business analysts, data scientists, subject matter experts, and developers\\nDesired Candidate Profile\\n\\n\\nPerks and Benefits\\n\\n\\nRoleTechnical Architect\\nIndustry TypeIT Services & Consulting\\nFunctional AreaEngineering - Software\\nEmployment TypeFull Time, Permanent\\nRole CategorySoftware Development\\nEducation\\nUG :B.Tech/B.E. in Computers, B.Sc in Any Specialization\\nPG :M.Tech in Computers, MS/M.Sc(Science) in Computers\\nDoctorate :Ph.D/Doctorate in Computers, Maths\\nKey Skills\\nTensorflowScipyALGORITHMSVMMachine LearningNumpySQLPytorchNltkAnomaly DetectionData Sciencek-nndecision forestsstatistical conceptsPython',\n",
       " \"Job description\\nSenior Data Scientist, NLP\\nAre you excited about working at the forefront of applied research in an industry setting? Thomson Reuters Labs in Bangalore is seeking experienced data scientists with a passion for solving problems using state-of-the-art Machine Learning and Natural Language Processing.\\nWhat does Thomson Reuters Labs do? We experiment, we build, we deliver. We support the organization and our customers through applied research and the development of new products and technologies. TR Labs innovates collaboratively across our core segments in Legal, Tax & Accounting, Government, and Reuters News.  We undertake a diverse portfolio of projects today while investing in long-term research for the future.\\nAs a data scientist in Labs, you will be part of a global interdisciplinary team of experts. We hire specialists across a variety of AI research areas, as well as Engineering and Design, to drive the company's digital transformation. TR Labs is known for consistently delivering Artificial Intelligence projects that advance the state of the art in support of high growth products and serve Thomson Reuters customers in new and exciting ways.\\n\\nAbout the role\\nIn this opportunity as a Senior Data Scientist, you will:\\nExperiment and Develop: You will drive the entire model development lifecycle, building, testing, and delivering high-quality solutions. You will apply best practices for conducting reproducible research and well-managed software delivery.\\nCollaborate: Working on a collaborative cross-functional team, you will share information, value diverse ideas, and partner effectively with colleagues across the globe. You will elevate and mentor teammates.\\nDeliver: With a strong sense of urgency and the desire to work in a fast-paced, dynamic environment, you will translate complex business problems into projects with a clearly defined scope. Our problems are complex; our solutions are right-sized. You will be accountable for timely, well-managed deliverables.\\nInnovate:  You will be empowered to try new approaches and learn new technologies. You will implement innovative ideas to solve real-world challenges.\\nInspire: You will be a proactive communicator who is excited to share your work. You will be articulate and compelling in describing ideas to both technical and non-technical audiences. You will help lead the way in the adoption of AI across the enterprise.\\n\\nAbout you\\nBasic qualifications\\nPh.D. in a relevant discipline or Masters plus a comparable level of experience\\nAt least five years experience building ML/NLP systems\\nSolid software engineering skills for prototyping\\nExperience as a technical leader, coordinating and guiding the work of others\\nPreferred qualifications\\n8+ years of academic or industry experience building ML or NLP systems with the demonstrated ability to translate cutting edge research into working applications\\nDemonstrated ability to translate customer needs into well-structured research/project plans\\nProficiency in Python, Java, or Scala and experience delivering minimum viable products in a large enterprise environment\\nOutstanding communication, organization, and data-driven decision making\\nPublications at workshops or conferences such as ACL, EMNLP, KDD, ICML, NeurIPS, or similar\\n\\nWhat's in it for you\\nAt Thomson Reuters, our people are our greatest assets. In addition to rewarding and challenging work with exceptional colleagues, we offer the following benefits for your personal and professional growth:\\nLearning & Development: On-the-job coaching & learning, tuition reimbursement, exposure to leading-edge technology\\nOur Scientists and Engineers get to play with big data sets to discover new products, capabilities, and insights for our customers. Thomson Reuters is most well-known for the globally respected Reuters News agency, but our company is also the leading source of information for legal, corporate, and tax professionals. We have over 60,000 TBs worth of legal, regulatory, news, and tax data. \\nBenefits: Flexible work arrangements, comprehensive health coverage effective day one, savings and investment plans\\nPerks: Social events & activities, employee discount programs\\nSocial Impact: Paid time off for volunteering virtually or in your community\\nRoleData Scientist\\nIndustry TypeSoftware Product\\nFunctional AreaData Science & Analytics\\nEmployment TypeFull Time, Permanent\\nRole CategoryData Science & Machine Learning\\nEducation\\nPG :M.Tech in Any Specialization\\nDoctorate :Ph.D/Doctorate in Any Specialization\\nKey Skills\\nJavaNLPAccountingscalaArtificial IntelligenceNatural Language ProcessingBig Datamodel development lifecyclePrototypingMachine LearningPythonModel Development\"]"
      ]
     },
     "execution_count": 39,
     "metadata": {},
     "output_type": "execute_result"
    }
   ],
   "source": [
    "job_description"
   ]
  },
  {
   "cell_type": "code",
   "execution_count": 46,
   "id": "a845db0c",
   "metadata": {},
   "outputs": [
    {
     "data": {
      "text/plain": [
       "['Huawei Technologies',\n",
       " 'mPokket',\n",
       " 'InnovAccer',\n",
       " 'Pylon Management Consulting Pvt Ltd',\n",
       " '-',\n",
       " 'Staffio HR',\n",
       " 'Capco Technologies Pvt Ltd',\n",
       " '-',\n",
       " 'Flipkart Internet Private Limited',\n",
       " 'Schneider Electric India Pvt. Ltd.',\n",
       " 'GlaxoSmithKline Pharmaceuticals Limited',\n",
       " 'Hitachi Ltd.',\n",
       " 'Scienaptic Systems',\n",
       " 'Executive Selection India',\n",
       " 'Successr HR Tech PVT LTD',\n",
       " 'Recruise India Consulting Pvt. Ltd.',\n",
       " 'BIZVIZ TECHNOLOGIES PRIVATE LIMITED',\n",
       " 'GO-JEK India',\n",
       " 'Convergence Infotech Ltd',\n",
       " 'Thomson Reuters']"
      ]
     },
     "execution_count": 46,
     "metadata": {},
     "output_type": "execute_result"
    }
   ],
   "source": [
    "company_names"
   ]
  },
  {
   "cell_type": "code",
   "execution_count": 48,
   "id": "77e2b677",
   "metadata": {},
   "outputs": [
    {
     "data": {
      "text/html": [
       "<div>\n",
       "<style scoped>\n",
       "    .dataframe tbody tr th:only-of-type {\n",
       "        vertical-align: middle;\n",
       "    }\n",
       "\n",
       "    .dataframe tbody tr th {\n",
       "        vertical-align: top;\n",
       "    }\n",
       "\n",
       "    .dataframe thead th {\n",
       "        text-align: right;\n",
       "    }\n",
       "</style>\n",
       "<table border=\"1\" class=\"dataframe\">\n",
       "  <thead>\n",
       "    <tr style=\"text-align: right;\">\n",
       "      <th></th>\n",
       "      <th>Title</th>\n",
       "      <th>Location</th>\n",
       "      <th>Company Name</th>\n",
       "      <th>Job Description</th>\n",
       "    </tr>\n",
       "  </thead>\n",
       "  <tbody>\n",
       "    <tr>\n",
       "      <th>0</th>\n",
       "      <td>Lead Data Scientist</td>\n",
       "      <td>Bangalore/Bengaluru</td>\n",
       "      <td>Huawei Technologies</td>\n",
       "      <td>Job description\\nWe are looking for a Lead dat...</td>\n",
       "    </tr>\n",
       "    <tr>\n",
       "      <th>1</th>\n",
       "      <td>Sr. Data Scientist / Data Scientist For Bangal...</td>\n",
       "      <td>Kolkata</td>\n",
       "      <td>mPokket</td>\n",
       "      <td>Job description\\nJob Description:\\n1. Must hav...</td>\n",
       "    </tr>\n",
       "    <tr>\n",
       "      <th>2</th>\n",
       "      <td>Senior Data Scientist</td>\n",
       "      <td>Noida</td>\n",
       "      <td>InnovAccer</td>\n",
       "      <td>Job description\\n  A day in the life at Innova...</td>\n",
       "    </tr>\n",
       "    <tr>\n",
       "      <th>3</th>\n",
       "      <td>Data Scientist/Senior Data Scientist - IT Serv...</td>\n",
       "      <td>Hyderabad/Secunderabad</td>\n",
       "      <td>Pylon Management Consulting Pvt Ltd</td>\n",
       "      <td>Job description\\nResponsibilities :\\n\\n- Analy...</td>\n",
       "    </tr>\n",
       "    <tr>\n",
       "      <th>4</th>\n",
       "      <td>-</td>\n",
       "      <td>-</td>\n",
       "      <td>-</td>\n",
       "      <td>-</td>\n",
       "    </tr>\n",
       "    <tr>\n",
       "      <th>5</th>\n",
       "      <td>Data Scientist</td>\n",
       "      <td>Bangalore/Bengaluru</td>\n",
       "      <td>Staffio HR</td>\n",
       "      <td>Job description\\n  Prior experience of working...</td>\n",
       "    </tr>\n",
       "    <tr>\n",
       "      <th>6</th>\n",
       "      <td>Data Scientist</td>\n",
       "      <td>Bangalore/Bengaluru</td>\n",
       "      <td>Capco Technologies Pvt Ltd</td>\n",
       "      <td>Job description\\nWe are/have:\\nExperts in bank...</td>\n",
       "    </tr>\n",
       "    <tr>\n",
       "      <th>7</th>\n",
       "      <td>-</td>\n",
       "      <td>-</td>\n",
       "      <td>-</td>\n",
       "      <td>-</td>\n",
       "    </tr>\n",
       "    <tr>\n",
       "      <th>8</th>\n",
       "      <td>Data Scientist</td>\n",
       "      <td>Bangalore/Bengaluru</td>\n",
       "      <td>Flipkart Internet Private Limited</td>\n",
       "      <td>Job description\\nAbout the role\\nA Data Scient...</td>\n",
       "    </tr>\n",
       "    <tr>\n",
       "      <th>9</th>\n",
       "      <td>Data Scientist - AI Flagship</td>\n",
       "      <td>Bangalore/Bengaluru</td>\n",
       "      <td>Schneider Electric India Pvt. Ltd.</td>\n",
       "      <td>Job description\\nIdentify and understand busin...</td>\n",
       "    </tr>\n",
       "  </tbody>\n",
       "</table>\n",
       "</div>"
      ],
      "text/plain": [
       "                                               Title                Location  \\\n",
       "0                                Lead Data Scientist     Bangalore/Bengaluru   \n",
       "1  Sr. Data Scientist / Data Scientist For Bangal...                 Kolkata   \n",
       "2                              Senior Data Scientist                   Noida   \n",
       "3  Data Scientist/Senior Data Scientist - IT Serv...  Hyderabad/Secunderabad   \n",
       "4                                                  -                       -   \n",
       "5                                     Data Scientist     Bangalore/Bengaluru   \n",
       "6                                     Data Scientist     Bangalore/Bengaluru   \n",
       "7                                                  -                       -   \n",
       "8                                     Data Scientist     Bangalore/Bengaluru   \n",
       "9                       Data Scientist - AI Flagship     Bangalore/Bengaluru   \n",
       "\n",
       "                          Company Name  \\\n",
       "0                  Huawei Technologies   \n",
       "1                              mPokket   \n",
       "2                           InnovAccer   \n",
       "3  Pylon Management Consulting Pvt Ltd   \n",
       "4                                    -   \n",
       "5                           Staffio HR   \n",
       "6           Capco Technologies Pvt Ltd   \n",
       "7                                    -   \n",
       "8    Flipkart Internet Private Limited   \n",
       "9   Schneider Electric India Pvt. Ltd.   \n",
       "\n",
       "                                     Job Description  \n",
       "0  Job description\\nWe are looking for a Lead dat...  \n",
       "1  Job description\\nJob Description:\\n1. Must hav...  \n",
       "2  Job description\\n  A day in the life at Innova...  \n",
       "3  Job description\\nResponsibilities :\\n\\n- Analy...  \n",
       "4                                                  -  \n",
       "5  Job description\\n  Prior experience of working...  \n",
       "6  Job description\\nWe are/have:\\nExperts in bank...  \n",
       "7                                                  -  \n",
       "8  Job description\\nAbout the role\\nA Data Scient...  \n",
       "9  Job description\\nIdentify and understand busin...  "
      ]
     },
     "execution_count": 48,
     "metadata": {},
     "output_type": "execute_result"
    }
   ],
   "source": [
    "import pandas as pd\n",
    "jobs=pd.DataFrame({})\n",
    "jobs[\"Title\"]=job_title[0:10]\n",
    "jobs[\"Location\"]=locations_list[0:10]\n",
    "jobs[\"Company Name\"]=company_names[0:10]\n",
    "jobs[\"Job Description\"]=job_description[0:10]\n",
    "jobs"
   ]
  },
  {
   "cell_type": "code",
   "execution_count": null,
   "id": "61fb7fb8",
   "metadata": {},
   "outputs": [],
   "source": []
  }
 ],
 "metadata": {
  "kernelspec": {
   "display_name": "Python 3",
   "language": "python",
   "name": "python3"
  },
  "language_info": {
   "codemirror_mode": {
    "name": "ipython",
    "version": 3
   },
   "file_extension": ".py",
   "mimetype": "text/x-python",
   "name": "python",
   "nbconvert_exporter": "python",
   "pygments_lexer": "ipython3",
   "version": "3.8.8"
  }
 },
 "nbformat": 4,
 "nbformat_minor": 5
}

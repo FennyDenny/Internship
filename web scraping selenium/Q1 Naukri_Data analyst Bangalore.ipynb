{
 "cells": [
  {
   "cell_type": "code",
   "execution_count": 1,
   "id": "51883b22",
   "metadata": {},
   "outputs": [],
   "source": [
    "#!pip install selenium\n"
   ]
  },
  {
   "cell_type": "code",
   "execution_count": 2,
   "id": "7173cb43",
   "metadata": {},
   "outputs": [],
   "source": [
    "import selenium \n",
    "import pandas as pd\n",
    "import time\n",
    "from selenium import webdriver"
   ]
  },
  {
   "cell_type": "code",
   "execution_count": 3,
   "id": "3b309ce9",
   "metadata": {},
   "outputs": [],
   "source": [
    "driver=webdriver.Chrome(r\"C:/Users/Admin/Downloads/chromedriver_win32/chromedriver.exe\")"
   ]
  },
  {
   "cell_type": "code",
   "execution_count": 4,
   "id": "030093d0",
   "metadata": {},
   "outputs": [],
   "source": [
    "#driver=webdriver.Chrome(\"chromedriver.exe\")"
   ]
  },
  {
   "cell_type": "code",
   "execution_count": 5,
   "id": "f64bd8c1",
   "metadata": {},
   "outputs": [],
   "source": [
    "driver.get(\"https://www.naukri.com/\")"
   ]
  },
  {
   "cell_type": "code",
   "execution_count": 6,
   "id": "2bae2e61",
   "metadata": {},
   "outputs": [],
   "source": [
    "search_job=driver.find_element_by_id(\"qsb-keyword-sugg\")\n",
    "search_job.send_keys(\"Data Analyst\")\n",
    "search_loc=driver.find_element_by_xpath(\"//input[@id='qsb-location-sugg']\")\n",
    "search_loc.send_keys(\"Bangalore\")"
   ]
  },
  {
   "cell_type": "code",
   "execution_count": 7,
   "id": "ea499feb",
   "metadata": {},
   "outputs": [],
   "source": [
    "search_btn=driver.find_element_by_xpath(\"//div[@class='search-btn']/button\")\n",
    "search_btn.click()\n",
    "time.sleep(3)"
   ]
  },
  {
   "cell_type": "code",
   "execution_count": 8,
   "id": "e20b8000",
   "metadata": {},
   "outputs": [
    {
     "data": {
      "text/plain": [
       "[<selenium.webdriver.remote.webelement.WebElement (session=\"1ed965218d85819c5bbadcd20a062c46\", element=\"515cd660-65df-43b3-813d-d8f4fcd84484\")>,\n",
       " <selenium.webdriver.remote.webelement.WebElement (session=\"1ed965218d85819c5bbadcd20a062c46\", element=\"2c6aca2e-b64b-4a4f-945d-11ccca12da83\")>,\n",
       " <selenium.webdriver.remote.webelement.WebElement (session=\"1ed965218d85819c5bbadcd20a062c46\", element=\"9266a40a-ad26-4a9c-a4e8-92960f6af3f5\")>,\n",
       " <selenium.webdriver.remote.webelement.WebElement (session=\"1ed965218d85819c5bbadcd20a062c46\", element=\"0895e39e-5001-48a7-924f-2bf8c51f2e24\")>,\n",
       " <selenium.webdriver.remote.webelement.WebElement (session=\"1ed965218d85819c5bbadcd20a062c46\", element=\"dc274103-f4e9-46f6-b576-02fc6b12ebb5\")>,\n",
       " <selenium.webdriver.remote.webelement.WebElement (session=\"1ed965218d85819c5bbadcd20a062c46\", element=\"59cb2661-17c0-45e9-8af6-4c943e1c33df\")>,\n",
       " <selenium.webdriver.remote.webelement.WebElement (session=\"1ed965218d85819c5bbadcd20a062c46\", element=\"14154258-062f-4883-99b7-a72f509e4861\")>,\n",
       " <selenium.webdriver.remote.webelement.WebElement (session=\"1ed965218d85819c5bbadcd20a062c46\", element=\"14c8f3c7-6855-4f24-8376-76a2db1ae87e\")>,\n",
       " <selenium.webdriver.remote.webelement.WebElement (session=\"1ed965218d85819c5bbadcd20a062c46\", element=\"d1867831-3302-41aa-b062-16773194094b\")>,\n",
       " <selenium.webdriver.remote.webelement.WebElement (session=\"1ed965218d85819c5bbadcd20a062c46\", element=\"1d77fd57-3916-4e0e-913a-a8ce5350ae35\")>]"
      ]
     },
     "execution_count": 8,
     "metadata": {},
     "output_type": "execute_result"
    }
   ],
   "source": [
    "job_titles=[]\n",
    "titles_tags=driver.find_elements_by_xpath(\"//a[@class='title fw500 ellipsis']\")\n",
    "titles_tags[0:10]"
   ]
  },
  {
   "cell_type": "code",
   "execution_count": 9,
   "id": "14b73457",
   "metadata": {},
   "outputs": [
    {
     "data": {
      "text/plain": [
       "['SQL Data Analyst',\n",
       " 'Data Analyst - Marketing',\n",
       " 'Openings For Data Analyst',\n",
       " 'Associate Data Analyst',\n",
       " 'Business Data Analyst',\n",
       " 'Data Analyst / Business Analyst (Demand Planning)',\n",
       " 'Data Analyst',\n",
       " 'Lead Data Analyst / Data Engineer',\n",
       " 'Business Data Analyst',\n",
       " 'Senior Data Analyst']"
      ]
     },
     "execution_count": 9,
     "metadata": {},
     "output_type": "execute_result"
    }
   ],
   "source": [
    "for i in titles_tags:\n",
    "    title=i.text\n",
    "    job_titles.append(title)\n",
    "job_titles[0:10]"
   ]
  },
  {
   "cell_type": "code",
   "execution_count": 10,
   "id": "721495e0",
   "metadata": {},
   "outputs": [
    {
     "data": {
      "text/plain": [
       "[<selenium.webdriver.remote.webelement.WebElement (session=\"1ed965218d85819c5bbadcd20a062c46\", element=\"a2daee13-91e3-49cc-bced-64db8f2cd40f\")>,\n",
       " <selenium.webdriver.remote.webelement.WebElement (session=\"1ed965218d85819c5bbadcd20a062c46\", element=\"0f0af6a5-92fa-4016-aa52-586a7017d06b\")>,\n",
       " <selenium.webdriver.remote.webelement.WebElement (session=\"1ed965218d85819c5bbadcd20a062c46\", element=\"671325a3-ca94-41f7-a354-5bef4be45d93\")>,\n",
       " <selenium.webdriver.remote.webelement.WebElement (session=\"1ed965218d85819c5bbadcd20a062c46\", element=\"e002d94b-6461-46bf-9827-bd8201023f8e\")>,\n",
       " <selenium.webdriver.remote.webelement.WebElement (session=\"1ed965218d85819c5bbadcd20a062c46\", element=\"10e9efec-50ce-4e30-9b7a-a95d12d5c226\")>,\n",
       " <selenium.webdriver.remote.webelement.WebElement (session=\"1ed965218d85819c5bbadcd20a062c46\", element=\"04d2718c-9078-429d-acb8-e5882c642602\")>,\n",
       " <selenium.webdriver.remote.webelement.WebElement (session=\"1ed965218d85819c5bbadcd20a062c46\", element=\"5e80e626-75cc-4ebd-a9f0-f6b16f2a4a87\")>,\n",
       " <selenium.webdriver.remote.webelement.WebElement (session=\"1ed965218d85819c5bbadcd20a062c46\", element=\"e4642447-8cb8-4c54-943d-1fef9356ff8b\")>,\n",
       " <selenium.webdriver.remote.webelement.WebElement (session=\"1ed965218d85819c5bbadcd20a062c46\", element=\"487eea45-5300-4fb8-a56d-c2a4fdb07019\")>,\n",
       " <selenium.webdriver.remote.webelement.WebElement (session=\"1ed965218d85819c5bbadcd20a062c46\", element=\"253dc5e5-f037-486d-a324-be10540b8fd7\")>]"
      ]
     },
     "execution_count": 10,
     "metadata": {},
     "output_type": "execute_result"
    }
   ],
   "source": [
    "company_names=[]\n",
    "company_tags=driver.find_elements_by_xpath(\"//a[@class='subTitle ellipsis fleft']\")\n",
    "company_tags[0:10]"
   ]
  },
  {
   "cell_type": "code",
   "execution_count": 11,
   "id": "dbfff4bd",
   "metadata": {},
   "outputs": [
    {
     "data": {
      "text/plain": [
       "['NetApp',\n",
       " 'Byjus - Transforming Education using Technology',\n",
       " 'Allegis Services India Pvt. Ltd.',\n",
       " 'Integrated Digital Systems',\n",
       " 'INDIAVIDUAL LEARNING LIMITED',\n",
       " 'Flipkart',\n",
       " 'Applied Materials',\n",
       " 'Huawei Technologies',\n",
       " 'RANDSTAD INDIA PVT LTD',\n",
       " 'Scienaptic Systems']"
      ]
     },
     "execution_count": 11,
     "metadata": {},
     "output_type": "execute_result"
    }
   ],
   "source": [
    "for i in company_tags:\n",
    "    names=i.text\n",
    "    company_names.append(names)\n",
    "company_names[0:10]"
   ]
  },
  {
   "cell_type": "code",
   "execution_count": 12,
   "id": "6ed60e25",
   "metadata": {},
   "outputs": [
    {
     "data": {
      "text/plain": [
       "[<selenium.webdriver.remote.webelement.WebElement (session=\"1ed965218d85819c5bbadcd20a062c46\", element=\"94de2e20-e48d-4bc5-9037-06b31fab6f4d\")>,\n",
       " <selenium.webdriver.remote.webelement.WebElement (session=\"1ed965218d85819c5bbadcd20a062c46\", element=\"938ad4af-be24-41f4-a61f-f81f33371aef\")>,\n",
       " <selenium.webdriver.remote.webelement.WebElement (session=\"1ed965218d85819c5bbadcd20a062c46\", element=\"7e8df96c-1293-4578-a717-d22f1769adc4\")>,\n",
       " <selenium.webdriver.remote.webelement.WebElement (session=\"1ed965218d85819c5bbadcd20a062c46\", element=\"eb77c987-0162-4ee1-9d84-a1316594866a\")>,\n",
       " <selenium.webdriver.remote.webelement.WebElement (session=\"1ed965218d85819c5bbadcd20a062c46\", element=\"cdcc0f42-a9ac-4bdc-b51e-1360e7b920a6\")>,\n",
       " <selenium.webdriver.remote.webelement.WebElement (session=\"1ed965218d85819c5bbadcd20a062c46\", element=\"158ce3e9-de33-42c4-8df6-9278c08dc100\")>,\n",
       " <selenium.webdriver.remote.webelement.WebElement (session=\"1ed965218d85819c5bbadcd20a062c46\", element=\"171ac88f-29f8-4a12-8f45-66f49c7264cd\")>,\n",
       " <selenium.webdriver.remote.webelement.WebElement (session=\"1ed965218d85819c5bbadcd20a062c46\", element=\"67e4c2f3-1ca5-4e46-b125-ad20cbf99c72\")>,\n",
       " <selenium.webdriver.remote.webelement.WebElement (session=\"1ed965218d85819c5bbadcd20a062c46\", element=\"4225ec25-81a3-4ad6-bb1b-9ca5f51f453d\")>,\n",
       " <selenium.webdriver.remote.webelement.WebElement (session=\"1ed965218d85819c5bbadcd20a062c46\", element=\"f55ecb02-0ced-4372-a7d3-116f4419577f\")>]"
      ]
     },
     "execution_count": 12,
     "metadata": {},
     "output_type": "execute_result"
    }
   ],
   "source": [
    "locations_list=[]\n",
    "location_tags=driver.find_elements_by_xpath(\"//li[@class='fleft grey-text br2 placeHolderLi location']\")\n",
    "location_tags[0:10]"
   ]
  },
  {
   "cell_type": "code",
   "execution_count": 13,
   "id": "50e3e8f0",
   "metadata": {},
   "outputs": [
    {
     "data": {
      "text/plain": [
       "['Bangalore/Bengaluru',\n",
       " 'Bangalore/Bengaluru',\n",
       " 'Bangalore/Bengaluru',\n",
       " 'Bangalore/Bengaluru',\n",
       " 'Bangalore/Bengaluru',\n",
       " 'Bangalore/Bengaluru',\n",
       " 'Bangalore/Bengaluru',\n",
       " 'Bangalore/Bengaluru',\n",
       " 'Bangalore/Bengaluru',\n",
       " 'Bangalore/Bengaluru']"
      ]
     },
     "execution_count": 13,
     "metadata": {},
     "output_type": "execute_result"
    }
   ],
   "source": [
    "for i in location_tags:\n",
    "    location=i.text\n",
    "    locations_list.append(location)\n",
    "locations_list[0:10]"
   ]
  },
  {
   "cell_type": "code",
   "execution_count": 14,
   "id": "dafa1bed",
   "metadata": {},
   "outputs": [
    {
     "data": {
      "text/plain": [
       "[<selenium.webdriver.remote.webelement.WebElement (session=\"1ed965218d85819c5bbadcd20a062c46\", element=\"0f22c2ac-4dec-4429-9743-c0593c04555f\")>,\n",
       " <selenium.webdriver.remote.webelement.WebElement (session=\"1ed965218d85819c5bbadcd20a062c46\", element=\"0ffb6576-437e-42d2-a727-65fdbf89b563\")>,\n",
       " <selenium.webdriver.remote.webelement.WebElement (session=\"1ed965218d85819c5bbadcd20a062c46\", element=\"0abb3639-70d6-4f05-9e50-416c71d5d29f\")>,\n",
       " <selenium.webdriver.remote.webelement.WebElement (session=\"1ed965218d85819c5bbadcd20a062c46\", element=\"1a12652b-a855-46e4-8f10-ad29d4ec87aa\")>,\n",
       " <selenium.webdriver.remote.webelement.WebElement (session=\"1ed965218d85819c5bbadcd20a062c46\", element=\"960172ac-9dfa-4a75-af33-f48a5bedcc9e\")>,\n",
       " <selenium.webdriver.remote.webelement.WebElement (session=\"1ed965218d85819c5bbadcd20a062c46\", element=\"b2e1f121-eb14-4555-9d4d-dbfe23802660\")>,\n",
       " <selenium.webdriver.remote.webelement.WebElement (session=\"1ed965218d85819c5bbadcd20a062c46\", element=\"21457fc2-4917-4a0e-ba3b-08cdecf5e4d5\")>,\n",
       " <selenium.webdriver.remote.webelement.WebElement (session=\"1ed965218d85819c5bbadcd20a062c46\", element=\"af3d4bf9-29c0-47e6-8f80-3b80fdb1d337\")>,\n",
       " <selenium.webdriver.remote.webelement.WebElement (session=\"1ed965218d85819c5bbadcd20a062c46\", element=\"c2c94672-021a-4db2-b332-5cda8f62575d\")>,\n",
       " <selenium.webdriver.remote.webelement.WebElement (session=\"1ed965218d85819c5bbadcd20a062c46\", element=\"1fd37d2e-1454-449b-bff6-2cb369bfb0f8\")>]"
      ]
     },
     "execution_count": 14,
     "metadata": {},
     "output_type": "execute_result"
    }
   ],
   "source": [
    "experience_list=[]\n",
    "experience_tags=driver.find_elements_by_xpath(\"//li[@class='fleft grey-text br2 placeHolderLi experience']/span\")\n",
    "experience_tags[0:10]"
   ]
  },
  {
   "cell_type": "code",
   "execution_count": 15,
   "id": "9d3a584e",
   "metadata": {},
   "outputs": [
    {
     "data": {
      "text/plain": [
       "['3-7 Yrs',\n",
       " '0-2 Yrs',\n",
       " '0-3 Yrs',\n",
       " '0-2 Yrs',\n",
       " '2-6 Yrs',\n",
       " '1-4 Yrs',\n",
       " '0-3 Yrs',\n",
       " '5-10 Yrs',\n",
       " '8-12 Yrs',\n",
       " '5-10 Yrs']"
      ]
     },
     "execution_count": 15,
     "metadata": {},
     "output_type": "execute_result"
    }
   ],
   "source": [
    "for i in experience_tags:\n",
    "    experience=i.text\n",
    "    experience_list.append(experience)\n",
    "experience_list[0:10]"
   ]
  },
  {
   "cell_type": "code",
   "execution_count": 16,
   "id": "2e5f8ae3",
   "metadata": {},
   "outputs": [
    {
     "name": "stdout",
     "output_type": "stream",
     "text": [
      "20 20 20 20\n"
     ]
    }
   ],
   "source": [
    "print(len(job_titles),len(locations_list),len(company_names),len(experience_list))"
   ]
  },
  {
   "cell_type": "code",
   "execution_count": 17,
   "id": "1cdd0837",
   "metadata": {},
   "outputs": [
    {
     "data": {
      "text/html": [
       "<div>\n",
       "<style scoped>\n",
       "    .dataframe tbody tr th:only-of-type {\n",
       "        vertical-align: middle;\n",
       "    }\n",
       "\n",
       "    .dataframe tbody tr th {\n",
       "        vertical-align: top;\n",
       "    }\n",
       "\n",
       "    .dataframe thead th {\n",
       "        text-align: right;\n",
       "    }\n",
       "</style>\n",
       "<table border=\"1\" class=\"dataframe\">\n",
       "  <thead>\n",
       "    <tr style=\"text-align: right;\">\n",
       "      <th></th>\n",
       "      <th>Title</th>\n",
       "      <th>Location</th>\n",
       "      <th>Company Name</th>\n",
       "      <th>Experience</th>\n",
       "    </tr>\n",
       "  </thead>\n",
       "  <tbody>\n",
       "    <tr>\n",
       "      <th>0</th>\n",
       "      <td>SQL Data Analyst</td>\n",
       "      <td>Bangalore/Bengaluru</td>\n",
       "      <td>NetApp</td>\n",
       "      <td>3-7 Yrs</td>\n",
       "    </tr>\n",
       "    <tr>\n",
       "      <th>1</th>\n",
       "      <td>Data Analyst - Marketing</td>\n",
       "      <td>Bangalore/Bengaluru</td>\n",
       "      <td>Byjus - Transforming Education using Technology</td>\n",
       "      <td>0-2 Yrs</td>\n",
       "    </tr>\n",
       "    <tr>\n",
       "      <th>2</th>\n",
       "      <td>Openings For Data Analyst</td>\n",
       "      <td>Bangalore/Bengaluru</td>\n",
       "      <td>Allegis Services India Pvt. Ltd.</td>\n",
       "      <td>0-3 Yrs</td>\n",
       "    </tr>\n",
       "    <tr>\n",
       "      <th>3</th>\n",
       "      <td>Associate Data Analyst</td>\n",
       "      <td>Bangalore/Bengaluru</td>\n",
       "      <td>Integrated Digital Systems</td>\n",
       "      <td>0-2 Yrs</td>\n",
       "    </tr>\n",
       "    <tr>\n",
       "      <th>4</th>\n",
       "      <td>Business Data Analyst</td>\n",
       "      <td>Bangalore/Bengaluru</td>\n",
       "      <td>INDIAVIDUAL LEARNING LIMITED</td>\n",
       "      <td>2-6 Yrs</td>\n",
       "    </tr>\n",
       "    <tr>\n",
       "      <th>5</th>\n",
       "      <td>Data Analyst / Business Analyst (Demand Planning)</td>\n",
       "      <td>Bangalore/Bengaluru</td>\n",
       "      <td>Flipkart</td>\n",
       "      <td>1-4 Yrs</td>\n",
       "    </tr>\n",
       "    <tr>\n",
       "      <th>6</th>\n",
       "      <td>Data Analyst</td>\n",
       "      <td>Bangalore/Bengaluru</td>\n",
       "      <td>Applied Materials</td>\n",
       "      <td>0-3 Yrs</td>\n",
       "    </tr>\n",
       "    <tr>\n",
       "      <th>7</th>\n",
       "      <td>Lead Data Analyst / Data Engineer</td>\n",
       "      <td>Bangalore/Bengaluru</td>\n",
       "      <td>Huawei Technologies</td>\n",
       "      <td>5-10 Yrs</td>\n",
       "    </tr>\n",
       "    <tr>\n",
       "      <th>8</th>\n",
       "      <td>Business Data Analyst</td>\n",
       "      <td>Bangalore/Bengaluru</td>\n",
       "      <td>RANDSTAD INDIA PVT LTD</td>\n",
       "      <td>8-12 Yrs</td>\n",
       "    </tr>\n",
       "    <tr>\n",
       "      <th>9</th>\n",
       "      <td>Senior Data Analyst</td>\n",
       "      <td>Bangalore/Bengaluru</td>\n",
       "      <td>Scienaptic Systems</td>\n",
       "      <td>5-10 Yrs</td>\n",
       "    </tr>\n",
       "  </tbody>\n",
       "</table>\n",
       "</div>"
      ],
      "text/plain": [
       "                                               Title             Location  \\\n",
       "0                                   SQL Data Analyst  Bangalore/Bengaluru   \n",
       "1                           Data Analyst - Marketing  Bangalore/Bengaluru   \n",
       "2                          Openings For Data Analyst  Bangalore/Bengaluru   \n",
       "3                             Associate Data Analyst  Bangalore/Bengaluru   \n",
       "4                              Business Data Analyst  Bangalore/Bengaluru   \n",
       "5  Data Analyst / Business Analyst (Demand Planning)  Bangalore/Bengaluru   \n",
       "6                                       Data Analyst  Bangalore/Bengaluru   \n",
       "7                  Lead Data Analyst / Data Engineer  Bangalore/Bengaluru   \n",
       "8                              Business Data Analyst  Bangalore/Bengaluru   \n",
       "9                                Senior Data Analyst  Bangalore/Bengaluru   \n",
       "\n",
       "                                      Company Name Experience  \n",
       "0                                           NetApp    3-7 Yrs  \n",
       "1  Byjus - Transforming Education using Technology    0-2 Yrs  \n",
       "2                 Allegis Services India Pvt. Ltd.    0-3 Yrs  \n",
       "3                       Integrated Digital Systems    0-2 Yrs  \n",
       "4                     INDIAVIDUAL LEARNING LIMITED    2-6 Yrs  \n",
       "5                                         Flipkart    1-4 Yrs  \n",
       "6                                Applied Materials    0-3 Yrs  \n",
       "7                              Huawei Technologies   5-10 Yrs  \n",
       "8                           RANDSTAD INDIA PVT LTD   8-12 Yrs  \n",
       "9                               Scienaptic Systems   5-10 Yrs  "
      ]
     },
     "execution_count": 17,
     "metadata": {},
     "output_type": "execute_result"
    }
   ],
   "source": [
    "import pandas as pd\n",
    "jobs=pd.DataFrame({})\n",
    "jobs[\"Title\"]=job_titles[0:10]\n",
    "jobs[\"Location\"]=locations_list[0:10]\n",
    "jobs[\"Company Name\"]=company_names[0:10]\n",
    "jobs[\"Experience\"]=experience_list[0:10]\n",
    "jobs\n",
    "\n"
   ]
  },
  {
   "cell_type": "code",
   "execution_count": null,
   "id": "a61597d8",
   "metadata": {},
   "outputs": [],
   "source": []
  }
 ],
 "metadata": {
  "kernelspec": {
   "display_name": "Python 3",
   "language": "python",
   "name": "python3"
  },
  "language_info": {
   "codemirror_mode": {
    "name": "ipython",
    "version": 3
   },
   "file_extension": ".py",
   "mimetype": "text/x-python",
   "name": "python",
   "nbconvert_exporter": "python",
   "pygments_lexer": "ipython3",
   "version": "3.8.8"
  }
 },
 "nbformat": 4,
 "nbformat_minor": 5
}

{
 "cells": [
  {
   "cell_type": "markdown",
   "id": "7224305a",
   "metadata": {},
   "source": [
    "# PYTHON – WORKSHEET 1\n"
   ]
  },
  {
   "cell_type": "markdown",
   "id": "7dae5dd4",
   "metadata": {},
   "source": [
    "Q11 to Q15 programming solutions. "
   ]
  },
  {
   "cell_type": "markdown",
   "id": "98efc12d",
   "metadata": {},
   "source": [
    "11. Write a python program to find the factorial of a number.\n"
   ]
  },
  {
   "cell_type": "code",
   "execution_count": 1,
   "id": "2bc0b52b",
   "metadata": {},
   "outputs": [
    {
     "name": "stdout",
     "output_type": "stream",
     "text": [
      "Enter any number to find its factorial: 5\n",
      "The factorial of 5 = 120\n"
     ]
    }
   ],
   "source": [
    "#function to find factorial of given number\n",
    "def factorial(num):\n",
    "    fact=1\n",
    "    for i in range(1, num+1):\n",
    "        fact=fact*i\n",
    "    return fact    #return factorial \n",
    "\n",
    "num=int(input(\"Enter any number to find its factorial: \"))\n",
    "result=factorial(num)\n",
    "\n",
    "print(\"The factorial of %d = %d\"%(num,result))"
   ]
  },
  {
   "cell_type": "markdown",
   "id": "291b816d",
   "metadata": {},
   "source": [
    "12. Write a python program to find whether a number is prime or composite."
   ]
  },
  {
   "cell_type": "code",
   "execution_count": 10,
   "id": "2b22c17a",
   "metadata": {},
   "outputs": [
    {
     "name": "stdout",
     "output_type": "stream",
     "text": [
      "Enter any number to find it is prime or composite: 3\n",
      "The number 3 is prime\n"
     ]
    }
   ],
   "source": [
    "num=int(input(\"Enter any number to find it is prime or composite: \"))\n",
    "prime=True\n",
    "\n",
    "if num==1:\n",
    "    prime=False\n",
    "else:\n",
    "    for i in range(2,num):\n",
    "        if (num%i==0):\n",
    "            prime=False\n",
    "            break\n",
    "    \n",
    "if prime==True:\n",
    "    print(\"The number %d is prime\"%(num))\n",
    "else:\n",
    "    print(\"The number %d is composite\"%(num))\n"
   ]
  },
  {
   "cell_type": "markdown",
   "id": "f0035781",
   "metadata": {},
   "source": [
    "13. Write a python program to check whether a given string is palindrome or not."
   ]
  },
  {
   "cell_type": "code",
   "execution_count": 8,
   "id": "dfc89514",
   "metadata": {},
   "outputs": [
    {
     "name": "stdout",
     "output_type": "stream",
     "text": [
      "Enter string to check if it is palindrome:malayalam\n",
      "The string is a palindrome\n"
     ]
    }
   ],
   "source": [
    "string=input(\"Enter string to check if it is palindrome:\")\n",
    "if(string==string[::-1]):\n",
    "   print(\"The string is a palindrome\")\n",
    "else:\n",
    "   print(\"The string isn't a palindrome\")"
   ]
  },
  {
   "cell_type": "markdown",
   "id": "300cded4",
   "metadata": {},
   "source": [
    "14. Write a Python program to get the third side of right-angled triangle from two given sides."
   ]
  },
  {
   "cell_type": "code",
   "execution_count": 11,
   "id": "16824e51",
   "metadata": {},
   "outputs": [
    {
     "name": "stdout",
     "output_type": "stream",
     "text": [
      "enter first side:4\n",
      "enter second side:5\n",
      "The third side of the right_angled triangle is: 6.4031242374328485\n"
     ]
    }
   ],
   "source": [
    "from math import sqrt\n",
    "a=float(input(\"enter first side:\"))\n",
    "b=float(input(\"enter second side:\"))\n",
    "c=sqrt(a**2 + b**2)\n",
    "print(\"The third side of the right_angled triangle is:\",c)"
   ]
  },
  {
   "cell_type": "markdown",
   "id": "8162f5ac",
   "metadata": {},
   "source": [
    "15. Write a python program to print the frequency of each of the characters present in a given string"
   ]
  },
  {
   "cell_type": "code",
   "execution_count": 13,
   "id": "8b6ef102",
   "metadata": {},
   "outputs": [
    {
     "name": "stdout",
     "output_type": "stream",
     "text": [
      "enter string: fliprobo\n",
      "frequency of string :\n",
      "{'f': 1, 'l': 1, 'i': 1, 'p': 1, 'r': 1, 'o': 2, 'b': 1}\n"
     ]
    }
   ],
   "source": [
    "freq = {}\n",
    "string=str(input(\"enter string: \"))  \n",
    "for i in string:\n",
    "    if i in freq:\n",
    "        freq[i] += 1\n",
    "    else:\n",
    "        freq[i] = 1\n",
    "print(\"frequency of string :\\n\" +  str(freq))"
   ]
  },
  {
   "cell_type": "code",
   "execution_count": null,
   "id": "dbd00250",
   "metadata": {},
   "outputs": [],
   "source": []
  },
  {
   "cell_type": "code",
   "execution_count": null,
   "id": "301ac88b",
   "metadata": {},
   "outputs": [],
   "source": []
  }
 ],
 "metadata": {
  "kernelspec": {
   "display_name": "Python 3",
   "language": "python",
   "name": "python3"
  },
  "language_info": {
   "codemirror_mode": {
    "name": "ipython",
    "version": 3
   },
   "file_extension": ".py",
   "mimetype": "text/x-python",
   "name": "python",
   "nbconvert_exporter": "python",
   "pygments_lexer": "ipython3",
   "version": "3.8.8"
  }
 },
 "nbformat": 4,
 "nbformat_minor": 5
}

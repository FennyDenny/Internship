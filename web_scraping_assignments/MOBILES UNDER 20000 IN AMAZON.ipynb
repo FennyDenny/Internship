{
 "cells": [
  {
   "cell_type": "code",
   "execution_count": 1,
   "id": "e819c6a9",
   "metadata": {},
   "outputs": [],
   "source": [
    "from bs4 import BeautifulSoup\n",
    "import requests\n",
    "import pandas as pd"
   ]
  },
  {
   "cell_type": "code",
   "execution_count": 34,
   "id": "59e1df85",
   "metadata": {},
   "outputs": [
    {
     "data": {
      "text/plain": [
       "<Response [200]>"
      ]
     },
     "execution_count": 34,
     "metadata": {},
     "output_type": "execute_result"
    }
   ],
   "source": [
    "page=requests.get(\"https://www.amazon.in/s?i=electronics&bbn=1389401031&rh=n%3A976419031%2Cn%3A1389401031%2Cn%3A1389432031%2Cp_36%3A1318506031&dc&qid=1632654038&rnid=1389401031&ref=sr_nr_n_2\")\n",
    "page"
   ]
  },
  {
   "cell_type": "code",
   "execution_count": 110,
   "id": "89865b40",
   "metadata": {},
   "outputs": [
    {
     "name": "stdout",
     "output_type": "stream",
     "text": [
      "[<span class=\"a-size-base-plus a-color-base a-text-normal\">Redmi Note 10 Pro Max (Dark Night, 6GB RAM, 128GB Storage) -108MP Quad Camera | 120Hz Super Amoled Display</span>, <span class=\"a-size-base-plus a-color-base a-text-normal\">Redmi Note 10 (Aqua Green, 4GB RAM, 64GB Storage) -Amoled Dot Display | 48MP Sony Sensor IMX582 | Snapdragon 678 Processor</span>, <span class=\"a-size-base-plus a-color-base a-text-normal\">Samsung Galaxy M31 (Ocean Blue, 8GB RAM, 128GB Storage) 6 Months Free Screen Replacement for Prime</span>, <span class=\"a-size-base-plus a-color-base a-text-normal\">Redmi 9 Power (Blazing Blue, 4GB RAM, 64GB Storage) - 6000mAh Battery |FHD+ Screen| 48MP Quad Camera | Alexa Hands-Free Capable</span>, <span class=\"a-size-base-plus a-color-base a-text-normal\">Redmi Note 10S (Deep Sea Blue, 6GB RAM, 64GB Storage) -Super Amoled Display | 64 MP Quad Camera | Alexa Built in</span>, <span class=\"a-size-base-plus a-color-base a-text-normal\">Redmi Note 10 Pro (Dark Night, 6GB RAM, 128GB Storage) -120hz Super Amoled Display|64MPwith 5mp Super Tele-Macro</span>, <span class=\"a-size-base-plus a-color-base a-text-normal\">Redmi 9 Power (Mighty Black 4GB RAM 64GB Storage) - 6000mAh Battery |FHD+ Screen | 48MP Quad Camera | Alexa Hands-Free Capable</span>, <span class=\"a-size-base-plus a-color-base a-text-normal\">Redmi Note 10S (Frost White, 6GB RAM, 128GB) - Super Amoled Display | 64 MP Quad Camera |NCEMI Offer on HDFC Cards | 6 Month Free Screen Replacement (Prime only) | Alexa Built in</span>, <span class=\"a-size-base-plus a-color-base a-text-normal\">Samsung Galaxy M21 2021 Edition (Arctic Blue, 4GB RAM, 64GB Storage) | FHD+ sAMOLED | 6 Months Free Screen Replacement for Prime</span>, <span class=\"a-size-base-plus a-color-base a-text-normal\">Redmi 9 Prime (Space Blue, 4GB RAM, 64GB Storage)- Full HD+ Display &amp; AI Quad Camera</span>, <span class=\"a-size-base-plus a-color-base a-text-normal\">Redmi Note 10S (Shadow Black, 6GB RAM, 128GB Storage) - Super Amoled Display | 64 MP Quad Camera |NCEMI Offer on HDFC Cards | 6 Month Free Screen Replacement (Prime only) | Alexa Built in</span>, <span class=\"a-size-base-plus a-color-base a-text-normal\">Redmi Note 10 Pro (Glacial Blue, 6GB RAM, 128GB Storage) -120hz Super Amoled Display|64MP with 5mp Super Tele- Macro</span>, <span class=\"a-size-base-plus a-color-base a-text-normal\">Samsung Galaxy M21 2021 Edition (Charcoal Black , 4GB RAM, 64GB Storage) | FHD+ sAMOLED | 6 Months Free Screen Replacement for Prime</span>, <span class=\"a-size-base-plus a-color-base a-text-normal\">Redmi 9 Prime (Mint Green, 4GB RAM, 64GB Storage)- Full HD+ Display &amp; AI Quad Camera</span>, <span class=\"a-size-base-plus a-color-base a-text-normal\">Redmi 9 Prime (Matte Black, 4GB RAM, 64GB Storage) - Full HD+ Display &amp; AI Quad Camera</span>, <span class=\"a-size-base-plus a-color-base a-text-normal\">OPPO A31 (Fantasy White, 6GB RAM, 128GB Storage) with No Cost EMI/Additional Exchange Offers</span>, <span class=\"a-size-base-plus a-color-base a-text-normal\">Redmi 9 Power (Electric Green, 4GB RAM, 64GB Storage) - 6000mAh Battery |FHD+ Screen| 48MP Quad Camera | Alexa Hands-Free Capable</span>, <span class=\"a-size-base-plus a-color-base a-text-normal\">Samsung Galaxy M12 (Blue,4GB RAM, 64GB Storage) 6000 mAh with 8nm Processor | True 48 MP Quad Camera | 90Hz Refresh Rate</span>, <span class=\"a-size-base-plus a-color-base a-text-normal\">Samsung Galaxy M21 2021 Edition (Arctic Blue, 6GB RAM, 128GB Storage) | FHD+ sAMOLED | 6 Months Free Screen Replacement for Prime</span>, <span class=\"a-size-base-plus a-color-base a-text-normal\">Redmi Note 10 Pro (Vintage Bronze, 6GB RAM, 128GB Storage) -120Hz Super Amoled Display | 64MP Camera with 5MP Super Tele-Macro</span>, <span class=\"a-size-base-plus a-color-base a-text-normal\">Redmi 9 Power (Blazing Blue, 6GB RAM, 128GB Storage) - 6000mAh Battery |FHD+ Screen | 48MP Quad Camera | Snapdragon 662 Processor | Alexa Hands-Free Capable</span>, <span class=\"a-size-base-plus a-color-base a-text-normal\">Samsung Galaxy M21 2021 Edition (Charcoal black , 6GB RAM, 128GB Storage) | FHD+ sAMOLED | 6 Months Free Screen Replacement for Prime</span>, <span class=\"a-size-base-plus a-color-base a-text-normal\">Redmi Note 10S (Cosmic Purple, 6GB RAM, 64 GB Storage) - Super Amoled Display | 64 MP Quad Camera | Alexa Built in</span>, <span class=\"a-size-base-plus a-color-base a-text-normal\">Redmi 9 Power (Mighty Black, 6GB RAM, 128GB Storage) - 6000mAh Battery |FHD+ Screen| 48MP Quad Camera | Snapdragon 662 Processor | Alexa Hands-Free Capable</span>]\n",
      "24\n",
      "[<img alt=\"Redmi Note 10 Pro Max (Dark Night, 6GB RAM, 128GB Storage) -108MP Quad Camera | 120Hz Super Amoled Display\" class=\"s-image\" data-image-index=\"1\" data-image-latency=\"s-product-image\" data-image-load=\"\" data-image-source-density=\"1\" src=\"https://m.media-amazon.com/images/I/81Vpy0XrvFL._AC_UL320_.jpg\" srcset=\"https://m.media-amazon.com/images/I/81Vpy0XrvFL._AC_UL320_.jpg 1x, https://m.media-amazon.com/images/I/81Vpy0XrvFL._AC_UL480_QL65_.jpg 1.5x, https://m.media-amazon.com/images/I/81Vpy0XrvFL._AC_UL640_QL65_.jpg 2x, https://m.media-amazon.com/images/I/81Vpy0XrvFL._AC_UL800_QL65_.jpg 2.5x, https://m.media-amazon.com/images/I/81Vpy0XrvFL._AC_UL960_QL65_.jpg 3x\"/>, <img alt=\"Redmi Note 10 (Aqua Green, 4GB RAM, 64GB Storage) -Amoled Dot Display | 48MP Sony Sensor IMX582 | Snapdragon 678 Processor\" class=\"s-image\" data-image-index=\"2\" data-image-latency=\"s-product-image\" data-image-load=\"\" data-image-source-density=\"1\" src=\"https://m.media-amazon.com/images/I/810GQ7CWdDL._AC_UL320_.jpg\" srcset=\"https://m.media-amazon.com/images/I/810GQ7CWdDL._AC_UL320_.jpg 1x, https://m.media-amazon.com/images/I/810GQ7CWdDL._AC_UL480_QL65_.jpg 1.5x, https://m.media-amazon.com/images/I/810GQ7CWdDL._AC_UL640_QL65_.jpg 2x, https://m.media-amazon.com/images/I/810GQ7CWdDL._AC_UL800_QL65_.jpg 2.5x, https://m.media-amazon.com/images/I/810GQ7CWdDL._AC_UL960_QL65_.jpg 3x\"/>, <img alt=\"Samsung Galaxy M31 (Ocean Blue, 8GB RAM, 128GB Storage) 6 Months Free Screen Replacement for Prime\" class=\"s-image\" data-image-index=\"3\" data-image-latency=\"s-product-image\" data-image-load=\"\" data-image-source-density=\"1\" src=\"https://m.media-amazon.com/images/I/71-Su4Wr0HL._AC_UL320_.jpg\" srcset=\"https://m.media-amazon.com/images/I/71-Su4Wr0HL._AC_UL320_.jpg 1x, https://m.media-amazon.com/images/I/71-Su4Wr0HL._AC_UL480_QL65_.jpg 1.5x, https://m.media-amazon.com/images/I/71-Su4Wr0HL._AC_UL640_QL65_.jpg 2x, https://m.media-amazon.com/images/I/71-Su4Wr0HL._AC_UL800_QL65_.jpg 2.5x, https://m.media-amazon.com/images/I/71-Su4Wr0HL._AC_UL960_QL65_.jpg 3x\"/>, <img alt=\"Redmi 9 Power (Blazing Blue, 4GB RAM, 64GB Storage) - 6000mAh Battery |FHD+ Screen| 48MP Quad Camera | Alexa Hands-Free Ca...\" class=\"s-image\" data-image-index=\"4\" data-image-latency=\"s-product-image\" data-image-load=\"\" data-image-source-density=\"1\" src=\"https://m.media-amazon.com/images/I/71hEzQGO5qL._AC_UL320_.jpg\" srcset=\"https://m.media-amazon.com/images/I/71hEzQGO5qL._AC_UL320_.jpg 1x, https://m.media-amazon.com/images/I/71hEzQGO5qL._AC_UL480_QL65_.jpg 1.5x, https://m.media-amazon.com/images/I/71hEzQGO5qL._AC_UL640_QL65_.jpg 2x, https://m.media-amazon.com/images/I/71hEzQGO5qL._AC_UL800_QL65_.jpg 2.5x, https://m.media-amazon.com/images/I/71hEzQGO5qL._AC_UL960_QL65_.jpg 3x\"/>, <img alt=\"Redmi Note 10S (Deep Sea Blue, 6GB RAM, 64GB Storage) -Super Amoled Display | 64 MP Quad Camera | Alexa Built in\" class=\"s-image\" data-image-index=\"5\" data-image-latency=\"s-product-image\" data-image-load=\"\" data-image-source-density=\"1\" src=\"https://m.media-amazon.com/images/I/81B0HJigO-L._AC_UL320_.jpg\" srcset=\"https://m.media-amazon.com/images/I/81B0HJigO-L._AC_UL320_.jpg 1x, https://m.media-amazon.com/images/I/81B0HJigO-L._AC_UL480_QL65_.jpg 1.5x, https://m.media-amazon.com/images/I/81B0HJigO-L._AC_UL640_QL65_.jpg 2x, https://m.media-amazon.com/images/I/81B0HJigO-L._AC_UL800_QL65_.jpg 2.5x, https://m.media-amazon.com/images/I/81B0HJigO-L._AC_UL960_QL65_.jpg 3x\"/>, <img alt=\"Redmi Note 10 Pro (Dark Night, 6GB RAM, 128GB Storage) -120hz Super Amoled Display|64MPwith 5mp Super Tele-Macro\" class=\"s-image\" data-image-index=\"6\" data-image-latency=\"s-product-image\" data-image-load=\"\" data-image-source-density=\"1\" src=\"https://m.media-amazon.com/images/I/81S-XYJlzTL._AC_UL320_.jpg\" srcset=\"https://m.media-amazon.com/images/I/81S-XYJlzTL._AC_UL320_.jpg 1x, https://m.media-amazon.com/images/I/81S-XYJlzTL._AC_UL480_QL65_.jpg 1.5x, https://m.media-amazon.com/images/I/81S-XYJlzTL._AC_UL640_QL65_.jpg 2x, https://m.media-amazon.com/images/I/81S-XYJlzTL._AC_UL800_QL65_.jpg 2.5x, https://m.media-amazon.com/images/I/81S-XYJlzTL._AC_UL960_QL65_.jpg 3x\"/>, <img alt=\"Redmi 9 Power (Mighty Black 4GB RAM 64GB Storage) - 6000mAh Battery |FHD+ Screen | 48MP Quad Camera | Alexa Hands-Free Cap...\" class=\"s-image\" data-image-index=\"7\" data-image-latency=\"s-product-image\" data-image-load=\"\" data-image-source-density=\"1\" src=\"https://m.media-amazon.com/images/I/71hEzQGO5qL._AC_UL320_.jpg\" srcset=\"https://m.media-amazon.com/images/I/71hEzQGO5qL._AC_UL320_.jpg 1x, https://m.media-amazon.com/images/I/71hEzQGO5qL._AC_UL480_QL65_.jpg 1.5x, https://m.media-amazon.com/images/I/71hEzQGO5qL._AC_UL640_QL65_.jpg 2x, https://m.media-amazon.com/images/I/71hEzQGO5qL._AC_UL800_QL65_.jpg 2.5x, https://m.media-amazon.com/images/I/71hEzQGO5qL._AC_UL960_QL65_.jpg 3x\"/>, <img alt=\"Redmi Note 10S (Frost White, 6GB RAM, 128GB) - Super Amoled Display | 64 MP Quad Camera |NCEMI Offer on HDFC Cards | 6 Mon...\" class=\"s-image\" data-image-index=\"8\" data-image-latency=\"s-product-image\" data-image-load=\"\" data-image-source-density=\"1\" src=\"https://m.media-amazon.com/images/I/81SJHWh-dfL._AC_UL320_.jpg\" srcset=\"https://m.media-amazon.com/images/I/81SJHWh-dfL._AC_UL320_.jpg 1x, https://m.media-amazon.com/images/I/81SJHWh-dfL._AC_UL480_QL65_.jpg 1.5x, https://m.media-amazon.com/images/I/81SJHWh-dfL._AC_UL640_QL65_.jpg 2x, https://m.media-amazon.com/images/I/81SJHWh-dfL._AC_UL800_QL65_.jpg 2.5x, https://m.media-amazon.com/images/I/81SJHWh-dfL._AC_UL960_QL65_.jpg 3x\"/>, <img alt=\"Samsung Galaxy M21 2021 Edition (Arctic Blue, 4GB RAM, 64GB Storage) | FHD+ sAMOLED | 6 Months Free Screen Replacement for...\" class=\"s-image\" data-image-index=\"9\" data-image-latency=\"s-product-image\" data-image-load=\"\" data-image-source-density=\"1\" src=\"https://m.media-amazon.com/images/I/811lrGbXwIL._AC_UL320_.jpg\" srcset=\"https://m.media-amazon.com/images/I/811lrGbXwIL._AC_UL320_.jpg 1x, https://m.media-amazon.com/images/I/811lrGbXwIL._AC_UL480_QL65_.jpg 1.5x, https://m.media-amazon.com/images/I/811lrGbXwIL._AC_UL640_QL65_.jpg 2x, https://m.media-amazon.com/images/I/811lrGbXwIL._AC_UL800_QL65_.jpg 2.5x, https://m.media-amazon.com/images/I/811lrGbXwIL._AC_UL960_QL65_.jpg 3x\"/>, <img alt=\"Redmi 9 Prime (Space Blue, 4GB RAM, 64GB Storage)- Full HD+ Display &amp; AI Quad Camera\" class=\"s-image\" data-image-index=\"10\" data-image-latency=\"s-product-image\" data-image-load=\"\" data-image-source-density=\"1\" src=\"https://m.media-amazon.com/images/I/71U2SiHgbiL._AC_UL320_.jpg\" srcset=\"https://m.media-amazon.com/images/I/71U2SiHgbiL._AC_UL320_.jpg 1x, https://m.media-amazon.com/images/I/71U2SiHgbiL._AC_UL480_QL65_.jpg 1.5x, https://m.media-amazon.com/images/I/71U2SiHgbiL._AC_UL640_QL65_.jpg 2x, https://m.media-amazon.com/images/I/71U2SiHgbiL._AC_UL800_QL65_.jpg 2.5x, https://m.media-amazon.com/images/I/71U2SiHgbiL._AC_UL960_QL65_.jpg 3x\"/>, <img alt=\"Redmi Note 10S (Shadow Black, 6GB RAM, 128GB Storage) - Super Amoled Display | 64 MP Quad Camera |NCEMI Offer on HDFC Card...\" class=\"s-image\" data-image-index=\"11\" data-image-latency=\"s-product-image\" data-image-load=\"\" data-image-source-density=\"1\" src=\"https://m.media-amazon.com/images/I/81R9c74pmDL._AC_UL320_.jpg\" srcset=\"https://m.media-amazon.com/images/I/81R9c74pmDL._AC_UL320_.jpg 1x, https://m.media-amazon.com/images/I/81R9c74pmDL._AC_UL480_QL65_.jpg 1.5x, https://m.media-amazon.com/images/I/81R9c74pmDL._AC_UL640_QL65_.jpg 2x, https://m.media-amazon.com/images/I/81R9c74pmDL._AC_UL800_QL65_.jpg 2.5x, https://m.media-amazon.com/images/I/81R9c74pmDL._AC_UL960_QL65_.jpg 3x\"/>, <img alt=\"Redmi Note 10 Pro (Glacial Blue, 6GB RAM, 128GB Storage) -120hz Super Amoled Display|64MP with 5mp Super Tele- Macro\" class=\"s-image\" data-image-index=\"12\" data-image-latency=\"s-product-image\" data-image-load=\"\" data-image-source-density=\"1\" src=\"https://m.media-amazon.com/images/I/81nndQAg2nL._AC_UL320_.jpg\" srcset=\"https://m.media-amazon.com/images/I/81nndQAg2nL._AC_UL320_.jpg 1x, https://m.media-amazon.com/images/I/81nndQAg2nL._AC_UL480_QL65_.jpg 1.5x, https://m.media-amazon.com/images/I/81nndQAg2nL._AC_UL640_QL65_.jpg 2x, https://m.media-amazon.com/images/I/81nndQAg2nL._AC_UL800_QL65_.jpg 2.5x, https://m.media-amazon.com/images/I/81nndQAg2nL._AC_UL960_QL65_.jpg 3x\"/>, <img alt=\"Samsung Galaxy M21 2021 Edition (Charcoal Black , 4GB RAM, 64GB Storage) | FHD+ sAMOLED | 6 Months Free Screen Replacement...\" class=\"s-image\" data-image-index=\"13\" data-image-latency=\"s-product-image\" data-image-load=\"\" data-image-source-density=\"1\" src=\"https://m.media-amazon.com/images/I/712+A5mH44L._AC_UL320_.jpg\" srcset=\"https://m.media-amazon.com/images/I/712+A5mH44L._AC_UL320_.jpg 1x, https://m.media-amazon.com/images/I/712+A5mH44L._AC_UL480_QL65_.jpg 1.5x, https://m.media-amazon.com/images/I/712+A5mH44L._AC_UL640_QL65_.jpg 2x, https://m.media-amazon.com/images/I/712+A5mH44L._AC_UL800_QL65_.jpg 2.5x, https://m.media-amazon.com/images/I/712+A5mH44L._AC_UL960_QL65_.jpg 3x\"/>, <img alt=\"Redmi 9 Prime (Mint Green, 4GB RAM, 64GB Storage)- Full HD+ Display &amp; AI Quad Camera\" class=\"s-image\" data-image-index=\"14\" data-image-latency=\"s-product-image\" data-image-load=\"\" data-image-source-density=\"1\" src=\"https://m.media-amazon.com/images/I/71U2SiHgbiL._AC_UL320_.jpg\" srcset=\"https://m.media-amazon.com/images/I/71U2SiHgbiL._AC_UL320_.jpg 1x, https://m.media-amazon.com/images/I/71U2SiHgbiL._AC_UL480_QL65_.jpg 1.5x, https://m.media-amazon.com/images/I/71U2SiHgbiL._AC_UL640_QL65_.jpg 2x, https://m.media-amazon.com/images/I/71U2SiHgbiL._AC_UL800_QL65_.jpg 2.5x, https://m.media-amazon.com/images/I/71U2SiHgbiL._AC_UL960_QL65_.jpg 3x\"/>, <img alt=\"Redmi 9 Prime (Matte Black, 4GB RAM, 64GB Storage) - Full HD+ Display &amp; AI Quad Camera\" class=\"s-image\" data-image-index=\"15\" data-image-latency=\"s-product-image\" data-image-load=\"\" data-image-source-density=\"1\" src=\"https://m.media-amazon.com/images/I/71U2SiHgbiL._AC_UL320_.jpg\" srcset=\"https://m.media-amazon.com/images/I/71U2SiHgbiL._AC_UL320_.jpg 1x, https://m.media-amazon.com/images/I/71U2SiHgbiL._AC_UL480_QL65_.jpg 1.5x, https://m.media-amazon.com/images/I/71U2SiHgbiL._AC_UL640_QL65_.jpg 2x, https://m.media-amazon.com/images/I/71U2SiHgbiL._AC_UL800_QL65_.jpg 2.5x, https://m.media-amazon.com/images/I/71U2SiHgbiL._AC_UL960_QL65_.jpg 3x\"/>, <img alt=\"OPPO A31 (Fantasy White, 6GB RAM, 128GB Storage) with No Cost EMI/Additional Exchange Offers\" class=\"s-image\" data-image-index=\"16\" data-image-latency=\"s-product-image\" data-image-load=\"\" data-image-source-density=\"1\" src=\"https://m.media-amazon.com/images/I/61CnyJ-IbML._AC_UL320_.jpg\" srcset=\"https://m.media-amazon.com/images/I/61CnyJ-IbML._AC_UL320_.jpg 1x, https://m.media-amazon.com/images/I/61CnyJ-IbML._AC_UL480_QL65_.jpg 1.5x, https://m.media-amazon.com/images/I/61CnyJ-IbML._AC_UL640_QL65_.jpg 2x, https://m.media-amazon.com/images/I/61CnyJ-IbML._AC_UL800_QL65_.jpg 2.5x, https://m.media-amazon.com/images/I/61CnyJ-IbML._AC_UL960_QL65_.jpg 3x\"/>, <img alt=\"Redmi 9 Power (Electric Green, 4GB RAM, 64GB Storage) - 6000mAh Battery |FHD+ Screen| 48MP Quad Camera | Alexa Hands-Free ...\" class=\"s-image\" data-image-index=\"17\" data-image-latency=\"s-product-image\" data-image-load=\"\" data-image-source-density=\"1\" src=\"https://m.media-amazon.com/images/I/71hEzQGO5qL._AC_UL320_.jpg\" srcset=\"https://m.media-amazon.com/images/I/71hEzQGO5qL._AC_UL320_.jpg 1x, https://m.media-amazon.com/images/I/71hEzQGO5qL._AC_UL480_QL65_.jpg 1.5x, https://m.media-amazon.com/images/I/71hEzQGO5qL._AC_UL640_QL65_.jpg 2x, https://m.media-amazon.com/images/I/71hEzQGO5qL._AC_UL800_QL65_.jpg 2.5x, https://m.media-amazon.com/images/I/71hEzQGO5qL._AC_UL960_QL65_.jpg 3x\"/>, <img alt=\"Samsung Galaxy M12 (Blue,4GB RAM, 64GB Storage) 6000 mAh with 8nm Processor | True 48 MP Quad Camera | 90Hz Refresh Rate\" class=\"s-image\" data-image-index=\"18\" data-image-latency=\"s-product-image\" data-image-load=\"\" data-image-source-density=\"1\" src=\"https://m.media-amazon.com/images/I/71yYaNztZ0L._AC_UL320_.jpg\" srcset=\"https://m.media-amazon.com/images/I/71yYaNztZ0L._AC_UL320_.jpg 1x, https://m.media-amazon.com/images/I/71yYaNztZ0L._AC_UL480_QL65_.jpg 1.5x, https://m.media-amazon.com/images/I/71yYaNztZ0L._AC_UL640_QL65_.jpg 2x, https://m.media-amazon.com/images/I/71yYaNztZ0L._AC_UL800_QL65_.jpg 2.5x, https://m.media-amazon.com/images/I/71yYaNztZ0L._AC_UL960_QL65_.jpg 3x\"/>, <img alt=\"Samsung Galaxy M21 2021 Edition (Arctic Blue, 6GB RAM, 128GB Storage) | FHD+ sAMOLED | 6 Months Free Screen Replacement fo...\" class=\"s-image\" data-image-index=\"19\" data-image-latency=\"s-product-image\" data-image-load=\"\" data-image-source-density=\"1\" src=\"https://m.media-amazon.com/images/I/811lrGbXwIL._AC_UL320_.jpg\" srcset=\"https://m.media-amazon.com/images/I/811lrGbXwIL._AC_UL320_.jpg 1x, https://m.media-amazon.com/images/I/811lrGbXwIL._AC_UL480_QL65_.jpg 1.5x, https://m.media-amazon.com/images/I/811lrGbXwIL._AC_UL640_QL65_.jpg 2x, https://m.media-amazon.com/images/I/811lrGbXwIL._AC_UL800_QL65_.jpg 2.5x, https://m.media-amazon.com/images/I/811lrGbXwIL._AC_UL960_QL65_.jpg 3x\"/>, <img alt=\"Redmi Note 10 Pro (Vintage Bronze, 6GB RAM, 128GB Storage) -120Hz Super Amoled Display | 64MP Camera with 5MP Super Tele-M...\" class=\"s-image\" data-image-index=\"20\" data-image-latency=\"s-product-image\" data-image-load=\"\" data-image-source-density=\"1\" src=\"https://m.media-amazon.com/images/I/81aQWPoGdOL._AC_UL320_.jpg\" srcset=\"https://m.media-amazon.com/images/I/81aQWPoGdOL._AC_UL320_.jpg 1x, https://m.media-amazon.com/images/I/81aQWPoGdOL._AC_UL480_QL65_.jpg 1.5x, https://m.media-amazon.com/images/I/81aQWPoGdOL._AC_UL640_QL65_.jpg 2x, https://m.media-amazon.com/images/I/81aQWPoGdOL._AC_UL800_QL65_.jpg 2.5x, https://m.media-amazon.com/images/I/81aQWPoGdOL._AC_UL960_QL65_.jpg 3x\"/>, <img alt=\"Redmi 9 Power (Blazing Blue, 6GB RAM, 128GB Storage) - 6000mAh Battery |FHD+ Screen | 48MP Quad Camera | Snapdragon 662 Pr...\" class=\"s-image\" data-image-index=\"21\" data-image-latency=\"s-product-image\" data-image-load=\"\" data-image-source-density=\"1\" src=\"https://m.media-amazon.com/images/I/71hEzQGO5qL._AC_UL320_.jpg\" srcset=\"https://m.media-amazon.com/images/I/71hEzQGO5qL._AC_UL320_.jpg 1x, https://m.media-amazon.com/images/I/71hEzQGO5qL._AC_UL480_QL65_.jpg 1.5x, https://m.media-amazon.com/images/I/71hEzQGO5qL._AC_UL640_QL65_.jpg 2x, https://m.media-amazon.com/images/I/71hEzQGO5qL._AC_UL800_QL65_.jpg 2.5x, https://m.media-amazon.com/images/I/71hEzQGO5qL._AC_UL960_QL65_.jpg 3x\"/>, <img alt=\"Samsung Galaxy M21 2021 Edition (Charcoal black , 6GB RAM, 128GB Storage) | FHD+ sAMOLED | 6 Months Free Screen Replacemen...\" class=\"s-image\" data-image-index=\"22\" data-image-latency=\"s-product-image\" data-image-load=\"\" data-image-source-density=\"1\" src=\"https://m.media-amazon.com/images/I/712+A5mH44L._AC_UL320_.jpg\" srcset=\"https://m.media-amazon.com/images/I/712+A5mH44L._AC_UL320_.jpg 1x, https://m.media-amazon.com/images/I/712+A5mH44L._AC_UL480_QL65_.jpg 1.5x, https://m.media-amazon.com/images/I/712+A5mH44L._AC_UL640_QL65_.jpg 2x, https://m.media-amazon.com/images/I/712+A5mH44L._AC_UL800_QL65_.jpg 2.5x, https://m.media-amazon.com/images/I/712+A5mH44L._AC_UL960_QL65_.jpg 3x\"/>, <img alt=\"Redmi Note 10S (Cosmic Purple, 6GB RAM, 64 GB Storage) - Super Amoled Display | 64 MP Quad Camera | Alexa Built in\" class=\"s-image\" data-image-index=\"23\" data-image-latency=\"s-product-image\" data-image-load=\"\" data-image-source-density=\"1\" src=\"https://m.media-amazon.com/images/I/81sZamLSPWL._AC_UL320_.jpg\" srcset=\"https://m.media-amazon.com/images/I/81sZamLSPWL._AC_UL320_.jpg 1x, https://m.media-amazon.com/images/I/81sZamLSPWL._AC_UL480_QL65_.jpg 1.5x, https://m.media-amazon.com/images/I/81sZamLSPWL._AC_UL640_QL65_.jpg 2x, https://m.media-amazon.com/images/I/81sZamLSPWL._AC_UL800_QL65_.jpg 2.5x, https://m.media-amazon.com/images/I/81sZamLSPWL._AC_UL960_QL65_.jpg 3x\"/>, <img alt=\"Redmi 9 Power (Mighty Black, 6GB RAM, 128GB Storage) - 6000mAh Battery |FHD+ Screen| 48MP Quad Camera | Snapdragon 662 Pro...\" class=\"s-image\" data-image-index=\"24\" data-image-latency=\"s-product-image\" data-image-load=\"\" data-image-source-density=\"1\" src=\"https://m.media-amazon.com/images/I/61LHaUOhehL._AC_UL320_.jpg\" srcset=\"https://m.media-amazon.com/images/I/61LHaUOhehL._AC_UL320_.jpg 1x, https://m.media-amazon.com/images/I/61LHaUOhehL._AC_UL480_QL65_.jpg 1.5x, https://m.media-amazon.com/images/I/61LHaUOhehL._AC_UL640_QL65_.jpg 2x, https://m.media-amazon.com/images/I/61LHaUOhehL._AC_UL800_QL65_.jpg 2.5x, https://m.media-amazon.com/images/I/61LHaUOhehL._AC_UL960_QL65_.jpg 3x\"/>]\n"
     ]
    }
   ],
   "source": [
    "soup=BeautifulSoup(page.content)\n",
    "mobile_names=soup.find_all(\"span\",class_=\"a-size-base-plus a-color-base a-text-normal\")\n",
    "mobile_ratings=soup.find_all(\"span\",class_=\"a-icon-alt\")[:-4]\n",
    "image_urls=soup.find_all(\"img\",class_=\"s-image\")\n",
    "print(mobile_names)\n",
    "print(len(mobile_ratings))\n",
    "print(image_urls)"
   ]
  },
  {
   "cell_type": "code",
   "execution_count": 97,
   "id": "8a4a63a9",
   "metadata": {},
   "outputs": [
    {
     "data": {
      "text/plain": [
       "['Redmi Note 10 Pro Max',\n",
       " 'Redmi Note 10',\n",
       " 'Samsung Galaxy M31',\n",
       " 'Redmi 9 Power',\n",
       " 'Redmi Note 10S',\n",
       " 'Redmi Note 10 Pro',\n",
       " 'Redmi 9 Power',\n",
       " 'Redmi Note 10S',\n",
       " 'Samsung Galaxy M21 2021 Edition',\n",
       " 'Redmi 9 Prime',\n",
       " 'Redmi Note 10S',\n",
       " 'Redmi Note 10 Pro',\n",
       " 'Samsung Galaxy M21 2021 Edition',\n",
       " 'Redmi 9 Prime',\n",
       " 'Redmi 9 Prime',\n",
       " 'OPPO A31',\n",
       " 'Redmi 9 Power',\n",
       " 'Samsung Galaxy M12',\n",
       " 'Samsung Galaxy M21 2021 Edition',\n",
       " 'Redmi Note 10 Pro',\n",
       " 'Redmi 9 Power',\n",
       " 'Samsung Galaxy M21 2021 Edition',\n",
       " 'Redmi Note 10S',\n",
       " 'Redmi 9 Power']"
      ]
     },
     "execution_count": 97,
     "metadata": {},
     "output_type": "execute_result"
    }
   ],
   "source": [
    "names=[]\n",
    "for i in mobile_names:\n",
    "    names.append(i.text.split(\"(\")[0].strip())\n",
    "names\n",
    "    "
   ]
  },
  {
   "cell_type": "code",
   "execution_count": 112,
   "id": "1f922821",
   "metadata": {},
   "outputs": [
    {
     "data": {
      "text/plain": [
       "['4.1',\n",
       " '4.2',\n",
       " '4.2',\n",
       " '4.2',\n",
       " '4.1',\n",
       " '4.2',\n",
       " '4.2',\n",
       " '4.1',\n",
       " '4.2',\n",
       " '4.3',\n",
       " '4.1',\n",
       " '4.2',\n",
       " '4.2',\n",
       " '4.3',\n",
       " '4.3',\n",
       " '4.2',\n",
       " '4.2',\n",
       " '4.1',\n",
       " '4.2',\n",
       " '4.2',\n",
       " '4.2',\n",
       " '4.2',\n",
       " '4.1',\n",
       " '4.2']"
      ]
     },
     "execution_count": 112,
     "metadata": {},
     "output_type": "execute_result"
    }
   ],
   "source": [
    "rating=[]\n",
    "for i in mobile_ratings:\n",
    "    rating.append(i.text.replace(\" out of 5 stars\",\"\"))\n",
    "rating"
   ]
  },
  {
   "cell_type": "code",
   "execution_count": 72,
   "id": "34ebfb92",
   "metadata": {},
   "outputs": [
    {
     "data": {
      "text/plain": [
       "['https://m.media-amazon.com/images/I/81Vpy0XrvFL._AC_UL320_.jpg',\n",
       " 'https://m.media-amazon.com/images/I/810GQ7CWdDL._AC_UL320_.jpg',\n",
       " 'https://m.media-amazon.com/images/I/71-Su4Wr0HL._AC_UL320_.jpg',\n",
       " 'https://m.media-amazon.com/images/I/71hEzQGO5qL._AC_UL320_.jpg',\n",
       " 'https://m.media-amazon.com/images/I/81B0HJigO-L._AC_UL320_.jpg',\n",
       " 'https://m.media-amazon.com/images/I/81S-XYJlzTL._AC_UL320_.jpg',\n",
       " 'https://m.media-amazon.com/images/I/71hEzQGO5qL._AC_UL320_.jpg',\n",
       " 'https://m.media-amazon.com/images/I/81SJHWh-dfL._AC_UL320_.jpg',\n",
       " 'https://m.media-amazon.com/images/I/811lrGbXwIL._AC_UL320_.jpg',\n",
       " 'https://m.media-amazon.com/images/I/71U2SiHgbiL._AC_UL320_.jpg',\n",
       " 'https://m.media-amazon.com/images/I/81R9c74pmDL._AC_UL320_.jpg',\n",
       " 'https://m.media-amazon.com/images/I/81nndQAg2nL._AC_UL320_.jpg',\n",
       " 'https://m.media-amazon.com/images/I/712+A5mH44L._AC_UL320_.jpg',\n",
       " 'https://m.media-amazon.com/images/I/71U2SiHgbiL._AC_UL320_.jpg',\n",
       " 'https://m.media-amazon.com/images/I/71U2SiHgbiL._AC_UL320_.jpg',\n",
       " 'https://m.media-amazon.com/images/I/61CnyJ-IbML._AC_UL320_.jpg',\n",
       " 'https://m.media-amazon.com/images/I/71hEzQGO5qL._AC_UL320_.jpg',\n",
       " 'https://m.media-amazon.com/images/I/71yYaNztZ0L._AC_UL320_.jpg',\n",
       " 'https://m.media-amazon.com/images/I/811lrGbXwIL._AC_UL320_.jpg',\n",
       " 'https://m.media-amazon.com/images/I/81aQWPoGdOL._AC_UL320_.jpg',\n",
       " 'https://m.media-amazon.com/images/I/71hEzQGO5qL._AC_UL320_.jpg',\n",
       " 'https://m.media-amazon.com/images/I/712+A5mH44L._AC_UL320_.jpg',\n",
       " 'https://m.media-amazon.com/images/I/81sZamLSPWL._AC_UL320_.jpg',\n",
       " 'https://m.media-amazon.com/images/I/61LHaUOhehL._AC_UL320_.jpg']"
      ]
     },
     "execution_count": 72,
     "metadata": {},
     "output_type": "execute_result"
    }
   ],
   "source": [
    "urls=[]\n",
    "for i in image_urls:\n",
    "    urls.append(i['src'])\n",
    "urls"
   ]
  },
  {
   "cell_type": "code",
   "execution_count": 119,
   "id": "d2efd7ac",
   "metadata": {},
   "outputs": [
    {
     "data": {
      "text/html": [
       "<div>\n",
       "<style scoped>\n",
       "    .dataframe tbody tr th:only-of-type {\n",
       "        vertical-align: middle;\n",
       "    }\n",
       "\n",
       "    .dataframe tbody tr th {\n",
       "        vertical-align: top;\n",
       "    }\n",
       "\n",
       "    .dataframe thead th {\n",
       "        text-align: right;\n",
       "    }\n",
       "</style>\n",
       "<table border=\"1\" class=\"dataframe\">\n",
       "  <thead>\n",
       "    <tr style=\"text-align: right;\">\n",
       "      <th></th>\n",
       "      <th>names</th>\n",
       "      <th>rating</th>\n",
       "      <th>image_url</th>\n",
       "    </tr>\n",
       "  </thead>\n",
       "  <tbody>\n",
       "    <tr>\n",
       "      <th>0</th>\n",
       "      <td>Redmi Note 10 Pro Max</td>\n",
       "      <td>4.1</td>\n",
       "      <td>https://m.media-amazon.com/images/I/81Vpy0XrvF...</td>\n",
       "    </tr>\n",
       "    <tr>\n",
       "      <th>1</th>\n",
       "      <td>Redmi Note 10</td>\n",
       "      <td>4.2</td>\n",
       "      <td>https://m.media-amazon.com/images/I/810GQ7CWdD...</td>\n",
       "    </tr>\n",
       "    <tr>\n",
       "      <th>2</th>\n",
       "      <td>Samsung Galaxy M31</td>\n",
       "      <td>4.2</td>\n",
       "      <td>https://m.media-amazon.com/images/I/71-Su4Wr0H...</td>\n",
       "    </tr>\n",
       "    <tr>\n",
       "      <th>3</th>\n",
       "      <td>Redmi 9 Power</td>\n",
       "      <td>4.2</td>\n",
       "      <td>https://m.media-amazon.com/images/I/71hEzQGO5q...</td>\n",
       "    </tr>\n",
       "    <tr>\n",
       "      <th>4</th>\n",
       "      <td>Redmi Note 10S</td>\n",
       "      <td>4.1</td>\n",
       "      <td>https://m.media-amazon.com/images/I/81B0HJigO-...</td>\n",
       "    </tr>\n",
       "    <tr>\n",
       "      <th>5</th>\n",
       "      <td>Redmi Note 10 Pro</td>\n",
       "      <td>4.2</td>\n",
       "      <td>https://m.media-amazon.com/images/I/81S-XYJlzT...</td>\n",
       "    </tr>\n",
       "    <tr>\n",
       "      <th>6</th>\n",
       "      <td>Redmi 9 Power</td>\n",
       "      <td>4.2</td>\n",
       "      <td>https://m.media-amazon.com/images/I/71hEzQGO5q...</td>\n",
       "    </tr>\n",
       "    <tr>\n",
       "      <th>7</th>\n",
       "      <td>Redmi Note 10S</td>\n",
       "      <td>4.1</td>\n",
       "      <td>https://m.media-amazon.com/images/I/81SJHWh-df...</td>\n",
       "    </tr>\n",
       "    <tr>\n",
       "      <th>8</th>\n",
       "      <td>Samsung Galaxy M21 2021 Edition</td>\n",
       "      <td>4.2</td>\n",
       "      <td>https://m.media-amazon.com/images/I/811lrGbXwI...</td>\n",
       "    </tr>\n",
       "    <tr>\n",
       "      <th>9</th>\n",
       "      <td>Redmi 9 Prime</td>\n",
       "      <td>4.3</td>\n",
       "      <td>https://m.media-amazon.com/images/I/71U2SiHgbi...</td>\n",
       "    </tr>\n",
       "    <tr>\n",
       "      <th>10</th>\n",
       "      <td>Redmi Note 10S</td>\n",
       "      <td>4.1</td>\n",
       "      <td>https://m.media-amazon.com/images/I/81R9c74pmD...</td>\n",
       "    </tr>\n",
       "    <tr>\n",
       "      <th>11</th>\n",
       "      <td>Redmi Note 10 Pro</td>\n",
       "      <td>4.2</td>\n",
       "      <td>https://m.media-amazon.com/images/I/81nndQAg2n...</td>\n",
       "    </tr>\n",
       "    <tr>\n",
       "      <th>12</th>\n",
       "      <td>Samsung Galaxy M21 2021 Edition</td>\n",
       "      <td>4.2</td>\n",
       "      <td>https://m.media-amazon.com/images/I/712+A5mH44...</td>\n",
       "    </tr>\n",
       "    <tr>\n",
       "      <th>13</th>\n",
       "      <td>Redmi 9 Prime</td>\n",
       "      <td>4.3</td>\n",
       "      <td>https://m.media-amazon.com/images/I/71U2SiHgbi...</td>\n",
       "    </tr>\n",
       "    <tr>\n",
       "      <th>14</th>\n",
       "      <td>Redmi 9 Prime</td>\n",
       "      <td>4.3</td>\n",
       "      <td>https://m.media-amazon.com/images/I/71U2SiHgbi...</td>\n",
       "    </tr>\n",
       "    <tr>\n",
       "      <th>15</th>\n",
       "      <td>OPPO A31</td>\n",
       "      <td>4.2</td>\n",
       "      <td>https://m.media-amazon.com/images/I/61CnyJ-IbM...</td>\n",
       "    </tr>\n",
       "    <tr>\n",
       "      <th>16</th>\n",
       "      <td>Redmi 9 Power</td>\n",
       "      <td>4.2</td>\n",
       "      <td>https://m.media-amazon.com/images/I/71hEzQGO5q...</td>\n",
       "    </tr>\n",
       "    <tr>\n",
       "      <th>17</th>\n",
       "      <td>Samsung Galaxy M12</td>\n",
       "      <td>4.1</td>\n",
       "      <td>https://m.media-amazon.com/images/I/71yYaNztZ0...</td>\n",
       "    </tr>\n",
       "    <tr>\n",
       "      <th>18</th>\n",
       "      <td>Samsung Galaxy M21 2021 Edition</td>\n",
       "      <td>4.2</td>\n",
       "      <td>https://m.media-amazon.com/images/I/811lrGbXwI...</td>\n",
       "    </tr>\n",
       "    <tr>\n",
       "      <th>19</th>\n",
       "      <td>Redmi Note 10 Pro</td>\n",
       "      <td>4.2</td>\n",
       "      <td>https://m.media-amazon.com/images/I/81aQWPoGdO...</td>\n",
       "    </tr>\n",
       "    <tr>\n",
       "      <th>20</th>\n",
       "      <td>Redmi 9 Power</td>\n",
       "      <td>4.2</td>\n",
       "      <td>https://m.media-amazon.com/images/I/71hEzQGO5q...</td>\n",
       "    </tr>\n",
       "    <tr>\n",
       "      <th>21</th>\n",
       "      <td>Samsung Galaxy M21 2021 Edition</td>\n",
       "      <td>4.2</td>\n",
       "      <td>https://m.media-amazon.com/images/I/712+A5mH44...</td>\n",
       "    </tr>\n",
       "    <tr>\n",
       "      <th>22</th>\n",
       "      <td>Redmi Note 10S</td>\n",
       "      <td>4.1</td>\n",
       "      <td>https://m.media-amazon.com/images/I/81sZamLSPW...</td>\n",
       "    </tr>\n",
       "    <tr>\n",
       "      <th>23</th>\n",
       "      <td>Redmi 9 Power</td>\n",
       "      <td>4.2</td>\n",
       "      <td>https://m.media-amazon.com/images/I/61LHaUOheh...</td>\n",
       "    </tr>\n",
       "  </tbody>\n",
       "</table>\n",
       "</div>"
      ],
      "text/plain": [
       "                              names rating  \\\n",
       "0             Redmi Note 10 Pro Max    4.1   \n",
       "1                     Redmi Note 10    4.2   \n",
       "2                Samsung Galaxy M31    4.2   \n",
       "3                     Redmi 9 Power    4.2   \n",
       "4                    Redmi Note 10S    4.1   \n",
       "5                 Redmi Note 10 Pro    4.2   \n",
       "6                     Redmi 9 Power    4.2   \n",
       "7                    Redmi Note 10S    4.1   \n",
       "8   Samsung Galaxy M21 2021 Edition    4.2   \n",
       "9                     Redmi 9 Prime    4.3   \n",
       "10                   Redmi Note 10S    4.1   \n",
       "11                Redmi Note 10 Pro    4.2   \n",
       "12  Samsung Galaxy M21 2021 Edition    4.2   \n",
       "13                    Redmi 9 Prime    4.3   \n",
       "14                    Redmi 9 Prime    4.3   \n",
       "15                         OPPO A31    4.2   \n",
       "16                    Redmi 9 Power    4.2   \n",
       "17               Samsung Galaxy M12    4.1   \n",
       "18  Samsung Galaxy M21 2021 Edition    4.2   \n",
       "19                Redmi Note 10 Pro    4.2   \n",
       "20                    Redmi 9 Power    4.2   \n",
       "21  Samsung Galaxy M21 2021 Edition    4.2   \n",
       "22                   Redmi Note 10S    4.1   \n",
       "23                    Redmi 9 Power    4.2   \n",
       "\n",
       "                                            image_url  \n",
       "0   https://m.media-amazon.com/images/I/81Vpy0XrvF...  \n",
       "1   https://m.media-amazon.com/images/I/810GQ7CWdD...  \n",
       "2   https://m.media-amazon.com/images/I/71-Su4Wr0H...  \n",
       "3   https://m.media-amazon.com/images/I/71hEzQGO5q...  \n",
       "4   https://m.media-amazon.com/images/I/81B0HJigO-...  \n",
       "5   https://m.media-amazon.com/images/I/81S-XYJlzT...  \n",
       "6   https://m.media-amazon.com/images/I/71hEzQGO5q...  \n",
       "7   https://m.media-amazon.com/images/I/81SJHWh-df...  \n",
       "8   https://m.media-amazon.com/images/I/811lrGbXwI...  \n",
       "9   https://m.media-amazon.com/images/I/71U2SiHgbi...  \n",
       "10  https://m.media-amazon.com/images/I/81R9c74pmD...  \n",
       "11  https://m.media-amazon.com/images/I/81nndQAg2n...  \n",
       "12  https://m.media-amazon.com/images/I/712+A5mH44...  \n",
       "13  https://m.media-amazon.com/images/I/71U2SiHgbi...  \n",
       "14  https://m.media-amazon.com/images/I/71U2SiHgbi...  \n",
       "15  https://m.media-amazon.com/images/I/61CnyJ-IbM...  \n",
       "16  https://m.media-amazon.com/images/I/71hEzQGO5q...  \n",
       "17  https://m.media-amazon.com/images/I/71yYaNztZ0...  \n",
       "18  https://m.media-amazon.com/images/I/811lrGbXwI...  \n",
       "19  https://m.media-amazon.com/images/I/81aQWPoGdO...  \n",
       "20  https://m.media-amazon.com/images/I/71hEzQGO5q...  \n",
       "21  https://m.media-amazon.com/images/I/712+A5mH44...  \n",
       "22  https://m.media-amazon.com/images/I/81sZamLSPW...  \n",
       "23  https://m.media-amazon.com/images/I/61LHaUOheh...  "
      ]
     },
     "execution_count": 119,
     "metadata": {},
     "output_type": "execute_result"
    }
   ],
   "source": [
    "mobiles=pd.DataFrame({})\n",
    "mobiles[\"names\"]=names\n",
    "mobiles[\"rating\"]=rating\n",
    "mobiles[\"image_url\"]=urls\n",
    "mobiles\n"
   ]
  },
  {
   "cell_type": "code",
   "execution_count": 120,
   "id": "8052ad64",
   "metadata": {},
   "outputs": [
    {
     "name": "stdout",
     "output_type": "stream",
     "text": [
      "24\n",
      "24\n",
      "24\n"
     ]
    }
   ],
   "source": [
    "print(len(names))\n",
    "print(len(rating))\n",
    "print(len(urls))"
   ]
  },
  {
   "cell_type": "code",
   "execution_count": null,
   "id": "aeaf1dea",
   "metadata": {},
   "outputs": [],
   "source": []
  }
 ],
 "metadata": {
  "kernelspec": {
   "display_name": "Python 3",
   "language": "python",
   "name": "python3"
  },
  "language_info": {
   "codemirror_mode": {
    "name": "ipython",
    "version": 3
   },
   "file_extension": ".py",
   "mimetype": "text/x-python",
   "name": "python",
   "nbconvert_exporter": "python",
   "pygments_lexer": "ipython3",
   "version": "3.8.8"
  }
 },
 "nbformat": 4,
 "nbformat_minor": 5
}

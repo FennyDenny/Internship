{
 "cells": [
  {
   "cell_type": "code",
   "execution_count": 1,
   "id": "9c8cb0fe",
   "metadata": {},
   "outputs": [],
   "source": [
    "from bs4 import BeautifulSoup\n",
    "import requests\n",
    "import pandas as pd"
   ]
  },
  {
   "cell_type": "code",
   "execution_count": 33,
   "id": "742760de",
   "metadata": {},
   "outputs": [
    {
     "data": {
      "text/plain": [
       "<Response [200]>"
      ]
     },
     "execution_count": 33,
     "metadata": {},
     "output_type": "execute_result"
    }
   ],
   "source": [
    "page=requests.get(\"https://www.icc-cricket.com/rankings/mens/team-rankings/odi\")\n",
    "page"
   ]
  },
  {
   "cell_type": "code",
   "execution_count": 50,
   "id": "b940955a",
   "metadata": {},
   "outputs": [
    {
     "data": {
      "text/plain": [
       "[<span class=\"u-hide-phablet\">New Zealand</span>,\n",
       " <span class=\"u-hide-phablet\">England</span>,\n",
       " <span class=\"u-hide-phablet\">Australia</span>,\n",
       " <span class=\"u-hide-phablet\">India</span>,\n",
       " <span class=\"u-hide-phablet\">South Africa</span>,\n",
       " <span class=\"u-hide-phablet\">Pakistan</span>,\n",
       " <span class=\"u-hide-phablet\">Bangladesh</span>,\n",
       " <span class=\"u-hide-phablet\">West Indies</span>,\n",
       " <span class=\"u-hide-phablet\">Sri Lanka</span>,\n",
       " <span class=\"u-hide-phablet\">Afghanistan</span>,\n",
       " <span class=\"u-hide-phablet\">Netherlands</span>,\n",
       " <span class=\"u-hide-phablet\">Ireland</span>,\n",
       " <span class=\"u-hide-phablet\">Oman</span>,\n",
       " <span class=\"u-hide-phablet\">Zimbabwe</span>,\n",
       " <span class=\"u-hide-phablet\">Scotland</span>,\n",
       " <span class=\"u-hide-phablet\">Nepal</span>,\n",
       " <span class=\"u-hide-phablet\">UAE</span>,\n",
       " <span class=\"u-hide-phablet\">United States</span>,\n",
       " <span class=\"u-hide-phablet\">Namibia</span>,\n",
       " <span class=\"u-hide-phablet\">Papua New Guinea</span>,\n",
       " <span class=\"icn icn-facebook-circle u-hide-phablet\"></span>,\n",
       " <span class=\"icn icn-twitter-circle u-hide-phablet\"></span>,\n",
       " <span class=\"icn icn-instagram-circle u-hide-phablet\"></span>,\n",
       " <span class=\"icn icn-youtube-circle u-hide-phablet\"></span>,\n",
       " <span class=\"icn icn-tiktok-circle u-hide-phablet\"></span>]"
      ]
     },
     "execution_count": 50,
     "metadata": {},
     "output_type": "execute_result"
    }
   ],
   "source": [
    "soup=BeautifulSoup(page.content)\n",
    "cricket_ranking=soup.find_all(class_=\"u-hide-phablet\")\n",
    "cricket_ranking"
   ]
  },
  {
   "cell_type": "code",
   "execution_count": 53,
   "id": "511d397c",
   "metadata": {},
   "outputs": [
    {
     "data": {
      "text/plain": [
       "['New Zealand',\n",
       " 'England',\n",
       " 'Australia',\n",
       " 'India',\n",
       " 'South Africa',\n",
       " 'Pakistan',\n",
       " 'Bangladesh',\n",
       " 'West Indies',\n",
       " 'Sri Lanka',\n",
       " 'Afghanistan',\n",
       " 'Netherlands',\n",
       " 'Ireland',\n",
       " 'Oman',\n",
       " 'Zimbabwe',\n",
       " 'Scotland',\n",
       " 'Nepal',\n",
       " 'UAE',\n",
       " 'United States',\n",
       " 'Namibia',\n",
       " 'Papua New Guinea']"
      ]
     },
     "execution_count": 53,
     "metadata": {},
     "output_type": "execute_result"
    }
   ],
   "source": [
    "ranking=[]\n",
    "team_name=[]\n",
    "rank=1\n",
    "for i in cricket_ranking:\n",
    "    if (i.text!=''):\n",
    "        ranking.append(rank)\n",
    "        team_name.append(i.text.replace(\"\\n\",\" \"))\n",
    "        rank=rank+1\n",
    "ranking\n",
    "team_name\n",
    "\n"
   ]
  },
  {
   "cell_type": "code",
   "execution_count": 55,
   "id": "dbc71b80",
   "metadata": {},
   "outputs": [
    {
     "data": {
      "text/html": [
       "<div>\n",
       "<style scoped>\n",
       "    .dataframe tbody tr th:only-of-type {\n",
       "        vertical-align: middle;\n",
       "    }\n",
       "\n",
       "    .dataframe tbody tr th {\n",
       "        vertical-align: top;\n",
       "    }\n",
       "\n",
       "    .dataframe thead th {\n",
       "        text-align: right;\n",
       "    }\n",
       "</style>\n",
       "<table border=\"1\" class=\"dataframe\">\n",
       "  <thead>\n",
       "    <tr style=\"text-align: right;\">\n",
       "      <th></th>\n",
       "      <th>rank</th>\n",
       "      <th>team_name</th>\n",
       "    </tr>\n",
       "  </thead>\n",
       "  <tbody>\n",
       "    <tr>\n",
       "      <th>0</th>\n",
       "      <td>1</td>\n",
       "      <td>New Zealand</td>\n",
       "    </tr>\n",
       "    <tr>\n",
       "      <th>1</th>\n",
       "      <td>2</td>\n",
       "      <td>England</td>\n",
       "    </tr>\n",
       "    <tr>\n",
       "      <th>2</th>\n",
       "      <td>3</td>\n",
       "      <td>Australia</td>\n",
       "    </tr>\n",
       "    <tr>\n",
       "      <th>3</th>\n",
       "      <td>4</td>\n",
       "      <td>India</td>\n",
       "    </tr>\n",
       "    <tr>\n",
       "      <th>4</th>\n",
       "      <td>5</td>\n",
       "      <td>South Africa</td>\n",
       "    </tr>\n",
       "    <tr>\n",
       "      <th>5</th>\n",
       "      <td>6</td>\n",
       "      <td>Pakistan</td>\n",
       "    </tr>\n",
       "    <tr>\n",
       "      <th>6</th>\n",
       "      <td>7</td>\n",
       "      <td>Bangladesh</td>\n",
       "    </tr>\n",
       "    <tr>\n",
       "      <th>7</th>\n",
       "      <td>8</td>\n",
       "      <td>West Indies</td>\n",
       "    </tr>\n",
       "    <tr>\n",
       "      <th>8</th>\n",
       "      <td>9</td>\n",
       "      <td>Sri Lanka</td>\n",
       "    </tr>\n",
       "    <tr>\n",
       "      <th>9</th>\n",
       "      <td>10</td>\n",
       "      <td>Afghanistan</td>\n",
       "    </tr>\n",
       "    <tr>\n",
       "      <th>10</th>\n",
       "      <td>11</td>\n",
       "      <td>Netherlands</td>\n",
       "    </tr>\n",
       "    <tr>\n",
       "      <th>11</th>\n",
       "      <td>12</td>\n",
       "      <td>Ireland</td>\n",
       "    </tr>\n",
       "    <tr>\n",
       "      <th>12</th>\n",
       "      <td>13</td>\n",
       "      <td>Oman</td>\n",
       "    </tr>\n",
       "    <tr>\n",
       "      <th>13</th>\n",
       "      <td>14</td>\n",
       "      <td>Zimbabwe</td>\n",
       "    </tr>\n",
       "    <tr>\n",
       "      <th>14</th>\n",
       "      <td>15</td>\n",
       "      <td>Scotland</td>\n",
       "    </tr>\n",
       "    <tr>\n",
       "      <th>15</th>\n",
       "      <td>16</td>\n",
       "      <td>Nepal</td>\n",
       "    </tr>\n",
       "    <tr>\n",
       "      <th>16</th>\n",
       "      <td>17</td>\n",
       "      <td>UAE</td>\n",
       "    </tr>\n",
       "    <tr>\n",
       "      <th>17</th>\n",
       "      <td>18</td>\n",
       "      <td>United States</td>\n",
       "    </tr>\n",
       "    <tr>\n",
       "      <th>18</th>\n",
       "      <td>19</td>\n",
       "      <td>Namibia</td>\n",
       "    </tr>\n",
       "    <tr>\n",
       "      <th>19</th>\n",
       "      <td>20</td>\n",
       "      <td>Papua New Guinea</td>\n",
       "    </tr>\n",
       "  </tbody>\n",
       "</table>\n",
       "</div>"
      ],
      "text/plain": [
       "    rank         team_name\n",
       "0      1       New Zealand\n",
       "1      2           England\n",
       "2      3         Australia\n",
       "3      4             India\n",
       "4      5      South Africa\n",
       "5      6          Pakistan\n",
       "6      7        Bangladesh\n",
       "7      8       West Indies\n",
       "8      9         Sri Lanka\n",
       "9     10       Afghanistan\n",
       "10    11       Netherlands\n",
       "11    12           Ireland\n",
       "12    13              Oman\n",
       "13    14          Zimbabwe\n",
       "14    15          Scotland\n",
       "15    16             Nepal\n",
       "16    17               UAE\n",
       "17    18     United States\n",
       "18    19           Namibia\n",
       "19    20  Papua New Guinea"
      ]
     },
     "execution_count": 55,
     "metadata": {},
     "output_type": "execute_result"
    }
   ],
   "source": [
    "top_odi_rank=pd.DataFrame({})\n",
    "top_odi_rank['rank']=ranking\n",
    "top_odi_rank['team_name']=team_name\n",
    "top_odi_rank\n"
   ]
  },
  {
   "cell_type": "code",
   "execution_count": 74,
   "id": "6b91dd74",
   "metadata": {},
   "outputs": [
    {
     "data": {
      "text/plain": [
       "<td class=\"rankings-block__banner--rating u-text-right\">\n",
       "                            121\n",
       "                            <span class=\"circle-branding circle-branding--top\"></span>\n",
       "<span class=\"circle-branding circle-branding--bottom\"></span>\n",
       "</td>"
      ]
     },
     "execution_count": 74,
     "metadata": {},
     "output_type": "execute_result"
    }
   ],
   "source": [
    "matches_top1team=soup.find(class_=\"rankings-block__banner--matches\")\n",
    "matches_top1team\n",
    "points_top1team=soup.find(class_=\"rankings-block__banner--points\")\n",
    "points_top1team\n",
    "rating_top1team=soup.find(class_=\"rankings-block__banner--rating u-text-right\")\n",
    "rating_top1team"
   ]
  },
  {
   "cell_type": "code",
   "execution_count": 62,
   "id": "a719a381",
   "metadata": {},
   "outputs": [
    {
     "data": {
      "text/plain": [
       "[<td class=\"table-body__cell u-center-text\">32</td>,\n",
       " <td class=\"table-body__cell u-center-text\">3,793</td>,\n",
       " <td class=\"table-body__cell u-center-text\">28</td>,\n",
       " <td class=\"table-body__cell u-center-text\">3,244</td>,\n",
       " <td class=\"table-body__cell u-center-text\">32</td>,\n",
       " <td class=\"table-body__cell u-center-text\">3,624</td>,\n",
       " <td class=\"table-body__cell u-center-text\">25</td>,\n",
       " <td class=\"table-body__cell u-center-text\">2,459</td>,\n",
       " <td class=\"table-body__cell u-center-text\">27</td>,\n",
       " <td class=\"table-body__cell u-center-text\">2,524</td>,\n",
       " <td class=\"table-body__cell u-center-text\">30</td>,\n",
       " <td class=\"table-body__cell u-center-text\">2,740</td>,\n",
       " <td class=\"table-body__cell u-center-text\">30</td>,\n",
       " <td class=\"table-body__cell u-center-text\">2,523</td>,\n",
       " <td class=\"table-body__cell u-center-text\">32</td>,\n",
       " <td class=\"table-body__cell u-center-text\">2,657</td>,\n",
       " <td class=\"table-body__cell u-center-text\">17</td>,\n",
       " <td class=\"table-body__cell u-center-text\">1,054</td>,\n",
       " <td class=\"table-body__cell u-center-text\">7</td>,\n",
       " <td class=\"table-body__cell u-center-text\">336</td>,\n",
       " <td class=\"table-body__cell u-center-text\">25</td>,\n",
       " <td class=\"table-body__cell u-center-text\">1,145</td>,\n",
       " <td class=\"table-body__cell u-center-text\">11</td>,\n",
       " <td class=\"table-body__cell u-center-text\">435</td>,\n",
       " <td class=\"table-body__cell u-center-text\">20</td>,\n",
       " <td class=\"table-body__cell u-center-text\">764</td>,\n",
       " <td class=\"table-body__cell u-center-text\">7</td>,\n",
       " <td class=\"table-body__cell u-center-text\">258</td>,\n",
       " <td class=\"table-body__cell u-center-text\">11</td>,\n",
       " <td class=\"table-body__cell u-center-text\">330</td>,\n",
       " <td class=\"table-body__cell u-center-text\">9</td>,\n",
       " <td class=\"table-body__cell u-center-text\">190</td>,\n",
       " <td class=\"table-body__cell u-center-text\">14</td>,\n",
       " <td class=\"table-body__cell u-center-text\">232</td>,\n",
       " <td class=\"table-body__cell u-center-text\">6</td>,\n",
       " <td class=\"table-body__cell u-center-text\">97</td>,\n",
       " <td class=\"table-body__cell u-center-text\">9</td>,\n",
       " <td class=\"table-body__cell u-center-text\">0</td>]"
      ]
     },
     "execution_count": 62,
     "metadata": {},
     "output_type": "execute_result"
    }
   ],
   "source": [
    "matches_otherteam=soup.find_all(class_=\"table-body__cell u-center-text\")\n",
    "matches_otherteam"
   ]
  },
  {
   "cell_type": "code",
   "execution_count": 73,
   "id": "7c679ca4",
   "metadata": {},
   "outputs": [
    {
     "data": {
      "text/plain": [
       "['2,054',\n",
       " '3,793',\n",
       " '3,244',\n",
       " '3,624',\n",
       " '2,459',\n",
       " '2,524',\n",
       " '2,740',\n",
       " '2,523',\n",
       " '2,657',\n",
       " '1,054',\n",
       " '336',\n",
       " '1,145',\n",
       " '435',\n",
       " '764',\n",
       " '258',\n",
       " '330',\n",
       " '190',\n",
       " '232',\n",
       " '97',\n",
       " '0']"
      ]
     },
     "execution_count": 73,
     "metadata": {},
     "output_type": "execute_result"
    }
   ],
   "source": [
    "matches=[]\n",
    "points=[]\n",
    "j=1\n",
    "matches.append(matches_top1team.text)\n",
    "points.append(points_top1team.text)\n",
    "for i in matches_otherteam:\n",
    "    if (j%2!=0):\n",
    "        matches.append(i.text.replace(\"\\n\",\" \"))\n",
    "    else:\n",
    "        points.append(i.text.replace(\"\\n\",\" \"))\n",
    "    j=j+1\n",
    "points"
   ]
  },
  {
   "cell_type": "code",
   "execution_count": 78,
   "id": "35114811",
   "metadata": {},
   "outputs": [
    {
     "data": {
      "text/plain": [
       "[<td class=\"table-body__cell u-text-right rating\">119</td>,\n",
       " <td class=\"table-body__cell u-text-right rating\">116</td>,\n",
       " <td class=\"table-body__cell u-text-right rating\">113</td>,\n",
       " <td class=\"table-body__cell u-text-right rating\">98</td>,\n",
       " <td class=\"table-body__cell u-text-right rating\">93</td>,\n",
       " <td class=\"table-body__cell u-text-right rating\">91</td>,\n",
       " <td class=\"table-body__cell u-text-right rating\">84</td>,\n",
       " <td class=\"table-body__cell u-text-right rating\">83</td>,\n",
       " <td class=\"table-body__cell u-text-right rating\">62</td>,\n",
       " <td class=\"table-body__cell u-text-right rating\">48</td>,\n",
       " <td class=\"table-body__cell u-text-right rating\">46</td>,\n",
       " <td class=\"table-body__cell u-text-right rating\">40</td>,\n",
       " <td class=\"table-body__cell u-text-right rating\">38</td>,\n",
       " <td class=\"table-body__cell u-text-right rating\">37</td>,\n",
       " <td class=\"table-body__cell u-text-right rating\">30</td>,\n",
       " <td class=\"table-body__cell u-text-right rating\">21</td>,\n",
       " <td class=\"table-body__cell u-text-right rating\">17</td>,\n",
       " <td class=\"table-body__cell u-text-right rating\">16</td>,\n",
       " <td class=\"table-body__cell u-text-right rating\">0</td>]"
      ]
     },
     "execution_count": 78,
     "metadata": {},
     "output_type": "execute_result"
    }
   ],
   "source": [
    "rating_otherteam=soup.find_all(class_=\"table-body__cell u-text-right rating\")\n",
    "rating_otherteam"
   ]
  },
  {
   "cell_type": "code",
   "execution_count": 79,
   "id": "e7e14567",
   "metadata": {},
   "outputs": [
    {
     "data": {
      "text/plain": [
       "['121',\n",
       " '119',\n",
       " '116',\n",
       " '113',\n",
       " '98',\n",
       " '93',\n",
       " '91',\n",
       " '84',\n",
       " '83',\n",
       " '62',\n",
       " '48',\n",
       " '46',\n",
       " '40',\n",
       " '38',\n",
       " '37',\n",
       " '30',\n",
       " '21',\n",
       " '17',\n",
       " '16',\n",
       " '0']"
      ]
     },
     "execution_count": 79,
     "metadata": {},
     "output_type": "execute_result"
    }
   ],
   "source": [
    "rating=[]\n",
    "rating.append(rating_top1team.text.replace(\"\\n\",\"\").strip())\n",
    "for i in rating_otherteam:\n",
    "    rating.append(i.text.replace(\"\\n\",\" \"))\n",
    "rating"
   ]
  },
  {
   "cell_type": "code",
   "execution_count": 82,
   "id": "dfe37316",
   "metadata": {},
   "outputs": [
    {
     "data": {
      "text/html": [
       "<div>\n",
       "<style scoped>\n",
       "    .dataframe tbody tr th:only-of-type {\n",
       "        vertical-align: middle;\n",
       "    }\n",
       "\n",
       "    .dataframe tbody tr th {\n",
       "        vertical-align: top;\n",
       "    }\n",
       "\n",
       "    .dataframe thead th {\n",
       "        text-align: right;\n",
       "    }\n",
       "</style>\n",
       "<table border=\"1\" class=\"dataframe\">\n",
       "  <thead>\n",
       "    <tr style=\"text-align: right;\">\n",
       "      <th></th>\n",
       "      <th>rank</th>\n",
       "      <th>team_name</th>\n",
       "      <th>matches</th>\n",
       "      <th>points</th>\n",
       "      <th>rating</th>\n",
       "    </tr>\n",
       "  </thead>\n",
       "  <tbody>\n",
       "    <tr>\n",
       "      <th>0</th>\n",
       "      <td>1</td>\n",
       "      <td>New Zealand</td>\n",
       "      <td>17</td>\n",
       "      <td>2,054</td>\n",
       "      <td>121</td>\n",
       "    </tr>\n",
       "    <tr>\n",
       "      <th>1</th>\n",
       "      <td>2</td>\n",
       "      <td>England</td>\n",
       "      <td>32</td>\n",
       "      <td>3,793</td>\n",
       "      <td>119</td>\n",
       "    </tr>\n",
       "    <tr>\n",
       "      <th>2</th>\n",
       "      <td>3</td>\n",
       "      <td>Australia</td>\n",
       "      <td>28</td>\n",
       "      <td>3,244</td>\n",
       "      <td>116</td>\n",
       "    </tr>\n",
       "    <tr>\n",
       "      <th>3</th>\n",
       "      <td>4</td>\n",
       "      <td>India</td>\n",
       "      <td>32</td>\n",
       "      <td>3,624</td>\n",
       "      <td>113</td>\n",
       "    </tr>\n",
       "    <tr>\n",
       "      <th>4</th>\n",
       "      <td>5</td>\n",
       "      <td>South Africa</td>\n",
       "      <td>25</td>\n",
       "      <td>2,459</td>\n",
       "      <td>98</td>\n",
       "    </tr>\n",
       "    <tr>\n",
       "      <th>5</th>\n",
       "      <td>6</td>\n",
       "      <td>Pakistan</td>\n",
       "      <td>27</td>\n",
       "      <td>2,524</td>\n",
       "      <td>93</td>\n",
       "    </tr>\n",
       "    <tr>\n",
       "      <th>6</th>\n",
       "      <td>7</td>\n",
       "      <td>Bangladesh</td>\n",
       "      <td>30</td>\n",
       "      <td>2,740</td>\n",
       "      <td>91</td>\n",
       "    </tr>\n",
       "    <tr>\n",
       "      <th>7</th>\n",
       "      <td>8</td>\n",
       "      <td>West Indies</td>\n",
       "      <td>30</td>\n",
       "      <td>2,523</td>\n",
       "      <td>84</td>\n",
       "    </tr>\n",
       "    <tr>\n",
       "      <th>8</th>\n",
       "      <td>9</td>\n",
       "      <td>Sri Lanka</td>\n",
       "      <td>32</td>\n",
       "      <td>2,657</td>\n",
       "      <td>83</td>\n",
       "    </tr>\n",
       "    <tr>\n",
       "      <th>9</th>\n",
       "      <td>10</td>\n",
       "      <td>Afghanistan</td>\n",
       "      <td>17</td>\n",
       "      <td>1,054</td>\n",
       "      <td>62</td>\n",
       "    </tr>\n",
       "  </tbody>\n",
       "</table>\n",
       "</div>"
      ],
      "text/plain": [
       "   rank     team_name matches points rating\n",
       "0     1   New Zealand      17  2,054    121\n",
       "1     2       England      32  3,793    119\n",
       "2     3     Australia      28  3,244    116\n",
       "3     4         India      32  3,624    113\n",
       "4     5  South Africa      25  2,459     98\n",
       "5     6      Pakistan      27  2,524     93\n",
       "6     7    Bangladesh      30  2,740     91\n",
       "7     8   West Indies      30  2,523     84\n",
       "8     9     Sri Lanka      32  2,657     83\n",
       "9    10   Afghanistan      17  1,054     62"
      ]
     },
     "execution_count": 82,
     "metadata": {},
     "output_type": "execute_result"
    }
   ],
   "source": [
    "top_odi_rank=pd.DataFrame({})\n",
    "top_odi_rank['rank']=ranking\n",
    "top_odi_rank['team_name']=team_name\n",
    "top_odi_rank['matches']=matches\n",
    "top_odi_rank['points']=points\n",
    "top_odi_rank['rating']=rating\n",
    "top10_odi_rank=top_odi_rank.iloc[0:10,:]\n",
    "top10_odi_rank"
   ]
  }
 ],
 "metadata": {
  "kernelspec": {
   "display_name": "Python 3",
   "language": "python",
   "name": "python3"
  },
  "language_info": {
   "codemirror_mode": {
    "name": "ipython",
    "version": 3
   },
   "file_extension": ".py",
   "mimetype": "text/x-python",
   "name": "python",
   "nbconvert_exporter": "python",
   "pygments_lexer": "ipython3",
   "version": "3.8.8"
  }
 },
 "nbformat": 4,
 "nbformat_minor": 5
}

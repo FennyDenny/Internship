{
 "cells": [
  {
   "cell_type": "code",
   "execution_count": 1,
   "id": "ac1f44c5",
   "metadata": {},
   "outputs": [],
   "source": [
    "from bs4 import BeautifulSoup\n",
    "import requests\n",
    "import pandas as pd"
   ]
  },
  {
   "cell_type": "code",
   "execution_count": 2,
   "id": "568d8cb8",
   "metadata": {},
   "outputs": [
    {
     "data": {
      "text/plain": [
       "<Response [200]>"
      ]
     },
     "execution_count": 2,
     "metadata": {},
     "output_type": "execute_result"
    }
   ],
   "source": [
    "page=requests.get(\"https://www.icc-cricket.com/rankings/mens/player-rankings/odi\")\n",
    "page"
   ]
  },
  {
   "cell_type": "code",
   "execution_count": 54,
   "id": "be928f09",
   "metadata": {},
   "outputs": [
    {
     "data": {
      "text/plain": [
       "<div class=\"rankings-block__banner--name\">Trent Boult</div>"
      ]
     },
     "execution_count": 54,
     "metadata": {},
     "output_type": "execute_result"
    }
   ],
   "source": [
    "soup=BeautifulSoup(page.content)\n",
    "bowler_first=soup.find_all(class_=\"rankings-block__banner--name\")\n",
    "bowler_first[1]\n",
    "first_bowler=bowler_first[1]\n",
    "first_bowler"
   ]
  },
  {
   "cell_type": "code",
   "execution_count": 55,
   "id": "f61c02f4",
   "metadata": {},
   "outputs": [
    {
     "data": {
      "text/plain": [
       "[<td class=\"table-body__cell name\">\n",
       " <a href=\"/rankings/mens/player-rankings/857\">Josh Hazlewood</a>\n",
       " </td>,\n",
       " <td class=\"table-body__cell name\">\n",
       " <a href=\"/rankings/mens/player-rankings/4572\">Mujeeb Ur Rahman</a>\n",
       " </td>,\n",
       " <td class=\"table-body__cell name\">\n",
       " <a href=\"/rankings/mens/player-rankings/967\">Chris Woakes</a>\n",
       " </td>,\n",
       " <td class=\"table-body__cell name\">\n",
       " <a href=\"/rankings/mens/player-rankings/1597\">Mehedi Hasan</a>\n",
       " </td>,\n",
       " <td class=\"table-body__cell name\">\n",
       " <a href=\"/rankings/mens/player-rankings/1505\">Matt Henry</a>\n",
       " </td>,\n",
       " <td class=\"table-body__cell name\">\n",
       " <a href=\"/rankings/mens/player-rankings/1124\">Jasprit Bumrah</a>\n",
       " </td>,\n",
       " <td class=\"table-body__cell name\">\n",
       " <a href=\"/rankings/mens/player-rankings/490\">Mitchell Starc</a>\n",
       " </td>,\n",
       " <td class=\"table-body__cell name\">\n",
       " <a href=\"/rankings/mens/player-rankings/201\">Shakib Al Hasan</a>\n",
       " </td>,\n",
       " <td class=\"table-body__cell name\">\n",
       " <a href=\"/rankings/mens/player-rankings/1664\">Kagiso Rabada</a>\n",
       " </td>]"
      ]
     },
     "execution_count": 55,
     "metadata": {},
     "output_type": "execute_result"
    }
   ],
   "source": [
    "player_bowling=soup.find_all(class_=\"table-body__cell name\")\n",
    "player_bowling[9:18]\n",
    "bowling_players=player_bowling[9:18]\n",
    "bowling_players\n"
   ]
  },
  {
   "cell_type": "code",
   "execution_count": 57,
   "id": "c1c3bfab",
   "metadata": {},
   "outputs": [
    {
     "data": {
      "text/plain": [
       "['Trent Boult',\n",
       " 'Josh Hazlewood',\n",
       " 'Mujeeb Ur Rahman',\n",
       " 'Chris Woakes',\n",
       " 'Mehedi Hasan',\n",
       " 'Matt Henry',\n",
       " 'Jasprit Bumrah',\n",
       " 'Mitchell Starc',\n",
       " 'Shakib Al Hasan',\n",
       " 'Kagiso Rabada']"
      ]
     },
     "execution_count": 57,
     "metadata": {},
     "output_type": "execute_result"
    }
   ],
   "source": [
    "top_bowlers=[]\n",
    "top_bowlers.append(first_bowler.text.replace(\"\\n\",\"\"))\n",
    "for i in bowling_players:\n",
    "    top_bowlers.append(i.text.replace(\"\\n\",\"\"))\n",
    "top_bowlers"
   ]
  },
  {
   "cell_type": "code",
   "execution_count": 64,
   "id": "e7f965e3",
   "metadata": {},
   "outputs": [
    {
     "data": {
      "text/plain": [
       "<div class=\"rankings-block__banner--nationality\">\n",
       "<div class=\"flag-15 NZ\"></div>\n",
       "<span class=\"rankings-block__banner--nation\"></span>NZ\n",
       "                            <div class=\"rankings-block__banner--rating\">737</div>\n",
       "</div>"
      ]
     },
     "execution_count": 64,
     "metadata": {},
     "output_type": "execute_result"
    }
   ],
   "source": [
    "first_team=soup.find_all(class_=\"rankings-block__banner--nationality\")[1]\n",
    "first_team"
   ]
  },
  {
   "cell_type": "code",
   "execution_count": 68,
   "id": "62b1679d",
   "metadata": {},
   "outputs": [
    {
     "data": {
      "text/plain": [
       "[<span class=\"table-body__logo-text\">AUS</span>,\n",
       " <span class=\"table-body__logo-text\">AFG</span>,\n",
       " <span class=\"table-body__logo-text\">ENG</span>,\n",
       " <span class=\"table-body__logo-text\">BAN</span>,\n",
       " <span class=\"table-body__logo-text\">NZ</span>,\n",
       " <span class=\"table-body__logo-text\">IND</span>,\n",
       " <span class=\"table-body__logo-text\">AUS</span>,\n",
       " <span class=\"table-body__logo-text\">BAN</span>,\n",
       " <span class=\"table-body__logo-text\">SA</span>]"
      ]
     },
     "execution_count": 68,
     "metadata": {},
     "output_type": "execute_result"
    }
   ],
   "source": [
    "bowling_teams=soup.find_all(class_=\"table-body__logo-text\")[9:18]\n",
    "bowling_teams"
   ]
  },
  {
   "cell_type": "code",
   "execution_count": 75,
   "id": "78166f91",
   "metadata": {},
   "outputs": [
    {
     "data": {
      "text/plain": [
       "['NZ', 'AUS', 'AFG', 'ENG', 'BAN', 'NZ', 'IND', 'AUS', 'BAN', 'SA']"
      ]
     },
     "execution_count": 75,
     "metadata": {},
     "output_type": "execute_result"
    }
   ],
   "source": [
    "top_bowling_teams=[]\n",
    "top_bowling_teams.append(first_team.text.replace(\"\\n\",\"\").split()[0])\n",
    "for i in bowling_teams:\n",
    "    top_bowling_teams.append(i.text)\n",
    "top_bowling_teams\n",
    "    "
   ]
  },
  {
   "cell_type": "code",
   "execution_count": 79,
   "id": "81f23eeb",
   "metadata": {},
   "outputs": [
    {
     "data": {
      "text/plain": [
       "<div class=\"rankings-block__banner--rating\">737</div>"
      ]
     },
     "execution_count": 79,
     "metadata": {},
     "output_type": "execute_result"
    }
   ],
   "source": [
    "first_rating=soup.find_all(class_=\"rankings-block__banner--rating\")[1]\n",
    "first_rating"
   ]
  },
  {
   "cell_type": "code",
   "execution_count": 81,
   "id": "62d15d9d",
   "metadata": {},
   "outputs": [
    {
     "data": {
      "text/plain": [
       "[<td class=\"table-body__cell u-text-right rating\">709</td>,\n",
       " <td class=\"table-body__cell u-text-right rating\">708</td>,\n",
       " <td class=\"table-body__cell u-text-right rating\">700</td>,\n",
       " <td class=\"table-body__cell u-text-right rating\">692</td>,\n",
       " <td class=\"table-body__cell u-text-right rating\">691</td>,\n",
       " <td class=\"table-body__cell u-text-right rating\">679</td>,\n",
       " <td class=\"table-body__cell u-text-right rating\">652</td>,\n",
       " <td class=\"table-body__cell u-text-right rating\">650</td>,\n",
       " <td class=\"table-body__cell u-text-right rating\">646</td>]"
      ]
     },
     "execution_count": 81,
     "metadata": {},
     "output_type": "execute_result"
    }
   ],
   "source": [
    "top_rating=soup.find_all(class_=\"table-body__cell u-text-right rating\")[9:18]\n",
    "top_rating"
   ]
  },
  {
   "cell_type": "code",
   "execution_count": 82,
   "id": "0923383e",
   "metadata": {},
   "outputs": [
    {
     "data": {
      "text/plain": [
       "['737', '709', '708', '700', '692', '691', '679', '652', '650', '646']"
      ]
     },
     "execution_count": 82,
     "metadata": {},
     "output_type": "execute_result"
    }
   ],
   "source": [
    "top_ratings=[]\n",
    "top_ratings.append(first_rating.text)\n",
    "for i in top_rating:\n",
    "    top_ratings.append(i.text)\n",
    "top_ratings\n",
    "    "
   ]
  },
  {
   "cell_type": "code",
   "execution_count": 83,
   "id": "29942115",
   "metadata": {},
   "outputs": [
    {
     "data": {
      "text/html": [
       "<div>\n",
       "<style scoped>\n",
       "    .dataframe tbody tr th:only-of-type {\n",
       "        vertical-align: middle;\n",
       "    }\n",
       "\n",
       "    .dataframe tbody tr th {\n",
       "        vertical-align: top;\n",
       "    }\n",
       "\n",
       "    .dataframe thead th {\n",
       "        text-align: right;\n",
       "    }\n",
       "</style>\n",
       "<table border=\"1\" class=\"dataframe\">\n",
       "  <thead>\n",
       "    <tr style=\"text-align: right;\">\n",
       "      <th></th>\n",
       "      <th>name</th>\n",
       "      <th>country</th>\n",
       "      <th>rating</th>\n",
       "    </tr>\n",
       "  </thead>\n",
       "  <tbody>\n",
       "    <tr>\n",
       "      <th>0</th>\n",
       "      <td>Trent Boult</td>\n",
       "      <td>NZ</td>\n",
       "      <td>737</td>\n",
       "    </tr>\n",
       "    <tr>\n",
       "      <th>1</th>\n",
       "      <td>Josh Hazlewood</td>\n",
       "      <td>AUS</td>\n",
       "      <td>709</td>\n",
       "    </tr>\n",
       "    <tr>\n",
       "      <th>2</th>\n",
       "      <td>Mujeeb Ur Rahman</td>\n",
       "      <td>AFG</td>\n",
       "      <td>708</td>\n",
       "    </tr>\n",
       "    <tr>\n",
       "      <th>3</th>\n",
       "      <td>Chris Woakes</td>\n",
       "      <td>ENG</td>\n",
       "      <td>700</td>\n",
       "    </tr>\n",
       "    <tr>\n",
       "      <th>4</th>\n",
       "      <td>Mehedi Hasan</td>\n",
       "      <td>BAN</td>\n",
       "      <td>692</td>\n",
       "    </tr>\n",
       "    <tr>\n",
       "      <th>5</th>\n",
       "      <td>Matt Henry</td>\n",
       "      <td>NZ</td>\n",
       "      <td>691</td>\n",
       "    </tr>\n",
       "    <tr>\n",
       "      <th>6</th>\n",
       "      <td>Jasprit Bumrah</td>\n",
       "      <td>IND</td>\n",
       "      <td>679</td>\n",
       "    </tr>\n",
       "    <tr>\n",
       "      <th>7</th>\n",
       "      <td>Mitchell Starc</td>\n",
       "      <td>AUS</td>\n",
       "      <td>652</td>\n",
       "    </tr>\n",
       "    <tr>\n",
       "      <th>8</th>\n",
       "      <td>Shakib Al Hasan</td>\n",
       "      <td>BAN</td>\n",
       "      <td>650</td>\n",
       "    </tr>\n",
       "    <tr>\n",
       "      <th>9</th>\n",
       "      <td>Kagiso Rabada</td>\n",
       "      <td>SA</td>\n",
       "      <td>646</td>\n",
       "    </tr>\n",
       "  </tbody>\n",
       "</table>\n",
       "</div>"
      ],
      "text/plain": [
       "               name country rating\n",
       "0       Trent Boult      NZ    737\n",
       "1    Josh Hazlewood     AUS    709\n",
       "2  Mujeeb Ur Rahman     AFG    708\n",
       "3      Chris Woakes     ENG    700\n",
       "4      Mehedi Hasan     BAN    692\n",
       "5        Matt Henry      NZ    691\n",
       "6    Jasprit Bumrah     IND    679\n",
       "7    Mitchell Starc     AUS    652\n",
       "8   Shakib Al Hasan     BAN    650\n",
       "9     Kagiso Rabada      SA    646"
      ]
     },
     "execution_count": 83,
     "metadata": {},
     "output_type": "execute_result"
    }
   ],
   "source": [
    "top_10odi_bowlers=pd.DataFrame({})\n",
    "top_10odi_bowlers['name']=top_bowlers\n",
    "top_10odi_bowlers['country']=top_bowling_teams\n",
    "top_10odi_bowlers['rating']=top_ratings\n",
    "top_10odi_bowlers"
   ]
  },
  {
   "cell_type": "code",
   "execution_count": null,
   "id": "ce5bb64f",
   "metadata": {},
   "outputs": [],
   "source": []
  }
 ],
 "metadata": {
  "kernelspec": {
   "display_name": "Python 3",
   "language": "python",
   "name": "python3"
  },
  "language_info": {
   "codemirror_mode": {
    "name": "ipython",
    "version": 3
   },
   "file_extension": ".py",
   "mimetype": "text/x-python",
   "name": "python",
   "nbconvert_exporter": "python",
   "pygments_lexer": "ipython3",
   "version": "3.8.8"
  }
 },
 "nbformat": 4,
 "nbformat_minor": 5
}

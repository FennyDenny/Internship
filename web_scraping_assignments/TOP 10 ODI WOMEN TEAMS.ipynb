{
 "cells": [
  {
   "cell_type": "code",
   "execution_count": 1,
   "id": "f1377a2a",
   "metadata": {},
   "outputs": [],
   "source": [
    "from bs4 import BeautifulSoup\n",
    "import requests\n",
    "import pandas as pd"
   ]
  },
  {
   "cell_type": "code",
   "execution_count": 2,
   "id": "c5120725",
   "metadata": {},
   "outputs": [
    {
     "data": {
      "text/plain": [
       "<Response [200]>"
      ]
     },
     "execution_count": 2,
     "metadata": {},
     "output_type": "execute_result"
    }
   ],
   "source": [
    "page=requests.get(\"https://www.icc-cricket.com/rankings/womens/team-rankings/odi\")\n",
    "page"
   ]
  },
  {
   "cell_type": "code",
   "execution_count": 4,
   "id": "e314c40d",
   "metadata": {},
   "outputs": [
    {
     "data": {
      "text/plain": [
       "[<span class=\"u-hide-phablet\">Australia</span>,\n",
       " <span class=\"u-hide-phablet\">England</span>,\n",
       " <span class=\"u-hide-phablet\">South Africa</span>,\n",
       " <span class=\"u-hide-phablet\">India</span>,\n",
       " <span class=\"u-hide-phablet\">New Zealand</span>,\n",
       " <span class=\"u-hide-phablet\">West Indies</span>,\n",
       " <span class=\"u-hide-phablet\">Pakistan</span>,\n",
       " <span class=\"u-hide-phablet\">Bangladesh</span>,\n",
       " <span class=\"u-hide-phablet\">Sri Lanka</span>,\n",
       " <span class=\"u-hide-phablet\">Ireland</span>,\n",
       " <span class=\"icn icn-facebook-circle u-hide-phablet\"></span>,\n",
       " <span class=\"icn icn-twitter-circle u-hide-phablet\"></span>,\n",
       " <span class=\"icn icn-instagram-circle u-hide-phablet\"></span>,\n",
       " <span class=\"icn icn-youtube-circle u-hide-phablet\"></span>,\n",
       " <span class=\"icn icn-tiktok-circle u-hide-phablet\"></span>]"
      ]
     },
     "execution_count": 4,
     "metadata": {},
     "output_type": "execute_result"
    }
   ],
   "source": [
    "soup=BeautifulSoup(page.content)\n",
    "women_team=soup.find_all(class_=\"u-hide-phablet\")\n",
    "women_team"
   ]
  },
  {
   "cell_type": "code",
   "execution_count": 11,
   "id": "b0b4dcf3",
   "metadata": {},
   "outputs": [
    {
     "data": {
      "text/plain": [
       "['Australia',\n",
       " 'England',\n",
       " 'South Africa',\n",
       " 'India',\n",
       " 'New Zealand',\n",
       " 'West Indies',\n",
       " 'Pakistan',\n",
       " 'Bangladesh',\n",
       " 'Sri Lanka',\n",
       " 'Ireland']"
      ]
     },
     "execution_count": 11,
     "metadata": {},
     "output_type": "execute_result"
    }
   ],
   "source": [
    "women_teams=[]\n",
    "for i in women_team:\n",
    "    women_teams.append(i.text.replace(\"\\n\",\"\"))\n",
    "women_teams[0:10]\n",
    "    "
   ]
  },
  {
   "cell_type": "code",
   "execution_count": 25,
   "id": "57ea0364",
   "metadata": {},
   "outputs": [
    {
     "data": {
      "text/plain": [
       "<td class=\"rankings-block__banner--points\">3,129</td>"
      ]
     },
     "execution_count": 25,
     "metadata": {},
     "output_type": "execute_result"
    }
   ],
   "source": [
    "first_match=soup.find(class_=\"rankings-block__banner--matches\")\n",
    "first_match\n",
    "first_points=soup.find(class_=\"rankings-block__banner--points\")\n",
    "first_points"
   ]
  },
  {
   "cell_type": "code",
   "execution_count": 15,
   "id": "26df3c16",
   "metadata": {},
   "outputs": [
    {
     "data": {
      "text/plain": [
       "[<td class=\"table-body__cell u-center-text\">24</td>,\n",
       " <td class=\"table-body__cell u-center-text\">2,840</td>,\n",
       " <td class=\"table-body__cell u-center-text\">29</td>,\n",
       " <td class=\"table-body__cell u-center-text\">3,390</td>,\n",
       " <td class=\"table-body__cell u-center-text\">24</td>,\n",
       " <td class=\"table-body__cell u-center-text\">2,635</td>,\n",
       " <td class=\"table-body__cell u-center-text\">25</td>,\n",
       " <td class=\"table-body__cell u-center-text\">2,324</td>,\n",
       " <td class=\"table-body__cell u-center-text\">22</td>,\n",
       " <td class=\"table-body__cell u-center-text\">1,872</td>,\n",
       " <td class=\"table-body__cell u-center-text\">20</td>,\n",
       " <td class=\"table-body__cell u-center-text\">1,496</td>,\n",
       " <td class=\"table-body__cell u-center-text\">5</td>,\n",
       " <td class=\"table-body__cell u-center-text\">306</td>,\n",
       " <td class=\"table-body__cell u-center-text\">11</td>,\n",
       " <td class=\"table-body__cell u-center-text\">519</td>,\n",
       " <td class=\"table-body__cell u-center-text\">2</td>,\n",
       " <td class=\"table-body__cell u-center-text\">25</td>]"
      ]
     },
     "execution_count": 15,
     "metadata": {},
     "output_type": "execute_result"
    }
   ],
   "source": [
    "women_matches=soup.find_all(class_=\"table-body__cell u-center-text\")\n",
    "women_matches"
   ]
  },
  {
   "cell_type": "code",
   "execution_count": 35,
   "id": "c62f1f3a",
   "metadata": {},
   "outputs": [
    {
     "name": "stdout",
     "output_type": "stream",
     "text": [
      "['19', '24', '29', '24', '25', '22', '20', '5', '11', '2']\n",
      "['3,129', '2,840', '3,390', '2,635', '2,324', '1,872', '1,496', '306', '519', '25']\n"
     ]
    }
   ],
   "source": [
    "matches=[]\n",
    "points=[]\n",
    "j=1\n",
    "matches.append(first_match.text)\n",
    "points.append(first_points.text)\n",
    "for i in women_matches:\n",
    "    if(j%2!=0):\n",
    "        matches.append(i.text.replace(\"\\n\",\"\"))\n",
    "    else:\n",
    "        points.append(i.text.replace(\"\\n\",\"\"))\n",
    "    j=j+1\n",
    "print(matches)\n",
    "print(points)\n"
   ]
  },
  {
   "cell_type": "code",
   "execution_count": 42,
   "id": "34de0784",
   "metadata": {},
   "outputs": [
    {
     "data": {
      "text/plain": [
       "<td class=\"rankings-block__banner--rating u-text-right\">\n",
       "                            165\n",
       "                            <span class=\"circle-branding circle-branding--top\"></span>\n",
       "<span class=\"circle-branding circle-branding--bottom\"></span>\n",
       "</td>"
      ]
     },
     "execution_count": 42,
     "metadata": {},
     "output_type": "execute_result"
    }
   ],
   "source": [
    "first_rating=soup.find(class_=\"rankings-block__banner--rating u-text-right\")\n",
    "first_rating"
   ]
  },
  {
   "cell_type": "code",
   "execution_count": 39,
   "id": "35f783e0",
   "metadata": {},
   "outputs": [
    {
     "data": {
      "text/plain": [
       "[<td class=\"table-body__cell u-text-right rating\">118</td>,\n",
       " <td class=\"table-body__cell u-text-right rating\">117</td>,\n",
       " <td class=\"table-body__cell u-text-right rating\">110</td>,\n",
       " <td class=\"table-body__cell u-text-right rating\">93</td>,\n",
       " <td class=\"table-body__cell u-text-right rating\">85</td>,\n",
       " <td class=\"table-body__cell u-text-right rating\">75</td>,\n",
       " <td class=\"table-body__cell u-text-right rating\">61</td>,\n",
       " <td class=\"table-body__cell u-text-right rating\">47</td>,\n",
       " <td class=\"table-body__cell u-text-right rating\">13</td>]"
      ]
     },
     "execution_count": 39,
     "metadata": {},
     "output_type": "execute_result"
    }
   ],
   "source": [
    "match_rating=soup.find_all(class_=\"table-body__cell u-text-right rating\")\n",
    "match_rating"
   ]
  },
  {
   "cell_type": "code",
   "execution_count": 45,
   "id": "c3546789",
   "metadata": {},
   "outputs": [
    {
     "data": {
      "text/plain": [
       "['165', '118', '117', '110', '93', '85', '75', '61', '47', '13']"
      ]
     },
     "execution_count": 45,
     "metadata": {},
     "output_type": "execute_result"
    }
   ],
   "source": [
    "rating=[]\n",
    "rating.append(first_rating.text.replace(\"\\n\",\"\").strip())\n",
    "for i in match_rating:\n",
    "    rating.append(i.text)\n",
    "rating"
   ]
  },
  {
   "cell_type": "code",
   "execution_count": 46,
   "id": "0c351762",
   "metadata": {},
   "outputs": [
    {
     "data": {
      "text/html": [
       "<div>\n",
       "<style scoped>\n",
       "    .dataframe tbody tr th:only-of-type {\n",
       "        vertical-align: middle;\n",
       "    }\n",
       "\n",
       "    .dataframe tbody tr th {\n",
       "        vertical-align: top;\n",
       "    }\n",
       "\n",
       "    .dataframe thead th {\n",
       "        text-align: right;\n",
       "    }\n",
       "</style>\n",
       "<table border=\"1\" class=\"dataframe\">\n",
       "  <thead>\n",
       "    <tr style=\"text-align: right;\">\n",
       "      <th></th>\n",
       "      <th>team</th>\n",
       "      <th>matches</th>\n",
       "      <th>points</th>\n",
       "      <th>rating</th>\n",
       "    </tr>\n",
       "  </thead>\n",
       "  <tbody>\n",
       "    <tr>\n",
       "      <th>0</th>\n",
       "      <td>Australia</td>\n",
       "      <td>19</td>\n",
       "      <td>3,129</td>\n",
       "      <td>165</td>\n",
       "    </tr>\n",
       "    <tr>\n",
       "      <th>1</th>\n",
       "      <td>England</td>\n",
       "      <td>24</td>\n",
       "      <td>2,840</td>\n",
       "      <td>118</td>\n",
       "    </tr>\n",
       "    <tr>\n",
       "      <th>2</th>\n",
       "      <td>South Africa</td>\n",
       "      <td>29</td>\n",
       "      <td>3,390</td>\n",
       "      <td>117</td>\n",
       "    </tr>\n",
       "    <tr>\n",
       "      <th>3</th>\n",
       "      <td>India</td>\n",
       "      <td>24</td>\n",
       "      <td>2,635</td>\n",
       "      <td>110</td>\n",
       "    </tr>\n",
       "    <tr>\n",
       "      <th>4</th>\n",
       "      <td>New Zealand</td>\n",
       "      <td>25</td>\n",
       "      <td>2,324</td>\n",
       "      <td>93</td>\n",
       "    </tr>\n",
       "    <tr>\n",
       "      <th>5</th>\n",
       "      <td>West Indies</td>\n",
       "      <td>22</td>\n",
       "      <td>1,872</td>\n",
       "      <td>85</td>\n",
       "    </tr>\n",
       "    <tr>\n",
       "      <th>6</th>\n",
       "      <td>Pakistan</td>\n",
       "      <td>20</td>\n",
       "      <td>1,496</td>\n",
       "      <td>75</td>\n",
       "    </tr>\n",
       "    <tr>\n",
       "      <th>7</th>\n",
       "      <td>Bangladesh</td>\n",
       "      <td>5</td>\n",
       "      <td>306</td>\n",
       "      <td>61</td>\n",
       "    </tr>\n",
       "    <tr>\n",
       "      <th>8</th>\n",
       "      <td>Sri Lanka</td>\n",
       "      <td>11</td>\n",
       "      <td>519</td>\n",
       "      <td>47</td>\n",
       "    </tr>\n",
       "    <tr>\n",
       "      <th>9</th>\n",
       "      <td>Ireland</td>\n",
       "      <td>2</td>\n",
       "      <td>25</td>\n",
       "      <td>13</td>\n",
       "    </tr>\n",
       "  </tbody>\n",
       "</table>\n",
       "</div>"
      ],
      "text/plain": [
       "           team matches points rating\n",
       "0     Australia      19  3,129    165\n",
       "1       England      24  2,840    118\n",
       "2  South Africa      29  3,390    117\n",
       "3         India      24  2,635    110\n",
       "4   New Zealand      25  2,324     93\n",
       "5   West Indies      22  1,872     85\n",
       "6      Pakistan      20  1,496     75\n",
       "7    Bangladesh       5    306     61\n",
       "8     Sri Lanka      11    519     47\n",
       "9       Ireland       2     25     13"
      ]
     },
     "execution_count": 46,
     "metadata": {},
     "output_type": "execute_result"
    }
   ],
   "source": [
    "top_10odi_womenteam=pd.DataFrame({})\n",
    "top_10odi_womenteam[\"team\"]=women_teams[0:10]\n",
    "top_10odi_womenteam[\"matches\"]=matches\n",
    "top_10odi_womenteam[\"points\"]=points\n",
    "top_10odi_womenteam[\"rating\"]=rating\n",
    "top_10odi_womenteam"
   ]
  },
  {
   "cell_type": "code",
   "execution_count": null,
   "id": "543b4fae",
   "metadata": {},
   "outputs": [],
   "source": []
  }
 ],
 "metadata": {
  "kernelspec": {
   "display_name": "Python 3",
   "language": "python",
   "name": "python3"
  },
  "language_info": {
   "codemirror_mode": {
    "name": "ipython",
    "version": 3
   },
   "file_extension": ".py",
   "mimetype": "text/x-python",
   "name": "python",
   "nbconvert_exporter": "python",
   "pygments_lexer": "ipython3",
   "version": "3.8.8"
  }
 },
 "nbformat": 4,
 "nbformat_minor": 5
}

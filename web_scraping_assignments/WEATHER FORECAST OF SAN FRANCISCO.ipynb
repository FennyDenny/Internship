{
 "cells": [
  {
   "cell_type": "code",
   "execution_count": 2,
   "id": "81bed427",
   "metadata": {},
   "outputs": [],
   "source": [
    "from bs4 import BeautifulSoup\n",
    "import requests\n",
    "import pandas as pd"
   ]
  },
  {
   "cell_type": "code",
   "execution_count": 3,
   "id": "747d879a",
   "metadata": {},
   "outputs": [
    {
     "data": {
      "text/plain": [
       "<Response [200]>"
      ]
     },
     "execution_count": 3,
     "metadata": {},
     "output_type": "execute_result"
    }
   ],
   "source": [
    "page=requests.get(\"https://forecast.weather.gov/MapClick.php?lat=37.777120000000025&lon=-122.41963999999996#.YVBnBJpBw2w\")\n",
    "page"
   ]
  },
  {
   "cell_type": "code",
   "execution_count": 17,
   "id": "322ad1f1",
   "metadata": {},
   "outputs": [
    {
     "data": {
      "text/plain": [
       "[<p class=\"period-name\">Monday<br/><br/></p>,\n",
       " <p class=\"period-name\">Monday<br/>Night</p>,\n",
       " <p class=\"period-name\">Tuesday<br/><br/></p>,\n",
       " <p class=\"period-name\">Tuesday<br/>Night</p>,\n",
       " <p class=\"period-name\">Wednesday<br/><br/></p>,\n",
       " <p class=\"period-name\">Wednesday<br/>Night</p>,\n",
       " <p class=\"period-name\">Thursday<br/><br/></p>,\n",
       " <p class=\"period-name\">Thursday<br/>Night</p>]"
      ]
     },
     "execution_count": 17,
     "metadata": {},
     "output_type": "execute_result"
    }
   ],
   "source": [
    "soup=BeautifulSoup(page.content)\n",
    "days_4=soup.find_all(class_=\"period-name\")[1:9]\n",
    "days_4"
   ]
  },
  {
   "cell_type": "code",
   "execution_count": 18,
   "id": "ce0095d9",
   "metadata": {},
   "outputs": [
    {
     "name": "stdout",
     "output_type": "stream",
     "text": [
      "['Monday', 'Tuesday', 'Wednesday', 'Thursday']\n",
      "['MondayNight', 'TuesdayNight', 'WednesdayNight', 'ThursdayNight']\n"
     ]
    }
   ],
   "source": [
    "morning=[]\n",
    "night=[]\n",
    "j=1\n",
    "for i in days_4:\n",
    "    if (j%2!=0):\n",
    "        morning.append(i.text.replace(\"\\n\",\"\"))\n",
    "    else:\n",
    "        night.append(i.text.replace(\"\\n\",\"\"))\n",
    "    j=j+1\n",
    "print(morning)\n",
    "print(night)"
   ]
  },
  {
   "cell_type": "code",
   "execution_count": 35,
   "id": "7400414a",
   "metadata": {},
   "outputs": [
    {
     "data": {
      "text/plain": [
       "[<p class=\"temp temp-low\">Low: 54 °F</p>,\n",
       " <p class=\"temp temp-low\">Low: 53 °F</p>,\n",
       " <p class=\"temp temp-low\">Low: 54 °F</p>,\n",
       " <p class=\"temp temp-low\">Low: 55 °F</p>]"
      ]
     },
     "execution_count": 35,
     "metadata": {},
     "output_type": "execute_result"
    }
   ],
   "source": [
    "night_weather=soup.find_all(class_=\"temp temp-low\")[1:6]\n",
    "night_weather"
   ]
  },
  {
   "cell_type": "code",
   "execution_count": 36,
   "id": "0a60c5bf",
   "metadata": {},
   "outputs": [
    {
     "data": {
      "text/plain": [
       "['54 °F', '53 °F', '54 °F', '55 °F']"
      ]
     },
     "execution_count": 36,
     "metadata": {},
     "output_type": "execute_result"
    }
   ],
   "source": [
    "night_tem=[]\n",
    "for i in night_weather:\n",
    "    night_tem.append(i.text.replace(\"\\n\",\"\").replace(\"Low:\",\"\").strip())\n",
    "night_tem\n",
    "    "
   ]
  },
  {
   "cell_type": "code",
   "execution_count": 33,
   "id": "b0e9bd4b",
   "metadata": {},
   "outputs": [
    {
     "data": {
      "text/plain": [
       "[<p class=\"temp temp-high\">High: 67 °F</p>,\n",
       " <p class=\"temp temp-high\">High: 68 °F</p>,\n",
       " <p class=\"temp temp-high\">High: 68 °F</p>,\n",
       " <p class=\"temp temp-high\">High: 75 °F</p>]"
      ]
     },
     "execution_count": 33,
     "metadata": {},
     "output_type": "execute_result"
    }
   ],
   "source": [
    "morn_weather=soup.find_all(class_=\"temp temp-high\")\n",
    "morn_weather"
   ]
  },
  {
   "cell_type": "code",
   "execution_count": 34,
   "id": "9880c5e6",
   "metadata": {},
   "outputs": [
    {
     "data": {
      "text/plain": [
       "['67 °F', '68 °F', '68 °F', '75 °F']"
      ]
     },
     "execution_count": 34,
     "metadata": {},
     "output_type": "execute_result"
    }
   ],
   "source": [
    "morn_tem=[]\n",
    "for i in high_weather:\n",
    "    morn_tem.append(i.text.replace(\"\\n\",\"\").replace(\"High:\",\"\").strip())\n",
    "morn_tem"
   ]
  },
  {
   "cell_type": "code",
   "execution_count": 27,
   "id": "4c66326e",
   "metadata": {},
   "outputs": [
    {
     "data": {
      "text/plain": [
       "[<p class=\"short-desc\">Decreasing<br/>Clouds</p>,\n",
       " <p class=\"short-desc\">Slight Chance<br/>Rain then<br/>Partly Cloudy</p>,\n",
       " <p class=\"short-desc\">Becoming<br/>Sunny</p>,\n",
       " <p class=\"short-desc\">Partly Cloudy</p>,\n",
       " <p class=\"short-desc\">Sunny</p>,\n",
       " <p class=\"short-desc\">Mostly Clear</p>,\n",
       " <p class=\"short-desc\">Sunny</p>,\n",
       " <p class=\"short-desc\">Mostly Clear</p>]"
      ]
     },
     "execution_count": 27,
     "metadata": {},
     "output_type": "execute_result"
    }
   ],
   "source": [
    "short_des=soup.find_all(class_=\"short-desc\")[1:9]\n",
    "short_des"
   ]
  },
  {
   "cell_type": "code",
   "execution_count": 28,
   "id": "61778018",
   "metadata": {},
   "outputs": [
    {
     "name": "stdout",
     "output_type": "stream",
     "text": [
      "['DecreasingClouds', 'BecomingSunny', 'Sunny', 'Sunny']\n",
      "['Slight ChanceRain thenPartly Cloudy', 'Partly Cloudy', 'Mostly Clear', 'Mostly Clear']\n"
     ]
    }
   ],
   "source": [
    "morning_des=[]\n",
    "night_des=[]\n",
    "j=1\n",
    "for i in short_des :\n",
    "    if (j%2!=0):\n",
    "        morning_des.append(i.text.replace(\"\\n\",\"\"))\n",
    "    else:\n",
    "        night_des.append(i.text.replace(\"\\n\",\"\"))\n",
    "    j=j+1\n",
    "print(morning_des)\n",
    "print(night_des)"
   ]
  },
  {
   "cell_type": "code",
   "execution_count": 30,
   "id": "e7c68ef4",
   "metadata": {},
   "outputs": [
    {
     "data": {
      "text/plain": [
       "[<div class=\"col-sm-10 forecast-text\">Cloudy, then gradually becoming mostly sunny, with a high near 67. Light southwest wind becoming west southwest 12 to 17 mph in the morning. Winds could gust as high as 22 mph. </div>,\n",
       " <div class=\"col-sm-10 forecast-text\">A 20 percent chance of rain before 11pm.  Mostly cloudy, with a low around 54. West northwest wind 8 to 16 mph, with gusts as high as 21 mph. </div>,\n",
       " <div class=\"col-sm-10 forecast-text\">Mostly cloudy through mid morning, then gradual clearing, with a high near 68. West northwest wind 7 to 12 mph increasing to 16 to 21 mph in the afternoon. Winds could gust as high as 28 mph. </div>,\n",
       " <div class=\"col-sm-10 forecast-text\">Partly cloudy, with a low around 53. West wind 13 to 18 mph decreasing to 7 to 12 mph in the evening. Winds could gust as high as 23 mph. </div>,\n",
       " <div class=\"col-sm-10 forecast-text\">Sunny, with a high near 68.</div>,\n",
       " <div class=\"col-sm-10 forecast-text\">Mostly clear, with a low around 54.</div>,\n",
       " <div class=\"col-sm-10 forecast-text\">Sunny, with a high near 75.</div>,\n",
       " <div class=\"col-sm-10 forecast-text\">Mostly clear, with a low around 55.</div>]"
      ]
     },
     "execution_count": 30,
     "metadata": {},
     "output_type": "execute_result"
    }
   ],
   "source": [
    "desc=soup.find_all(class_=\"col-sm-10 forecast-text\")[1:9]\n",
    "desc"
   ]
  },
  {
   "cell_type": "code",
   "execution_count": 31,
   "id": "177368d8",
   "metadata": {},
   "outputs": [
    {
     "name": "stdout",
     "output_type": "stream",
     "text": [
      "['Cloudy, then gradually becoming mostly sunny, with a high near 67. Light southwest wind becoming west southwest 12 to 17 mph in the morning. Winds could gust as high as 22 mph. ', 'Mostly cloudy through mid morning, then gradual clearing, with a high near 68. West northwest wind 7 to 12 mph increasing to 16 to 21 mph in the afternoon. Winds could gust as high as 28 mph. ', 'Sunny, with a high near 68.', 'Sunny, with a high near 75.']\n",
      "['A 20 percent chance of rain before 11pm.  Mostly cloudy, with a low around 54. West northwest wind 8 to 16 mph, with gusts as high as 21 mph. ', 'Partly cloudy, with a low around 53. West wind 13 to 18 mph decreasing to 7 to 12 mph in the evening. Winds could gust as high as 23 mph. ', 'Mostly clear, with a low around 54.', 'Mostly clear, with a low around 55.']\n"
     ]
    }
   ],
   "source": [
    "morning_desc=[]\n",
    "night_desc=[]\n",
    "j=1\n",
    "for i in desc :\n",
    "    if (j%2!=0):\n",
    "        morning_desc.append(i.text.replace(\"\\n\",\"\"))\n",
    "    else:\n",
    "        night_desc.append(i.text.replace(\"\\n\",\"\"))\n",
    "    j=j+1\n",
    "print(morning_desc)\n",
    "print(night_desc)"
   ]
  },
  {
   "cell_type": "code",
   "execution_count": 37,
   "id": "8073f541",
   "metadata": {},
   "outputs": [
    {
     "data": {
      "text/html": [
       "<div>\n",
       "<style scoped>\n",
       "    .dataframe tbody tr th:only-of-type {\n",
       "        vertical-align: middle;\n",
       "    }\n",
       "\n",
       "    .dataframe tbody tr th {\n",
       "        vertical-align: top;\n",
       "    }\n",
       "\n",
       "    .dataframe thead th {\n",
       "        text-align: right;\n",
       "    }\n",
       "</style>\n",
       "<table border=\"1\" class=\"dataframe\">\n",
       "  <thead>\n",
       "    <tr style=\"text-align: right;\">\n",
       "      <th></th>\n",
       "      <th>period</th>\n",
       "      <th>short_description</th>\n",
       "      <th>temperature</th>\n",
       "      <th>description</th>\n",
       "    </tr>\n",
       "  </thead>\n",
       "  <tbody>\n",
       "    <tr>\n",
       "      <th>0</th>\n",
       "      <td>Monday</td>\n",
       "      <td>DecreasingClouds</td>\n",
       "      <td>67 °F</td>\n",
       "      <td>Cloudy, then gradually becoming mostly sunny, ...</td>\n",
       "    </tr>\n",
       "    <tr>\n",
       "      <th>1</th>\n",
       "      <td>Tuesday</td>\n",
       "      <td>BecomingSunny</td>\n",
       "      <td>68 °F</td>\n",
       "      <td>Mostly cloudy through mid morning, then gradua...</td>\n",
       "    </tr>\n",
       "    <tr>\n",
       "      <th>2</th>\n",
       "      <td>Wednesday</td>\n",
       "      <td>Sunny</td>\n",
       "      <td>68 °F</td>\n",
       "      <td>Sunny, with a high near 68.</td>\n",
       "    </tr>\n",
       "    <tr>\n",
       "      <th>3</th>\n",
       "      <td>Thursday</td>\n",
       "      <td>Sunny</td>\n",
       "      <td>75 °F</td>\n",
       "      <td>Sunny, with a high near 75.</td>\n",
       "    </tr>\n",
       "  </tbody>\n",
       "</table>\n",
       "</div>"
      ],
      "text/plain": [
       "      period short_description temperature  \\\n",
       "0     Monday  DecreasingClouds       67 °F   \n",
       "1    Tuesday     BecomingSunny       68 °F   \n",
       "2  Wednesday             Sunny       68 °F   \n",
       "3   Thursday             Sunny       75 °F   \n",
       "\n",
       "                                         description  \n",
       "0  Cloudy, then gradually becoming mostly sunny, ...  \n",
       "1  Mostly cloudy through mid morning, then gradua...  \n",
       "2                        Sunny, with a high near 68.  \n",
       "3                        Sunny, with a high near 75.  "
      ]
     },
     "execution_count": 37,
     "metadata": {},
     "output_type": "execute_result"
    }
   ],
   "source": [
    "sfo_local_day_weather_df=pd.DataFrame({})\n",
    "sfo_local_day_weather_df[\"period\"]=morning\n",
    "sfo_local_day_weather_df[\"short_description\"]=morning_des\n",
    "sfo_local_day_weather_df[\"temperature\"]=morn_tem\n",
    "sfo_local_day_weather_df[\"description\"]=morning_desc\n",
    "sfo_local_day_weather_df"
   ]
  },
  {
   "cell_type": "code",
   "execution_count": 38,
   "id": "637e84f1",
   "metadata": {},
   "outputs": [
    {
     "data": {
      "text/html": [
       "<div>\n",
       "<style scoped>\n",
       "    .dataframe tbody tr th:only-of-type {\n",
       "        vertical-align: middle;\n",
       "    }\n",
       "\n",
       "    .dataframe tbody tr th {\n",
       "        vertical-align: top;\n",
       "    }\n",
       "\n",
       "    .dataframe thead th {\n",
       "        text-align: right;\n",
       "    }\n",
       "</style>\n",
       "<table border=\"1\" class=\"dataframe\">\n",
       "  <thead>\n",
       "    <tr style=\"text-align: right;\">\n",
       "      <th></th>\n",
       "      <th>period</th>\n",
       "      <th>short_description</th>\n",
       "      <th>temperature</th>\n",
       "      <th>description</th>\n",
       "    </tr>\n",
       "  </thead>\n",
       "  <tbody>\n",
       "    <tr>\n",
       "      <th>0</th>\n",
       "      <td>MondayNight</td>\n",
       "      <td>Slight ChanceRain thenPartly Cloudy</td>\n",
       "      <td>54 °F</td>\n",
       "      <td>A 20 percent chance of rain before 11pm.  Most...</td>\n",
       "    </tr>\n",
       "    <tr>\n",
       "      <th>1</th>\n",
       "      <td>TuesdayNight</td>\n",
       "      <td>Partly Cloudy</td>\n",
       "      <td>53 °F</td>\n",
       "      <td>Partly cloudy, with a low around 53. West wind...</td>\n",
       "    </tr>\n",
       "    <tr>\n",
       "      <th>2</th>\n",
       "      <td>WednesdayNight</td>\n",
       "      <td>Mostly Clear</td>\n",
       "      <td>54 °F</td>\n",
       "      <td>Mostly clear, with a low around 54.</td>\n",
       "    </tr>\n",
       "    <tr>\n",
       "      <th>3</th>\n",
       "      <td>ThursdayNight</td>\n",
       "      <td>Mostly Clear</td>\n",
       "      <td>55 °F</td>\n",
       "      <td>Mostly clear, with a low around 55.</td>\n",
       "    </tr>\n",
       "  </tbody>\n",
       "</table>\n",
       "</div>"
      ],
      "text/plain": [
       "           period                    short_description temperature  \\\n",
       "0     MondayNight  Slight ChanceRain thenPartly Cloudy       54 °F   \n",
       "1    TuesdayNight                        Partly Cloudy       53 °F   \n",
       "2  WednesdayNight                         Mostly Clear       54 °F   \n",
       "3   ThursdayNight                         Mostly Clear       55 °F   \n",
       "\n",
       "                                         description  \n",
       "0  A 20 percent chance of rain before 11pm.  Most...  \n",
       "1  Partly cloudy, with a low around 53. West wind...  \n",
       "2                Mostly clear, with a low around 54.  \n",
       "3                Mostly clear, with a low around 55.  "
      ]
     },
     "execution_count": 38,
     "metadata": {},
     "output_type": "execute_result"
    }
   ],
   "source": [
    "sfo_local_night_weather_df=pd.DataFrame({})\n",
    "sfo_local_night_weather_df[\"period\"]=night\n",
    "sfo_local_night_weather_df[\"short_description\"]=night_des\n",
    "sfo_local_night_weather_df[\"temperature\"]=night_tem\n",
    "sfo_local_night_weather_df[\"description\"]=night_desc\n",
    "sfo_local_night_weather_df"
   ]
  },
  {
   "cell_type": "code",
   "execution_count": 39,
   "id": "c47d8f1e",
   "metadata": {},
   "outputs": [
    {
     "data": {
      "text/html": [
       "<div>\n",
       "<style scoped>\n",
       "    .dataframe tbody tr th:only-of-type {\n",
       "        vertical-align: middle;\n",
       "    }\n",
       "\n",
       "    .dataframe tbody tr th {\n",
       "        vertical-align: top;\n",
       "    }\n",
       "\n",
       "    .dataframe thead th {\n",
       "        text-align: right;\n",
       "    }\n",
       "</style>\n",
       "<table border=\"1\" class=\"dataframe\">\n",
       "  <thead>\n",
       "    <tr style=\"text-align: right;\">\n",
       "      <th></th>\n",
       "      <th>period</th>\n",
       "      <th>short_description</th>\n",
       "      <th>temperature</th>\n",
       "      <th>description</th>\n",
       "    </tr>\n",
       "  </thead>\n",
       "  <tbody>\n",
       "    <tr>\n",
       "      <th>0</th>\n",
       "      <td>MondayMondayNight</td>\n",
       "      <td>DecreasingCloudsSlight ChanceRain thenPartly C...</td>\n",
       "      <td>67 °F54 °F</td>\n",
       "      <td>Cloudy, then gradually becoming mostly sunny, ...</td>\n",
       "    </tr>\n",
       "    <tr>\n",
       "      <th>1</th>\n",
       "      <td>TuesdayTuesdayNight</td>\n",
       "      <td>BecomingSunnyPartly Cloudy</td>\n",
       "      <td>68 °F53 °F</td>\n",
       "      <td>Mostly cloudy through mid morning, then gradua...</td>\n",
       "    </tr>\n",
       "    <tr>\n",
       "      <th>2</th>\n",
       "      <td>WednesdayWednesdayNight</td>\n",
       "      <td>SunnyMostly Clear</td>\n",
       "      <td>68 °F54 °F</td>\n",
       "      <td>Sunny, with a high near 68.Mostly clear, with ...</td>\n",
       "    </tr>\n",
       "    <tr>\n",
       "      <th>3</th>\n",
       "      <td>ThursdayThursdayNight</td>\n",
       "      <td>SunnyMostly Clear</td>\n",
       "      <td>75 °F55 °F</td>\n",
       "      <td>Sunny, with a high near 75.Mostly clear, with ...</td>\n",
       "    </tr>\n",
       "  </tbody>\n",
       "</table>\n",
       "</div>"
      ],
      "text/plain": [
       "                    period                                  short_description  \\\n",
       "0        MondayMondayNight  DecreasingCloudsSlight ChanceRain thenPartly C...   \n",
       "1      TuesdayTuesdayNight                         BecomingSunnyPartly Cloudy   \n",
       "2  WednesdayWednesdayNight                                  SunnyMostly Clear   \n",
       "3    ThursdayThursdayNight                                  SunnyMostly Clear   \n",
       "\n",
       "  temperature                                        description  \n",
       "0  67 °F54 °F  Cloudy, then gradually becoming mostly sunny, ...  \n",
       "1  68 °F53 °F  Mostly cloudy through mid morning, then gradua...  \n",
       "2  68 °F54 °F  Sunny, with a high near 68.Mostly clear, with ...  \n",
       "3  75 °F55 °F  Sunny, with a high near 75.Mostly clear, with ...  "
      ]
     },
     "execution_count": 39,
     "metadata": {},
     "output_type": "execute_result"
    }
   ],
   "source": [
    "a=sfo_local_day_weather_df+sfo_local_night_weather_df\n",
    "a"
   ]
  },
  {
   "cell_type": "code",
   "execution_count": 71,
   "id": "6de449f1",
   "metadata": {},
   "outputs": [
    {
     "data": {
      "text/html": [
       "<div>\n",
       "<style scoped>\n",
       "    .dataframe tbody tr th:only-of-type {\n",
       "        vertical-align: middle;\n",
       "    }\n",
       "\n",
       "    .dataframe tbody tr th {\n",
       "        vertical-align: top;\n",
       "    }\n",
       "\n",
       "    .dataframe thead th {\n",
       "        text-align: right;\n",
       "    }\n",
       "</style>\n",
       "<table border=\"1\" class=\"dataframe\">\n",
       "  <thead>\n",
       "    <tr style=\"text-align: right;\">\n",
       "      <th></th>\n",
       "      <th>period</th>\n",
       "      <th>short_description</th>\n",
       "      <th>temperature</th>\n",
       "      <th>description</th>\n",
       "      <th>order</th>\n",
       "    </tr>\n",
       "  </thead>\n",
       "  <tbody>\n",
       "    <tr>\n",
       "      <th>0</th>\n",
       "      <td>Monday</td>\n",
       "      <td>DecreasingClouds</td>\n",
       "      <td>67 °F</td>\n",
       "      <td>Cloudy, then gradually becoming mostly sunny, ...</td>\n",
       "      <td>0</td>\n",
       "    </tr>\n",
       "    <tr>\n",
       "      <th>1</th>\n",
       "      <td>Tuesday</td>\n",
       "      <td>BecomingSunny</td>\n",
       "      <td>68 °F</td>\n",
       "      <td>Mostly cloudy through mid morning, then gradua...</td>\n",
       "      <td>1</td>\n",
       "    </tr>\n",
       "    <tr>\n",
       "      <th>2</th>\n",
       "      <td>Wednesday</td>\n",
       "      <td>Sunny</td>\n",
       "      <td>68 °F</td>\n",
       "      <td>Sunny, with a high near 68.</td>\n",
       "      <td>2</td>\n",
       "    </tr>\n",
       "    <tr>\n",
       "      <th>3</th>\n",
       "      <td>Thursday</td>\n",
       "      <td>Sunny</td>\n",
       "      <td>75 °F</td>\n",
       "      <td>Sunny, with a high near 75.</td>\n",
       "      <td>3</td>\n",
       "    </tr>\n",
       "    <tr>\n",
       "      <th>0</th>\n",
       "      <td>MondayNight</td>\n",
       "      <td>Slight ChanceRain thenPartly Cloudy</td>\n",
       "      <td>54 °F</td>\n",
       "      <td>A 20 percent chance of rain before 11pm.  Most...</td>\n",
       "      <td>0</td>\n",
       "    </tr>\n",
       "    <tr>\n",
       "      <th>1</th>\n",
       "      <td>TuesdayNight</td>\n",
       "      <td>Partly Cloudy</td>\n",
       "      <td>53 °F</td>\n",
       "      <td>Partly cloudy, with a low around 53. West wind...</td>\n",
       "      <td>1</td>\n",
       "    </tr>\n",
       "    <tr>\n",
       "      <th>2</th>\n",
       "      <td>WednesdayNight</td>\n",
       "      <td>Mostly Clear</td>\n",
       "      <td>54 °F</td>\n",
       "      <td>Mostly clear, with a low around 54.</td>\n",
       "      <td>2</td>\n",
       "    </tr>\n",
       "    <tr>\n",
       "      <th>3</th>\n",
       "      <td>ThursdayNight</td>\n",
       "      <td>Mostly Clear</td>\n",
       "      <td>55 °F</td>\n",
       "      <td>Mostly clear, with a low around 55.</td>\n",
       "      <td>3</td>\n",
       "    </tr>\n",
       "  </tbody>\n",
       "</table>\n",
       "</div>"
      ],
      "text/plain": [
       "           period                    short_description temperature  \\\n",
       "0          Monday                     DecreasingClouds       67 °F   \n",
       "1         Tuesday                        BecomingSunny       68 °F   \n",
       "2       Wednesday                                Sunny       68 °F   \n",
       "3        Thursday                                Sunny       75 °F   \n",
       "0     MondayNight  Slight ChanceRain thenPartly Cloudy       54 °F   \n",
       "1    TuesdayNight                        Partly Cloudy       53 °F   \n",
       "2  WednesdayNight                         Mostly Clear       54 °F   \n",
       "3   ThursdayNight                         Mostly Clear       55 °F   \n",
       "\n",
       "                                         description  order  \n",
       "0  Cloudy, then gradually becoming mostly sunny, ...      0  \n",
       "1  Mostly cloudy through mid morning, then gradua...      1  \n",
       "2                        Sunny, with a high near 68.      2  \n",
       "3                        Sunny, with a high near 75.      3  \n",
       "0  A 20 percent chance of rain before 11pm.  Most...      0  \n",
       "1  Partly cloudy, with a low around 53. West wind...      1  \n",
       "2                Mostly clear, with a low around 54.      2  \n",
       "3                Mostly clear, with a low around 55.      3  "
      ]
     },
     "metadata": {},
     "output_type": "display_data"
    }
   ],
   "source": [
    "morn_night_weather = [sfo_local_day_weather_df,sfo_local_night_weather_df]\n",
    "\n",
    "morn_night_weather_df = pd.concat(morn_night_weather)\n",
    "morn_night_weather_df['order']= morn_night_weather_df.index\n",
    "display(morn_night_weather_df)"
   ]
  },
  {
   "cell_type": "code",
   "execution_count": 72,
   "id": "5ebec11e",
   "metadata": {},
   "outputs": [
    {
     "data": {
      "text/html": [
       "<div>\n",
       "<style scoped>\n",
       "    .dataframe tbody tr th:only-of-type {\n",
       "        vertical-align: middle;\n",
       "    }\n",
       "\n",
       "    .dataframe tbody tr th {\n",
       "        vertical-align: top;\n",
       "    }\n",
       "\n",
       "    .dataframe thead th {\n",
       "        text-align: right;\n",
       "    }\n",
       "</style>\n",
       "<table border=\"1\" class=\"dataframe\">\n",
       "  <thead>\n",
       "    <tr style=\"text-align: right;\">\n",
       "      <th></th>\n",
       "      <th>period</th>\n",
       "      <th>short_description</th>\n",
       "      <th>temperature</th>\n",
       "      <th>description</th>\n",
       "    </tr>\n",
       "  </thead>\n",
       "  <tbody>\n",
       "    <tr>\n",
       "      <th>0</th>\n",
       "      <td>Monday</td>\n",
       "      <td>DecreasingClouds</td>\n",
       "      <td>67 °F</td>\n",
       "      <td>Cloudy, then gradually becoming mostly sunny, ...</td>\n",
       "    </tr>\n",
       "    <tr>\n",
       "      <th>1</th>\n",
       "      <td>MondayNight</td>\n",
       "      <td>Slight ChanceRain thenPartly Cloudy</td>\n",
       "      <td>54 °F</td>\n",
       "      <td>A 20 percent chance of rain before 11pm.  Most...</td>\n",
       "    </tr>\n",
       "    <tr>\n",
       "      <th>2</th>\n",
       "      <td>Tuesday</td>\n",
       "      <td>BecomingSunny</td>\n",
       "      <td>68 °F</td>\n",
       "      <td>Mostly cloudy through mid morning, then gradua...</td>\n",
       "    </tr>\n",
       "    <tr>\n",
       "      <th>3</th>\n",
       "      <td>TuesdayNight</td>\n",
       "      <td>Partly Cloudy</td>\n",
       "      <td>53 °F</td>\n",
       "      <td>Partly cloudy, with a low around 53. West wind...</td>\n",
       "    </tr>\n",
       "    <tr>\n",
       "      <th>4</th>\n",
       "      <td>Wednesday</td>\n",
       "      <td>Sunny</td>\n",
       "      <td>68 °F</td>\n",
       "      <td>Sunny, with a high near 68.</td>\n",
       "    </tr>\n",
       "    <tr>\n",
       "      <th>5</th>\n",
       "      <td>WednesdayNight</td>\n",
       "      <td>Mostly Clear</td>\n",
       "      <td>54 °F</td>\n",
       "      <td>Mostly clear, with a low around 54.</td>\n",
       "    </tr>\n",
       "    <tr>\n",
       "      <th>6</th>\n",
       "      <td>Thursday</td>\n",
       "      <td>Sunny</td>\n",
       "      <td>75 °F</td>\n",
       "      <td>Sunny, with a high near 75.</td>\n",
       "    </tr>\n",
       "    <tr>\n",
       "      <th>7</th>\n",
       "      <td>ThursdayNight</td>\n",
       "      <td>Mostly Clear</td>\n",
       "      <td>55 °F</td>\n",
       "      <td>Mostly clear, with a low around 55.</td>\n",
       "    </tr>\n",
       "  </tbody>\n",
       "</table>\n",
       "</div>"
      ],
      "text/plain": [
       "           period                    short_description temperature  \\\n",
       "0          Monday                     DecreasingClouds       67 °F   \n",
       "1     MondayNight  Slight ChanceRain thenPartly Cloudy       54 °F   \n",
       "2         Tuesday                        BecomingSunny       68 °F   \n",
       "3    TuesdayNight                        Partly Cloudy       53 °F   \n",
       "4       Wednesday                                Sunny       68 °F   \n",
       "5  WednesdayNight                         Mostly Clear       54 °F   \n",
       "6        Thursday                                Sunny       75 °F   \n",
       "7   ThursdayNight                         Mostly Clear       55 °F   \n",
       "\n",
       "                                         description  \n",
       "0  Cloudy, then gradually becoming mostly sunny, ...  \n",
       "1  A 20 percent chance of rain before 11pm.  Most...  \n",
       "2  Mostly cloudy through mid morning, then gradua...  \n",
       "3  Partly cloudy, with a low around 53. West wind...  \n",
       "4                        Sunny, with a high near 68.  \n",
       "5                Mostly clear, with a low around 54.  \n",
       "6                        Sunny, with a high near 75.  \n",
       "7                Mostly clear, with a low around 55.  "
      ]
     },
     "execution_count": 72,
     "metadata": {},
     "output_type": "execute_result"
    }
   ],
   "source": [
    "morn_night_weather_df.sort_values(by=['order'], inplace=True,ignore_index=True)\n",
    "morn_night_weather_df.drop(['order'], axis=1, inplace=True)\n",
    "morn_night_weather_df"
   ]
  },
  {
   "cell_type": "code",
   "execution_count": null,
   "id": "6b4b5055",
   "metadata": {},
   "outputs": [],
   "source": []
  }
 ],
 "metadata": {
  "kernelspec": {
   "display_name": "Python 3",
   "language": "python",
   "name": "python3"
  },
  "language_info": {
   "codemirror_mode": {
    "name": "ipython",
    "version": 3
   },
   "file_extension": ".py",
   "mimetype": "text/x-python",
   "name": "python",
   "nbconvert_exporter": "python",
   "pygments_lexer": "ipython3",
   "version": "3.8.8"
  }
 },
 "nbformat": 4,
 "nbformat_minor": 5
}

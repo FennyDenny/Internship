{
 "cells": [
  {
   "cell_type": "code",
   "execution_count": 89,
   "id": "e00ed39b",
   "metadata": {},
   "outputs": [],
   "source": [
    "from bs4 import BeautifulSoup\n",
    "import requests\n",
    "import pandas as pd"
   ]
  },
  {
   "cell_type": "code",
   "execution_count": 88,
   "id": "efe2bf3c",
   "metadata": {},
   "outputs": [
    {
     "data": {
      "text/plain": [
       "<Response [200]>"
      ]
     },
     "execution_count": 88,
     "metadata": {},
     "output_type": "execute_result"
    }
   ],
   "source": [
    "page=requests.get(\"https://www.icc-cricket.com/rankings/womens/player-rankings/odi\")\n",
    "page"
   ]
  },
  {
   "cell_type": "code",
   "execution_count": 90,
   "id": "939b19d2",
   "metadata": {},
   "outputs": [
    {
     "data": {
      "text/plain": [
       "<div class=\"rankings-block__banner--nationality\">\n",
       "<div class=\"flag-15 IND\"></div>\n",
       "<span class=\"rankings-block__banner--nation\"></span>IND\n",
       "                            <div class=\"rankings-block__banner--rating\">762</div>\n",
       "</div>"
      ]
     },
     "execution_count": 90,
     "metadata": {},
     "output_type": "execute_result"
    }
   ],
   "source": [
    "soup=BeautifulSoup(page.content)\n",
    "player_first_name=soup.find(class_=\"rankings-block__banner--name\")\n",
    "player_first_name\n",
    "player_first_rating=soup.find(class_=\"rankings-block__banner--rating\")\n",
    "player_first_rating\n",
    "player_first_team=soup.find(class_=\"rankings-block__banner--nationality\")\n",
    "player_first_team"
   ]
  },
  {
   "cell_type": "code",
   "execution_count": 91,
   "id": "3e465500",
   "metadata": {},
   "outputs": [
    {
     "data": {
      "text/plain": [
       "[<td class=\"table-body__cell name\">\n",
       " <a href=\"/rankings/womens/player-rankings/1785\">Lizelle Lee</a>\n",
       " </td>,\n",
       " <td class=\"table-body__cell name\">\n",
       " <a href=\"/rankings/womens/player-rankings/466\">Alyssa Healy</a>\n",
       " </td>,\n",
       " <td class=\"table-body__cell name\">\n",
       " <a href=\"/rankings/womens/player-rankings/545\">Tammy Beaumont</a>\n",
       " </td>,\n",
       " <td class=\"table-body__cell name\">\n",
       " <a href=\"/rankings/womens/player-rankings/487\">Amy Satterthwaite</a>\n",
       " </td>,\n",
       " <td class=\"table-body__cell name\">\n",
       " <a href=\"/rankings/womens/player-rankings/469\">Meg Lanning</a>\n",
       " </td>,\n",
       " <td class=\"table-body__cell name\">\n",
       " <a href=\"/rankings/womens/player-rankings/1809\">Smriti Mandhana</a>\n",
       " </td>,\n",
       " <td class=\"table-body__cell name\">\n",
       " <a href=\"/rankings/womens/player-rankings/471\">Ellyse Perry</a>\n",
       " </td>,\n",
       " <td class=\"table-body__cell name\">\n",
       " <a href=\"/rankings/womens/player-rankings/3176\">Laura Wolvaardt</a>\n",
       " </td>,\n",
       " <td class=\"table-body__cell name\">\n",
       " <a href=\"/rankings/womens/player-rankings/1800\">Natalie Sciver</a>\n",
       " </td>]"
      ]
     },
     "execution_count": 91,
     "metadata": {},
     "output_type": "execute_result"
    }
   ],
   "source": [
    "other_player_names=soup.find_all(class_=\"table-body__cell name\")[0:9]\n",
    "other_player_names"
   ]
  },
  {
   "cell_type": "code",
   "execution_count": 92,
   "id": "286e9777",
   "metadata": {},
   "outputs": [
    {
     "data": {
      "text/plain": [
       "['Mithali Raj',\n",
       " ' Lizelle Lee ',\n",
       " ' Alyssa Healy ',\n",
       " ' Tammy Beaumont ',\n",
       " ' Amy Satterthwaite ',\n",
       " ' Meg Lanning ',\n",
       " ' Smriti Mandhana ',\n",
       " ' Ellyse Perry ',\n",
       " ' Laura Wolvaardt ',\n",
       " ' Natalie Sciver ']"
      ]
     },
     "execution_count": 92,
     "metadata": {},
     "output_type": "execute_result"
    }
   ],
   "source": [
    "best_players=[]\n",
    "best_players.append(player_first_name.text)\n",
    "for i in other_player_names:\n",
    "    best_players.append(i.text.replace(\"\\n\",\" \"))\n",
    "best_players"
   ]
  },
  {
   "cell_type": "code",
   "execution_count": 93,
   "id": "72b36186",
   "metadata": {},
   "outputs": [
    {
     "data": {
      "text/plain": [
       "[<span class=\"table-body__logo-text\">SA</span>,\n",
       " <span class=\"table-body__logo-text\">AUS</span>,\n",
       " <span class=\"table-body__logo-text\">ENG</span>,\n",
       " <span class=\"table-body__logo-text\">NZ</span>,\n",
       " <span class=\"table-body__logo-text\">AUS</span>,\n",
       " <span class=\"table-body__logo-text\">IND</span>,\n",
       " <span class=\"table-body__logo-text\">AUS</span>,\n",
       " <span class=\"table-body__logo-text\">SA</span>,\n",
       " <span class=\"table-body__logo-text\">ENG</span>]"
      ]
     },
     "execution_count": 93,
     "metadata": {},
     "output_type": "execute_result"
    }
   ],
   "source": [
    "teams_country=soup.find_all(class_=\"table-body__logo-text\")[0:9]\n",
    "teams_country"
   ]
  },
  {
   "cell_type": "code",
   "execution_count": 94,
   "id": "53ac1fe6",
   "metadata": {},
   "outputs": [
    {
     "data": {
      "text/plain": [
       "['IND', 'SA', 'AUS', 'ENG', 'NZ', 'AUS', 'IND', 'AUS', 'SA', 'ENG']"
      ]
     },
     "execution_count": 94,
     "metadata": {},
     "output_type": "execute_result"
    }
   ],
   "source": [
    "countries=[]\n",
    "countries.append(player_first_team.text.replace(\"\\n\",\"\").split()[0])\n",
    "for i in teams_country:\n",
    "    countries.append(i.text.replace(\"\\n\",\"\"))\n",
    "countries"
   ]
  },
  {
   "cell_type": "code",
   "execution_count": 95,
   "id": "20df1c88",
   "metadata": {},
   "outputs": [
    {
     "data": {
      "text/plain": [
       "[<td class=\"table-body__cell u-text-right rating\">761</td>,\n",
       " <td class=\"table-body__cell u-text-right rating\">756</td>,\n",
       " <td class=\"table-body__cell u-text-right rating\">740</td>,\n",
       " <td class=\"table-body__cell u-text-right rating\">726</td>,\n",
       " <td class=\"table-body__cell u-text-right rating\">723</td>,\n",
       " <td class=\"table-body__cell u-text-right rating\">701</td>,\n",
       " <td class=\"table-body__cell u-text-right rating\">679</td>,\n",
       " <td class=\"table-body__cell u-text-right rating\">672</td>,\n",
       " <td class=\"table-body__cell u-text-right rating\">672</td>]"
      ]
     },
     "execution_count": 95,
     "metadata": {},
     "output_type": "execute_result"
    }
   ],
   "source": [
    "teams_rating=soup.find_all(class_=\"table-body__cell u-text-right rating\")[0:9]\n",
    "teams_rating"
   ]
  },
  {
   "cell_type": "code",
   "execution_count": 96,
   "id": "76c2d18c",
   "metadata": {},
   "outputs": [
    {
     "data": {
      "text/plain": [
       "['762', '761', '756', '740', '726', '723', '701', '679', '672', '672']"
      ]
     },
     "execution_count": 96,
     "metadata": {},
     "output_type": "execute_result"
    }
   ],
   "source": [
    "rating=[]\n",
    "rating.append(player_first_rating.text)\n",
    "for i in teams_rating:\n",
    "    rating.append(i.text)\n",
    "rating"
   ]
  },
  {
   "cell_type": "code",
   "execution_count": 97,
   "id": "7eec0e2a",
   "metadata": {},
   "outputs": [
    {
     "data": {
      "text/html": [
       "<div>\n",
       "<style scoped>\n",
       "    .dataframe tbody tr th:only-of-type {\n",
       "        vertical-align: middle;\n",
       "    }\n",
       "\n",
       "    .dataframe tbody tr th {\n",
       "        vertical-align: top;\n",
       "    }\n",
       "\n",
       "    .dataframe thead th {\n",
       "        text-align: right;\n",
       "    }\n",
       "</style>\n",
       "<table border=\"1\" class=\"dataframe\">\n",
       "  <thead>\n",
       "    <tr style=\"text-align: right;\">\n",
       "      <th></th>\n",
       "      <th>players</th>\n",
       "      <th>coutry</th>\n",
       "      <th>rating</th>\n",
       "    </tr>\n",
       "  </thead>\n",
       "  <tbody>\n",
       "    <tr>\n",
       "      <th>0</th>\n",
       "      <td>Mithali Raj</td>\n",
       "      <td>IND</td>\n",
       "      <td>762</td>\n",
       "    </tr>\n",
       "    <tr>\n",
       "      <th>1</th>\n",
       "      <td>Lizelle Lee</td>\n",
       "      <td>SA</td>\n",
       "      <td>761</td>\n",
       "    </tr>\n",
       "    <tr>\n",
       "      <th>2</th>\n",
       "      <td>Alyssa Healy</td>\n",
       "      <td>AUS</td>\n",
       "      <td>756</td>\n",
       "    </tr>\n",
       "    <tr>\n",
       "      <th>3</th>\n",
       "      <td>Tammy Beaumont</td>\n",
       "      <td>ENG</td>\n",
       "      <td>740</td>\n",
       "    </tr>\n",
       "    <tr>\n",
       "      <th>4</th>\n",
       "      <td>Amy Satterthwaite</td>\n",
       "      <td>NZ</td>\n",
       "      <td>726</td>\n",
       "    </tr>\n",
       "    <tr>\n",
       "      <th>5</th>\n",
       "      <td>Meg Lanning</td>\n",
       "      <td>AUS</td>\n",
       "      <td>723</td>\n",
       "    </tr>\n",
       "    <tr>\n",
       "      <th>6</th>\n",
       "      <td>Smriti Mandhana</td>\n",
       "      <td>IND</td>\n",
       "      <td>701</td>\n",
       "    </tr>\n",
       "    <tr>\n",
       "      <th>7</th>\n",
       "      <td>Ellyse Perry</td>\n",
       "      <td>AUS</td>\n",
       "      <td>679</td>\n",
       "    </tr>\n",
       "    <tr>\n",
       "      <th>8</th>\n",
       "      <td>Laura Wolvaardt</td>\n",
       "      <td>SA</td>\n",
       "      <td>672</td>\n",
       "    </tr>\n",
       "    <tr>\n",
       "      <th>9</th>\n",
       "      <td>Natalie Sciver</td>\n",
       "      <td>ENG</td>\n",
       "      <td>672</td>\n",
       "    </tr>\n",
       "  </tbody>\n",
       "</table>\n",
       "</div>"
      ],
      "text/plain": [
       "               players coutry rating\n",
       "0          Mithali Raj    IND    762\n",
       "1         Lizelle Lee      SA    761\n",
       "2        Alyssa Healy     AUS    756\n",
       "3      Tammy Beaumont     ENG    740\n",
       "4   Amy Satterthwaite      NZ    726\n",
       "5         Meg Lanning     AUS    723\n",
       "6     Smriti Mandhana     IND    701\n",
       "7        Ellyse Perry     AUS    679\n",
       "8     Laura Wolvaardt      SA    672\n",
       "9      Natalie Sciver     ENG    672"
      ]
     },
     "execution_count": 97,
     "metadata": {},
     "output_type": "execute_result"
    }
   ],
   "source": [
    "top_10_odi_players=pd.DataFrame({})\n",
    "top_10_odi_players['players']=best_players\n",
    "top_10_odi_players['coutry']=countries\n",
    "top_10_odi_players['rating']=rating\n",
    "top_10_odi_players"
   ]
  },
  {
   "cell_type": "code",
   "execution_count": 98,
   "id": "eb1db703",
   "metadata": {},
   "outputs": [
    {
     "data": {
      "text/plain": [
       "[1, 2, 3, 4, 5, 6, 7, 8, 9, 10]"
      ]
     },
     "execution_count": 98,
     "metadata": {},
     "output_type": "execute_result"
    }
   ],
   "source": [
    "rank=[]\n",
    "for i in range(1,11):\n",
    "    rank.append(i)\n",
    "rank"
   ]
  },
  {
   "cell_type": "code",
   "execution_count": 99,
   "id": "168b6581",
   "metadata": {},
   "outputs": [
    {
     "data": {
      "text/html": [
       "<div>\n",
       "<style scoped>\n",
       "    .dataframe tbody tr th:only-of-type {\n",
       "        vertical-align: middle;\n",
       "    }\n",
       "\n",
       "    .dataframe tbody tr th {\n",
       "        vertical-align: top;\n",
       "    }\n",
       "\n",
       "    .dataframe thead th {\n",
       "        text-align: right;\n",
       "    }\n",
       "</style>\n",
       "<table border=\"1\" class=\"dataframe\">\n",
       "  <thead>\n",
       "    <tr style=\"text-align: right;\">\n",
       "      <th></th>\n",
       "      <th>players</th>\n",
       "      <th>coutry</th>\n",
       "      <th>rating</th>\n",
       "      <th>rank</th>\n",
       "    </tr>\n",
       "  </thead>\n",
       "  <tbody>\n",
       "    <tr>\n",
       "      <th>0</th>\n",
       "      <td>Mithali Raj</td>\n",
       "      <td>IND</td>\n",
       "      <td>762</td>\n",
       "      <td>1</td>\n",
       "    </tr>\n",
       "    <tr>\n",
       "      <th>1</th>\n",
       "      <td>Lizelle Lee</td>\n",
       "      <td>SA</td>\n",
       "      <td>761</td>\n",
       "      <td>2</td>\n",
       "    </tr>\n",
       "    <tr>\n",
       "      <th>2</th>\n",
       "      <td>Alyssa Healy</td>\n",
       "      <td>AUS</td>\n",
       "      <td>756</td>\n",
       "      <td>3</td>\n",
       "    </tr>\n",
       "    <tr>\n",
       "      <th>3</th>\n",
       "      <td>Tammy Beaumont</td>\n",
       "      <td>ENG</td>\n",
       "      <td>740</td>\n",
       "      <td>4</td>\n",
       "    </tr>\n",
       "    <tr>\n",
       "      <th>4</th>\n",
       "      <td>Amy Satterthwaite</td>\n",
       "      <td>NZ</td>\n",
       "      <td>726</td>\n",
       "      <td>5</td>\n",
       "    </tr>\n",
       "    <tr>\n",
       "      <th>5</th>\n",
       "      <td>Meg Lanning</td>\n",
       "      <td>AUS</td>\n",
       "      <td>723</td>\n",
       "      <td>6</td>\n",
       "    </tr>\n",
       "    <tr>\n",
       "      <th>6</th>\n",
       "      <td>Smriti Mandhana</td>\n",
       "      <td>IND</td>\n",
       "      <td>701</td>\n",
       "      <td>7</td>\n",
       "    </tr>\n",
       "    <tr>\n",
       "      <th>7</th>\n",
       "      <td>Ellyse Perry</td>\n",
       "      <td>AUS</td>\n",
       "      <td>679</td>\n",
       "      <td>8</td>\n",
       "    </tr>\n",
       "    <tr>\n",
       "      <th>8</th>\n",
       "      <td>Laura Wolvaardt</td>\n",
       "      <td>SA</td>\n",
       "      <td>672</td>\n",
       "      <td>9</td>\n",
       "    </tr>\n",
       "    <tr>\n",
       "      <th>9</th>\n",
       "      <td>Natalie Sciver</td>\n",
       "      <td>ENG</td>\n",
       "      <td>672</td>\n",
       "      <td>10</td>\n",
       "    </tr>\n",
       "  </tbody>\n",
       "</table>\n",
       "</div>"
      ],
      "text/plain": [
       "               players coutry rating  rank\n",
       "0          Mithali Raj    IND    762     1\n",
       "1         Lizelle Lee      SA    761     2\n",
       "2        Alyssa Healy     AUS    756     3\n",
       "3      Tammy Beaumont     ENG    740     4\n",
       "4   Amy Satterthwaite      NZ    726     5\n",
       "5         Meg Lanning     AUS    723     6\n",
       "6     Smriti Mandhana     IND    701     7\n",
       "7        Ellyse Perry     AUS    679     8\n",
       "8     Laura Wolvaardt      SA    672     9\n",
       "9      Natalie Sciver     ENG    672    10"
      ]
     },
     "execution_count": 99,
     "metadata": {},
     "output_type": "execute_result"
    }
   ],
   "source": [
    "top_10_odi_players['rank']=rank\n",
    "top_10_odi_players"
   ]
  },
  {
   "cell_type": "code",
   "execution_count": null,
   "id": "0523242f",
   "metadata": {},
   "outputs": [],
   "source": []
  }
 ],
 "metadata": {
  "kernelspec": {
   "display_name": "Python 3",
   "language": "python",
   "name": "python3"
  },
  "language_info": {
   "codemirror_mode": {
    "name": "ipython",
    "version": 3
   },
   "file_extension": ".py",
   "mimetype": "text/x-python",
   "name": "python",
   "nbconvert_exporter": "python",
   "pygments_lexer": "ipython3",
   "version": "3.8.8"
  }
 },
 "nbformat": 4,
 "nbformat_minor": 5
}

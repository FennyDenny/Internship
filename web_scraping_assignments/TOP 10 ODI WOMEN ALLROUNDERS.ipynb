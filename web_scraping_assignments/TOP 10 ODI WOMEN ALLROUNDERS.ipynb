{
 "cells": [
  {
   "cell_type": "code",
   "execution_count": 1,
   "id": "548b89dd",
   "metadata": {},
   "outputs": [],
   "source": [
    "from bs4 import BeautifulSoup\n",
    "import requests\n",
    "import pandas as pd"
   ]
  },
  {
   "cell_type": "code",
   "execution_count": 5,
   "id": "e1c36f62",
   "metadata": {},
   "outputs": [
    {
     "data": {
      "text/plain": [
       "<Response [200]>"
      ]
     },
     "execution_count": 5,
     "metadata": {},
     "output_type": "execute_result"
    }
   ],
   "source": [
    "page=requests.get(\"https://www.icc-cricket.com/rankings/womens/player-rankings/odi\")\n",
    "page"
   ]
  },
  {
   "cell_type": "code",
   "execution_count": 19,
   "id": "8b5c84c1",
   "metadata": {},
   "outputs": [],
   "source": [
    "soup=BeautifulSoup(page.content)\n",
    "#allrounder=soup.find_all(class_=\"rankings-block__banner--name\")\n",
    "#allrounder[2]"
   ]
  },
  {
   "cell_type": "code",
   "execution_count": 16,
   "id": "05679cc6",
   "metadata": {},
   "outputs": [
    {
     "data": {
      "text/plain": [
       "[<td class=\"table-body__cell name\">\n",
       " <a href=\"/rankings/womens/player-rankings/471\">Ellyse Perry</a>\n",
       " </td>,\n",
       " <td class=\"table-body__cell name\">\n",
       " <a href=\"/rankings/womens/player-rankings/424\">Marizanne Kapp</a>\n",
       " </td>,\n",
       " <td class=\"table-body__cell name\">\n",
       " <a href=\"/rankings/womens/player-rankings/1800\">Natalie Sciver</a>\n",
       " </td>,\n",
       " <td class=\"table-body__cell name\">\n",
       " <a href=\"/rankings/womens/player-rankings/3192\">Deepti Sharma</a>\n",
       " </td>,\n",
       " <td class=\"table-body__cell name\">\n",
       " <a href=\"/rankings/womens/player-rankings/573\">Stafanie Taylor</a>\n",
       " </td>,\n",
       " <td class=\"table-body__cell name\">\n",
       " <a href=\"/rankings/womens/player-rankings/468\">Jess Jonassen</a>\n",
       " </td>,\n",
       " <td class=\"table-body__cell name\">\n",
       " <a href=\"/rankings/womens/player-rankings/430\">Dane van Niekerk</a>\n",
       " </td>,\n",
       " <td class=\"table-body__cell name\">\n",
       " <a href=\"/rankings/womens/player-rankings/478\">Sophie Devine</a>\n",
       " </td>,\n",
       " <td class=\"table-body__cell name\">\n",
       " <a href=\"/rankings/womens/player-rankings/547\">Katherine Brunt</a>\n",
       " </td>,\n",
       " <td class=\"table-body__cell name\">\n",
       " <a href=\"/rankings/womens/player-rankings/4128\">Ashleigh Gardner</a>\n",
       " </td>]"
      ]
     },
     "execution_count": 16,
     "metadata": {},
     "output_type": "execute_result"
    }
   ],
   "source": [
    "allrounders=soup.find_all(class_=\"table-body__cell name\")[17:27]\n",
    "allrounders"
   ]
  },
  {
   "cell_type": "code",
   "execution_count": 21,
   "id": "39744eae",
   "metadata": {},
   "outputs": [
    {
     "data": {
      "text/plain": [
       "['Ellyse Perry',\n",
       " 'Marizanne Kapp',\n",
       " 'Natalie Sciver',\n",
       " 'Deepti Sharma',\n",
       " 'Stafanie Taylor',\n",
       " 'Jess Jonassen',\n",
       " 'Dane van Niekerk',\n",
       " 'Sophie Devine',\n",
       " 'Katherine Brunt',\n",
       " 'Ashleigh Gardner']"
      ]
     },
     "execution_count": 21,
     "metadata": {},
     "output_type": "execute_result"
    }
   ],
   "source": [
    "women_allrounder=[]\n",
    "for i in allrounders:\n",
    "    women_allrounder.append(i.text.replace(\"\\n\",\"\"))\n",
    "women_allrounder"
   ]
  },
  {
   "cell_type": "code",
   "execution_count": 38,
   "id": "3cffd830",
   "metadata": {},
   "outputs": [],
   "source": [
    "#first_team=soup.find_all(class_=\"rankings-block__banner--nationality\")\n",
    "#first_team[2]"
   ]
  },
  {
   "cell_type": "code",
   "execution_count": 36,
   "id": "ef7dc664",
   "metadata": {},
   "outputs": [
    {
     "data": {
      "text/plain": [
       "[<span class=\"table-body__logo-text\">AUS</span>,\n",
       " <span class=\"table-body__logo-text\">SA</span>,\n",
       " <span class=\"table-body__logo-text\">ENG</span>,\n",
       " <span class=\"table-body__logo-text\">IND</span>,\n",
       " <span class=\"table-body__logo-text\">WI</span>,\n",
       " <span class=\"table-body__logo-text\">AUS</span>,\n",
       " <span class=\"table-body__logo-text\">SA</span>,\n",
       " <span class=\"table-body__logo-text\">NZ</span>,\n",
       " <span class=\"table-body__logo-text\">ENG</span>,\n",
       " <span class=\"table-body__logo-text\">AUS</span>]"
      ]
     },
     "execution_count": 36,
     "metadata": {},
     "output_type": "execute_result"
    }
   ],
   "source": [
    "teams=soup.find_all(class_=\"table-body__logo-text\")[17:27]\n",
    "teams"
   ]
  },
  {
   "cell_type": "code",
   "execution_count": 39,
   "id": "4874e149",
   "metadata": {},
   "outputs": [
    {
     "data": {
      "text/plain": [
       "['AUS', 'SA', 'ENG', 'IND', 'WI', 'AUS', 'SA', 'NZ', 'ENG', 'AUS']"
      ]
     },
     "execution_count": 39,
     "metadata": {},
     "output_type": "execute_result"
    }
   ],
   "source": [
    "women_teams=[]\n",
    "#women_teams.append(first_team[2].text.replace(\"\\n\",\"\").split()[0])\n",
    "for i in teams:\n",
    "    women_teams.append(i.text.replace(\"\\n\",\"\"))\n",
    "women_teams \n"
   ]
  },
  {
   "cell_type": "code",
   "execution_count": 44,
   "id": "af932ee6",
   "metadata": {},
   "outputs": [
    {
     "data": {
      "text/plain": [
       "<div class=\"rankings-block__banner--rating\">418</div>"
      ]
     },
     "execution_count": 44,
     "metadata": {},
     "output_type": "execute_result"
    }
   ],
   "source": [
    "first_rating=soup.find_all(class_=\"rankings-block__banner--rating\")[2]\n",
    "first_rating"
   ]
  },
  {
   "cell_type": "code",
   "execution_count": 42,
   "id": "d8d9b36a",
   "metadata": {},
   "outputs": [
    {
     "data": {
      "text/plain": [
       "[<td class=\"table-body__cell u-text-right rating\">384</td>,\n",
       " <td class=\"table-body__cell u-text-right rating\">380</td>,\n",
       " <td class=\"table-body__cell u-text-right rating\">331</td>,\n",
       " <td class=\"table-body__cell u-text-right rating\">322</td>,\n",
       " <td class=\"table-body__cell u-text-right rating\">307</td>,\n",
       " <td class=\"table-body__cell u-text-right rating\">274</td>,\n",
       " <td class=\"table-body__cell u-text-right rating\">254</td>,\n",
       " <td class=\"table-body__cell u-text-right rating\">254</td>,\n",
       " <td class=\"table-body__cell u-text-right rating\">252</td>]"
      ]
     },
     "execution_count": 42,
     "metadata": {},
     "output_type": "execute_result"
    }
   ],
   "source": [
    "rating=soup.find_all(class_=\"table-body__cell u-text-right rating\")[18:27]\n",
    "rating"
   ]
  },
  {
   "cell_type": "code",
   "execution_count": 47,
   "id": "79b171f8",
   "metadata": {},
   "outputs": [
    {
     "data": {
      "text/plain": [
       "['418', '384', '380', '331', '322', '307', '274', '254', '254', '252']"
      ]
     },
     "execution_count": 47,
     "metadata": {},
     "output_type": "execute_result"
    }
   ],
   "source": [
    "women_rating=[]\n",
    "women_rating.append(first_rating.text)\n",
    "for i in rating:\n",
    "    women_rating.append(i.text.replace(\"\\n\",\"\"))\n",
    "women_rating"
   ]
  },
  {
   "cell_type": "code",
   "execution_count": 48,
   "id": "a5fe0743",
   "metadata": {},
   "outputs": [
    {
     "data": {
      "text/html": [
       "<div>\n",
       "<style scoped>\n",
       "    .dataframe tbody tr th:only-of-type {\n",
       "        vertical-align: middle;\n",
       "    }\n",
       "\n",
       "    .dataframe tbody tr th {\n",
       "        vertical-align: top;\n",
       "    }\n",
       "\n",
       "    .dataframe thead th {\n",
       "        text-align: right;\n",
       "    }\n",
       "</style>\n",
       "<table border=\"1\" class=\"dataframe\">\n",
       "  <thead>\n",
       "    <tr style=\"text-align: right;\">\n",
       "      <th></th>\n",
       "      <th>player</th>\n",
       "      <th>team</th>\n",
       "      <th>rating</th>\n",
       "    </tr>\n",
       "  </thead>\n",
       "  <tbody>\n",
       "    <tr>\n",
       "      <th>0</th>\n",
       "      <td>Ellyse Perry</td>\n",
       "      <td>AUS</td>\n",
       "      <td>418</td>\n",
       "    </tr>\n",
       "    <tr>\n",
       "      <th>1</th>\n",
       "      <td>Marizanne Kapp</td>\n",
       "      <td>SA</td>\n",
       "      <td>384</td>\n",
       "    </tr>\n",
       "    <tr>\n",
       "      <th>2</th>\n",
       "      <td>Natalie Sciver</td>\n",
       "      <td>ENG</td>\n",
       "      <td>380</td>\n",
       "    </tr>\n",
       "    <tr>\n",
       "      <th>3</th>\n",
       "      <td>Deepti Sharma</td>\n",
       "      <td>IND</td>\n",
       "      <td>331</td>\n",
       "    </tr>\n",
       "    <tr>\n",
       "      <th>4</th>\n",
       "      <td>Stafanie Taylor</td>\n",
       "      <td>WI</td>\n",
       "      <td>322</td>\n",
       "    </tr>\n",
       "    <tr>\n",
       "      <th>5</th>\n",
       "      <td>Jess Jonassen</td>\n",
       "      <td>AUS</td>\n",
       "      <td>307</td>\n",
       "    </tr>\n",
       "    <tr>\n",
       "      <th>6</th>\n",
       "      <td>Dane van Niekerk</td>\n",
       "      <td>SA</td>\n",
       "      <td>274</td>\n",
       "    </tr>\n",
       "    <tr>\n",
       "      <th>7</th>\n",
       "      <td>Sophie Devine</td>\n",
       "      <td>NZ</td>\n",
       "      <td>254</td>\n",
       "    </tr>\n",
       "    <tr>\n",
       "      <th>8</th>\n",
       "      <td>Katherine Brunt</td>\n",
       "      <td>ENG</td>\n",
       "      <td>254</td>\n",
       "    </tr>\n",
       "    <tr>\n",
       "      <th>9</th>\n",
       "      <td>Ashleigh Gardner</td>\n",
       "      <td>AUS</td>\n",
       "      <td>252</td>\n",
       "    </tr>\n",
       "  </tbody>\n",
       "</table>\n",
       "</div>"
      ],
      "text/plain": [
       "             player team rating\n",
       "0      Ellyse Perry  AUS    418\n",
       "1    Marizanne Kapp   SA    384\n",
       "2    Natalie Sciver  ENG    380\n",
       "3     Deepti Sharma  IND    331\n",
       "4   Stafanie Taylor   WI    322\n",
       "5     Jess Jonassen  AUS    307\n",
       "6  Dane van Niekerk   SA    274\n",
       "7     Sophie Devine   NZ    254\n",
       "8   Katherine Brunt  ENG    254\n",
       "9  Ashleigh Gardner  AUS    252"
      ]
     },
     "execution_count": 48,
     "metadata": {},
     "output_type": "execute_result"
    }
   ],
   "source": [
    "women_allrounders=pd.DataFrame({})\n",
    "women_allrounders[\"player\"]=women_allrounder\n",
    "women_allrounders[\"team\"]=women_teams\n",
    "women_allrounders[\"rating\"]=women_rating\n",
    "women_allrounders"
   ]
  },
  {
   "cell_type": "code",
   "execution_count": null,
   "id": "5804247f",
   "metadata": {},
   "outputs": [],
   "source": []
  }
 ],
 "metadata": {
  "kernelspec": {
   "display_name": "Python 3",
   "language": "python",
   "name": "python3"
  },
  "language_info": {
   "codemirror_mode": {
    "name": "ipython",
    "version": 3
   },
   "file_extension": ".py",
   "mimetype": "text/x-python",
   "name": "python",
   "nbconvert_exporter": "python",
   "pygments_lexer": "ipython3",
   "version": "3.8.8"
  }
 },
 "nbformat": 4,
 "nbformat_minor": 5
}

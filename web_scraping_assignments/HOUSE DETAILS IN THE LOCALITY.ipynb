{
 "cells": [
  {
   "cell_type": "code",
   "execution_count": 2,
   "id": "19d17a61",
   "metadata": {},
   "outputs": [],
   "source": [
    "from bs4 import BeautifulSoup\n",
    "import requests\n",
    "import pandas as pd"
   ]
  },
  {
   "cell_type": "code",
   "execution_count": 3,
   "id": "b7704c43",
   "metadata": {},
   "outputs": [
    {
     "data": {
      "text/plain": [
       "<Response [200]>"
      ]
     },
     "execution_count": 3,
     "metadata": {},
     "output_type": "execute_result"
    }
   ],
   "source": [
    "page=requests.get(\"https://www.nobroker.in/property/sale/bangalore/Malleshwaram?searchParam=W3sibGF0IjoxMy4wMDU1MTEzLCJsb24iOjc3LjU2OTIzNTgsInBsYWNlSWQiOiJDaElKdzg5NV8zODlyanNSdnFXa1JucXN1dDgiLCJwbGFjZU5hbWUiOiJNYWxsZXNod2FyYW0ifV0=&radius=2.0\")\n",
    "page"
   ]
  },
  {
   "cell_type": "code",
   "execution_count": 84,
   "id": "ba79fb93",
   "metadata": {},
   "outputs": [
    {
     "data": {
      "text/plain": [
       "[<h2 class=\"heading-6 font-semi-bold nb__1AShY\"><span itemprop=\"name\">2 BHK Flat  For Sale  In Sri Theertha Apartment In Malleshwaram</span> <svg aria-hidden=\"true\" class=\"jss1\" focusable=\"false\" role=\"presentation\" viewbox=\"0 0 24 24\"><path d=\"M0 0h24v24H0z\" fill=\"none\"></path><path d=\"M19 19H5V5h7V3H5c-1.11 0-2 .9-2 2v14c0 1.1.89 2 2 2h14c1.1 0 2-.9 2-2v-7h-2v7zM14 3v2h3.59l-9.83 9.83 1.41 1.41L19 6.41V10h2V3h-7z\"></path></svg></h2>,\n",
       " <h2 class=\"heading-6 font-semi-bold nb__1AShY\"><span itemprop=\"name\">2 BHK Flat  For Sale  In Maitree Apartments. In Malleshwaram</span> <svg aria-hidden=\"true\" class=\"jss1\" focusable=\"false\" role=\"presentation\" viewbox=\"0 0 24 24\"><path d=\"M0 0h24v24H0z\" fill=\"none\"></path><path d=\"M19 19H5V5h7V3H5c-1.11 0-2 .9-2 2v14c0 1.1.89 2 2 2h14c1.1 0 2-.9 2-2v-7h-2v7zM14 3v2h3.59l-9.83 9.83 1.41 1.41L19 6.41V10h2V3h-7z\"></path></svg></h2>,\n",
       " <h2 class=\"heading-6 font-semi-bold nb__1AShY\"><span itemprop=\"name\">4 BHK Flat  For Sale  In Renaissance Mangalam In Malleshwaram</span> <svg aria-hidden=\"true\" class=\"jss1\" focusable=\"false\" role=\"presentation\" viewbox=\"0 0 24 24\"><path d=\"M0 0h24v24H0z\" fill=\"none\"></path><path d=\"M19 19H5V5h7V3H5c-1.11 0-2 .9-2 2v14c0 1.1.89 2 2 2h14c1.1 0 2-.9 2-2v-7h-2v7zM14 3v2h3.59l-9.83 9.83 1.41 1.41L19 6.41V10h2V3h-7z\"></path></svg></h2>,\n",
       " <h2 class=\"heading-6 font-semi-bold nb__1AShY\"><span itemprop=\"name\">2 BHK Flat  For Sale  In Uttam Apartment In 8th Main Road, Malleshawarm</span> <svg aria-hidden=\"true\" class=\"jss1\" focusable=\"false\" role=\"presentation\" viewbox=\"0 0 24 24\"><path d=\"M0 0h24v24H0z\" fill=\"none\"></path><path d=\"M19 19H5V5h7V3H5c-1.11 0-2 .9-2 2v14c0 1.1.89 2 2 2h14c1.1 0 2-.9 2-2v-7h-2v7zM14 3v2h3.59l-9.83 9.83 1.41 1.41L19 6.41V10h2V3h-7z\"></path></svg></h2>,\n",
       " <h2 class=\"heading-6 font-semi-bold nb__1AShY\"><span itemprop=\"name\">2 BHK Apartment  For Sale  In Embassy Heritage In Malleshwaram</span> <svg aria-hidden=\"true\" class=\"jss1\" focusable=\"false\" role=\"presentation\" viewbox=\"0 0 24 24\"><path d=\"M0 0h24v24H0z\" fill=\"none\"></path><path d=\"M19 19H5V5h7V3H5c-1.11 0-2 .9-2 2v14c0 1.1.89 2 2 2h14c1.1 0 2-.9 2-2v-7h-2v7zM14 3v2h3.59l-9.83 9.83 1.41 1.41L19 6.41V10h2V3h-7z\"></path></svg></h2>,\n",
       " <h2 class=\"heading-6 font-semi-bold nb__1AShY\"><span itemprop=\"name\">4 BHK Flat  For Sale  In Salarpuria Sattva Luxuria In Yeswanthpur</span> <svg aria-hidden=\"true\" class=\"jss1\" focusable=\"false\" role=\"presentation\" viewbox=\"0 0 24 24\"><path d=\"M0 0h24v24H0z\" fill=\"none\"></path><path d=\"M19 19H5V5h7V3H5c-1.11 0-2 .9-2 2v14c0 1.1.89 2 2 2h14c1.1 0 2-.9 2-2v-7h-2v7zM14 3v2h3.59l-9.83 9.83 1.41 1.41L19 6.41V10h2V3h-7z\"></path></svg></h2>,\n",
       " <h2 class=\"heading-6 font-semi-bold nb__1AShY\"><span itemprop=\"name\">3 BHK Flat  For Sale  In Salarpuria Sattva Luxuria In Yeswanthpur</span> <svg aria-hidden=\"true\" class=\"jss1\" focusable=\"false\" role=\"presentation\" viewbox=\"0 0 24 24\"><path d=\"M0 0h24v24H0z\" fill=\"none\"></path><path d=\"M19 19H5V5h7V3H5c-1.11 0-2 .9-2 2v14c0 1.1.89 2 2 2h14c1.1 0 2-.9 2-2v-7h-2v7zM14 3v2h3.59l-9.83 9.83 1.41 1.41L19 6.41V10h2V3h-7z\"></path></svg></h2>,\n",
       " <h2 class=\"heading-6 font-semi-bold nb__1AShY\"><span itemprop=\"name\">2 BHK Flat  For Sale  In Mallige Apartments In Malleshwaram</span> <svg aria-hidden=\"true\" class=\"jss1\" focusable=\"false\" role=\"presentation\" viewbox=\"0 0 24 24\"><path d=\"M0 0h24v24H0z\" fill=\"none\"></path><path d=\"M19 19H5V5h7V3H5c-1.11 0-2 .9-2 2v14c0 1.1.89 2 2 2h14c1.1 0 2-.9 2-2v-7h-2v7zM14 3v2h3.59l-9.83 9.83 1.41 1.41L19 6.41V10h2V3h-7z\"></path></svg></h2>,\n",
       " <h2 class=\"heading-6 font-semi-bold nb__1AShY\"><span itemprop=\"name\">1 BHK Flat  For Sale  In Shree Residency In Malleshwaram</span> <svg aria-hidden=\"true\" class=\"jss1\" focusable=\"false\" role=\"presentation\" viewbox=\"0 0 24 24\"><path d=\"M0 0h24v24H0z\" fill=\"none\"></path><path d=\"M19 19H5V5h7V3H5c-1.11 0-2 .9-2 2v14c0 1.1.89 2 2 2h14c1.1 0 2-.9 2-2v-7h-2v7zM14 3v2h3.59l-9.83 9.83 1.41 1.41L19 6.41V10h2V3h-7z\"></path></svg></h2>,\n",
       " <h2 class=\"heading-6 font-semi-bold nb__1AShY\"><span itemprop=\"name\">3 BHK Flat  For Sale  In Sterling Shribagh In Malleshwaram</span> <svg aria-hidden=\"true\" class=\"jss1\" focusable=\"false\" role=\"presentation\" viewbox=\"0 0 24 24\"><path d=\"M0 0h24v24H0z\" fill=\"none\"></path><path d=\"M19 19H5V5h7V3H5c-1.11 0-2 .9-2 2v14c0 1.1.89 2 2 2h14c1.1 0 2-.9 2-2v-7h-2v7zM14 3v2h3.59l-9.83 9.83 1.41 1.41L19 6.41V10h2V3h-7z\"></path></svg></h2>]"
      ]
     },
     "execution_count": 84,
     "metadata": {},
     "output_type": "execute_result"
    }
   ],
   "source": [
    "soup=BeautifulSoup(page.content)\n",
    "housetitle=soup.find_all(class_=\"heading-6 font-semi-bold nb__1AShY\")\n",
    "housetitle"
   ]
  },
  {
   "cell_type": "code",
   "execution_count": 85,
   "id": "6dea39a3",
   "metadata": {},
   "outputs": [
    {
     "data": {
      "text/plain": [
       "['2 BHK Flat  For Sale  In Sri Theertha Apartment In Malleshwaram ',\n",
       " '2 BHK Flat  For Sale  In Maitree Apartments. In Malleshwaram ',\n",
       " '4 BHK Flat  For Sale  In Renaissance Mangalam In Malleshwaram ',\n",
       " '2 BHK Flat  For Sale  In Uttam Apartment In 8th Main Road, Malleshawarm ',\n",
       " '2 BHK Apartment  For Sale  In Embassy Heritage In Malleshwaram ',\n",
       " '4 BHK Flat  For Sale  In Salarpuria Sattva Luxuria In Yeswanthpur ',\n",
       " '3 BHK Flat  For Sale  In Salarpuria Sattva Luxuria In Yeswanthpur ',\n",
       " '2 BHK Flat  For Sale  In Mallige Apartments In Malleshwaram ',\n",
       " '1 BHK Flat  For Sale  In Shree Residency In Malleshwaram ',\n",
       " '3 BHK Flat  For Sale  In Sterling Shribagh In Malleshwaram ']"
      ]
     },
     "execution_count": 85,
     "metadata": {},
     "output_type": "execute_result"
    }
   ],
   "source": [
    "house_title=[]\n",
    "for i in housetitle:\n",
    "    house_title.append(i.text.replace(\"\\n\",\"\"))\n",
    "house_title"
   ]
  },
  {
   "cell_type": "code",
   "execution_count": 28,
   "id": "26f519f8",
   "metadata": {},
   "outputs": [
    {
     "data": {
      "text/plain": [
       "[<div class=\"nb__2CMjv\">53/7 4TH MAIN ROAD, 17th Cross Rd, Malleshwaram, Bengaluru, Karnataka 560055, India</div>,\n",
       " <div class=\"nb__2CMjv\"> 6th Main Rd, Malleshwaram, Bengaluru</div>,\n",
       " <div class=\"nb__2CMjv\">40, 13th Cross Rd, Malleshwaram, Bengaluru, Karnataka 560003, India</div>,\n",
       " <div class=\"nb__2CMjv\">8th main, malleshwaram</div>,\n",
       " <div class=\"nb__2CMjv\"><a class=\"nb__17tcx\" href=\"/embassy-heritage-malleshwaram_bangalore-prjt-5e972ee7a5a1662dac0a9775\" target=\"_blank\">Embassy Heritage</a>  <!-- -->8th Main Rd, Malleshwaram, Bengaluru, Karnataka 560012, India</div>,\n",
       " <div class=\"nb__2CMjv\">Dr.Ambedkar Nagar, Yeswanthpur</div>,\n",
       " <div class=\"nb__2CMjv\">Dr.Ambedkar Nagar, Yeswanthpur</div>,\n",
       " <div class=\"nb__2CMjv\">, 4th Main Rd, near vasa scientific company </div>,\n",
       " <div class=\"nb__2CMjv\">74, 7th Cross, Sanjeevani Sadan Margosa Road, Malleshwaram, Bengaluru, Karnataka 560003, India</div>,\n",
       " <div class=\"nb__2CMjv\">18th Cross, Malleswaram, Bangalore, Karnataka, INDIA. </div>]"
      ]
     },
     "execution_count": 28,
     "metadata": {},
     "output_type": "execute_result"
    }
   ],
   "source": [
    "house_location=soup.find_all(class_=\"nb__2CMjv\")\n",
    "house_location"
   ]
  },
  {
   "cell_type": "code",
   "execution_count": 81,
   "id": "d3fee3dd",
   "metadata": {},
   "outputs": [
    {
     "data": {
      "text/plain": [
       "['53/7 4TH MAIN ROAD, 17th Cross Rd, Malleshwaram, Bengaluru, Karnataka 560055, India',\n",
       " ' 6th Main Rd, Malleshwaram, Bengaluru',\n",
       " '40, 13th Cross Rd, Malleshwaram, Bengaluru, Karnataka 560003, India',\n",
       " '8th main, malleshwaram',\n",
       " 'Embassy Heritage\\xa0 8th Main Rd, Malleshwaram, Bengaluru, Karnataka 560012, India',\n",
       " 'Dr.Ambedkar Nagar, Yeswanthpur',\n",
       " 'Dr.Ambedkar Nagar, Yeswanthpur',\n",
       " ', 4th Main Rd, near vasa scientific company ',\n",
       " '74, 7th Cross, Sanjeevani Sadan Margosa Road, Malleshwaram, Bengaluru, Karnataka 560003, India',\n",
       " '18th Cross, Malleswaram, Bangalore, Karnataka, INDIA. ']"
      ]
     },
     "execution_count": 81,
     "metadata": {},
     "output_type": "execute_result"
    }
   ],
   "source": [
    "houselocation=[]\n",
    "for i in house_location:\n",
    "    houselocation.append(i.text.replace(\"\\n\",\"\"))\n",
    "houselocation"
   ]
  },
  {
   "cell_type": "code",
   "execution_count": 25,
   "id": "2334cfb0",
   "metadata": {},
   "outputs": [
    {
     "data": {
      "text/plain": [
       "[<div class=\"font-semi-bold heading-6\" id=\"roomType\"><span>₹</span>76,228/Month</div>,\n",
       " <div class=\"font-semi-bold heading-6\" id=\"roomType\"><span>₹</span>48,717/Month</div>,\n",
       " <div class=\"font-semi-bold heading-6\" id=\"roomType\"><span>₹</span>3.01 Lacs/Month</div>,\n",
       " <div class=\"font-semi-bold heading-6\" id=\"roomType\"><span>₹</span>42,985/Month</div>,\n",
       " <div class=\"font-semi-bold heading-6\" id=\"roomType\"><span>₹</span>80,240/Month</div>,\n",
       " <div class=\"font-semi-bold heading-6\" id=\"roomType\"><span>₹</span>3.15 Lacs/Month</div>,\n",
       " <div class=\"font-semi-bold heading-6\" id=\"roomType\"><span>₹</span>1.89 Lacs/Month</div>,\n",
       " <div class=\"font-semi-bold heading-6\" id=\"roomType\"><span>₹</span>57,314/Month</div>,\n",
       " <div class=\"font-semi-bold heading-6\" id=\"roomType\"><span>₹</span>30,949/Month</div>,\n",
       " <div class=\"font-semi-bold heading-6\" id=\"roomType\"><span>₹</span>1.39 Lacs/Month</div>]"
      ]
     },
     "execution_count": 25,
     "metadata": {},
     "output_type": "execute_result"
    }
   ],
   "source": [
    "house_emi=soup.find_all(id=\"roomType\")\n",
    "house_emi"
   ]
  },
  {
   "cell_type": "code",
   "execution_count": 83,
   "id": "257fd872",
   "metadata": {},
   "outputs": [
    {
     "data": {
      "text/plain": [
       "['₹76,228/Month',\n",
       " '₹48,717/Month',\n",
       " '₹3.01 Lacs/Month',\n",
       " '₹42,985/Month',\n",
       " '₹80,240/Month',\n",
       " '₹3.15 Lacs/Month',\n",
       " '₹1.89 Lacs/Month',\n",
       " '₹57,314/Month',\n",
       " '₹30,949/Month',\n",
       " '₹1.39 Lacs/Month']"
      ]
     },
     "execution_count": 83,
     "metadata": {},
     "output_type": "execute_result"
    }
   ],
   "source": [
    "housemi=[]\n",
    "for i in house_emi:\n",
    "    housemi.append(i.text.replace(\"\\n\",\"\"))\n",
    "housemi"
   ]
  },
  {
   "cell_type": "code",
   "execution_count": 41,
   "id": "968462ae",
   "metadata": {},
   "outputs": [
    {
     "data": {
      "text/plain": [
       "[<div class=\"font-semi-bold heading-6\" id=\"minRent\" itemprop=\"valueReference\" itemscope=\"\" itemtype=\"http://schema.org/PropertyValue\"><meta content=\"Minimum Rent\" itemprop=\"name\"/><meta content=\"INR\" itemprop=\"unitCode\"/><div class=\"nb__3oNyC\">1,269 sqft</div></div>,\n",
       " <div class=\"font-semi-bold heading-6\" id=\"roomType\"><span>₹</span>76,228/Month</div>,\n",
       " <div class=\"font-semi-bold heading-6\"><meta content=\"Minimum Deposit\" itemprop=\"name\"/><span>₹<!-- -->1.33 Crores</span></div>,\n",
       " <div class=\"font-semi-bold heading-6\" id=\"minRent\" itemprop=\"valueReference\" itemscope=\"\" itemtype=\"http://schema.org/PropertyValue\"><meta content=\"Minimum Rent\" itemprop=\"name\"/><meta content=\"INR\" itemprop=\"unitCode\"/><div class=\"nb__3oNyC\">850 sqft</div></div>,\n",
       " <div class=\"font-semi-bold heading-6\" id=\"roomType\"><span>₹</span>48,717/Month</div>,\n",
       " <div class=\"font-semi-bold heading-6\"><meta content=\"Minimum Deposit\" itemprop=\"name\"/><span>₹<!-- -->85 Lacs</span></div>,\n",
       " <div class=\"font-semi-bold heading-6\" id=\"minRent\" itemprop=\"valueReference\" itemscope=\"\" itemtype=\"http://schema.org/PropertyValue\"><meta content=\"Minimum Rent\" itemprop=\"name\"/><meta content=\"INR\" itemprop=\"unitCode\"/><div class=\"nb__3oNyC\">3,471 sqft</div></div>,\n",
       " <div class=\"font-semi-bold heading-6\" id=\"roomType\"><span>₹</span>3.01 Lacs/Month</div>,\n",
       " <div class=\"font-semi-bold heading-6\"><meta content=\"Minimum Deposit\" itemprop=\"name\"/><span>₹<!-- -->5.25 Crores</span></div>,\n",
       " <div class=\"font-semi-bold heading-6\" id=\"minRent\" itemprop=\"valueReference\" itemscope=\"\" itemtype=\"http://schema.org/PropertyValue\"><meta content=\"Minimum Rent\" itemprop=\"name\"/><meta content=\"INR\" itemprop=\"unitCode\"/><div class=\"nb__3oNyC\">582 sqft</div></div>,\n",
       " <div class=\"font-semi-bold heading-6\" id=\"roomType\"><span>₹</span>42,985/Month</div>,\n",
       " <div class=\"font-semi-bold heading-6\"><meta content=\"Minimum Deposit\" itemprop=\"name\"/><span>₹<!-- -->75 Lacs</span></div>,\n",
       " <div class=\"font-semi-bold heading-6\" id=\"minRent\" itemprop=\"valueReference\" itemscope=\"\" itemtype=\"http://schema.org/PropertyValue\"><meta content=\"Minimum Rent\" itemprop=\"name\"/><meta content=\"INR\" itemprop=\"unitCode\"/><div class=\"nb__3oNyC\">1,221 sqft</div></div>,\n",
       " <div class=\"font-semi-bold heading-6\" id=\"roomType\"><span>₹</span>80,240/Month</div>,\n",
       " <div class=\"font-semi-bold heading-6\"><meta content=\"Minimum Deposit\" itemprop=\"name\"/><span>₹<!-- -->1.4 Crores</span></div>,\n",
       " <div class=\"font-semi-bold heading-6\" id=\"minRent\" itemprop=\"valueReference\" itemscope=\"\" itemtype=\"http://schema.org/PropertyValue\"><meta content=\"Minimum Rent\" itemprop=\"name\"/><meta content=\"INR\" itemprop=\"unitCode\"/><div class=\"nb__3oNyC\">3,740 sqft</div></div>,\n",
       " <div class=\"font-semi-bold heading-6\" id=\"roomType\"><span>₹</span>3.15 Lacs/Month</div>,\n",
       " <div class=\"font-semi-bold heading-6\"><meta content=\"Minimum Deposit\" itemprop=\"name\"/><span>₹<!-- -->5.5 Crores</span></div>,\n",
       " <div class=\"font-semi-bold heading-6\" id=\"minRent\" itemprop=\"valueReference\" itemscope=\"\" itemtype=\"http://schema.org/PropertyValue\"><meta content=\"Minimum Rent\" itemprop=\"name\"/><meta content=\"INR\" itemprop=\"unitCode\"/><div class=\"nb__3oNyC\">2,215 sqft</div></div>,\n",
       " <div class=\"font-semi-bold heading-6\" id=\"roomType\"><span>₹</span>1.89 Lacs/Month</div>,\n",
       " <div class=\"font-semi-bold heading-6\"><meta content=\"Minimum Deposit\" itemprop=\"name\"/><span>₹<!-- -->3.3 Crores</span></div>,\n",
       " <div class=\"font-semi-bold heading-6\" id=\"minRent\" itemprop=\"valueReference\" itemscope=\"\" itemtype=\"http://schema.org/PropertyValue\"><meta content=\"Minimum Rent\" itemprop=\"name\"/><meta content=\"INR\" itemprop=\"unitCode\"/><div class=\"nb__3oNyC\">1,000 sqft</div></div>,\n",
       " <div class=\"font-semi-bold heading-6\" id=\"roomType\"><span>₹</span>57,314/Month</div>,\n",
       " <div class=\"font-semi-bold heading-6\"><meta content=\"Minimum Deposit\" itemprop=\"name\"/><span>₹<!-- -->1 Crore</span></div>,\n",
       " <div class=\"font-semi-bold heading-6\" id=\"minRent\" itemprop=\"valueReference\" itemscope=\"\" itemtype=\"http://schema.org/PropertyValue\"><meta content=\"Minimum Rent\" itemprop=\"name\"/><meta content=\"INR\" itemprop=\"unitCode\"/><div class=\"nb__3oNyC\">540 sqft</div></div>,\n",
       " <div class=\"font-semi-bold heading-6\" id=\"roomType\"><span>₹</span>30,949/Month</div>,\n",
       " <div class=\"font-semi-bold heading-6\"><meta content=\"Minimum Deposit\" itemprop=\"name\"/><span>₹<!-- -->54 Lacs</span></div>,\n",
       " <div class=\"font-semi-bold heading-6\" id=\"minRent\" itemprop=\"valueReference\" itemscope=\"\" itemtype=\"http://schema.org/PropertyValue\"><meta content=\"Minimum Rent\" itemprop=\"name\"/><meta content=\"INR\" itemprop=\"unitCode\"/><div class=\"nb__3oNyC\">2,430 sqft</div></div>,\n",
       " <div class=\"font-semi-bold heading-6\" id=\"roomType\"><span>₹</span>1.39 Lacs/Month</div>,\n",
       " <div class=\"font-semi-bold heading-6\"><meta content=\"Minimum Deposit\" itemprop=\"name\"/><span>₹<!-- -->2.43 Crores</span></div>]"
      ]
     },
     "execution_count": 41,
     "metadata": {},
     "output_type": "execute_result"
    }
   ],
   "source": [
    "house_cost=soup.find_all(class_=\"font-semi-bold heading-6\")\n",
    "house_cost"
   ]
  },
  {
   "cell_type": "code",
   "execution_count": 80,
   "id": "6b29497b",
   "metadata": {},
   "outputs": [
    {
     "name": "stdout",
     "output_type": "stream",
     "text": [
      "['₹1.33 Crores', '₹85 Lacs', '₹5.25 Crores', '₹75 Lacs', '₹1.4 Crores', '₹5.5 Crores', '₹3.3 Crores', '₹1 Crore', '₹54 Lacs', '₹2.43 Crores']\n",
      "['1,269 sqft', '850 sqft', '3,471 sqft', '582 sqft', '1,221 sqft', '3,740 sqft', '2,215 sqft', '1,000 sqft', '540 sqft', '2,430 sqft']\n"
     ]
    }
   ],
   "source": [
    "house_cost_and_area=[]\n",
    "house_area=[]\n",
    "j=0\n",
    "for i in house_cost:\n",
    "    if (j%3!=0):\n",
    "        house_cost_and_area.append(i.text.replace(\"\\n\",\"\").strip())\n",
    "    else:\n",
    "        house_area.append(i.text.replace(\"\\n\",\"\").strip())\n",
    "    j=j+1\n",
    "house_cost_and_area \n",
    "house_costs=[]\n",
    "\n",
    "j=0\n",
    "for i in house_cost_and_area:\n",
    "    if (j%2!=0):\n",
    "        house_costs.append(i)\n",
    "    \n",
    "    j=j+1\n",
    "print(house_costs)\n",
    "print(house_area)\n",
    "\n"
   ]
  },
  {
   "cell_type": "code",
   "execution_count": 86,
   "id": "0b248fd0",
   "metadata": {},
   "outputs": [
    {
     "data": {
      "text/html": [
       "<div>\n",
       "<style scoped>\n",
       "    .dataframe tbody tr th:only-of-type {\n",
       "        vertical-align: middle;\n",
       "    }\n",
       "\n",
       "    .dataframe tbody tr th {\n",
       "        vertical-align: top;\n",
       "    }\n",
       "\n",
       "    .dataframe thead th {\n",
       "        text-align: right;\n",
       "    }\n",
       "</style>\n",
       "<table border=\"1\" class=\"dataframe\">\n",
       "  <thead>\n",
       "    <tr style=\"text-align: right;\">\n",
       "      <th></th>\n",
       "      <th>house_title</th>\n",
       "      <th>location</th>\n",
       "      <th>area</th>\n",
       "      <th>emi</th>\n",
       "      <th>price</th>\n",
       "    </tr>\n",
       "  </thead>\n",
       "  <tbody>\n",
       "    <tr>\n",
       "      <th>0</th>\n",
       "      <td>2 BHK Flat  For Sale  In Sri Theertha Apartmen...</td>\n",
       "      <td>53/7 4TH MAIN ROAD, 17th Cross Rd, Malleshwara...</td>\n",
       "      <td>1,269 sqft</td>\n",
       "      <td>₹76,228/Month</td>\n",
       "      <td>₹1.33 Crores</td>\n",
       "    </tr>\n",
       "    <tr>\n",
       "      <th>1</th>\n",
       "      <td>2 BHK Flat  For Sale  In Maitree Apartments. I...</td>\n",
       "      <td>6th Main Rd, Malleshwaram, Bengaluru</td>\n",
       "      <td>850 sqft</td>\n",
       "      <td>₹48,717/Month</td>\n",
       "      <td>₹85 Lacs</td>\n",
       "    </tr>\n",
       "    <tr>\n",
       "      <th>2</th>\n",
       "      <td>4 BHK Flat  For Sale  In Renaissance Mangalam ...</td>\n",
       "      <td>40, 13th Cross Rd, Malleshwaram, Bengaluru, Ka...</td>\n",
       "      <td>3,471 sqft</td>\n",
       "      <td>₹3.01 Lacs/Month</td>\n",
       "      <td>₹5.25 Crores</td>\n",
       "    </tr>\n",
       "    <tr>\n",
       "      <th>3</th>\n",
       "      <td>2 BHK Flat  For Sale  In Uttam Apartment In 8t...</td>\n",
       "      <td>8th main, malleshwaram</td>\n",
       "      <td>582 sqft</td>\n",
       "      <td>₹42,985/Month</td>\n",
       "      <td>₹75 Lacs</td>\n",
       "    </tr>\n",
       "    <tr>\n",
       "      <th>4</th>\n",
       "      <td>2 BHK Apartment  For Sale  In Embassy Heritage...</td>\n",
       "      <td>Embassy Heritage  8th Main Rd, Malleshwaram, B...</td>\n",
       "      <td>1,221 sqft</td>\n",
       "      <td>₹80,240/Month</td>\n",
       "      <td>₹1.4 Crores</td>\n",
       "    </tr>\n",
       "    <tr>\n",
       "      <th>5</th>\n",
       "      <td>4 BHK Flat  For Sale  In Salarpuria Sattva Lux...</td>\n",
       "      <td>Dr.Ambedkar Nagar, Yeswanthpur</td>\n",
       "      <td>3,740 sqft</td>\n",
       "      <td>₹3.15 Lacs/Month</td>\n",
       "      <td>₹5.5 Crores</td>\n",
       "    </tr>\n",
       "    <tr>\n",
       "      <th>6</th>\n",
       "      <td>3 BHK Flat  For Sale  In Salarpuria Sattva Lux...</td>\n",
       "      <td>Dr.Ambedkar Nagar, Yeswanthpur</td>\n",
       "      <td>2,215 sqft</td>\n",
       "      <td>₹1.89 Lacs/Month</td>\n",
       "      <td>₹3.3 Crores</td>\n",
       "    </tr>\n",
       "    <tr>\n",
       "      <th>7</th>\n",
       "      <td>2 BHK Flat  For Sale  In Mallige Apartments In...</td>\n",
       "      <td>, 4th Main Rd, near vasa scientific company</td>\n",
       "      <td>1,000 sqft</td>\n",
       "      <td>₹57,314/Month</td>\n",
       "      <td>₹1 Crore</td>\n",
       "    </tr>\n",
       "    <tr>\n",
       "      <th>8</th>\n",
       "      <td>1 BHK Flat  For Sale  In Shree Residency In Ma...</td>\n",
       "      <td>74, 7th Cross, Sanjeevani Sadan Margosa Road, ...</td>\n",
       "      <td>540 sqft</td>\n",
       "      <td>₹30,949/Month</td>\n",
       "      <td>₹54 Lacs</td>\n",
       "    </tr>\n",
       "    <tr>\n",
       "      <th>9</th>\n",
       "      <td>3 BHK Flat  For Sale  In Sterling Shribagh In ...</td>\n",
       "      <td>18th Cross, Malleswaram, Bangalore, Karnataka,...</td>\n",
       "      <td>2,430 sqft</td>\n",
       "      <td>₹1.39 Lacs/Month</td>\n",
       "      <td>₹2.43 Crores</td>\n",
       "    </tr>\n",
       "  </tbody>\n",
       "</table>\n",
       "</div>"
      ],
      "text/plain": [
       "                                         house_title  \\\n",
       "0  2 BHK Flat  For Sale  In Sri Theertha Apartmen...   \n",
       "1  2 BHK Flat  For Sale  In Maitree Apartments. I...   \n",
       "2  4 BHK Flat  For Sale  In Renaissance Mangalam ...   \n",
       "3  2 BHK Flat  For Sale  In Uttam Apartment In 8t...   \n",
       "4  2 BHK Apartment  For Sale  In Embassy Heritage...   \n",
       "5  4 BHK Flat  For Sale  In Salarpuria Sattva Lux...   \n",
       "6  3 BHK Flat  For Sale  In Salarpuria Sattva Lux...   \n",
       "7  2 BHK Flat  For Sale  In Mallige Apartments In...   \n",
       "8  1 BHK Flat  For Sale  In Shree Residency In Ma...   \n",
       "9  3 BHK Flat  For Sale  In Sterling Shribagh In ...   \n",
       "\n",
       "                                            location        area  \\\n",
       "0  53/7 4TH MAIN ROAD, 17th Cross Rd, Malleshwara...  1,269 sqft   \n",
       "1               6th Main Rd, Malleshwaram, Bengaluru    850 sqft   \n",
       "2  40, 13th Cross Rd, Malleshwaram, Bengaluru, Ka...  3,471 sqft   \n",
       "3                             8th main, malleshwaram    582 sqft   \n",
       "4  Embassy Heritage  8th Main Rd, Malleshwaram, B...  1,221 sqft   \n",
       "5                     Dr.Ambedkar Nagar, Yeswanthpur  3,740 sqft   \n",
       "6                     Dr.Ambedkar Nagar, Yeswanthpur  2,215 sqft   \n",
       "7       , 4th Main Rd, near vasa scientific company   1,000 sqft   \n",
       "8  74, 7th Cross, Sanjeevani Sadan Margosa Road, ...    540 sqft   \n",
       "9  18th Cross, Malleswaram, Bangalore, Karnataka,...  2,430 sqft   \n",
       "\n",
       "                emi         price  \n",
       "0     ₹76,228/Month  ₹1.33 Crores  \n",
       "1     ₹48,717/Month      ₹85 Lacs  \n",
       "2  ₹3.01 Lacs/Month  ₹5.25 Crores  \n",
       "3     ₹42,985/Month      ₹75 Lacs  \n",
       "4     ₹80,240/Month   ₹1.4 Crores  \n",
       "5  ₹3.15 Lacs/Month   ₹5.5 Crores  \n",
       "6  ₹1.89 Lacs/Month   ₹3.3 Crores  \n",
       "7     ₹57,314/Month      ₹1 Crore  \n",
       "8     ₹30,949/Month      ₹54 Lacs  \n",
       "9  ₹1.39 Lacs/Month  ₹2.43 Crores  "
      ]
     },
     "execution_count": 86,
     "metadata": {},
     "output_type": "execute_result"
    }
   ],
   "source": [
    "house_details=pd.DataFrame({})\n",
    "house_details[\"house_title\"]=house_title\n",
    "house_details[\"location\"]=houselocation\n",
    "house_details[\"area\"]=house_area\n",
    "house_details[\"emi\"]=housemi\n",
    "house_details[\"price\"]=house_costs\n",
    "house_details"
   ]
  },
  {
   "cell_type": "code",
   "execution_count": null,
   "id": "ef562c5c",
   "metadata": {},
   "outputs": [],
   "source": []
  }
 ],
 "metadata": {
  "kernelspec": {
   "display_name": "Python 3",
   "language": "python",
   "name": "python3"
  },
  "language_info": {
   "codemirror_mode": {
    "name": "ipython",
    "version": 3
   },
   "file_extension": ".py",
   "mimetype": "text/x-python",
   "name": "python",
   "nbconvert_exporter": "python",
   "pygments_lexer": "ipython3",
   "version": "3.8.8"
  }
 },
 "nbformat": 4,
 "nbformat_minor": 5
}

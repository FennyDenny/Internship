{
 "cells": [
  {
   "cell_type": "code",
   "execution_count": 1,
   "id": "9da6a062",
   "metadata": {},
   "outputs": [],
   "source": [
    "from bs4 import BeautifulSoup\n",
    "import requests\n",
    "import pandas as pd"
   ]
  },
  {
   "cell_type": "code",
   "execution_count": 5,
   "id": "e5fb19c9",
   "metadata": {},
   "outputs": [
    {
     "data": {
      "text/plain": [
       "<Response [200]>"
      ]
     },
     "execution_count": 5,
     "metadata": {},
     "output_type": "execute_result"
    }
   ],
   "source": [
    "page=requests.get(\"https://www.icc-cricket.com/rankings/mens/player-rankings/odi\")\n",
    "page"
   ]
  },
  {
   "cell_type": "code",
   "execution_count": 87,
   "id": "2e3937f4",
   "metadata": {},
   "outputs": [
    {
     "data": {
      "text/plain": [
       "<div class=\"rankings-block__banner--nationality\">\n",
       "<div class=\"flag-15 PAK\"></div>\n",
       "<span class=\"rankings-block__banner--nation\"></span>PAK\n",
       "                            <div class=\"rankings-block__banner--rating\">873</div>\n",
       "</div>"
      ]
     },
     "execution_count": 87,
     "metadata": {},
     "output_type": "execute_result"
    }
   ],
   "source": [
    "soup=BeautifulSoup(page.content)\n",
    "player_first_name=soup.find(class_=\"rankings-block__banner--name\")\n",
    "player_first_name\n",
    "player_first_rating=soup.find(class_=\"rankings-block__banner--rating\")\n",
    "player_first_rating\n",
    "player_first_team=soup.find(class_=\"rankings-block__banner--nationality\")\n",
    "player_first_team"
   ]
  },
  {
   "cell_type": "code",
   "execution_count": 55,
   "id": "fc8dee81",
   "metadata": {},
   "outputs": [
    {
     "data": {
      "text/plain": [
       "[<td class=\"table-body__cell name\">\n",
       " <a href=\"/rankings/mens/player-rankings/164\">Virat Kohli</a>\n",
       " </td>,\n",
       " <td class=\"table-body__cell name\">\n",
       " <a href=\"/rankings/mens/player-rankings/107\">Rohit Sharma</a>\n",
       " </td>,\n",
       " <td class=\"table-body__cell name\">\n",
       " <a href=\"/rankings/mens/player-rankings/226\">Ross Taylor</a>\n",
       " </td>,\n",
       " <td class=\"table-body__cell name\">\n",
       " <a href=\"/rankings/mens/player-rankings/167\">Aaron Finch</a>\n",
       " </td>,\n",
       " <td class=\"table-body__cell name\">\n",
       " <a href=\"/rankings/mens/player-rankings/506\">Jonny Bairstow</a>\n",
       " </td>,\n",
       " <td class=\"table-body__cell name\">\n",
       " <a href=\"/rankings/mens/player-rankings/170\">David Warner</a>\n",
       " </td>,\n",
       " <td class=\"table-body__cell name\">\n",
       " <a href=\"/rankings/mens/player-rankings/2751\">Shai Hope</a>\n",
       " </td>,\n",
       " <td class=\"table-body__cell name\">\n",
       " <a href=\"/rankings/mens/player-rankings/440\">Kane Williamson</a>\n",
       " </td>,\n",
       " <td class=\"table-body__cell name\">\n",
       " <a href=\"/rankings/mens/player-rankings/834\">Quinton de Kock</a>\n",
       " </td>]"
      ]
     },
     "execution_count": 55,
     "metadata": {},
     "output_type": "execute_result"
    }
   ],
   "source": [
    "other_player_names=soup.find_all(class_=\"table-body__cell name\")[0:9]\n",
    "other_player_names"
   ]
  },
  {
   "cell_type": "code",
   "execution_count": 56,
   "id": "a479d9c0",
   "metadata": {},
   "outputs": [
    {
     "data": {
      "text/plain": [
       "['Babar Azam',\n",
       " ' Virat Kohli ',\n",
       " ' Rohit Sharma ',\n",
       " ' Ross Taylor ',\n",
       " ' Aaron Finch ',\n",
       " ' Jonny Bairstow ',\n",
       " ' David Warner ',\n",
       " ' Shai Hope ',\n",
       " ' Kane Williamson ',\n",
       " ' Quinton de Kock ']"
      ]
     },
     "execution_count": 56,
     "metadata": {},
     "output_type": "execute_result"
    }
   ],
   "source": [
    "best_players=[]\n",
    "best_players.append(player_first_name.text)\n",
    "for i in other_player_names:\n",
    "    best_players.append(i.text.replace(\"\\n\",\" \"))\n",
    "best_players"
   ]
  },
  {
   "cell_type": "code",
   "execution_count": 57,
   "id": "a4a2940e",
   "metadata": {},
   "outputs": [
    {
     "data": {
      "text/plain": [
       "[<span class=\"table-body__logo-text\">IND</span>,\n",
       " <span class=\"table-body__logo-text\">IND</span>,\n",
       " <span class=\"table-body__logo-text\">NZ</span>,\n",
       " <span class=\"table-body__logo-text\">AUS</span>,\n",
       " <span class=\"table-body__logo-text\">ENG</span>,\n",
       " <span class=\"table-body__logo-text\">AUS</span>,\n",
       " <span class=\"table-body__logo-text\">WI</span>,\n",
       " <span class=\"table-body__logo-text\">NZ</span>,\n",
       " <span class=\"table-body__logo-text\">SA</span>]"
      ]
     },
     "execution_count": 57,
     "metadata": {},
     "output_type": "execute_result"
    }
   ],
   "source": [
    "teams_country=soup.find_all(class_=\"table-body__logo-text\")[0:9]\n",
    "teams_country"
   ]
  },
  {
   "cell_type": "code",
   "execution_count": 75,
   "id": "0e37a7ff",
   "metadata": {},
   "outputs": [
    {
     "data": {
      "text/plain": [
       "['PAK', 'IND', 'IND', 'NZ', 'AUS', 'ENG', 'AUS', 'WI', 'NZ', 'SA']"
      ]
     },
     "execution_count": 75,
     "metadata": {},
     "output_type": "execute_result"
    }
   ],
   "source": [
    "countries=[]\n",
    "countries.append(player_first_team.text.replace(\"\\n\",\"\").split()[0])\n",
    "for i in teams_country:\n",
    "    countries.append(i.text.replace(\"\\n\",\"\"))\n",
    "countries"
   ]
  },
  {
   "cell_type": "code",
   "execution_count": 78,
   "id": "852a6290",
   "metadata": {},
   "outputs": [
    {
     "data": {
      "text/plain": [
       "[<td class=\"table-body__cell u-text-right rating\">844</td>,\n",
       " <td class=\"table-body__cell u-text-right rating\">813</td>,\n",
       " <td class=\"table-body__cell u-text-right rating\">801</td>,\n",
       " <td class=\"table-body__cell u-text-right rating\">779</td>,\n",
       " <td class=\"table-body__cell u-text-right rating\">775</td>,\n",
       " <td class=\"table-body__cell u-text-right rating\">762</td>,\n",
       " <td class=\"table-body__cell u-text-right rating\">758</td>,\n",
       " <td class=\"table-body__cell u-text-right rating\">754</td>,\n",
       " <td class=\"table-body__cell u-text-right rating\">747</td>]"
      ]
     },
     "execution_count": 78,
     "metadata": {},
     "output_type": "execute_result"
    }
   ],
   "source": [
    "teams_rating=soup.find_all(class_=\"table-body__cell u-text-right rating\")[0:9]\n",
    "teams_rating"
   ]
  },
  {
   "cell_type": "code",
   "execution_count": 80,
   "id": "11c6f156",
   "metadata": {},
   "outputs": [
    {
     "data": {
      "text/plain": [
       "['873', '844', '813', '801', '779', '775', '762', '758', '754', '747']"
      ]
     },
     "execution_count": 80,
     "metadata": {},
     "output_type": "execute_result"
    }
   ],
   "source": [
    "rating=[]\n",
    "rating.append(player_first_rating.text)\n",
    "for i in teams_rating:\n",
    "    rating.append(i.text)\n",
    "rating"
   ]
  },
  {
   "cell_type": "code",
   "execution_count": 81,
   "id": "0ed6abce",
   "metadata": {},
   "outputs": [
    {
     "data": {
      "text/html": [
       "<div>\n",
       "<style scoped>\n",
       "    .dataframe tbody tr th:only-of-type {\n",
       "        vertical-align: middle;\n",
       "    }\n",
       "\n",
       "    .dataframe tbody tr th {\n",
       "        vertical-align: top;\n",
       "    }\n",
       "\n",
       "    .dataframe thead th {\n",
       "        text-align: right;\n",
       "    }\n",
       "</style>\n",
       "<table border=\"1\" class=\"dataframe\">\n",
       "  <thead>\n",
       "    <tr style=\"text-align: right;\">\n",
       "      <th></th>\n",
       "      <th>players</th>\n",
       "      <th>coutry</th>\n",
       "      <th>rating</th>\n",
       "    </tr>\n",
       "  </thead>\n",
       "  <tbody>\n",
       "    <tr>\n",
       "      <th>0</th>\n",
       "      <td>Babar Azam</td>\n",
       "      <td>PAK</td>\n",
       "      <td>873</td>\n",
       "    </tr>\n",
       "    <tr>\n",
       "      <th>1</th>\n",
       "      <td>Virat Kohli</td>\n",
       "      <td>IND</td>\n",
       "      <td>844</td>\n",
       "    </tr>\n",
       "    <tr>\n",
       "      <th>2</th>\n",
       "      <td>Rohit Sharma</td>\n",
       "      <td>IND</td>\n",
       "      <td>813</td>\n",
       "    </tr>\n",
       "    <tr>\n",
       "      <th>3</th>\n",
       "      <td>Ross Taylor</td>\n",
       "      <td>NZ</td>\n",
       "      <td>801</td>\n",
       "    </tr>\n",
       "    <tr>\n",
       "      <th>4</th>\n",
       "      <td>Aaron Finch</td>\n",
       "      <td>AUS</td>\n",
       "      <td>779</td>\n",
       "    </tr>\n",
       "    <tr>\n",
       "      <th>5</th>\n",
       "      <td>Jonny Bairstow</td>\n",
       "      <td>ENG</td>\n",
       "      <td>775</td>\n",
       "    </tr>\n",
       "    <tr>\n",
       "      <th>6</th>\n",
       "      <td>David Warner</td>\n",
       "      <td>AUS</td>\n",
       "      <td>762</td>\n",
       "    </tr>\n",
       "    <tr>\n",
       "      <th>7</th>\n",
       "      <td>Shai Hope</td>\n",
       "      <td>WI</td>\n",
       "      <td>758</td>\n",
       "    </tr>\n",
       "    <tr>\n",
       "      <th>8</th>\n",
       "      <td>Kane Williamson</td>\n",
       "      <td>NZ</td>\n",
       "      <td>754</td>\n",
       "    </tr>\n",
       "    <tr>\n",
       "      <th>9</th>\n",
       "      <td>Quinton de Kock</td>\n",
       "      <td>SA</td>\n",
       "      <td>747</td>\n",
       "    </tr>\n",
       "  </tbody>\n",
       "</table>\n",
       "</div>"
      ],
      "text/plain": [
       "             players coutry rating\n",
       "0         Babar Azam    PAK    873\n",
       "1       Virat Kohli     IND    844\n",
       "2      Rohit Sharma     IND    813\n",
       "3       Ross Taylor      NZ    801\n",
       "4       Aaron Finch     AUS    779\n",
       "5    Jonny Bairstow     ENG    775\n",
       "6      David Warner     AUS    762\n",
       "7         Shai Hope      WI    758\n",
       "8   Kane Williamson      NZ    754\n",
       "9   Quinton de Kock      SA    747"
      ]
     },
     "execution_count": 81,
     "metadata": {},
     "output_type": "execute_result"
    }
   ],
   "source": [
    "top_10_odi_players=pd.DataFrame({})\n",
    "top_10_odi_players['players']=best_players\n",
    "top_10_odi_players['coutry']=countries\n",
    "top_10_odi_players['rating']=rating\n",
    "top_10_odi_players"
   ]
  },
  {
   "cell_type": "code",
   "execution_count": 84,
   "id": "ee5a6e0c",
   "metadata": {},
   "outputs": [
    {
     "data": {
      "text/plain": [
       "[1, 2, 3, 4, 5, 6, 7, 8, 9, 10]"
      ]
     },
     "execution_count": 84,
     "metadata": {},
     "output_type": "execute_result"
    }
   ],
   "source": [
    "rank=[]\n",
    "for i in range(1,11):\n",
    "    rank.append(i)\n",
    "rank"
   ]
  },
  {
   "cell_type": "code",
   "execution_count": 86,
   "id": "8f51ef15",
   "metadata": {},
   "outputs": [
    {
     "data": {
      "text/html": [
       "<div>\n",
       "<style scoped>\n",
       "    .dataframe tbody tr th:only-of-type {\n",
       "        vertical-align: middle;\n",
       "    }\n",
       "\n",
       "    .dataframe tbody tr th {\n",
       "        vertical-align: top;\n",
       "    }\n",
       "\n",
       "    .dataframe thead th {\n",
       "        text-align: right;\n",
       "    }\n",
       "</style>\n",
       "<table border=\"1\" class=\"dataframe\">\n",
       "  <thead>\n",
       "    <tr style=\"text-align: right;\">\n",
       "      <th></th>\n",
       "      <th>players</th>\n",
       "      <th>coutry</th>\n",
       "      <th>rating</th>\n",
       "      <th>rank</th>\n",
       "    </tr>\n",
       "  </thead>\n",
       "  <tbody>\n",
       "    <tr>\n",
       "      <th>0</th>\n",
       "      <td>Babar Azam</td>\n",
       "      <td>PAK</td>\n",
       "      <td>873</td>\n",
       "      <td>1</td>\n",
       "    </tr>\n",
       "    <tr>\n",
       "      <th>1</th>\n",
       "      <td>Virat Kohli</td>\n",
       "      <td>IND</td>\n",
       "      <td>844</td>\n",
       "      <td>2</td>\n",
       "    </tr>\n",
       "    <tr>\n",
       "      <th>2</th>\n",
       "      <td>Rohit Sharma</td>\n",
       "      <td>IND</td>\n",
       "      <td>813</td>\n",
       "      <td>3</td>\n",
       "    </tr>\n",
       "    <tr>\n",
       "      <th>3</th>\n",
       "      <td>Ross Taylor</td>\n",
       "      <td>NZ</td>\n",
       "      <td>801</td>\n",
       "      <td>4</td>\n",
       "    </tr>\n",
       "    <tr>\n",
       "      <th>4</th>\n",
       "      <td>Aaron Finch</td>\n",
       "      <td>AUS</td>\n",
       "      <td>779</td>\n",
       "      <td>5</td>\n",
       "    </tr>\n",
       "    <tr>\n",
       "      <th>5</th>\n",
       "      <td>Jonny Bairstow</td>\n",
       "      <td>ENG</td>\n",
       "      <td>775</td>\n",
       "      <td>6</td>\n",
       "    </tr>\n",
       "    <tr>\n",
       "      <th>6</th>\n",
       "      <td>David Warner</td>\n",
       "      <td>AUS</td>\n",
       "      <td>762</td>\n",
       "      <td>7</td>\n",
       "    </tr>\n",
       "    <tr>\n",
       "      <th>7</th>\n",
       "      <td>Shai Hope</td>\n",
       "      <td>WI</td>\n",
       "      <td>758</td>\n",
       "      <td>8</td>\n",
       "    </tr>\n",
       "    <tr>\n",
       "      <th>8</th>\n",
       "      <td>Kane Williamson</td>\n",
       "      <td>NZ</td>\n",
       "      <td>754</td>\n",
       "      <td>9</td>\n",
       "    </tr>\n",
       "    <tr>\n",
       "      <th>9</th>\n",
       "      <td>Quinton de Kock</td>\n",
       "      <td>SA</td>\n",
       "      <td>747</td>\n",
       "      <td>10</td>\n",
       "    </tr>\n",
       "  </tbody>\n",
       "</table>\n",
       "</div>"
      ],
      "text/plain": [
       "             players coutry rating  rank\n",
       "0         Babar Azam    PAK    873     1\n",
       "1       Virat Kohli     IND    844     2\n",
       "2      Rohit Sharma     IND    813     3\n",
       "3       Ross Taylor      NZ    801     4\n",
       "4       Aaron Finch     AUS    779     5\n",
       "5    Jonny Bairstow     ENG    775     6\n",
       "6      David Warner     AUS    762     7\n",
       "7         Shai Hope      WI    758     8\n",
       "8   Kane Williamson      NZ    754     9\n",
       "9   Quinton de Kock      SA    747    10"
      ]
     },
     "execution_count": 86,
     "metadata": {},
     "output_type": "execute_result"
    }
   ],
   "source": [
    "top_10_odi_players['rank']=rank\n",
    "top_10_odi_players"
   ]
  },
  {
   "cell_type": "code",
   "execution_count": null,
   "id": "79b26f36",
   "metadata": {},
   "outputs": [],
   "source": []
  }
 ],
 "metadata": {
  "kernelspec": {
   "display_name": "Python 3",
   "language": "python",
   "name": "python3"
  },
  "language_info": {
   "codemirror_mode": {
    "name": "ipython",
    "version": 3
   },
   "file_extension": ".py",
   "mimetype": "text/x-python",
   "name": "python",
   "nbconvert_exporter": "python",
   "pygments_lexer": "ipython3",
   "version": "3.8.8"
  }
 },
 "nbformat": 4,
 "nbformat_minor": 5
}
